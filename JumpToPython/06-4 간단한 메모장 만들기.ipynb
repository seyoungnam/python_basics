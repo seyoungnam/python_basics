{
 "cells": [
  {
   "cell_type": "markdown",
   "metadata": {},
   "source": [
    "# 06-4 간단한 메모장 만들기\n",
    "<hr style=\"height: 1px'\">\n",
    "\n",
    "원하는 메모를 파일에 저장하고 추가 및 조회가 가능한 간단한 메모장을 만들어 보자.\n",
    "\n",
    "- 필요한 기능? 메모 추가하기, 메모 조회하기\n",
    "- 입력값? 메모 내용, 프로그램 실행 옵션\n",
    "- 출력값? memo.txt\n",
    "\n",
    "가장 먼저 해야할 일은 메모를 추가하는 것. 다음 명령 실행시 메모를 추가할 수 있도록 만들어 보자.\n",
    "> python memo.py -a \"Life is too short\"\n",
    "\n",
    "-a는 이 프로그램의 실행 옵션이고 \"Life is too short\"는 추가할 메모 내용이 된다.\n",
    "\n",
    "1. 우선 다음과 같이 입력으로 받은 옵션과 메모를 출력하는 코드를 작성해 보자."
   ]
  },
  {
   "cell_type": "markdown",
   "metadata": {},
   "source": [
    "```\n",
    "# C:\\05.Python\\JumpToPython\\ex\\memo.py\n",
    "import sys\n",
    "\n",
    "option = sys.argv[1]\n",
    "memo = sys.argv[2]\n",
    "\n",
    "print(option)\n",
    "print(memo)\n",
    "```"
   ]
  },
  {
   "cell_type": "markdown",
   "metadata": {},
   "source": [
    "2. memo.py 작성 후 다음 명령을 수행해 보면, 입력으로 전달한 옵션과 메모 내용이 그대로 출력되는 것을 알 수 있음"
   ]
  },
  {
   "cell_type": "markdown",
   "metadata": {},
   "source": [
    "```\n",
    "(base) C:\\05.Python\\JumpToPython\\ex>python memo.py -a \"Life is too short\"\n",
    "-a\n",
    "Life is too short\n",
    "```"
   ]
  },
  {
   "cell_type": "markdown",
   "metadata": {},
   "source": [
    "3. 이제 입력으로 받은 메모를 파일에 쓰도록 코드를 변경해 보자."
   ]
  },
  {
   "cell_type": "markdown",
   "metadata": {},
   "source": [
    "```\n",
    "# C:\\05.Python\\JumpToPython\\ex\\memo.py\n",
    "import sys\n",
    "\n",
    "option = sys.argv[1]\n",
    "\n",
    "if option == '-a':\n",
    "    memo = sys.argv[2]\n",
    "    f = open('memo.txt', 'a')\n",
    "    f.write(memo)\n",
    "    f.write('\\n')\n",
    "    f.close()\n",
    "```"
   ]
  },
  {
   "cell_type": "markdown",
   "metadata": {},
   "source": [
    "- 옵션이 -a인 경우에만 memo값을 읽어 memo.txt 파일에 그 값을 쓰도록 코드를 작성했음.\n",
    "- 메모는 항상 새로운 내용이 작성되는 것이 아니라 한 줄씩 추가되어야 하므로 파일열기 모드를 a로 함.\n",
    "- 메모를 추가할 때마다 다음 줄에 저장되도록 줄바꿈 문자(\\n)도 추가로 파일에 쓰게 함.\n",
    "<br><br>\n",
    "\n",
    "\n",
    "4. 이제 다음 명령을 수행 후 파일에 정상적으로 메모가 기입되었는지 확인해보자."
   ]
  },
  {
   "cell_type": "markdown",
   "metadata": {},
   "source": [
    "```\n",
    "(base) C:\\05.Python\\JumpToPython\\ex>python memo.py -a \"Life is too short\"\n",
    "(base) C:\\05.Python\\JumpToPython\\ex>python memo.py -a \"You need python\"\n",
    "```"
   ]
  },
  {
   "cell_type": "markdown",
   "metadata": {},
   "source": [
    "5. 이번에는 작성한 메모를 출력하느 부분을 만들 차례. 메모 출력은 다음과 같이 동작하도록 만들어보자.\n",
    "> python memo.py -v\n",
    "\n",
    "메모 추가는 -a 옵션을 사용하고 메모 출력은 -v 옵션을 사용.\n",
    "\n",
    "메모 출력을 위해 다음과 같이 코드를 변경."
   ]
  },
  {
   "cell_type": "markdown",
   "metadata": {},
   "source": [
    "```\n",
    "# C:\\05.Python\\JumpToPython\\ex\\memo.py\n",
    "import sys\n",
    "\n",
    "option = sys.argv[1]\n",
    "\n",
    "if option == '-a':\n",
    "    memo = sys.argv[2]\n",
    "    f = open('memo.txt', 'a')\n",
    "    f.write(memo)\n",
    "    f.write('\\n')\n",
    "    f.close()\n",
    "elif option == '-v':\n",
    "    f = open('memo.txt')\n",
    "    memo = f.read()\n",
    "    f.close()\n",
    "    print(memo)\n",
    "```"
   ]
  },
  {
   "cell_type": "markdown",
   "metadata": {},
   "source": [
    "6. 코드를 수정한 후 다음과 같은 명령을 수행해 보자."
   ]
  },
  {
   "cell_type": "markdown",
   "metadata": {},
   "source": [
    "```\n",
    "(base) C:\\05.Python\\JumpToPython\\ex>python memo.py -v\n",
    "Life is too short\n",
    "You need python\n",
    "```"
   ]
  },
  {
   "cell_type": "code",
   "execution_count": null,
   "metadata": {},
   "outputs": [],
   "source": []
  }
 ],
 "metadata": {
  "kernelspec": {
   "display_name": "Python 3",
   "language": "python",
   "name": "python3"
  },
  "language_info": {
   "codemirror_mode": {
    "name": "ipython",
    "version": 3
   },
   "file_extension": ".py",
   "mimetype": "text/x-python",
   "name": "python",
   "nbconvert_exporter": "python",
   "pygments_lexer": "ipython3",
   "version": "3.7.7"
  }
 },
 "nbformat": 4,
 "nbformat_minor": 2
}

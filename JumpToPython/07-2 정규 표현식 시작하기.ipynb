{
 "cells": [
  {
   "cell_type": "markdown",
   "metadata": {},
   "source": [
    "# 07-2 정규 표현식 시작하기\n",
    "<hr style=\"height: 1px;\">"
   ]
  },
  {
   "cell_type": "markdown",
   "metadata": {},
   "source": [
    "## 1. 정규 표현식의 기초, 메타 문자\n",
    "<hr>\n",
    "\n",
    "정규 표현식에서 사용하는 메타문자는 다음과 같은 것이 있다.\n",
    "> 메타문자란 원래 그 문자가 가진 뜻이 아닌 특별한 용도로 사용하는 문자를 말함.\n",
    "\n",
    "```\n",
    ". ^ $ * + ? { } [ ] \\ | ( )\n",
    "```"
   ]
  },
  {
   "cell_type": "markdown",
   "metadata": {},
   "source": [
    "### 1.1 문자 클래스 []\n",
    "\n",
    "\"[ ] 사이의 문자들과 매치\"라는 의미를 가짐\n",
    "\n",
    "> [ ] 사이에는 어떤 문자도 들어갈 수 있다.\n",
    "\n",
    "\n",
    "즉, 정규표현식이 [abc]라면 이 표현식의 의미는 \"a, b, c 중 한 개의 문자와 매치\"를 뜻함.\n",
    "- \"a\"는 [abc]와 매치\n",
    "- \"before\"도 \"b\"가 있으므로 [abc]와 매치\n",
    "- \"dude\"는 a,b,c 중 어느 하나도 포함하고 있지 않으므로 매치되지 않음\n",
    "\n",
    "[] 안의 두 문자 사이에 하이픈(-)을 사용하면 두 문자 사이의 범위(From - To)를 의미한다. 예를 들어 [a-c]라는 정규 표현식은 [abc]와 동일하고 [0-5]는 [012345]와 동일하다.\n",
    "\n",
    "다음은 하이픈(-)을 사용한 문자 클래스의 사용 예이다.\n",
    "- [a-zA-Z] : 알파벳 모두\n",
    "- [0-9] : 숫자\n",
    "\n",
    "문자 클래스 [ ] 안에는 어떤 문자나 메타 문자도 사용할 수 있지만 ^ 메타 문자는 주의해야 함. ^ 메타문자는 반대(not)라는 의미를 갖는다. 예를 들어 [^0-9]라는 정규표현식은 숫자가 아닌 문자만 매치된다."
   ]
  },
  {
   "cell_type": "markdown",
   "metadata": {},
   "source": [
    "**[자주 사용하는 문자 클래스]**\n",
    "\n",
    "[0-9] 또는 [a-zA-Z] 등은 무척 자주 사용하는 정규표현식이다. 이렇게 자주 사용하는 정규식은 별도의 표기법으로 표현할 수 있다.\n",
    "- \\d : 숫자와 매치, [0-9]와 동일한 표현식이다.\n",
    "- \\D : 숫자가 아닌 것과 매치, [^0-9]와 동일한 표현식이다.\n",
    "- \\s : whitespace 문자와 매치, [ \\t\\n\\r\\f\\v]와 동일한 표현식. 맨 앞의 빈 칸은 공백문자(space)를 의미\n",
    "- \\S : whitespace 문자가 아닌 것과 매치, [^ \\t\\n\\r\\f\\v]와 동일한 표현식.\n",
    "- \\w : 문자 + 숫자(alphanumeric)와 매치, [a-zA-Z0-9_]와 동일한 표현식.\n",
    "- \\W : 문자 + 숫자(alphanumeric)가 아닌 문자와 매치, [^a-zA-Z0-9_]와 동일한 표현식.\n",
    "\n",
    "대문자로 사용된 것은 소문자의 반대임을 추측할 수 있다."
   ]
  },
  {
   "cell_type": "markdown",
   "metadata": {},
   "source": [
    "### 1.2 Dot(.)\n",
    "\n",
    "정규 표현식의 Dot(.) 메타 문자는 줄바꿈 문자인 \\n을 제외한 모든 문자와 매치됨을 의미\n",
    "> 정규식을 작성할 때 re.DOTALL 옵션을 주면 \\n 문자와도 매치된다.\n",
    "\n",
    "다음 정규식을 보자\n",
    "```\n",
    "a.b\n",
    "```\n",
    "\n",
    "위 정규식의 의미는 다음과 같다.\n",
    "> \"a + 모든문자 + b\"\n",
    "\n",
    "이해를 돕기 위해 문자열 \"aab\", \"a0b\", \"abc\"가 정규식 a.b와 어떻게 매치되는지 보자.\n",
    "- \"aab\" : 가운데 문자 \"a\"가 모든 문자를 의미하는 .과 일치하므로 정규식과 매치\n",
    "- \"a0b\" : 가운데 문자 \"0\"가 모든 문자를 의미하는 .과 일치하므로 정규식과 매치\n",
    "- \"abc\" : a와 b 사이에 어떤 문자라도 하나는 있어야 하는 이 정규식과 일치하지 않으므로 매치되지 않음\n",
    "\n",
    "다음 정규식을 보자\n",
    "```\n",
    "a[.]b\n",
    "```\n",
    "이 정규식의 의미는 다음과 같다\n",
    "> \"a + Dot(.)문자 + b\"\n",
    "\n",
    "따라서 정규식 a[.]b는 \"a.b\" 문자열과 매치되고, \"a0b\" 문자열과는 매치되지 않는다.\n",
    "> [] 내에 Dot(.) 메타 문자가 사용된다면 이것은 \"모든 문자\"라는 의미가 아닌 문자 . 그대로를 의미한다."
   ]
  },
  {
   "cell_type": "markdown",
   "metadata": {},
   "source": [
    "### 1.3 반복 (\\*)\n",
    "\n",
    "다음 정규식을 보자\n",
    "```\n",
    "ca*t\n",
    "```\n",
    "\n",
    "이 정규식에는 반복을 의미하는 \\* 메타 문자가 사용됨. 여기서 사용한 \\*은 \\* 바로 앞에 있는 문자 a가 0부터 무한대로 반복될 수 있다는 의미.\n",
    "\n",
    "즉, \"ct\", \"cat\", \"caaaat\" 모두 \"ca\\*t\"와 매치됨."
   ]
  },
  {
   "cell_type": "markdown",
   "metadata": {},
   "source": [
    "### 1.4 반복(+)\n",
    "\n",
    "+는 최소 1번 이상 반복될 때 사용한다. 즉 \\*가 반복횟수 0부터라면 +는 반복횟수 1부터이다.\n",
    "```\n",
    "ca+t\n",
    "```\n",
    "\n",
    "위 정규식에 대해,\n",
    "- \"ct\"는 매치 안됨\n",
    "- \"cat\"는 매치됨\n",
    "- \"caaat\"는 매치됨"
   ]
  },
  {
   "cell_type": "markdown",
   "metadata": {},
   "source": [
    "### 1.5 반복({m,n}, ?)\n",
    "\n",
    "{ } 메타문자를 사용하면 반복 횟수를 고정할 수 있음. {m,n}은 반복횟수가 m부터 n까지 매치할 수 있다. 또한 m 또는 n을 생략할 수도 있다. 만약 {3,}처럼 사용하면 반복 횟수가 3이상인 경우이고 {,3}처럼 사용하면 반복 횟수가 3이하를 의미한다.\n",
    "> {1,}은 +와 동일하고, {0,}은 \\*와 동일하다.\n",
    "\n",
    "{ }을 사용한 몇가지 정규식을 살펴보자.\n",
    "\n",
    "#### 1.5.1 {m}\n",
    "```\n",
    "ca{2}t\n",
    "```\n",
    "\n",
    "> 위 정규식의 의미는 \"c + a(반드시 2번 반복) + t\"\n",
    "\n",
    "#### 1.5.2 {m, n}\n",
    "```\n",
    "ca{2,5}t\n",
    "```\n",
    "\n",
    "> 위 정규식의 의미는 \"c + a(2~5회 반복) + t\"\n",
    "\n",
    "#### 1.5.3 ?\n",
    "반복은 아니지만 비슷한 개념으로 ?가 있다. ?는 {0,1}을 의미.\n",
    "```\n",
    "ab?c\n",
    "```\n",
    "\n",
    "> 위 정규식의 의미는 \"a + b(있어도 되고 없어도 된다) + c\""
   ]
  },
  {
   "cell_type": "markdown",
   "metadata": {},
   "source": [
    "## 2. 파이썬에서 정규표현식을 지원하는 re 모듈\n",
    "<hr>\n",
    "\n",
    "re 모듈은 파이썬을 설치할 때 자동으로 설치되는 기본 라이브러리로 사용 방법은 다음과 같다.\n",
    "\n",
    "```\n",
    "import re\n",
    "p = re.compile('ab*')\n",
    "```"
   ]
  },
  {
   "cell_type": "markdown",
   "metadata": {},
   "source": [
    "## 3. 정규식을 이용한 문자열 검색\n",
    "<hr>\n",
    "\n",
    "컴파일된 객체는 다음과 같은 4가지 메서드를 제공한다.\n",
    "- match() : 문자열의 처음부터 정규식과 매치되는지 조사\n",
    "- search() : 문자열 전체를 검색하여 정규식과 매치되는지 조사\n",
    "- findall() : 정규식과 매치되는 모든 문자열(substring)을 리스트로 돌려준다.\n",
    "- finditer() : 정규식과 매치되는 모든 문자열(substring)을 반복 가능한 객체로 돌려준다.\n",
    "\n",
    "match, search는 정규식과 매치될 때는 match 객체를 돌려주고, 매치되지 않을 때는 None을 돌려준다. \n",
    "\n",
    "우선 다음과 같은 패턴을 만들어 보자."
   ]
  },
  {
   "cell_type": "code",
   "execution_count": 2,
   "metadata": {},
   "outputs": [],
   "source": [
    "import re\n",
    "p = re.compile('[a-z]+')"
   ]
  },
  {
   "cell_type": "markdown",
   "metadata": {},
   "source": [
    "### 3.1 match\n",
    "\n",
    "match 메서드는 문자열의 처음부터 정규식과 매치되는지 조사한다. 위 패턴에 match 메서드를 수행해 보자."
   ]
  },
  {
   "cell_type": "code",
   "execution_count": 3,
   "metadata": {},
   "outputs": [
    {
     "name": "stdout",
     "output_type": "stream",
     "text": [
      "<re.Match object; span=(0, 6), match='python'>\n"
     ]
    }
   ],
   "source": [
    "m = p.match(\"python\")\n",
    "print(m)"
   ]
  },
  {
   "cell_type": "markdown",
   "metadata": {},
   "source": [
    "\"python\" 문자열은 [a-z]+ 정규식에 부합되므로 match 객체를 돌려준다."
   ]
  },
  {
   "cell_type": "code",
   "execution_count": 4,
   "metadata": {},
   "outputs": [
    {
     "name": "stdout",
     "output_type": "stream",
     "text": [
      "None\n"
     ]
    }
   ],
   "source": [
    "m = p.match(\"3 python\")\n",
    "print(m)"
   ]
  },
  {
   "cell_type": "markdown",
   "metadata": {},
   "source": [
    "\"3 python\" 문자열은 처음에 나오는 문자 3이 정규식 [a-z]+ 에 부합하지 않으므로 None을 돌려줌.\n",
    "\n",
    "match의 결과로 match 객체 또는 None을 돌려주기 때문에 파이썬 정규식 프로그램은 보통 다음과 같은 흐름으로 작성한다."
   ]
  },
  {
   "cell_type": "markdown",
   "metadata": {},
   "source": [
    "```\n",
    "p = re.compile(정규식)\n",
    "m = p.match('String goes here')\n",
    "if m:\n",
    "    print('Match found: ', m.group())\n",
    "else:\n",
    "    print('No match')\n",
    "```"
   ]
  },
  {
   "cell_type": "markdown",
   "metadata": {},
   "source": [
    "즉 match의 결과값이 있을 때만 그 다음 작업을 수행하겠다는 것임."
   ]
  },
  {
   "cell_type": "markdown",
   "metadata": {},
   "source": [
    "### 3.2 search\n",
    "\n",
    "컴파일된 패턴 객체 p를 가지고 이번에는 search 메서드를 수행해 보자."
   ]
  },
  {
   "cell_type": "code",
   "execution_count": 6,
   "metadata": {},
   "outputs": [
    {
     "name": "stdout",
     "output_type": "stream",
     "text": [
      "<re.Match object; span=(0, 6), match='python'>\n"
     ]
    }
   ],
   "source": [
    "m = p.search(\"python\")\n",
    "print(m)"
   ]
  },
  {
   "cell_type": "markdown",
   "metadata": {},
   "source": [
    "match 메서드를 수행했을 때와 동일하게 매치됨."
   ]
  },
  {
   "cell_type": "code",
   "execution_count": 7,
   "metadata": {},
   "outputs": [
    {
     "name": "stdout",
     "output_type": "stream",
     "text": [
      "<re.Match object; span=(2, 8), match='python'>\n"
     ]
    }
   ],
   "source": [
    "m = p.search(\"3 python\")\n",
    "print(m)"
   ]
  },
  {
   "cell_type": "markdown",
   "metadata": {},
   "source": [
    "\"3 python\" 문자열의 첫번째 문자는 \"3\"이지만 search는 문자열의 처음부터 검색하는 것이 아니라 문자열 전체를 검색하기 때문에 \"3 \"이후의 \"python\" 문자열과 매치됨."
   ]
  },
  {
   "cell_type": "markdown",
   "metadata": {},
   "source": [
    "### 3.3 findall\n",
    "\n",
    "이번에는 findall 메서드를 수행해보자."
   ]
  },
  {
   "cell_type": "code",
   "execution_count": 8,
   "metadata": {},
   "outputs": [
    {
     "name": "stdout",
     "output_type": "stream",
     "text": [
      "['life', 'is', 'too', 'short']\n"
     ]
    }
   ],
   "source": [
    "result = p.findall(\"life is too short\")\n",
    "print(result)"
   ]
  },
  {
   "cell_type": "markdown",
   "metadata": {},
   "source": [
    "\"life is too short\" 문자열의 'life', 'is', 'too', 'short' 단어를 각각 [a-z]+ 정규식과 매치해서 리스트로 돌려준다."
   ]
  },
  {
   "cell_type": "markdown",
   "metadata": {},
   "source": [
    "### 3.4 finditer\n",
    "\n",
    "이번에는 finditer 메서드를 수행해 보자."
   ]
  },
  {
   "cell_type": "code",
   "execution_count": 9,
   "metadata": {},
   "outputs": [
    {
     "name": "stdout",
     "output_type": "stream",
     "text": [
      "<callable_iterator object at 0x00000200D8DD8E88>\n"
     ]
    }
   ],
   "source": [
    "result = p.finditer(\"life is too short\")\n",
    "print(result)"
   ]
  },
  {
   "cell_type": "code",
   "execution_count": 10,
   "metadata": {},
   "outputs": [
    {
     "name": "stdout",
     "output_type": "stream",
     "text": [
      "<re.Match object; span=(0, 4), match='life'>\n",
      "<re.Match object; span=(5, 7), match='is'>\n",
      "<re.Match object; span=(8, 11), match='too'>\n",
      "<re.Match object; span=(12, 17), match='short'>\n"
     ]
    }
   ],
   "source": [
    "for r in result: print(r)"
   ]
  },
  {
   "cell_type": "markdown",
   "metadata": {},
   "source": [
    "finditer는 findall과 동일하지만 그 결과로 반복 가능한 객체(iterator object)를 돌려준다. 반복 가능한 객체가 포함하는 각각의 요소는 match 객체이다."
   ]
  },
  {
   "cell_type": "markdown",
   "metadata": {},
   "source": [
    "## 4. match 객체의 메서드\n",
    "<hr>\n",
    "\n",
    "match 객체의 메서드에는 아래와 같은 것들이 있다.\n",
    "- group() : 매치된 문자열을 돌려줌\n",
    "- start() : 매치된 문자열의 시작 위치를 돌려줌\n",
    "- end() : 매치된 문자열의 끝 위치를 돌려줌\n",
    "- span() : 매치된 문자열의 (시작, 끝)에 해당하는 튜플을 돌려줌"
   ]
  },
  {
   "cell_type": "code",
   "execution_count": 11,
   "metadata": {},
   "outputs": [
    {
     "data": {
      "text/plain": [
       "'python'"
      ]
     },
     "execution_count": 11,
     "metadata": {},
     "output_type": "execute_result"
    }
   ],
   "source": [
    "m = p.match(\"python\")\n",
    "m.group()"
   ]
  },
  {
   "cell_type": "code",
   "execution_count": 12,
   "metadata": {},
   "outputs": [
    {
     "data": {
      "text/plain": [
       "0"
      ]
     },
     "execution_count": 12,
     "metadata": {},
     "output_type": "execute_result"
    }
   ],
   "source": [
    "m.start()"
   ]
  },
  {
   "cell_type": "code",
   "execution_count": 13,
   "metadata": {},
   "outputs": [
    {
     "data": {
      "text/plain": [
       "6"
      ]
     },
     "execution_count": 13,
     "metadata": {},
     "output_type": "execute_result"
    }
   ],
   "source": [
    "m.end()"
   ]
  },
  {
   "cell_type": "code",
   "execution_count": 14,
   "metadata": {},
   "outputs": [
    {
     "data": {
      "text/plain": [
       "(0, 6)"
      ]
     },
     "execution_count": 14,
     "metadata": {},
     "output_type": "execute_result"
    }
   ],
   "source": [
    "m.span()"
   ]
  },
  {
   "cell_type": "markdown",
   "metadata": {},
   "source": [
    "search를 사용해보자."
   ]
  },
  {
   "cell_type": "code",
   "execution_count": 15,
   "metadata": {},
   "outputs": [
    {
     "data": {
      "text/plain": [
       "'python'"
      ]
     },
     "execution_count": 15,
     "metadata": {},
     "output_type": "execute_result"
    }
   ],
   "source": [
    "m = p.search(\"3 python\")\n",
    "m.group()"
   ]
  },
  {
   "cell_type": "code",
   "execution_count": 16,
   "metadata": {},
   "outputs": [
    {
     "data": {
      "text/plain": [
       "2"
      ]
     },
     "execution_count": 16,
     "metadata": {},
     "output_type": "execute_result"
    }
   ],
   "source": [
    "m.start()"
   ]
  },
  {
   "cell_type": "code",
   "execution_count": 17,
   "metadata": {},
   "outputs": [
    {
     "data": {
      "text/plain": [
       "8"
      ]
     },
     "execution_count": 17,
     "metadata": {},
     "output_type": "execute_result"
    }
   ],
   "source": [
    "m.end()"
   ]
  },
  {
   "cell_type": "code",
   "execution_count": 18,
   "metadata": {},
   "outputs": [
    {
     "data": {
      "text/plain": [
       "(2, 8)"
      ]
     },
     "execution_count": 18,
     "metadata": {},
     "output_type": "execute_result"
    }
   ],
   "source": [
    "m.span()"
   ]
  },
  {
   "cell_type": "markdown",
   "metadata": {},
   "source": [
    "**[ 모듈 단위로 수행하기 ]**\n",
    "\n",
    "지금까지 우리는 re.compile을 사용하여 컴파일된 패턴 객체로 그 이후의 작업을 수행했다. re모듈은 이것을 좀 축약한 형태로 사용할 수 있는 방법을 제공한다. 다음 예를 보자."
   ]
  },
  {
   "cell_type": "code",
   "execution_count": 19,
   "metadata": {},
   "outputs": [],
   "source": [
    "p = re.compile('[a-z]+')\n",
    "m = p.match(\"python\")"
   ]
  },
  {
   "cell_type": "markdown",
   "metadata": {},
   "source": [
    "위 코드가 축약된 형태는 다음과 같다."
   ]
  },
  {
   "cell_type": "code",
   "execution_count": 20,
   "metadata": {},
   "outputs": [],
   "source": [
    "m = re.match('[a-z]+', \"python\")"
   ]
  },
  {
   "cell_type": "markdown",
   "metadata": {},
   "source": [
    "보통 한 번 만든 패턴 객체를 여러번 사용해야 할 때는 이 방법보다 re.compile을 사용하는 것이 편하다."
   ]
  },
  {
   "cell_type": "markdown",
   "metadata": {},
   "source": [
    "## 5. 컴파일 옵션\n",
    "<hr>\n",
    "\n",
    "정규식을 컴파일할 때 다음 옵션을 사용할 수 있다.\n",
    "- DOTALL(S) : .이 줄바꿈 문자를 포함하여 모든 문자와 매치할 수 있도록 함\n",
    "- IGNORECASE(I) : 대소문자에 관계없이 매치할 수 있도록 함.\n",
    "- MULTILINE(M) : 여러줄과 매치할 수 있도록 한다.(^, $ 메타문자의 사용과 관계가 있는 옵션)\n",
    "- VERBOSE(X) : verbose 모드를 사용할 수 있도록 한다.(정규식을 보기 편하게 만들 수 있고 주석 등을 사용할 수 있게 된다.)\n",
    "\n",
    "옵션을 사용할 때는 re.DOTALL 처럼 전체 옵션 이름을 써도 되고 re.S처럼 약어를 써도 된다."
   ]
  },
  {
   "cell_type": "markdown",
   "metadata": {},
   "source": [
    "### 5.1 DOTALL, S\n",
    "\n",
    ". 메타문자는 줄바꿈 문자(\\n)를 제외한 모든 문자와 매치되는 규칙이 있다. 만약 \\n 문자도 포함하여 매치하고 싶다면 re.DOTALL 또는 re.S 옵션을 사용해 정규식을 컴파일하면 된다."
   ]
  },
  {
   "cell_type": "code",
   "execution_count": 21,
   "metadata": {},
   "outputs": [
    {
     "name": "stdout",
     "output_type": "stream",
     "text": [
      "None\n"
     ]
    }
   ],
   "source": [
    "import re\n",
    "p = re.compile('a.b')\n",
    "m = p.match('a\\nb')\n",
    "print(m)"
   ]
  },
  {
   "cell_type": "code",
   "execution_count": 23,
   "metadata": {},
   "outputs": [
    {
     "name": "stdout",
     "output_type": "stream",
     "text": [
      "<re.Match object; span=(0, 3), match='a\\nb'>\n"
     ]
    }
   ],
   "source": [
    "p = re.compile('a.b', re.DOTALL)\n",
    "m = p.match('a\\nb')\n",
    "print(m)"
   ]
  },
  {
   "cell_type": "markdown",
   "metadata": {},
   "source": [
    "### 5.2 IGNORECASE, I\n",
    "\n",
    "re.IGNORECASE 또는 re.I 옵션은 대소문자 구별 없이 매치를 수행할 때 사용하는 옵션."
   ]
  },
  {
   "cell_type": "code",
   "execution_count": 24,
   "metadata": {},
   "outputs": [
    {
     "data": {
      "text/plain": [
       "<re.Match object; span=(0, 1), match='p'>"
      ]
     },
     "execution_count": 24,
     "metadata": {},
     "output_type": "execute_result"
    }
   ],
   "source": [
    "p = re.compile('[a-z]', re.I)\n",
    "p.match('python')"
   ]
  },
  {
   "cell_type": "code",
   "execution_count": 25,
   "metadata": {},
   "outputs": [
    {
     "data": {
      "text/plain": [
       "<re.Match object; span=(0, 1), match='P'>"
      ]
     },
     "execution_count": 25,
     "metadata": {},
     "output_type": "execute_result"
    }
   ],
   "source": [
    "p.match('Python')"
   ]
  },
  {
   "cell_type": "code",
   "execution_count": 26,
   "metadata": {},
   "outputs": [
    {
     "data": {
      "text/plain": [
       "<re.Match object; span=(0, 1), match='P'>"
      ]
     },
     "execution_count": 26,
     "metadata": {},
     "output_type": "execute_result"
    }
   ],
   "source": [
    "p.match('PYTHON')"
   ]
  },
  {
   "cell_type": "markdown",
   "metadata": {},
   "source": [
    "### 5.3 MULTILINE, M\n",
    "\n",
    "re.MULTILINE 또는 re.M 옵션은 ^, $와 연관된 옵션. ^은 문자열의 처음을 의미하고, $는 문자열의 마지막을 의미. 예를 들어 정규식이 ^python인 경우 문자열의 처음은 항상 python으로 시작해야 매치되고, 만약 정규식이 python$이라면 문자열의 마지막은 항상 python으로 끝나야 매치된다는 의미"
   ]
  },
  {
   "cell_type": "code",
   "execution_count": 27,
   "metadata": {},
   "outputs": [
    {
     "name": "stdout",
     "output_type": "stream",
     "text": [
      "['python one']\n"
     ]
    }
   ],
   "source": [
    "import re\n",
    "p = re.compile(\"^python\\s\\w+\")\n",
    "\n",
    "data = \"\"\"python one\n",
    "life is too short\n",
    "python two\n",
    "you need python\n",
    "python three\"\"\"\n",
    "\n",
    "print(p.findall(data))"
   ]
  },
  {
   "cell_type": "markdown",
   "metadata": {},
   "source": [
    "^ 메타문자에 의해 python이라는 문자열을 사용한 첫번째 줄만 매치됨.\n",
    "\n",
    "하지만 ^ 메타문자를 문자열 전체의 처음이 아니라 각 라인의 처음으로 인식시키고 싶은 경우도 있을 것이다. 이럴 때 사용할 수 있는 옵션이 바로 re.MULTILINE 또는 re.M 이다."
   ]
  },
  {
   "cell_type": "code",
   "execution_count": 28,
   "metadata": {},
   "outputs": [
    {
     "name": "stdout",
     "output_type": "stream",
     "text": [
      "['python one', 'python two', 'python three']\n"
     ]
    }
   ],
   "source": [
    "import re\n",
    "p = re.compile(\"^python\\s\\w+\", re.MULTILINE)\n",
    "\n",
    "data = \"\"\"python one\n",
    "life is too short\n",
    "python two\n",
    "you need python\n",
    "python three\"\"\"\n",
    "\n",
    "print(p.findall(data))"
   ]
  },
  {
   "cell_type": "markdown",
   "metadata": {},
   "source": [
    "### 5.4 VERBOSE, X\n",
    "\n",
    "어려운 정규식을 주석 또는 줄 단위로 구분하게끔 도와주는 옵션이 re.VERBOSE 또는 re.X 옵션이다."
   ]
  },
  {
   "cell_type": "code",
   "execution_count": 29,
   "metadata": {},
   "outputs": [],
   "source": [
    "charref = re.compile(r'&[#](0[0-7]+|[0-9]+|x[0-9a-fA-F]+);')"
   ]
  },
  {
   "cell_type": "code",
   "execution_count": 30,
   "metadata": {},
   "outputs": [],
   "source": [
    "charref = re.compile(r\"\"\"\n",
    " &[#]                # Start of a numeric entity reference\n",
    " (\n",
    "     0[0-7]+         # Octal form\n",
    "   | [0-9]+          # Decimal form\n",
    "   | x[0-9a-fA-F]+   # Hexadecimal form\n",
    " )\n",
    " ;                   # Trailing semicolon\n",
    "\"\"\", re.VERBOSE)"
   ]
  },
  {
   "cell_type": "markdown",
   "metadata": {},
   "source": [
    "정규식이 복잡할 경우 두번째처럼 주석을 적고 여러 줄로 표현하는 것이 훨씬 가독성이 좋아짐.\n",
    "<br><br>\n",
    "re.VERBOSE 옵션을 사용하면 문자열에 사용된 whitespace는 컴파일할 때 제거되기 때문에 줄단위로 #기호를 사용하여 주석문을 작성할 수 있음."
   ]
  },
  {
   "cell_type": "markdown",
   "metadata": {},
   "source": [
    "## 6. 백슬래시 문제\n",
    "<hr>\n",
    "\n",
    "어떤 파일 안에 있는 \"\\section\" 문자열을 찾기 위한 정규식을 만든다고 가정해 보자.\n",
    "하지만 메타표현인 \\s로 인식하게 된다. 이 문제 해결을 위해 \"\\\\section\"으로 작성해야 한다.\n",
    "\n",
    "그리고 \"\\\\\"문자를 전달하려면 파이썬에서는 \"\\\\\\\\\"을 사용해야 한다.\n",
    "\n",
    "\"\\\\\"나 \"\\\\\\\\\"이 많아지면 이해하기 어려워지는 문제가 발생. 이를 방지하기 위해 Raw String 규칙이 생김."
   ]
  },
  {
   "cell_type": "code",
   "execution_count": 31,
   "metadata": {},
   "outputs": [],
   "source": [
    "p = re.compile(r'\\\\section')"
   ]
  },
  {
   "cell_type": "code",
   "execution_count": null,
   "metadata": {},
   "outputs": [],
   "source": []
  }
 ],
 "metadata": {
  "kernelspec": {
   "display_name": "Python 3",
   "language": "python",
   "name": "python3"
  },
  "language_info": {
   "codemirror_mode": {
    "name": "ipython",
    "version": 3
   },
   "file_extension": ".py",
   "mimetype": "text/x-python",
   "name": "python",
   "nbconvert_exporter": "python",
   "pygments_lexer": "ipython3",
   "version": "3.7.7"
  }
 },
 "nbformat": 4,
 "nbformat_minor": 2
}

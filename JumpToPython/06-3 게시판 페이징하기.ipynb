{
 "cells": [
  {
   "cell_type": "markdown",
   "metadata": {},
   "source": [
    "# 06-3 게시판 페이징하기\n",
    "<hr style=\"height: 1px;\">\n",
    "\n",
    "게시물의 총 건수와 한 페이지에 보여 줄 게시물 수를 입력하면 총 페이지 수를 출력하는 프로그램이 필요하다고 한다.\n",
    "\n",
    "> 이렇게 게시판의 페이지 수를 보여 주는 것을 \"페이징\"한다고 부른다.\n",
    "\n",
    "- 함수 이름? getTotalPage\n",
    "- 입력값? 게시물의 총 건수(m), 한 페이지에 보여줄 게시물 수(n)\n",
    "- 출력값? 총 페이지수\n",
    "\n",
    "> 총 페이지수 = (총 건수 / 한 페이지당 보여 줄 건수) + 1\n",
    "\n",
    "위 공식을 적용한 함수를 만들어 보자."
   ]
  },
  {
   "cell_type": "code",
   "execution_count": 1,
   "metadata": {},
   "outputs": [
    {
     "name": "stdout",
     "output_type": "stream",
     "text": [
      "1\n",
      "2\n",
      "3\n",
      "4\n"
     ]
    }
   ],
   "source": [
    "def getTotalPage(m, n):\n",
    "    return m // n + 1\n",
    "\n",
    "print(getTotalPage(5, 10))   # 기대 결과 1\n",
    "print(getTotalPage(15, 10))  # 기대 결과 2 \n",
    "print(getTotalPage(25, 10))  # 기대 결과 3\n",
    "print(getTotalPage(30, 10))  # 기대 결과 3"
   ]
  },
  {
   "cell_type": "markdown",
   "metadata": {},
   "source": [
    "마지막 결과값이 기대값과 다름. 이는 총 게시물 수와 한 페이지에 보여 줄 게시물 수를 나눈 나머지 값이 0이 될 때 발생함을 유추할 수 있다. 해결을 위해 다음과 같이 코드 변경"
   ]
  },
  {
   "cell_type": "code",
   "execution_count": 2,
   "metadata": {},
   "outputs": [
    {
     "name": "stdout",
     "output_type": "stream",
     "text": [
      "1\n",
      "2\n",
      "3\n",
      "3\n"
     ]
    }
   ],
   "source": [
    "def getTotalPage(m, n):\n",
    "    if m % n == 0:\n",
    "        return m // n\n",
    "    else:\n",
    "        return m // n + 1\n",
    "    \n",
    "print(getTotalPage(5, 10))   # 기대 결과 1\n",
    "print(getTotalPage(15, 10))  # 기대 결과 2 \n",
    "print(getTotalPage(25, 10))  # 기대 결과 3\n",
    "print(getTotalPage(30, 10))  # 기대 결과 3"
   ]
  },
  {
   "cell_type": "code",
   "execution_count": null,
   "metadata": {},
   "outputs": [],
   "source": []
  }
 ],
 "metadata": {
  "kernelspec": {
   "display_name": "Python 3",
   "language": "python",
   "name": "python3"
  },
  "language_info": {
   "codemirror_mode": {
    "name": "ipython",
    "version": 3
   },
   "file_extension": ".py",
   "mimetype": "text/x-python",
   "name": "python",
   "nbconvert_exporter": "python",
   "pygments_lexer": "ipython3",
   "version": "3.7.7"
  }
 },
 "nbformat": 4,
 "nbformat_minor": 2
}

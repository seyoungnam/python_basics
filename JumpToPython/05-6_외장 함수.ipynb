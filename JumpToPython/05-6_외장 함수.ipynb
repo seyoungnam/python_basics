{
 "cells": [
  {
   "cell_type": "markdown",
   "metadata": {},
   "source": [
    "# 05-6 외장 함수\n",
    "<hr style=\"height: 1px;\">\n",
    "\n",
    "- 모든 라이브러리를 다 알 필요는 없고 어떤 일을 할 때 어떤 라이브러리를 사용해야 한다는 정도만 알면됨.\n",
    "- 이를 위해 어떤 라이브러리가 존재하고 어떻게 사용하는지 알아야 한다.\n",
    "- 자주 사용되고 꼭 알아 두면 좋은 라이브러리 중심으로 하나씩 살펴보자."
   ]
  },
  {
   "cell_type": "markdown",
   "metadata": {},
   "source": [
    "## 1. sys\n",
    "<hr>\n",
    "sys 모듈은 파이썬 인터프리터가 제공하는 변수와 함수를 직접 제어할 수 있게 해주는 모듈<br><br>\n",
    "\n",
    "**명령 행에서 인수 전달하기 : sys.argv**\n",
    "\n",
    "아래와 같은 argv_test.py 파일을 만들고 명령 프롬프트 창에서 \"python argv_test.py you need python\"을 입력하면 sys.argv에 argv_test.py 뒤에 입력된 값들이 리스트로 저장된다."
   ]
  },
  {
   "cell_type": "markdown",
   "metadata": {},
   "source": [
    "```\n",
    "# argv_test.py\n",
    "import sys\n",
    "print(sys.argv)\n",
    "```"
   ]
  },
  {
   "cell_type": "markdown",
   "metadata": {},
   "source": [
    "```\n",
    "(base) C:\\05.Python\\JumpToPython\\ex>python argv_test.py you need python\n",
    "['argv_test.py', 'you', 'need', 'python']\n",
    "```"
   ]
  },
  {
   "cell_type": "markdown",
   "metadata": {},
   "source": [
    "**강제로 스크립트 종료하기 : sys.exit()**\n",
    "\n",
    "sys.exit()은 Ctrl+Z나 Ctrl+D를 눌러서 대화형 인터프리터를 종료하는 것과 같은 기능을 함.<br>\n",
    "프로그램 파일 안에서 사용하면 프로그램을 중단시킴."
   ]
  },
  {
   "cell_type": "markdown",
   "metadata": {},
   "source": [
    "```\n",
    "(base) C:\\05.Python\\JumpToPython\\ex>python\n",
    "Python 3.7.7 (default, Apr 15 2020, 05:09:04) [MSC v.1916 64 bit (AMD64)] :: Anaconda, Inc. on win32\n",
    "Type \"help\", \"copyright\", \"credits\" or \"license\" for more information.\n",
    ">>> import sys\n",
    ">>> sys.exit()\n",
    "```"
   ]
  },
  {
   "cell_type": "markdown",
   "metadata": {},
   "source": [
    "**자신이 만든 모듈 불러와 사용하기 : sys.path**\n",
    "\n",
    "sys.path는 파이썬 모듈들이 저장되어 있는 위치를 나타냄. 즉, 이 위치에 있는 파이썬 모듈은 경로에 상관없이 어디에서나 불러올 수 있음.<br><br>\n",
    "다음은 그 실행 결과이다."
   ]
  },
  {
   "cell_type": "markdown",
   "metadata": {},
   "source": [
    "```\n",
    ">>> import sys\n",
    ">>> sys.path\n",
    "['', 'C:\\\\Users\\\\USER\\\\Anaconda3\\\\python37.zip', 'C:\\\\Users\\\\USER\\\\Anaconda3\\\\DLLs', 'C:\\\\Users\\\\USER\\\\Anaconda3\\\\lib', 'C:\\\\Users\\\\USER\\\\Anaconda3', 'C:\\\\Users\\\\USER\\\\AppData\\\\Roaming\\\\Python\\\\Python37\\\\site-packages', 'C:\\\\Users\\\\USER\\\\Anaconda3\\\\lib\\\\site-packages', 'C:\\\\Users\\\\USER\\\\Anaconda3\\\\lib\\\\site-packages\\\\win32', 'C:\\\\Users\\\\USER\\\\Anaconda3\\\\lib\\\\site-packages\\\\win32\\\\lib', 'C:\\\\Users\\\\USER\\\\Anaconda3\\\\lib\\\\site-packages\\\\Pythonwin']\n",
    "```"
   ]
  },
  {
   "cell_type": "markdown",
   "metadata": {},
   "source": [
    "아래와 같이 파이썬 프로그램 파일에서 sys.path.append를 사용해 경로 이름을 추가할 수 있음."
   ]
  },
  {
   "cell_type": "markdown",
   "metadata": {},
   "source": [
    "```\n",
    "# path_append.py\n",
    "import sys\n",
    "sys.path.append(\"C:\\\\05.Python\\\\JumpToPython\\\\ex\")\n",
    "print(sys.path)\n",
    "```"
   ]
  },
  {
   "cell_type": "markdown",
   "metadata": {},
   "source": [
    "```\n",
    "(base) C:\\05.Python\\JumpToPython\\ex>python path_append.py\n",
    "['C:\\\\05.Python\\\\JumpToPython\\\\ex', 'C:\\\\Users\\\\USER\\\\Anaconda3\\\\python37.zip', 'C:\\\\Users\\\\USER\\\\Anaconda3\\\\DLLs', 'C:\\\\Users\\\\USER\\\\Anaconda3\\\\lib', 'C:\\\\Users\\\\USER\\\\Anaconda3', 'C:\\\\Users\\\\USER\\\\AppData\\\\Roaming\\\\Python\\\\Python37\\\\site-packages', 'C:\\\\Users\\\\USER\\\\Anaconda3\\\\lib\\\\site-packages', 'C:\\\\Users\\\\USER\\\\Anaconda3\\\\lib\\\\site-packages\\\\win32', 'C:\\\\Users\\\\USER\\\\Anaconda3\\\\lib\\\\site-packages\\\\win32\\\\lib', 'C:\\\\Users\\\\USER\\\\Anaconda3\\\\lib\\\\site-packages\\\\Pythonwin', 'C:\\\\05.Python\\\\JumpToPython\\\\ex']\n",
    "```"
   ]
  },
  {
   "cell_type": "markdown",
   "metadata": {},
   "source": [
    "## 2. pickle\n",
    "<hr>\n",
    "\n",
    "pickle은 객체의 형태를 그대로 유지하면서 파일에 저장하고 불러올 수 있게 하는 모듈.<br>\n",
    "다음 예는 pickle 모듈의 dump 함수를 사용하여 딕셔너리 객체인 data를 그대로 파일에 저장하는 방법을 보여줌."
   ]
  },
  {
   "cell_type": "markdown",
   "metadata": {},
   "source": [
    "```\n",
    ">>> import pickle\n",
    ">>> f = open(\"test.txt\", 'wb')\n",
    ">>> data = {1: 'python', 2: 'you need'}\n",
    ">>> pickle.dump(data, f)\n",
    ">>> f.close()\n",
    "```"
   ]
  },
  {
   "cell_type": "markdown",
   "metadata": {},
   "source": [
    "다음은 pickle.dump로 저장한 파일을 pickle.load를 사용해서 원래 있던 딕셔너리  객체(data) 상태 그대로 불러오는 예임.<br>\n",
    "아래 예에서는 딕셔너리 객체를 사용했지만 어떤 자료형이든 저장하고 불러올 수 있음."
   ]
  },
  {
   "cell_type": "markdown",
   "metadata": {},
   "source": [
    "```\n",
    ">>> import pickle\n",
    ">>> f = open(\"test.txt\", 'rb')\n",
    ">>> data = pickle.load(f)\n",
    ">>> print(data)\n",
    "{1: 'python', 2: 'you need'}\n",
    "```"
   ]
  },
  {
   "cell_type": "markdown",
   "metadata": {},
   "source": [
    "## 3. os\n",
    "<hr>\n",
    "OS 모듈은 환경 변수나 디렉터리, 파일 등의 OS 자원을 제어할 수 있게 해주는 모듈임.\n",
    "<br><br>\n",
    "\n",
    "**내 시스템의 환경 변수값을 알고 싶을 때 : os.environ**\n",
    "\n",
    "os.environ은 현재 시스템의 환경 변수 정보를 딕셔너리 객체로 돌려줌."
   ]
  },
  {
   "cell_type": "markdown",
   "metadata": {},
   "source": [
    "```\n",
    ">>> import os\n",
    ">>> os.environ\n",
    "environ({'ALLUSERSPROFILE': 'C:\\\\ProgramData', 'APPDATA': 'C:\\\\Users\\\\USER\\\\AppData\\\\Roaming', ... 생략 ...})\n",
    "```"
   ]
  },
  {
   "cell_type": "markdown",
   "metadata": {},
   "source": [
    "돌려받은 객체가 딕셔너리기 때문에 다음과 같이 호출 가능."
   ]
  },
  {
   "cell_type": "markdown",
   "metadata": {},
   "source": [
    "```\n",
    ">>> os.environ['PATH']\n",
    "'C:\\\\Users\\\\USER\\\\Anaconda3;C:\\\\Users\\\\USER\\\\Anaconda3\\\\Library\\\\mingw-w64\\\\bin;...생략...'\n",
    "```"
   ]
  },
  {
   "cell_type": "markdown",
   "metadata": {},
   "source": [
    "**디렉터리 위치 변경하기 : os.chdir()** <br>\n",
    "**현재 디렉터리 위치 확인 : os.getcwd()**\n",
    "\n",
    "os.chdir을 사용하면 현재 디렉터리 위치를 변경할 수 있으며, os.getcwd()는 현재 디렉터리 위치 확인."
   ]
  },
  {
   "cell_type": "markdown",
   "metadata": {},
   "source": [
    "```\n",
    ">>> os.getcwd()\n",
    "'C:\\\\05.Python\\\\JumpToPython\\\\ex'\n",
    ">>> os.chdir('C:\\\\05.Python')\n",
    ">>> os.getcwd()\n",
    "'C:\\\\05.Python'\n",
    "```"
   ]
  },
  {
   "cell_type": "markdown",
   "metadata": {},
   "source": [
    "**시스템 명령어 호출하기 : os.system(\"명령어\")**\n",
    "\n",
    "파이썬 명령 프롬프트에서 cmd 명령어 호출."
   ]
  },
  {
   "cell_type": "markdown",
   "metadata": {},
   "source": [
    "```\n",
    ">>> os.system(\"dir\")\n",
    " C 드라이브의 볼륨에는 이름이 없습니다.\n",
    " 볼륨 일련 번호: 2CC9-D528\n",
    "\n",
    " C:\\05.Python 디렉터리\n",
    "\n",
    "2020-04-28  오전 12:05    <DIR>          .\n",
    "2020-04-28  오전 12:05    <DIR>          ..\n",
    "2020-02-20  오후 06:24    <DIR>          12.Python\n",
    "2020-02-20  오후 06:24    <DIR>          13.NumPy\n",
    "2020-02-20  오후 06:24    <DIR>          14.Pandas\n",
    "2020-02-20  오후 06:24    <DIR>          15.Visual\n",
    "2020-02-20  오후 06:32    <DIR>          17.ML\n",
    "2020-02-20  오후 06:36    <DIR>          18.DL\n",
    "2020-05-11  오후 11:37    <DIR>          Algorithms\n",
    "2020-02-24  오후 12:00    <DIR>          Coding Test\n",
    "2020-03-17  오후 08:24    <DIR>          DartAPI\n",
    "2020-03-06  오후 10:19    <DIR>          DataScience_book\n",
    "2020-03-07  오전 01:30    <DIR>          Data_handling\n",
    "2020-04-01  오후 07:22    <DIR>          Django\n",
    "2020-05-06  오전 03:12    <DIR>          djangotutorial\n",
    "2020-02-03  오전 11:56    <DIR>          Getting Start Python\n",
    "2020-05-13  오후 11:01    <DIR>          JumpToPython\n",
    "2020-02-14  오후 01:50    <DIR>          Kaggle\n",
    "2020-04-28  오후 01:24    <DIR>          YuhakPig\n",
    "               0개 파일                   0 바이트\n",
    "              19개 디렉터리  60,126,044,160 바이트 남음\n",
    "```"
   ]
  },
  {
   "cell_type": "markdown",
   "metadata": {},
   "source": [
    "**실행한 시스템 명령어의 결과값 돌려받기 : os.popen(\"명령어\")**\n",
    "\n",
    "os.popen은 시스템 명령어를 실행한 결과값을 읽기 모드 형태의 파일 객체로 돌려받음."
   ]
  },
  {
   "cell_type": "markdown",
   "metadata": {},
   "source": [
    "```\n",
    ">>> f = os.popen(\"dir\")\n",
    ">>> print(f.read())\n",
    " C 드라이브의 볼륨에는 이름이 없습니다.\n",
    " 볼륨 일련 번호: 2CC9-D528\n",
    "\n",
    " C:\\05.Python 디렉터리\n",
    "\n",
    "2020-04-28  오전 12:05    <DIR>          .\n",
    "2020-04-28  오전 12:05    <DIR>          ..\n",
    "2020-02-20  오후 06:24    <DIR>          12.Python\n",
    "2020-02-20  오후 06:24    <DIR>          13.NumPy\n",
    "2020-02-20  오후 06:24    <DIR>          14.Pandas\n",
    "2020-02-20  오후 06:24    <DIR>          15.Visual\n",
    "2020-02-20  오후 06:32    <DIR>          17.ML\n",
    "2020-02-20  오후 06:36    <DIR>          18.DL\n",
    "2020-05-11  오후 11:37    <DIR>          Algorithms\n",
    "2020-02-24  오후 12:00    <DIR>          Coding Test\n",
    "2020-03-17  오후 08:24    <DIR>          DartAPI\n",
    "2020-03-06  오후 10:19    <DIR>          DataScience_book\n",
    "2020-03-07  오전 01:30    <DIR>          Data_handling\n",
    "2020-04-01  오후 07:22    <DIR>          Django\n",
    "2020-05-06  오전 03:12    <DIR>          djangotutorial\n",
    "2020-02-03  오전 11:56    <DIR>          Getting Start Python\n",
    "2020-05-13  오후 11:11    <DIR>          JumpToPython\n",
    "2020-02-14  오후 01:50    <DIR>          Kaggle\n",
    "2020-04-28  오후 01:24    <DIR>          YuhakPig\n",
    "               0개 파일                   0 바이트\n",
    "              19개 디렉터리  60,125,958,144 바이트 남음\n",
    "```"
   ]
  },
  {
   "cell_type": "markdown",
   "metadata": {},
   "source": [
    "**기타 유용한 os 관련 함수**\n",
    "\n",
    "| 함수 | 설명 |\n",
    "|:-----|:-----|\n",
    "| os.mkdir(디렉터리)|디렉터리를 생성|\n",
    "| os.rmdir(디렉터리)|디렉터리 삭제. 단, 디렉터리가 비어있어야 삭제가 가능 |\n",
    "| os.unlink(파일) |파일을 지움. |\n",
    "| os.rename(src, dst) |src라는 이름의 파일을 dst라는 이름으로 바꿈. |"
   ]
  },
  {
   "cell_type": "markdown",
   "metadata": {},
   "source": [
    "## 4. shutil\n",
    "<hr>\n",
    "shutil은 파일을 복사해 주는 파이썬 모듈 <br>\n",
    "다음 예시는 text.txt라는 이름의 파일을 text2.txt로 복사한다. 만약 text2.txt가 디렉터리 이름이라면 text.txt라는 파일 이름으로 text2.txt 디렉터리에 복사하고 동일한 파일 이름이 있을 경우에는 덮어씀."
   ]
  },
  {
   "cell_type": "markdown",
   "metadata": {},
   "source": [
    "```\n",
    ">>> import shutil\n",
    ">>> shutil.copy(\"test.txt\", \"test2.txt\")\n",
    "'test2.txt'\n",
    "```"
   ]
  },
  {
   "cell_type": "code",
   "execution_count": null,
   "metadata": {},
   "outputs": [],
   "source": []
  }
 ],
 "metadata": {
  "kernelspec": {
   "display_name": "Python 3",
   "language": "python",
   "name": "python3"
  },
  "language_info": {
   "codemirror_mode": {
    "name": "ipython",
    "version": 3
   },
   "file_extension": ".py",
   "mimetype": "text/x-python",
   "name": "python",
   "nbconvert_exporter": "python",
   "pygments_lexer": "ipython3",
   "version": "3.7.7"
  }
 },
 "nbformat": 4,
 "nbformat_minor": 2
}

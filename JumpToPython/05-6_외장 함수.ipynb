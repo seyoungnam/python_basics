{
 "cells": [
  {
   "cell_type": "markdown",
   "metadata": {},
   "source": [
    "# 05-6 외장 함수\n",
    "<hr style=\"height: 1px;\">\n",
    "\n",
    "- 모든 라이브러리를 다 알 필요는 없고 어떤 일을 할 때 어떤 라이브러리를 사용해야 한다는 정도만 알면됨.\n",
    "- 이를 위해 어떤 라이브러리가 존재하고 어떻게 사용하는지 알아야 한다.\n",
    "- 자주 사용되고 꼭 알아 두면 좋은 라이브러리 중심으로 하나씩 살펴보자."
   ]
  },
  {
   "cell_type": "markdown",
   "metadata": {},
   "source": [
    "## 1. sys\n",
    "<hr>\n",
    "sys 모듈은 파이썬 인터프리터가 제공하는 변수와 함수를 직접 제어할 수 있게 해주는 모듈<br><br>\n",
    "\n",
    "**명령 행에서 인수 전달하기 : sys.argv**\n",
    "\n",
    "아래와 같은 argv_test.py 파일을 만들고 명령 프롬프트 창에서 \"python argv_test.py you need python\"을 입력하면 sys.argv에 argv_test.py 뒤에 입력된 값들이 리스트로 저장된다."
   ]
  },
  {
   "cell_type": "markdown",
   "metadata": {},
   "source": [
    "```\n",
    "# argv_test.py\n",
    "import sys\n",
    "print(sys.argv)\n",
    "```"
   ]
  },
  {
   "cell_type": "markdown",
   "metadata": {},
   "source": [
    "```\n",
    "(base) C:\\05.Python\\JumpToPython\\ex>python argv_test.py you need python\n",
    "['argv_test.py', 'you', 'need', 'python']\n",
    "```"
   ]
  },
  {
   "cell_type": "markdown",
   "metadata": {},
   "source": [
    "**강제로 스크립트 종료하기 : sys.exit()**\n",
    "\n",
    "sys.exit()은 Ctrl+Z나 Ctrl+D를 눌러서 대화형 인터프리터를 종료하는 것과 같은 기능을 함.<br>\n",
    "프로그램 파일 안에서 사용하면 프로그램을 중단시킴."
   ]
  },
  {
   "cell_type": "markdown",
   "metadata": {},
   "source": [
    "```\n",
    "(base) C:\\05.Python\\JumpToPython\\ex>python\n",
    "Python 3.7.7 (default, Apr 15 2020, 05:09:04) [MSC v.1916 64 bit (AMD64)] :: Anaconda, Inc. on win32\n",
    "Type \"help\", \"copyright\", \"credits\" or \"license\" for more information.\n",
    ">>> import sys\n",
    ">>> sys.exit()\n",
    "```"
   ]
  },
  {
   "cell_type": "markdown",
   "metadata": {},
   "source": [
    "**자신이 만든 모듈 불러와 사용하기 : sys.path**\n",
    "\n",
    "sys.path는 파이썬 모듈들이 저장되어 있는 위치를 나타냄. 즉, 이 위치에 있는 파이썬 모듈은 경로에 상관없이 어디에서나 불러올 수 있음.<br><br>\n",
    "다음은 그 실행 결과이다."
   ]
  },
  {
   "cell_type": "markdown",
   "metadata": {},
   "source": [
    "```\n",
    ">>> import sys\n",
    ">>> sys.path\n",
    "['', 'C:\\\\Users\\\\USER\\\\Anaconda3\\\\python37.zip', 'C:\\\\Users\\\\USER\\\\Anaconda3\\\\DLLs', 'C:\\\\Users\\\\USER\\\\Anaconda3\\\\lib', 'C:\\\\Users\\\\USER\\\\Anaconda3', 'C:\\\\Users\\\\USER\\\\AppData\\\\Roaming\\\\Python\\\\Python37\\\\site-packages', 'C:\\\\Users\\\\USER\\\\Anaconda3\\\\lib\\\\site-packages', 'C:\\\\Users\\\\USER\\\\Anaconda3\\\\lib\\\\site-packages\\\\win32', 'C:\\\\Users\\\\USER\\\\Anaconda3\\\\lib\\\\site-packages\\\\win32\\\\lib', 'C:\\\\Users\\\\USER\\\\Anaconda3\\\\lib\\\\site-packages\\\\Pythonwin']\n",
    "```"
   ]
  },
  {
   "cell_type": "markdown",
   "metadata": {},
   "source": [
    "아래와 같이 파이썬 프로그램 파일에서 sys.path.append를 사용해 경로 이름을 추가할 수 있음."
   ]
  },
  {
   "cell_type": "markdown",
   "metadata": {},
   "source": [
    "```\n",
    "# path_append.py\n",
    "import sys\n",
    "sys.path.append(\"C:\\\\05.Python\\\\JumpToPython\\\\ex\")\n",
    "print(sys.path)\n",
    "```"
   ]
  },
  {
   "cell_type": "markdown",
   "metadata": {},
   "source": [
    "```\n",
    "(base) C:\\05.Python\\JumpToPython\\ex>python path_append.py\n",
    "['C:\\\\05.Python\\\\JumpToPython\\\\ex', 'C:\\\\Users\\\\USER\\\\Anaconda3\\\\python37.zip', 'C:\\\\Users\\\\USER\\\\Anaconda3\\\\DLLs', 'C:\\\\Users\\\\USER\\\\Anaconda3\\\\lib', 'C:\\\\Users\\\\USER\\\\Anaconda3', 'C:\\\\Users\\\\USER\\\\AppData\\\\Roaming\\\\Python\\\\Python37\\\\site-packages', 'C:\\\\Users\\\\USER\\\\Anaconda3\\\\lib\\\\site-packages', 'C:\\\\Users\\\\USER\\\\Anaconda3\\\\lib\\\\site-packages\\\\win32', 'C:\\\\Users\\\\USER\\\\Anaconda3\\\\lib\\\\site-packages\\\\win32\\\\lib', 'C:\\\\Users\\\\USER\\\\Anaconda3\\\\lib\\\\site-packages\\\\Pythonwin', 'C:\\\\05.Python\\\\JumpToPython\\\\ex']\n",
    "```"
   ]
  },
  {
   "cell_type": "markdown",
   "metadata": {},
   "source": [
    "## 2. pickle\n",
    "<hr>\n",
    "\n",
    "pickle은 객체의 형태를 그대로 유지하면서 파일에 저장하고 불러올 수 있게 하는 모듈.<br>\n",
    "다음 예는 pickle 모듈의 dump 함수를 사용하여 딕셔너리 객체인 data를 그대로 파일에 저장하는 방법을 보여줌."
   ]
  },
  {
   "cell_type": "markdown",
   "metadata": {},
   "source": [
    "```\n",
    ">>> import pickle\n",
    ">>> f = open(\"test.txt\", 'wb')\n",
    ">>> data = {1: 'python', 2: 'you need'}\n",
    ">>> pickle.dump(data, f)\n",
    ">>> f.close()\n",
    "```"
   ]
  },
  {
   "cell_type": "markdown",
   "metadata": {},
   "source": [
    "다음은 pickle.dump로 저장한 파일을 pickle.load를 사용해서 원래 있던 딕셔너리  객체(data) 상태 그대로 불러오는 예임.<br>\n",
    "아래 예에서는 딕셔너리 객체를 사용했지만 어떤 자료형이든 저장하고 불러올 수 있음."
   ]
  },
  {
   "cell_type": "markdown",
   "metadata": {},
   "source": [
    "```\n",
    ">>> import pickle\n",
    ">>> f = open(\"test.txt\", 'rb')\n",
    ">>> data = pickle.load(f)\n",
    ">>> print(data)\n",
    "{1: 'python', 2: 'you need'}\n",
    "```"
   ]
  },
  {
   "cell_type": "markdown",
   "metadata": {},
   "source": [
    "## 3. os\n",
    "<hr>\n",
    "OS 모듈은 환경 변수나 디렉터리, 파일 등의 OS 자원을 제어할 수 있게 해주는 모듈임.\n",
    "<br><br>\n",
    "\n",
    "**내 시스템의 환경 변수값을 알고 싶을 때 : os.environ**\n",
    "\n",
    "os.environ은 현재 시스템의 환경 변수 정보를 딕셔너리 객체로 돌려줌."
   ]
  },
  {
   "cell_type": "markdown",
   "metadata": {},
   "source": [
    "```\n",
    ">>> import os\n",
    ">>> os.environ\n",
    "environ({'ALLUSERSPROFILE': 'C:\\\\ProgramData', 'APPDATA': 'C:\\\\Users\\\\USER\\\\AppData\\\\Roaming', ... 생략 ...})\n",
    "```"
   ]
  },
  {
   "cell_type": "markdown",
   "metadata": {},
   "source": [
    "돌려받은 객체가 딕셔너리기 때문에 다음과 같이 호출 가능."
   ]
  },
  {
   "cell_type": "markdown",
   "metadata": {},
   "source": [
    "```\n",
    ">>> os.environ['PATH']\n",
    "'C:\\\\Users\\\\USER\\\\Anaconda3;C:\\\\Users\\\\USER\\\\Anaconda3\\\\Library\\\\mingw-w64\\\\bin;...생략...'\n",
    "```"
   ]
  },
  {
   "cell_type": "markdown",
   "metadata": {},
   "source": [
    "**디렉터리 위치 변경하기 : os.chdir()** <br>\n",
    "**현재 디렉터리 위치 확인 : os.getcwd()  (get current working directory)**\n",
    "\n",
    "os.chdir을 사용하면 현재 디렉터리 위치를 변경할 수 있으며, os.getcwd()는 현재 디렉터리 위치 확인."
   ]
  },
  {
   "cell_type": "markdown",
   "metadata": {},
   "source": [
    "```\n",
    ">>> os.getcwd()\n",
    "'C:\\\\05.Python\\\\JumpToPython\\\\ex'\n",
    ">>> os.chdir('C:\\\\05.Python')\n",
    ">>> os.getcwd()\n",
    "'C:\\\\05.Python'\n",
    "```"
   ]
  },
  {
   "cell_type": "markdown",
   "metadata": {},
   "source": [
    "**시스템 명령어 호출하기 : os.system(\"명령어\")**\n",
    "\n",
    "파이썬 명령 프롬프트에서 cmd 명령어 호출."
   ]
  },
  {
   "cell_type": "markdown",
   "metadata": {},
   "source": [
    "```\n",
    ">>> os.system(\"dir\")\n",
    " C 드라이브의 볼륨에는 이름이 없습니다.\n",
    " 볼륨 일련 번호: 2CC9-D528\n",
    "\n",
    " C:\\05.Python 디렉터리\n",
    "\n",
    "2020-04-28  오전 12:05    <DIR>          .\n",
    "2020-04-28  오전 12:05    <DIR>          ..\n",
    "2020-02-20  오후 06:24    <DIR>          12.Python\n",
    "2020-02-20  오후 06:24    <DIR>          13.NumPy\n",
    "2020-02-20  오후 06:24    <DIR>          14.Pandas\n",
    "2020-02-20  오후 06:24    <DIR>          15.Visual\n",
    "2020-02-20  오후 06:32    <DIR>          17.ML\n",
    "2020-02-20  오후 06:36    <DIR>          18.DL\n",
    "2020-05-11  오후 11:37    <DIR>          Algorithms\n",
    "2020-02-24  오후 12:00    <DIR>          Coding Test\n",
    "2020-03-17  오후 08:24    <DIR>          DartAPI\n",
    "2020-03-06  오후 10:19    <DIR>          DataScience_book\n",
    "2020-03-07  오전 01:30    <DIR>          Data_handling\n",
    "2020-04-01  오후 07:22    <DIR>          Django\n",
    "2020-05-06  오전 03:12    <DIR>          djangotutorial\n",
    "2020-02-03  오전 11:56    <DIR>          Getting Start Python\n",
    "2020-05-13  오후 11:01    <DIR>          JumpToPython\n",
    "2020-02-14  오후 01:50    <DIR>          Kaggle\n",
    "2020-04-28  오후 01:24    <DIR>          YuhakPig\n",
    "               0개 파일                   0 바이트\n",
    "              19개 디렉터리  60,126,044,160 바이트 남음\n",
    "```"
   ]
  },
  {
   "cell_type": "markdown",
   "metadata": {},
   "source": [
    "**실행한 시스템 명령어의 결과값 돌려받기 : os.popen(\"명령어\")**\n",
    "\n",
    "os.popen은 시스템 명령어를 실행한 결과값을 읽기 모드 형태의 파일 객체로 돌려받음."
   ]
  },
  {
   "cell_type": "markdown",
   "metadata": {},
   "source": [
    "```\n",
    ">>> f = os.popen(\"dir\")\n",
    ">>> print(f.read())\n",
    " C 드라이브의 볼륨에는 이름이 없습니다.\n",
    " 볼륨 일련 번호: 2CC9-D528\n",
    "\n",
    " C:\\05.Python 디렉터리\n",
    "\n",
    "2020-04-28  오전 12:05    <DIR>          .\n",
    "2020-04-28  오전 12:05    <DIR>          ..\n",
    "2020-02-20  오후 06:24    <DIR>          12.Python\n",
    "2020-02-20  오후 06:24    <DIR>          13.NumPy\n",
    "2020-02-20  오후 06:24    <DIR>          14.Pandas\n",
    "2020-02-20  오후 06:24    <DIR>          15.Visual\n",
    "2020-02-20  오후 06:32    <DIR>          17.ML\n",
    "2020-02-20  오후 06:36    <DIR>          18.DL\n",
    "2020-05-11  오후 11:37    <DIR>          Algorithms\n",
    "2020-02-24  오후 12:00    <DIR>          Coding Test\n",
    "2020-03-17  오후 08:24    <DIR>          DartAPI\n",
    "2020-03-06  오후 10:19    <DIR>          DataScience_book\n",
    "2020-03-07  오전 01:30    <DIR>          Data_handling\n",
    "2020-04-01  오후 07:22    <DIR>          Django\n",
    "2020-05-06  오전 03:12    <DIR>          djangotutorial\n",
    "2020-02-03  오전 11:56    <DIR>          Getting Start Python\n",
    "2020-05-13  오후 11:11    <DIR>          JumpToPython\n",
    "2020-02-14  오후 01:50    <DIR>          Kaggle\n",
    "2020-04-28  오후 01:24    <DIR>          YuhakPig\n",
    "               0개 파일                   0 바이트\n",
    "              19개 디렉터리  60,125,958,144 바이트 남음\n",
    "```"
   ]
  },
  {
   "cell_type": "markdown",
   "metadata": {},
   "source": [
    "**기타 유용한 os 관련 함수**\n",
    "\n",
    "| 함수 | 설명 |\n",
    "|:-----|:-----|\n",
    "| os.mkdir(디렉터리)|디렉터리를 생성|\n",
    "| os.rmdir(디렉터리)|디렉터리 삭제. 단, 디렉터리가 비어있어야 삭제가 가능 |\n",
    "| os.unlink(파일) |파일을 지움. |\n",
    "| os.rename(src, dst) |src라는 이름의 파일을 dst라는 이름으로 바꿈. |"
   ]
  },
  {
   "cell_type": "markdown",
   "metadata": {},
   "source": [
    "## 4. shutil (shell utilities)\n",
    "<hr>\n",
    "shutil은 파일을 복사해 주는 파이썬 모듈 <br>\n",
    "다음 예시는 text.txt라는 이름의 파일을 text2.txt로 복사한다. 만약 text2.txt가 디렉터리 이름이라면 text.txt라는 파일 이름으로 text2.txt 디렉터리에 복사하고 동일한 파일 이름이 있을 경우에는 덮어씀."
   ]
  },
  {
   "cell_type": "markdown",
   "metadata": {},
   "source": [
    "```\n",
    ">>> import shutil\n",
    ">>> shutil.copy(\"test.txt\", \"test2.txt\")\n",
    "'test2.txt'\n",
    "```"
   ]
  },
  {
   "cell_type": "markdown",
   "metadata": {},
   "source": [
    "## 5. glob\n",
    "<hr>\n",
    "\n",
    "파일을 읽고 쓰는 기능이 있는 프로그램을 만들다 보면 특정 디렉터리에 있는 파일 이름을 모듀 알아야 할 때가 있음. 이럴 때 사용하는 모듈이 바로 glob임.\n",
    "\n",
    "**디렉터리에 있는 파일들을 리스트로 만들기 : glob(pathname)**\n",
    "\n",
    "glob 모듈은 디렉터리 안의 파일들을 읽어서 돌려줌. \\*, \\? 등 메타 문자를 써서 원하는 파일만 읽어 들일 수도 있음.<br>\n",
    "다음은 C:\\05.Python\\JumpToPython\\ex 디렉터리에 있는 파일 중 이름이 test로 시작하는 파일을 모두 찾아서 읽어들이는 예임."
   ]
  },
  {
   "cell_type": "markdown",
   "metadata": {},
   "source": [
    "```\n",
    ">>> import glob\n",
    ">>> glob.glob(\"C:\\05.Python\\JumpToPython\\ex\")\n",
    "[]\n",
    ">>> glob.glob(\"C:\\\\05.Python\\\\JumpToPython\\\\ex\\\\test*\")\n",
    "['C:\\\\05.Python\\\\JumpToPython\\\\ex\\\\test.txt', 'C:\\\\05.Python\\\\JumpToPython\\\\ex\\\\test2.txt']\n",
    "```"
   ]
  },
  {
   "cell_type": "markdown",
   "metadata": {},
   "source": [
    "> 디렉터리 사이에 \\을 \\\\로 대체해줘야 함."
   ]
  },
  {
   "cell_type": "markdown",
   "metadata": {},
   "source": [
    "## 6. tempfile\n",
    "<hr>\n",
    "\n",
    "파일을 임시로 만들어서 사용할 때 유용한 모듈이 바로 tempfile. tempfile.mkstemp()는 중복되지 않는 임시 파일의 이름을 무작위로 만들어서 돌려줌."
   ]
  },
  {
   "cell_type": "markdown",
   "metadata": {},
   "source": [
    "```\n",
    ">>> import tempfile\n",
    ">>> filename = tempfile.mkstemp()\n",
    ">>> filename\n",
    "(3, 'C:\\\\Users\\\\USER\\\\AppData\\\\Local\\\\Temp\\\\tmp5xdj3dmr')\n",
    "```"
   ]
  },
  {
   "cell_type": "markdown",
   "metadata": {},
   "source": [
    "tempfile.TemporaryFile()은 임시 저장 공간으로 사용할 파일 객체를 돌려줌.<br>\n",
    "이 파일은 기본적으로 바이너리 쓰기 모드(wb)를 갖는다.<br>\n",
    "f.close()가 호출되면 이 파일 객체는 자동으로 사라짐"
   ]
  },
  {
   "cell_type": "markdown",
   "metadata": {},
   "source": [
    "```\n",
    ">>> import tempfile\n",
    ">>> f = tempfile.TemporaryFile()\n",
    ">>> f\n",
    "<tempfile._TemporaryFileWrapper object at 0x0000017AFD0E4FC8>\n",
    ">>> f.close()\n",
    "```"
   ]
  },
  {
   "cell_type": "markdown",
   "metadata": {},
   "source": [
    "## 7. time\n",
    "<hr>\n",
    "\n",
    "시간과 관련된 time 모듈에는 함수가 굉장히 많음.<br>\n",
    "가장 유용한 몇가지만 알아보자.\n",
    "\n",
    "### time.time()\n",
    "\n",
    "- time.time()은 UTC(Universal Time Coordinated 협정 세계 표준시)를 사용하여 현재 시간을 실수 형태로 돌려주는 함수.\n",
    "- 1970년 1월 1일 0시 0분 0초를 기준으로 지난 시간을 초 단위로 돌려줌."
   ]
  },
  {
   "cell_type": "code",
   "execution_count": 1,
   "metadata": {},
   "outputs": [
    {
     "data": {
      "text/plain": [
       "1589429194.6989896"
      ]
     },
     "execution_count": 1,
     "metadata": {},
     "output_type": "execute_result"
    }
   ],
   "source": [
    "import time\n",
    "time.time()"
   ]
  },
  {
   "cell_type": "markdown",
   "metadata": {},
   "source": [
    "### time.localtime(time.time())\n",
    "\n",
    "- time.localtime은 time.time()이 돌려준 실수값을 사용해서 연도, 월, 일, 시, 분, 초, ... 의 형태로 바꿔주는 함수"
   ]
  },
  {
   "cell_type": "code",
   "execution_count": 2,
   "metadata": {},
   "outputs": [
    {
     "data": {
      "text/plain": [
       "time.struct_time(tm_year=2020, tm_mon=5, tm_mday=14, tm_hour=13, tm_min=8, tm_sec=32, tm_wday=3, tm_yday=135, tm_isdst=0)"
      ]
     },
     "execution_count": 2,
     "metadata": {},
     "output_type": "execute_result"
    }
   ],
   "source": [
    "time.localtime(time.time())"
   ]
  },
  {
   "cell_type": "markdown",
   "metadata": {},
   "source": [
    "### time.asctime()\n",
    "- 위 time.localtime에 의해서 반환된 튜플 형태의 값을 인수로 받아서 날짜와 시간을 알아보기 쉬운 형태로 돌려줌."
   ]
  },
  {
   "cell_type": "code",
   "execution_count": 3,
   "metadata": {},
   "outputs": [
    {
     "data": {
      "text/plain": [
       "'Thu May 14 13:11:49 2020'"
      ]
     },
     "execution_count": 3,
     "metadata": {},
     "output_type": "execute_result"
    }
   ],
   "source": [
    "time.asctime(time.localtime(time.time()))"
   ]
  },
  {
   "cell_type": "markdown",
   "metadata": {},
   "source": [
    "### time.ctime\n",
    "- time.asctime(time.localtime(time.time()))은 time.ctime()을 사용해 간편하게 표시 가능.\n",
    "- asctime과 다른 점은 ctime은 항상 현재 시간만을 돌려줌"
   ]
  },
  {
   "cell_type": "code",
   "execution_count": 4,
   "metadata": {},
   "outputs": [
    {
     "data": {
      "text/plain": [
       "'Thu May 14 13:15:02 2020'"
      ]
     },
     "execution_count": 4,
     "metadata": {},
     "output_type": "execute_result"
    }
   ],
   "source": [
    "time.ctime()"
   ]
  },
  {
   "cell_type": "markdown",
   "metadata": {},
   "source": [
    "### time.strftime\n",
    "- time.strftime('출력할 형식 포맷 코드', time.localtime(time.time()))\n",
    "- time.strftime을 사용하는 예는 아래와 같다"
   ]
  },
  {
   "cell_type": "code",
   "execution_count": 5,
   "metadata": {},
   "outputs": [
    {
     "data": {
      "text/plain": [
       "'05/14/20'"
      ]
     },
     "execution_count": 5,
     "metadata": {},
     "output_type": "execute_result"
    }
   ],
   "source": [
    "import time\n",
    "time.strftime('%x', time.localtime(time.time()))"
   ]
  },
  {
   "cell_type": "code",
   "execution_count": 6,
   "metadata": {},
   "outputs": [
    {
     "data": {
      "text/plain": [
       "'Thu May 14 13:17:08 2020'"
      ]
     },
     "execution_count": 6,
     "metadata": {},
     "output_type": "execute_result"
    }
   ],
   "source": [
    "time.strftime('%c', time.localtime(time.time()))"
   ]
  },
  {
   "cell_type": "code",
   "execution_count": 7,
   "metadata": {},
   "outputs": [
    {
     "data": {
      "text/plain": [
       "'13:18:02'"
      ]
     },
     "execution_count": 7,
     "metadata": {},
     "output_type": "execute_result"
    }
   ],
   "source": [
    "time.strftime('%X', time.localtime(time.time()))"
   ]
  },
  {
   "cell_type": "markdown",
   "metadata": {},
   "source": [
    "### time.sleep\n",
    "\n",
    "- 주로 루프 안에서 많이 사용\n",
    "- 이 함수를 사용하면 일정한 시간 간격을 두고 루프를 실행할 수 있음"
   ]
  },
  {
   "cell_type": "code",
   "execution_count": 8,
   "metadata": {},
   "outputs": [
    {
     "name": "stdout",
     "output_type": "stream",
     "text": [
      "0\n",
      "1\n",
      "2\n",
      "3\n",
      "4\n",
      "5\n",
      "6\n",
      "7\n",
      "8\n",
      "9\n"
     ]
    }
   ],
   "source": [
    "import time\n",
    "for i in range(10):\n",
    "    print(i)\n",
    "    time.sleep(1)  # 1초 간격으로 루프 실행"
   ]
  },
  {
   "cell_type": "markdown",
   "metadata": {},
   "source": [
    "## 8. calendar\n",
    "<hr>\n",
    "\n",
    "- calendar는 파이썬에서 달력을 볼 수 있게 해주는 모듈\n",
    "\n",
    "-  **calendar.calendar(연도)** 로 사용하면 그해의 전체 달력을 볼 수 있음"
   ]
  },
  {
   "cell_type": "code",
   "execution_count": 9,
   "metadata": {},
   "outputs": [
    {
     "name": "stdout",
     "output_type": "stream",
     "text": [
      "                                  2020\n",
      "\n",
      "      January                   February                   March\n",
      "Mo Tu We Th Fr Sa Su      Mo Tu We Th Fr Sa Su      Mo Tu We Th Fr Sa Su\n",
      "       1  2  3  4  5                      1  2                         1\n",
      " 6  7  8  9 10 11 12       3  4  5  6  7  8  9       2  3  4  5  6  7  8\n",
      "13 14 15 16 17 18 19      10 11 12 13 14 15 16       9 10 11 12 13 14 15\n",
      "20 21 22 23 24 25 26      17 18 19 20 21 22 23      16 17 18 19 20 21 22\n",
      "27 28 29 30 31            24 25 26 27 28 29         23 24 25 26 27 28 29\n",
      "                                                    30 31\n",
      "\n",
      "       April                      May                       June\n",
      "Mo Tu We Th Fr Sa Su      Mo Tu We Th Fr Sa Su      Mo Tu We Th Fr Sa Su\n",
      "       1  2  3  4  5                   1  2  3       1  2  3  4  5  6  7\n",
      " 6  7  8  9 10 11 12       4  5  6  7  8  9 10       8  9 10 11 12 13 14\n",
      "13 14 15 16 17 18 19      11 12 13 14 15 16 17      15 16 17 18 19 20 21\n",
      "20 21 22 23 24 25 26      18 19 20 21 22 23 24      22 23 24 25 26 27 28\n",
      "27 28 29 30               25 26 27 28 29 30 31      29 30\n",
      "\n",
      "        July                     August                  September\n",
      "Mo Tu We Th Fr Sa Su      Mo Tu We Th Fr Sa Su      Mo Tu We Th Fr Sa Su\n",
      "       1  2  3  4  5                      1  2          1  2  3  4  5  6\n",
      " 6  7  8  9 10 11 12       3  4  5  6  7  8  9       7  8  9 10 11 12 13\n",
      "13 14 15 16 17 18 19      10 11 12 13 14 15 16      14 15 16 17 18 19 20\n",
      "20 21 22 23 24 25 26      17 18 19 20 21 22 23      21 22 23 24 25 26 27\n",
      "27 28 29 30 31            24 25 26 27 28 29 30      28 29 30\n",
      "                          31\n",
      "\n",
      "      October                   November                  December\n",
      "Mo Tu We Th Fr Sa Su      Mo Tu We Th Fr Sa Su      Mo Tu We Th Fr Sa Su\n",
      "          1  2  3  4                         1          1  2  3  4  5  6\n",
      " 5  6  7  8  9 10 11       2  3  4  5  6  7  8       7  8  9 10 11 12 13\n",
      "12 13 14 15 16 17 18       9 10 11 12 13 14 15      14 15 16 17 18 19 20\n",
      "19 20 21 22 23 24 25      16 17 18 19 20 21 22      21 22 23 24 25 26 27\n",
      "26 27 28 29 30 31         23 24 25 26 27 28 29      28 29 30 31\n",
      "                          30\n",
      "\n"
     ]
    }
   ],
   "source": [
    "import calendar\n",
    "print(calendar.calendar(2020))"
   ]
  },
  {
   "cell_type": "markdown",
   "metadata": {},
   "source": [
    "calendar.prcal(연도) 또한 같은 결과값 반환"
   ]
  },
  {
   "cell_type": "code",
   "execution_count": 10,
   "metadata": {},
   "outputs": [
    {
     "name": "stdout",
     "output_type": "stream",
     "text": [
      "                                  2020\n",
      "\n",
      "      January                   February                   March\n",
      "Mo Tu We Th Fr Sa Su      Mo Tu We Th Fr Sa Su      Mo Tu We Th Fr Sa Su\n",
      "       1  2  3  4  5                      1  2                         1\n",
      " 6  7  8  9 10 11 12       3  4  5  6  7  8  9       2  3  4  5  6  7  8\n",
      "13 14 15 16 17 18 19      10 11 12 13 14 15 16       9 10 11 12 13 14 15\n",
      "20 21 22 23 24 25 26      17 18 19 20 21 22 23      16 17 18 19 20 21 22\n",
      "27 28 29 30 31            24 25 26 27 28 29         23 24 25 26 27 28 29\n",
      "                                                    30 31\n",
      "\n",
      "       April                      May                       June\n",
      "Mo Tu We Th Fr Sa Su      Mo Tu We Th Fr Sa Su      Mo Tu We Th Fr Sa Su\n",
      "       1  2  3  4  5                   1  2  3       1  2  3  4  5  6  7\n",
      " 6  7  8  9 10 11 12       4  5  6  7  8  9 10       8  9 10 11 12 13 14\n",
      "13 14 15 16 17 18 19      11 12 13 14 15 16 17      15 16 17 18 19 20 21\n",
      "20 21 22 23 24 25 26      18 19 20 21 22 23 24      22 23 24 25 26 27 28\n",
      "27 28 29 30               25 26 27 28 29 30 31      29 30\n",
      "\n",
      "        July                     August                  September\n",
      "Mo Tu We Th Fr Sa Su      Mo Tu We Th Fr Sa Su      Mo Tu We Th Fr Sa Su\n",
      "       1  2  3  4  5                      1  2          1  2  3  4  5  6\n",
      " 6  7  8  9 10 11 12       3  4  5  6  7  8  9       7  8  9 10 11 12 13\n",
      "13 14 15 16 17 18 19      10 11 12 13 14 15 16      14 15 16 17 18 19 20\n",
      "20 21 22 23 24 25 26      17 18 19 20 21 22 23      21 22 23 24 25 26 27\n",
      "27 28 29 30 31            24 25 26 27 28 29 30      28 29 30\n",
      "                          31\n",
      "\n",
      "      October                   November                  December\n",
      "Mo Tu We Th Fr Sa Su      Mo Tu We Th Fr Sa Su      Mo Tu We Th Fr Sa Su\n",
      "          1  2  3  4                         1          1  2  3  4  5  6\n",
      " 5  6  7  8  9 10 11       2  3  4  5  6  7  8       7  8  9 10 11 12 13\n",
      "12 13 14 15 16 17 18       9 10 11 12 13 14 15      14 15 16 17 18 19 20\n",
      "19 20 21 22 23 24 25      16 17 18 19 20 21 22      21 22 23 24 25 26 27\n",
      "26 27 28 29 30 31         23 24 25 26 27 28 29      28 29 30 31\n",
      "                          30\n"
     ]
    }
   ],
   "source": [
    "calendar.prcal(2020)"
   ]
  },
  {
   "cell_type": "code",
   "execution_count": 11,
   "metadata": {},
   "outputs": [
    {
     "name": "stdout",
     "output_type": "stream",
     "text": [
      "      May 2020\n",
      "Mo Tu We Th Fr Sa Su\n",
      "             1  2  3\n",
      " 4  5  6  7  8  9 10\n",
      "11 12 13 14 15 16 17\n",
      "18 19 20 21 22 23 24\n",
      "25 26 27 28 29 30 31\n"
     ]
    }
   ],
   "source": [
    "# 2020년 5월 달력만 출력\n",
    "calendar.prmonth(2020, 5)"
   ]
  },
  {
   "cell_type": "markdown",
   "metadata": {},
   "source": [
    "### calendar.weekday\n",
    "- calendar.weekday(연도, 월, 일) 함수는 그 날짜에 해당하는 요일 정보를 돌려줌\n",
    "- 월은 0, 화는 1, ... , 일은 6"
   ]
  },
  {
   "cell_type": "code",
   "execution_count": 12,
   "metadata": {},
   "outputs": [
    {
     "data": {
      "text/plain": [
       "3"
      ]
     },
     "execution_count": 12,
     "metadata": {},
     "output_type": "execute_result"
    }
   ],
   "source": [
    "calendar.weekday(2020, 5, 14)"
   ]
  },
  {
   "cell_type": "markdown",
   "metadata": {},
   "source": [
    "### calendar.monthrange\n",
    "- monthrange(연도, 월) 함수는 해당 달의 1일이 무슨 요일인지와 그 달이 며칠까지 있는지를 튜플 형태로 돌려줌"
   ]
  },
  {
   "cell_type": "code",
   "execution_count": 13,
   "metadata": {},
   "outputs": [
    {
     "data": {
      "text/plain": [
       "(4, 31)"
      ]
     },
     "execution_count": 13,
     "metadata": {},
     "output_type": "execute_result"
    }
   ],
   "source": [
    "calendar.monthrange(2020, 5)"
   ]
  },
  {
   "cell_type": "markdown",
   "metadata": {},
   "source": [
    "위의 예는 2020년 5월 1일은 금요일이고, 이달은 31일까지 있다는 것을 보여줌."
   ]
  },
  {
   "cell_type": "markdown",
   "metadata": {},
   "source": [
    "## 9. random\n",
    "<hr>\n",
    "\n",
    "- ramdom은 난수를 발생시키는 모듈\n",
    "- random과 randint에 대해 알아보자.\n",
    "\n",
    "아래는 0.0에서 1.0 사이의 실수 중에서 난수 값을 돌려주는 예"
   ]
  },
  {
   "cell_type": "code",
   "execution_count": 14,
   "metadata": {},
   "outputs": [
    {
     "data": {
      "text/plain": [
       "0.5832693982458823"
      ]
     },
     "execution_count": 14,
     "metadata": {},
     "output_type": "execute_result"
    }
   ],
   "source": [
    "import random\n",
    "random.random()"
   ]
  },
  {
   "cell_type": "markdown",
   "metadata": {},
   "source": [
    "다음 예는 1에서 10 사이의 정수 중에서 난수 값을 돌려줌"
   ]
  },
  {
   "cell_type": "code",
   "execution_count": 15,
   "metadata": {},
   "outputs": [
    {
     "data": {
      "text/plain": [
       "10"
      ]
     },
     "execution_count": 15,
     "metadata": {},
     "output_type": "execute_result"
    }
   ],
   "source": [
    "random.randint(1, 10)"
   ]
  },
  {
   "cell_type": "markdown",
   "metadata": {},
   "source": [
    "1에서 55 사이의 정수 중에서 난수 값을 돌려줌"
   ]
  },
  {
   "cell_type": "code",
   "execution_count": 16,
   "metadata": {},
   "outputs": [
    {
     "data": {
      "text/plain": [
       "21"
      ]
     },
     "execution_count": 16,
     "metadata": {},
     "output_type": "execute_result"
    }
   ],
   "source": [
    "random.randint(1, 55)"
   ]
  },
  {
   "cell_type": "markdown",
   "metadata": {},
   "source": [
    "아래 random_pop 함수는 리스트의 요소 중에서 무작위로 하나를 선택하여 꺼낸 다음 그 값을 돌려줌"
   ]
  },
  {
   "cell_type": "code",
   "execution_count": 17,
   "metadata": {},
   "outputs": [
    {
     "name": "stdout",
     "output_type": "stream",
     "text": [
      "3\n",
      "2\n",
      "4\n",
      "5\n",
      "1\n"
     ]
    }
   ],
   "source": [
    "# random_pop.py\n",
    "import random\n",
    "def random_pop(data):\n",
    "    number = random.randint(0, len(data)-1)\n",
    "    return data.pop(number)\n",
    "\n",
    "if __name__ == \"__main__\":\n",
    "    data = [1, 2, 3, 4, 5]\n",
    "    while data:\n",
    "        print(random_pop(data))"
   ]
  },
  {
   "cell_type": "markdown",
   "metadata": {},
   "source": [
    "- random_pop 함수는 random 모듈의 choice 함수를 사용하여 좀 더 직관적으로 만들 수 있음.\n",
    "- random.choice(리스트)는 리스트에서 무작위로 하나를 선택하여 반환"
   ]
  },
  {
   "cell_type": "code",
   "execution_count": 18,
   "metadata": {},
   "outputs": [
    {
     "name": "stdout",
     "output_type": "stream",
     "text": [
      "3\n",
      "4\n",
      "1\n",
      "5\n",
      "2\n"
     ]
    }
   ],
   "source": [
    "def random_pop(data):\n",
    "    number = random.choice(data)\n",
    "    data.remove(number)\n",
    "    return number\n",
    "\n",
    "if __name__ == \"__main__\":\n",
    "    data = [1, 2, 3, 4, 5]\n",
    "    while data:\n",
    "        print(random_pop(data))\n"
   ]
  },
  {
   "cell_type": "markdown",
   "metadata": {},
   "source": [
    "리스트의 항목을 무작위로 섞고 싶을 때는 random.shuffle 함수를 사용"
   ]
  },
  {
   "cell_type": "code",
   "execution_count": 19,
   "metadata": {},
   "outputs": [
    {
     "data": {
      "text/plain": [
       "[1, 2, 4, 3, 5]"
      ]
     },
     "execution_count": 19,
     "metadata": {},
     "output_type": "execute_result"
    }
   ],
   "source": [
    "import random\n",
    "data = [1,2,3,4,5]\n",
    "random.shuffle(data)\n",
    "data"
   ]
  },
  {
   "cell_type": "markdown",
   "metadata": {},
   "source": [
    "## 10. webbrowser\n",
    "<hr>\n",
    "webbrowser는 자신의 시스템에서 사용하는 기본 웹 브라우저를 자동으로 실행하는 모듈"
   ]
  },
  {
   "cell_type": "code",
   "execution_count": 20,
   "metadata": {},
   "outputs": [
    {
     "data": {
      "text/plain": [
       "True"
      ]
     },
     "execution_count": 20,
     "metadata": {},
     "output_type": "execute_result"
    }
   ],
   "source": [
    "import webbrowser\n",
    "webbrowser.open(\"http://www.daum.net\")"
   ]
  },
  {
   "cell_type": "markdown",
   "metadata": {},
   "source": [
    "- webbrowser의 open 함수는 웹 브라우저가 이미 실행된 상태라면 입력 주소로 이동\n",
    "- 만약 웹 브라우저가 실행되지 않은 상태라면 새로 웹 브라우저를 실행한 후 해당 주소로 이동\n",
    "\n",
    "open_new 함수는 이미 웹 브라우저가 실행된 상태이더라도 새로운 창으로 해당 주소가 열리게 함"
   ]
  },
  {
   "cell_type": "code",
   "execution_count": 21,
   "metadata": {},
   "outputs": [
    {
     "data": {
      "text/plain": [
       "True"
      ]
     },
     "execution_count": 21,
     "metadata": {},
     "output_type": "execute_result"
    }
   ],
   "source": [
    "webbrowser.open_new(\"http://google.com\")"
   ]
  },
  {
   "cell_type": "markdown",
   "metadata": {},
   "source": [
    "### [스레드를 다루는 threading 모듈]\n",
    "\n",
    "- 스레드 프로그래밍은 초보 프로그래머가 구현하기에는 매우 어려운 기술이다. 간단히만 소개.\n",
    "- 컴퓨터에서 동작하고 있는 프로그램을 프로세스(Process)라고 한다. 보통 1개의 프로세스는 한가지 일만 하지만 스레드(Thread)를 사용하면 한 프로세스 안에서 2가지 또는 그 이상의 일을 동시에 수행 가능\n",
    "- 아래는 간단한 예시"
   ]
  },
  {
   "cell_type": "code",
   "execution_count": 22,
   "metadata": {},
   "outputs": [
    {
     "name": "stdout",
     "output_type": "stream",
     "text": [
      "Start\n",
      "working : 0\n",
      "\n",
      "working : 1\n",
      "\n",
      "working : 2\n",
      "\n",
      "working : 3\n",
      "\n",
      "working : 4\n",
      "\n",
      "working : 0\n",
      "\n",
      "working : 1\n",
      "\n",
      "working : 2\n",
      "\n",
      "working : 3\n",
      "\n",
      "working : 4\n",
      "\n",
      "working : 0\n",
      "\n",
      "working : 1\n",
      "\n",
      "working : 2\n",
      "\n",
      "working : 3\n",
      "\n",
      "working : 4\n",
      "\n",
      "working : 0\n",
      "\n",
      "working : 1\n",
      "\n",
      "working : 2\n",
      "\n",
      "working : 3\n",
      "\n",
      "working : 4\n",
      "\n",
      "working : 0\n",
      "\n",
      "working : 1\n",
      "\n",
      "working : 2\n",
      "\n",
      "working : 3\n",
      "\n",
      "working : 4\n",
      "\n",
      "End\n"
     ]
    }
   ],
   "source": [
    "# thread_test.py\n",
    "import time\n",
    "\n",
    "def long_task():  # 5초의 시간이 걸리는 함수\n",
    "    for i in range(5):\n",
    "        time.sleep(1)  # 1초간 대기\n",
    "        print(\"working : %s\\n\" % i)\n",
    "        \n",
    "print(\"Start\")\n",
    "\n",
    "for i in range(5): # long_task를 5회 수행\n",
    "    long_task()\n",
    "    \n",
    "print(\"End\")"
   ]
  },
  {
   "cell_type": "markdown",
   "metadata": {},
   "source": [
    "long_task 함수는 수행하는 데 5초의 시간이 걸리는 함수. 이 함수를 총 5번 반복해서 수행해야 하니 총 25초의 시간이 소요. <br><br>\n",
    "\n",
    "하지만 다음과 같이 스레드를 사용하면 5초의 시간이 걸리는 long_task 함수를 동시에 실행할 수 있으니 시간을 줄일 수 있다."
   ]
  },
  {
   "cell_type": "code",
   "execution_count": 23,
   "metadata": {},
   "outputs": [
    {
     "name": "stdout",
     "output_type": "stream",
     "text": [
      "Start\n",
      "End\n",
      "working : 0\n",
      "working : 0\n",
      "working : 0\n",
      "working : 0\n",
      "\n",
      "working : 0\n",
      "\n",
      "\n",
      "\n",
      "\n",
      "working : 1\n",
      "\n",
      "working : 1\n",
      "working : 1\n",
      "working : 1\n",
      "\n",
      "\n",
      "\n",
      "working : 1\n",
      "\n",
      "working : 2\n",
      "\n",
      "working : 2\n",
      "working : 2\n",
      "\n",
      "\n",
      "working : 2\n",
      "working : 2\n",
      "\n",
      "\n",
      "working : 3\n",
      "\n",
      "working : 3\n",
      "working : 3\n",
      "\n",
      "\n",
      "working : 3\n",
      "\n",
      "working : 3\n",
      "\n",
      "working : 4\n",
      "\n",
      "working : 4\n",
      "working : 4\n",
      "\n",
      "\n",
      "working : 4\n",
      "\n",
      "working : 4\n",
      "\n"
     ]
    }
   ],
   "source": [
    "# thread_test.py\n",
    "import time\n",
    "import threading\n",
    "\n",
    "def long_task():\n",
    "    for i in range(5):\n",
    "        time.sleep(1)\n",
    "        print(\"working : %s\\n\" % i)\n",
    "        \n",
    "print(\"Start\")\n",
    "\n",
    "threads = []\n",
    "for i in range(5):\n",
    "    t = threading.Thread(target=long_task)  # 스레드를 생성\n",
    "    threads.append(t)\n",
    "    \n",
    "for t in threads:\n",
    "    t.start()   # 스레드 실행\n",
    "    \n",
    "print(\"End\")"
   ]
  },
  {
   "cell_type": "markdown",
   "metadata": {},
   "source": [
    "- threading.Thread를 사용하여 만든 스레드 객체가 동시 작업을 가능하게 해줌\n",
    "- 하지만 \"Start\"와 \"End\"가 먼저 출력되고 그 이후에 스레드의 결과가 출력되며, 프로그램이 정상 종료되지 않음\n",
    "- 이 문제 해결을 위해 다음과 같이 수정"
   ]
  },
  {
   "cell_type": "code",
   "execution_count": 24,
   "metadata": {},
   "outputs": [
    {
     "name": "stdout",
     "output_type": "stream",
     "text": [
      "Start\n",
      "working : 0\n",
      "working : 0\n",
      "working : 0\n",
      "working : 0\n",
      "\n",
      "\n",
      "\n",
      "working : 0\n",
      "\n",
      "\n",
      "working : 1\n",
      "working : 1\n",
      "working : 1\n",
      "\n",
      "\n",
      "\n",
      "working : 1\n",
      "\n",
      "working : 1\n",
      "\n",
      "working : 2\n",
      "working : 2\n",
      "\n",
      "\n",
      "working : 2\n",
      "\n",
      "working : 2\n",
      "\n",
      "working : 2\n",
      "\n",
      "working : 3\n",
      "working : 3\n",
      "\n",
      "\n",
      "working : 3\n",
      "\n",
      "working : 3\n",
      "\n",
      "working : 3\n",
      "\n",
      "working : 4\n",
      "working : 4\n",
      "\n",
      "\n",
      "working : 4\n",
      "\n",
      "working : 4\n",
      "\n",
      "working : 4\n",
      "\n",
      "End\n"
     ]
    }
   ],
   "source": [
    "# thread_test.py\n",
    "import time\n",
    "import threading\n",
    "\n",
    "def long_task():\n",
    "    for i in range(5):\n",
    "        time.sleep(1)\n",
    "        print(\"working : %s\\n\" % i)\n",
    "        \n",
    "print(\"Start\")\n",
    "\n",
    "threads = []\n",
    "for i in range(5):\n",
    "    t = threading.Thread(target=long_task)  # 스레드를 생성\n",
    "    threads.append(t)\n",
    "    \n",
    "for t in threads:\n",
    "    t.start()   # 스레드 실행\n",
    "    \n",
    "for t in threads:\n",
    "    t.join()  # join으로 스레드가 종료될 때까지 기다림\n",
    "    \n",
    "print(\"End\")"
   ]
  },
  {
   "cell_type": "code",
   "execution_count": null,
   "metadata": {},
   "outputs": [],
   "source": []
  }
 ],
 "metadata": {
  "kernelspec": {
   "display_name": "Python 3",
   "language": "python",
   "name": "python3"
  },
  "language_info": {
   "codemirror_mode": {
    "name": "ipython",
    "version": 3
   },
   "file_extension": ".py",
   "mimetype": "text/x-python",
   "name": "python",
   "nbconvert_exporter": "python",
   "pygments_lexer": "ipython3",
   "version": "3.7.7"
  }
 },
 "nbformat": 4,
 "nbformat_minor": 2
}

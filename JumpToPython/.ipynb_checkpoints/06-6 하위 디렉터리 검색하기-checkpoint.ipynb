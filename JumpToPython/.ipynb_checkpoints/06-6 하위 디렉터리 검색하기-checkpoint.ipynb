{
 "cells": [
  {
   "cell_type": "markdown",
   "metadata": {},
   "source": [
    "# 06-6 하위 디렉터리 검색하기\n",
    "<hr style=\"height: 1px;\">\n",
    "\n",
    "특정 디렉터리부터 시작해서 그 하위 모든 파일 중 파이썬 파일(\\*.py)만 출력해 주는 프로그램을 만들려면 어떻게 해야 할까?\n",
    "\n",
    "1. 다음과 같이 sub_dir_search.py 파일을 작성해 보자."
   ]
  },
  {
   "cell_type": "markdown",
   "metadata": {},
   "source": [
    "```\n",
    "# C:\\05.Python\\JumpToPython\\ex\\sub_dir_search.py\n",
    "import os\n",
    "def search(dirname):\n",
    "    filenames = os.listdir(dirname)\n",
    "    for filename in filenames:\n",
    "        full_filename = os.path.join(dirname, filename)\n",
    "        print(full_filename)\n",
    "\n",
    "search(\"c:/\")\n",
    "```"
   ]
  },
  {
   "cell_type": "markdown",
   "metadata": {},
   "source": [
    "os.listdir을 사용하면 해당 디렉터리에 있는 파일들의 리스트를 구할 수 있다. 우리가 최종적으로 구하고자 하는 것은 \"파일경로+파일명\"이므로 os.listdir()을 통해 나온 파일명 리스트 요소 하나하나마다 파일경로를 붙여줘야 한다. os 모듈에는 디렉터리와 파일이름을 이어주는 os.path.join(dirname, filename)이 있으므로 이를 사용하면 된다."
   ]
  },
  {
   "cell_type": "markdown",
   "metadata": {},
   "source": [
    "```\n",
    ">>> import os\n",
    ">>> os.listdir(\"c:/\")\n",
    "['!@MrKg', '$Recycle.Bin', '00.lib', '01.java', '02.sql', '03.ServletJSP', '04.JavaScript', '05.Python', '06. C#', '08.sw', '10.flask', '11.R', '12.Cloud', '16.Crawling', '16.Crawling.zip', '20.AWS', '22. Big Data Class', 'big data class materials', 'Bitnami', 'Config.Msi', 'Desktop.zip', 'dfBCIeDc5GcMuRexh8cgtE70kA=', 'Documents and Settings', 'Git_local', 'hiberfil.sys', 'home', 'Intel', 'Java', 'java_sql', 'java_sql.zip', 'Linux_HDD', 'ML', 'MSOCache', 'pagefile.sys', 'PerfLogs', 'Program Files', 'Program Files (x86)', 'ProgramData', 'Recovery', 'swapfile.sys', 'swsetup', 'System Volume Information', 'Temp', 'Users', 'Windows', '추석전강의내용', '추석전강의내용.zip']\n",
    "```"
   ]
  },
  {
   "cell_type": "markdown",
   "metadata": {},
   "source": [
    "위 코드를 수행하면 c:/ 디렉터리에 있는 파일이 다음과 같이 출력된다."
   ]
  },
  {
   "cell_type": "markdown",
   "metadata": {},
   "source": [
    "```\n",
    "(base) C:\\05.Python\\JumpToPython\\ex>python sub_dir_search.py\n",
    "c:/!@MrKg\n",
    "c:/$Recycle.Bin\n",
    "c:/00.lib\n",
    "c:/01.java\n",
    "c:/02.sql\n",
    "c:/03.ServletJSP\n",
    "c:/04.JavaScript\n",
    "c:/05.Python\n",
    "c:/06. C#\n",
    "c:/08.sw\n",
    "c:/10.flask\n",
    "c:/11.R\n",
    "c:/12.Cloud\n",
    "c:/16.Crawling\n",
    "c:/16.Crawling.zip\n",
    "c:/20.AWS\n",
    "c:/22. Big Data Class\n",
    "c:/big data class materials\n",
    "c:/Bitnami\n",
    "c:/Config.Msi\n",
    "c:/Desktop.zip\n",
    "c:/dfBCIeDc5GcMuRexh8cgtE70kA=\n",
    "c:/Documents and Settings\n",
    "c:/Git_local\n",
    "c:/hiberfil.sys\n",
    "c:/home\n",
    "c:/Intel\n",
    "c:/Java\n",
    "c:/java_sql\n",
    "c:/java_sql.zip\n",
    "c:/Linux_HDD\n",
    "c:/ML\n",
    "c:/MSOCache\n",
    "c:/pagefile.sys\n",
    "c:/PerfLogs\n",
    "c:/Program Files\n",
    "c:/Program Files (x86)\n",
    "c:/ProgramData\n",
    "c:/Recovery\n",
    "c:/swapfile.sys\n",
    "c:/swsetup\n",
    "c:/System Volume Information\n",
    "c:/Temp\n",
    "c:/Users\n",
    "c:/Windows\n",
    "c:/추석전강의내용\n",
    "c:/추석전강의내용.zip\n",
    "```"
   ]
  },
  {
   "cell_type": "markdown",
   "metadata": {},
   "source": [
    "3. 이제 C:/ 디렉터리에 있는 파일들 중 확장자가 .py인 파일만을 출력하도록 코드를 변경하자."
   ]
  },
  {
   "cell_type": "code",
   "execution_count": 1,
   "metadata": {},
   "outputs": [
    {
     "name": "stdout",
     "output_type": "stream",
     "text": [
      "('C:/!@MrKg', '')\n",
      "('C:/$Recycle', '.Bin')\n",
      "('C:/00', '.lib')\n",
      "('C:/01', '.java')\n",
      "('C:/02', '.sql')\n",
      "('C:/03', '.ServletJSP')\n",
      "('C:/04', '.JavaScript')\n",
      "('C:/05', '.Python')\n",
      "('C:/06', '. C#')\n",
      "('C:/08', '.sw')\n",
      "('C:/10', '.flask')\n",
      "('C:/11', '.R')\n",
      "('C:/12', '.Cloud')\n",
      "('C:/16', '.Crawling')\n",
      "('C:/16.Crawling', '.zip')\n",
      "('C:/20', '.AWS')\n",
      "('C:/22', '. Big Data Class')\n",
      "('C:/big data class materials', '')\n",
      "('C:/Bitnami', '')\n",
      "('C:/Config', '.Msi')\n",
      "('C:/Desktop', '.zip')\n",
      "('C:/dfBCIeDc5GcMuRexh8cgtE70kA=', '')\n",
      "('C:/Documents and Settings', '')\n",
      "('C:/Git_local', '')\n",
      "('C:/hiberfil', '.sys')\n",
      "('C:/home', '')\n",
      "('C:/Intel', '')\n",
      "('C:/Java', '')\n",
      "('C:/java_sql', '')\n",
      "('C:/java_sql', '.zip')\n",
      "('C:/Linux_HDD', '')\n",
      "('C:/ML', '')\n",
      "('C:/MSOCache', '')\n",
      "('C:/pagefile', '.sys')\n",
      "('C:/PerfLogs', '')\n",
      "('C:/Program Files', '')\n",
      "('C:/Program Files (x86)', '')\n",
      "('C:/ProgramData', '')\n",
      "('C:/Recovery', '')\n",
      "('C:/swapfile', '.sys')\n",
      "('C:/swsetup', '')\n",
      "('C:/System Volume Information', '')\n",
      "('C:/Temp', '')\n",
      "('C:/Users', '')\n",
      "('C:/Windows', '')\n",
      "('C:/추석전강의내용', '')\n",
      "('C:/추석전강의내용', '.zip')\n"
     ]
    }
   ],
   "source": [
    "# os.path.splitext 파악하기\n",
    "import os\n",
    "\n",
    "def search(dirname):\n",
    "    filenames = os.listdir(dirname)\n",
    "    for filename in filenames:\n",
    "        full_filename = os.path.join(dirname, filename)\n",
    "        ext = os.path.splitext(full_filename)\n",
    "        print(ext)\n",
    "        \n",
    "search(\"C:/\")"
   ]
  },
  {
   "cell_type": "code",
   "execution_count": 5,
   "metadata": {},
   "outputs": [
    {
     "name": "stdout",
     "output_type": "stream",
     "text": [
      "C:\\05.Python\\JumpToPython\\ex\\argv_test.py\n",
      "C:\\05.Python\\JumpToPython\\ex\\memo.py\n",
      "C:\\05.Python\\JumpToPython\\ex\\mod1.py\n",
      "C:\\05.Python\\JumpToPython\\ex\\modtest.py\n",
      "C:\\05.Python\\JumpToPython\\ex\\myargv.py\n",
      "C:\\05.Python\\JumpToPython\\ex\\path_append.py\n",
      "C:\\05.Python\\JumpToPython\\ex\\sub_dir_search.py\n",
      "C:\\05.Python\\JumpToPython\\ex\\sys1.py\n",
      "C:\\05.Python\\JumpToPython\\ex\\sys2.py\n",
      "C:\\05.Python\\JumpToPython\\ex\\tabto4.py\n"
     ]
    }
   ],
   "source": [
    "# 확장자가 .py인 것들만 추려내기\n",
    "import os\n",
    "\n",
    "def search(dirname):\n",
    "    filenames = os.listdir(dirname)\n",
    "    for filename in filenames:\n",
    "        full_filename = os.path.join(dirname, filename)\n",
    "        ext = os.path.splitext(full_filename)[-1]\n",
    "        if ext == \".py\":\n",
    "            print(full_filename)\n",
    "        \n",
    "search(\"C:\\\\05.Python\\JumpToPython\\ex\")"
   ]
  },
  {
   "cell_type": "markdown",
   "metadata": {},
   "source": [
    "4. 하지만 우리가 원하는 것은 하위 디렉터리를 포함한 모든 파이썬 파일을 검색하는 것. 하위 디렉터리도 검색이 가능하도록 다음과 같이 코드를 변경해보자."
   ]
  },
  {
   "cell_type": "code",
   "execution_count": 10,
   "metadata": {},
   "outputs": [
    {
     "name": "stdout",
     "output_type": "stream",
     "text": [
      "C:\\05.Python\\JumpToPython\\ex\\argv_test.py\n",
      "C:\\05.Python\\JumpToPython\\ex\\game\\graphic\\render.py\n",
      "C:\\05.Python\\JumpToPython\\ex\\game\\graphic\\__init__.py\n",
      "C:\\05.Python\\JumpToPython\\ex\\game\\sound\\echo.py\n",
      "C:\\05.Python\\JumpToPython\\ex\\game\\sound\\__init__.py\n",
      "C:\\05.Python\\JumpToPython\\ex\\game\\__init__.py\n",
      "C:\\05.Python\\JumpToPython\\ex\\memo.py\n",
      "C:\\05.Python\\JumpToPython\\ex\\mod1.py\n",
      "C:\\05.Python\\JumpToPython\\ex\\modtest.py\n",
      "C:\\05.Python\\JumpToPython\\ex\\myargv.py\n",
      "C:\\05.Python\\JumpToPython\\ex\\mymod\\mod2.py\n",
      "C:\\05.Python\\JumpToPython\\ex\\path_append.py\n",
      "C:\\05.Python\\JumpToPython\\ex\\sub_dir_search.py\n",
      "C:\\05.Python\\JumpToPython\\ex\\sys1.py\n",
      "C:\\05.Python\\JumpToPython\\ex\\sys2.py\n",
      "C:\\05.Python\\JumpToPython\\ex\\tabto4.py\n"
     ]
    }
   ],
   "source": [
    "import os\n",
    "\n",
    "def search(dirname):\n",
    "    try:\n",
    "        filenames = os.listdir(dirname)\n",
    "        for filename in filenames:\n",
    "            full_filename = os.path.join(dirname, filename)\n",
    "            if os.path.isdir(full_filename):\n",
    "                search(full_filename)\n",
    "            else:\n",
    "                ext = os.path.splitext(full_filename)[-1]\n",
    "                if ext == \".py\":\n",
    "                    print(full_filename)\n",
    "    except PermissionError:\n",
    "        pass\n",
    "    \n",
    "search(\"C:\\\\05.Python\\JumpToPython\")"
   ]
  },
  {
   "cell_type": "markdown",
   "metadata": {},
   "source": [
    "try ... except PermissionError로 함수 전체를 감싼 이유는 os.listdir를 수행할 때 권한이 없는 디렉터리에 접근하더라도 프로그램이 오류로 종료되지 않고 그냥 수행되도록 하기 위함임."
   ]
  },
  {
   "cell_type": "markdown",
   "metadata": {},
   "source": [
    "**[하위 디렉터리 검색을 쉽게 해주는 os.walk]**\n",
    "\n",
    "os.walk를 사용하면 위에서 작성한 코드를 보다 간편하게 만들 수 있음. os.walk는 시작 디렉터리부터 시작하여 그 하위 모든 디렉터리를 차례대로 방문하게 해주는 함수임."
   ]
  },
  {
   "cell_type": "code",
   "execution_count": 11,
   "metadata": {},
   "outputs": [
    {
     "name": "stdout",
     "output_type": "stream",
     "text": [
      "C:\\05.Python\\JumpToPython\\ex/argv_test.py\n",
      "C:\\05.Python\\JumpToPython\\ex/memo.py\n",
      "C:\\05.Python\\JumpToPython\\ex/mod1.py\n",
      "C:\\05.Python\\JumpToPython\\ex/modtest.py\n",
      "C:\\05.Python\\JumpToPython\\ex/myargv.py\n",
      "C:\\05.Python\\JumpToPython\\ex/path_append.py\n",
      "C:\\05.Python\\JumpToPython\\ex/sub_dir_search.py\n",
      "C:\\05.Python\\JumpToPython\\ex/sys1.py\n",
      "C:\\05.Python\\JumpToPython\\ex/sys2.py\n",
      "C:\\05.Python\\JumpToPython\\ex/tabto4.py\n",
      "C:\\05.Python\\JumpToPython\\ex\\game/__init__.py\n",
      "C:\\05.Python\\JumpToPython\\ex\\game\\graphic/render.py\n",
      "C:\\05.Python\\JumpToPython\\ex\\game\\graphic/__init__.py\n",
      "C:\\05.Python\\JumpToPython\\ex\\game\\sound/echo.py\n",
      "C:\\05.Python\\JumpToPython\\ex\\game\\sound/__init__.py\n",
      "C:\\05.Python\\JumpToPython\\ex\\mymod/mod2.py\n"
     ]
    }
   ],
   "source": [
    "import os\n",
    "\n",
    "for (path, dir, files) in os.walk(\"C:\\\\05.Python\\JumpToPython\"):\n",
    "    for filename in files:\n",
    "        ext = os.path.splitext(filename)[-1]\n",
    "        if ext == '.py':\n",
    "            print(\"%s/%s\" % (path, filename))"
   ]
  },
  {
   "cell_type": "markdown",
   "metadata": {},
   "source": [
    "디렉터리와 파일을 검색하는 일반적인 경우라면 os.walk를 사용하는 것을 추천."
   ]
  },
  {
   "cell_type": "code",
   "execution_count": null,
   "metadata": {},
   "outputs": [],
   "source": []
  }
 ],
 "metadata": {
  "kernelspec": {
   "display_name": "Python 3",
   "language": "python",
   "name": "python3"
  },
  "language_info": {
   "codemirror_mode": {
    "name": "ipython",
    "version": 3
   },
   "file_extension": ".py",
   "mimetype": "text/x-python",
   "name": "python",
   "nbconvert_exporter": "python",
   "pygments_lexer": "ipython3",
   "version": "3.7.7"
  }
 },
 "nbformat": 4,
 "nbformat_minor": 2
}

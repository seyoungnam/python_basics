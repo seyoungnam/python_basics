{
 "cells": [
  {
   "cell_type": "markdown",
   "metadata": {},
   "source": [
    "# Chapter 09 정렬\n",
    "<hr style=\"1px\";>\n",
    "\n",
    "# 9.1 2차 정렬\n",
    "<hr style=\"1px\";>\n",
    "\n",
    "## 9.1.1 거품 정렬\n",
    "- 거품 정렬(bubble sort)은 인접한 두 항목을 비교하여 정렬하는 방식\n",
    "- 시간복잡도는 O(n^2)이나 코드가 단순\n",
    "- 항목이 수면 위로 거품처럼 올라오는 듯한 모습을 보이기 때문에 붙은 이름\n",
    "- 리스트 [11, 3, 28, 43, 9, 4]가 정렬되는 과정은 아래와 같다"
   ]
  },
  {
   "cell_type": "code",
   "execution_count": 2,
   "metadata": {},
   "outputs": [
    {
     "name": "stdout",
     "output_type": "stream",
     "text": [
      "[4, 2, 1, 5, 2, 6, 7, 10, 8, 13]\n",
      "[2, 1, 4, 2, 5, 6, 7, 8, 10, 13]\n",
      "[1, 2, 2, 4, 5, 6, 7, 8, 10, 13]\n",
      "[1, 2, 2, 4, 5, 6, 7, 8, 10, 13]\n",
      "[1, 2, 2, 4, 5, 6, 7, 8, 10, 13]\n",
      "[1, 2, 2, 4, 5, 6, 7, 8, 10, 13]\n",
      "[1, 2, 2, 4, 5, 6, 7, 8, 10, 13]\n",
      "[1, 2, 2, 4, 5, 6, 7, 8, 10, 13]\n",
      "[1, 2, 2, 4, 5, 6, 7, 8, 10, 13]\n",
      "테스트 통과!\n"
     ]
    }
   ],
   "source": [
    "# 1_bubble_sort.py\n",
    "def bubble_sort(seq):\n",
    "    length = len(seq) - 1\n",
    "    for num in range(length, 0, -1):\n",
    "        for i in range(num):\n",
    "            if seq[i] > seq[i+1]:\n",
    "                seq[i], seq[i+1] = seq[i+1], seq[i]\n",
    "        print(seq)\n",
    "    return seq\n",
    "\n",
    "def test_bubble_sort():\n",
    "    seq = [4, 5, 2, 1, 6, 2, 7, 10, 13, 8]\n",
    "    assert(bubble_sort(seq) == sorted(seq))\n",
    "    print(\"테스트 통과!\")\n",
    "    \n",
    "test_bubble_sort()"
   ]
  },
  {
   "cell_type": "markdown",
   "metadata": {},
   "source": [
    "## 9.1.2 선택 정렬\n",
    "\n",
    "- 선택 정렬(selection sort)은 먼저 리스트에서 가장 작거나 큰 항목을 찾아서 첫번째 항목과 위치를 바꿈\n",
    "- 그리고 그다음 항목을 찾아서 두번째 항목과 위치를 바꿈\n",
    "- 위의 과정을 리스트 끝에 도달할 때까지 반복\n",
    "- 시간복잡도는 O(n^2)로 좋지도 않고 안정적이지도 않음"
   ]
  },
  {
   "cell_type": "code",
   "execution_count": 3,
   "metadata": {},
   "outputs": [
    {
     "name": "stdout",
     "output_type": "stream",
     "text": [
      "테스트 통과!\n"
     ]
    }
   ],
   "source": [
    "def selection_sort(seq):\n",
    "    length = len(seq)\n",
    "    for i in range(length-1):\n",
    "        min_j = i\n",
    "        for j in range(i+1, length):\n",
    "            if seq[min_j] > seq[j]:\n",
    "                min_j = j\n",
    "        seq[i], seq[min_j] = seq[min_j], seq[i]\n",
    "    return seq\n",
    "\n",
    "def test_selection_sort():\n",
    "    seq = [11, 3, 28, 43, 9, 4]\n",
    "    assert(selection_sort(seq) == sorted(seq))\n",
    "    print(\"테스트 통과!\")\n",
    "    \n",
    "test_selection_sort()"
   ]
  },
  {
   "cell_type": "markdown",
   "metadata": {},
   "source": [
    "## 9.1.3 삽입 정렬\n",
    "\n",
    "- 삽입 정렬(insertion sort)은 최선의 경우 시간복잡도는 O(n)이고, 평균과 최악의 경우 O(n^2)인 간단한 정렬 알고리즘\n",
    "- 배열 맨 처음 정렬된 부분에 , 정렬되지 않은 다음 항목을 반복적으로 삽입하는 방식\n",
    "- 데이터 크기가 작고 리스트가 이미 정렬되어 있으면 병합 정렬이나 퀵 정렬 같은 고급 알고리즘보다 성능이 더 좋다"
   ]
  },
  {
   "cell_type": "code",
   "execution_count": 4,
   "metadata": {},
   "outputs": [
    {
     "name": "stdout",
     "output_type": "stream",
     "text": [
      "[3, 11, 28, 43, 9, 4]\n",
      "[3, 11, 28, 43, 9, 4]\n",
      "[3, 11, 28, 43, 9, 4]\n",
      "[3, 9, 11, 28, 43, 4]\n",
      "[3, 4, 9, 11, 28, 43]\n",
      "테스트 통과!\n"
     ]
    }
   ],
   "source": [
    "# 3_insertion_sort.py\n",
    "def insertion_sort(seq):\n",
    "    for i in range(1, len(seq)):\n",
    "        j = i\n",
    "        while j > 0 and seq[j-1] > seq[j]:\n",
    "            seq[j-1], seq[j] = seq[j], seq[j-1]\n",
    "            j -= 1\n",
    "        print(seq)\n",
    "    return seq\n",
    "\n",
    "# 이해 잘 안됨\n",
    "def insertion_sort_rec(seq, i=None):\n",
    "    if i is None:\n",
    "        i = len(seq) - 1\n",
    "    if i == 0:\n",
    "        return i\n",
    "    insertion_sort_rec(seq, i-1)\n",
    "    j = i\n",
    "    while j > 0 and seq[j-1] > seq[j]:\n",
    "        seq[j-1], seq[j] = seq[j], seq[j-1]\n",
    "        j -= 1\n",
    "    return seq\n",
    "\n",
    "def test_insertion_sort():\n",
    "    seq = [11, 3, 28, 43, 9, 4]\n",
    "    assert(insertion_sort(seq) == sorted(seq))\n",
    "    assert(insertion_sort_rec(seq) == sorted(seq))\n",
    "    print(\"테스트 통과!\")\n",
    "    \n",
    "test_insertion_sort()"
   ]
  },
  {
   "cell_type": "markdown",
   "metadata": {},
   "source": [
    "## 9.1.4 놈 정렬\n",
    "- 놈 정렬(gnome sort)은 앞으로 이동하며 잘못 정렬된 값을 찾은 후, 올바른 위치로 값을 교환하며 다시 뒤로 이동\n",
    "- 최선의 경우 시간복잡도는 O(n)이고, 평균과 최악의 경우 O(n^2)인 정렬 알고리즘이다."
   ]
  },
  {
   "cell_type": "code",
   "execution_count": 6,
   "metadata": {},
   "outputs": [
    {
     "name": "stdout",
     "output_type": "stream",
     "text": [
      "테스트 통과!\n"
     ]
    }
   ],
   "source": [
    "# 4_gnome_sort.py\n",
    "def gnome_sort(seq):\n",
    "    i = 0\n",
    "    while i < len(seq):\n",
    "        if i == 0 or seq[i-1] <= seq[i]:\n",
    "            i += 1\n",
    "        else:\n",
    "            seq[i], seq[i-1] = seq[i-1], seq[i]\n",
    "            i -= 1\n",
    "    return seq\n",
    "\n",
    "def test_gnome_sort():\n",
    "    seq = [5, 3, 2, 4]\n",
    "    assert(gnome_sort(seq) == sorted(seq))\n",
    "    print(\"테스트 통과!\")\n",
    "    \n",
    "test_gnome_sort()"
   ]
  },
  {
   "cell_type": "code",
   "execution_count": null,
   "metadata": {},
   "outputs": [],
   "source": []
  }
 ],
 "metadata": {
  "kernelspec": {
   "display_name": "Python 3",
   "language": "python",
   "name": "python3"
  },
  "language_info": {
   "codemirror_mode": {
    "name": "ipython",
    "version": 3
   },
   "file_extension": ".py",
   "mimetype": "text/x-python",
   "name": "python",
   "nbconvert_exporter": "python",
   "pygments_lexer": "ipython3",
   "version": "3.7.7"
  }
 },
 "nbformat": 4,
 "nbformat_minor": 2
}

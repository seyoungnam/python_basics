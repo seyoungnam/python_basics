{
 "cells": [
  {
   "cell_type": "markdown",
   "metadata": {},
   "source": [
    "# PAQ(Personally Asked Questions)\n",
    "\n",
    "## 목차\n",
    "1. 매개변수 self, cls 차이, 그리고 static method\n",
    "2. 더블 언더스코어: Magic Method\n",
    "3. mutable과 hashable에 대한 이해\n",
    "4. classmethod와 staticmethod의 차이\n",
    "5. Observer 패턴에 대한 이해"
   ]
  },
  {
   "cell_type": "markdown",
   "metadata": {},
   "source": [
    "# 1. 매개변수 self, cls 차이, 그리고 static method\n",
    "- 출처: https://paphopu.tistory.com/entry/Python-%EB%A7%A4%EA%B0%9C%EB%B3%80%EC%88%98-self-%EC%99%80-cls%EC%9D%98-%EC%B0%A8%EC%9D%B4-%EA%B7%B8%EB%A6%AC%EA%B3%A0-static-method%EC%97%90-%EB%8C%80%ED%95%B4%EC%84%9C"
   ]
  },
  {
   "cell_type": "markdown",
   "metadata": {},
   "source": [
    "## 1.1 Instance Method\n",
    "- Instance Method는 클래스 내부에 정의되어 있는 함수 호출시, Instance(객체)를 필요로 한다는 조건 존재\n",
    "- 이때 첫번째 매개변수는 항상 self"
   ]
  },
  {
   "cell_type": "code",
   "execution_count": 5,
   "metadata": {},
   "outputs": [
    {
     "name": "stdout",
     "output_type": "stream",
     "text": [
      "My name is Seyoung Nam\n"
     ]
    }
   ],
   "source": [
    "# 인스턴스 메소드 예제\n",
    "class InstMethod:\n",
    "    \n",
    "    def __init__(self):\n",
    "        self.name = 'Seyoung Nam'\n",
    "        \n",
    "    def print_name(self):\n",
    "        print('My name is %s' %(self.name))\n",
    "        \n",
    "# 인스턴스 선언\n",
    "name_instance = InstMethod()\n",
    "\n",
    "# print_name이라는 함수를 호출하기 위해 name_instance 같은 객체 정의 필요\n",
    "name_instance.print_name()"
   ]
  },
  {
   "cell_type": "markdown",
   "metadata": {},
   "source": [
    "## 1.2 Class Method\n",
    "- Class Method는 인스턴스 선언이 필요없이 \"클래스.함수명\"으로 바로 불러올 수 있음\n",
    "- 자기 자신을 첫번째 매개변수로 받기에 self를 사용하지 않고 cls를 사용"
   ]
  },
  {
   "cell_type": "code",
   "execution_count": 6,
   "metadata": {},
   "outputs": [
    {
     "name": "stdout",
     "output_type": "stream",
     "text": [
      "my name is type\n"
     ]
    }
   ],
   "source": [
    "# 클래스 메소드 예제\n",
    "class ClassMethod:\n",
    "    \n",
    "    @classmethod\n",
    "    def print_name(cls):\n",
    "        print('my name is %s' %(cls.__class__.__name__))\n",
    "        \n",
    "# 객체를 따로 선언해 줄 필요없이 함수 호출 가능\n",
    "ClassMethod.print_name()"
   ]
  },
  {
   "cell_type": "code",
   "execution_count": 8,
   "metadata": {},
   "outputs": [
    {
     "name": "stdout",
     "output_type": "stream",
     "text": [
      "my nam is Seyoung.\n"
     ]
    }
   ],
   "source": [
    "# 클래스 메소드라도 인스턴스 선언해서 호출 또한 가능 \n",
    "class ClassMethod2:\n",
    "    name = 'Seyoung'\n",
    "    \n",
    "    @classmethod\n",
    "    def print_name(cls):\n",
    "        print('my nam is %s.' %(cls.name))\n",
    "        \n",
    "ins = ClassMethod2()\n",
    "ins.print_name()"
   ]
  },
  {
   "cell_type": "markdown",
   "metadata": {},
   "source": [
    "## 1.3 Static Method\n",
    "- Static Method는 앞의 두 method들과 다르게 인스턴스나 클래스를 인자로 받지 않음\n",
    "- Static Method는 클래스 내부에 선언되어 클래스 네임스페이스 안에 저장되는 점\n",
    "- 그외에는 일반 method들과 크게 다른 점 없음\n",
    "- Static method의 특징은 클래스를 통해서도, 인스턴스를 통해서도 호출이 가능하다는 점"
   ]
  },
  {
   "cell_type": "code",
   "execution_count": 9,
   "metadata": {},
   "outputs": [
    {
     "name": "stdout",
     "output_type": "stream",
     "text": [
      "내 이름은 Seyoung 입니다.\n",
      "내 이름은 NSY 입니다.\n"
     ]
    }
   ],
   "source": [
    "class StaticMethod:\n",
    "    \n",
    "    @staticmethod\n",
    "    def print_name(name):\n",
    "        return '내 이름은 {} 입니다.'.format(name)\n",
    "    \n",
    "# 클래스를 통해서 호출가능\n",
    "print(StaticMethod.print_name('Seyoung'))\n",
    "\n",
    "# 인스턴스를 통해서도 호출 가능\n",
    "me = StaticMethod()\n",
    "print(me.print_name('NSY'))"
   ]
  },
  {
   "cell_type": "markdown",
   "metadata": {},
   "source": [
    "# 2. 더블 언더스코어: Magic Method\n",
    "- 출처 : https://corikachu.github.io/articles/python/python-magic-method\n",
    "- 파이썬에서는 미리 정의되어 있는 특별한 이름을 가진 메소드들을 재정의 가능\n",
    "- 미리 정해져 있는 메소드, 즉 Built-in 함수들을 Special Method 혹은 Double Underscore Method라 함\n",
    "- 공식문서: https://docs.python.org/3/reference/datamodel.html#special-method-names"
   ]
  },
  {
   "cell_type": "markdown",
   "metadata": {},
   "source": [
    "## 2.1 객체의 생성과 초기화\n",
    "- \\_\\_new\\_\\_(cls[, ...]): 새 인스턴스 만들 때 클래스를 불러오기 위해 제일 처음으로 실행되는 메소드. super().\\_\\_new\\_\\_(cls[, ...]) 사용 \n",
    "- \\_\\_init\\_\\_(self[, ...]): \\_\\_new\\_\\_ 이후, caller에게 return 전에 호출. 불러온 클래스를 바탕으로 해당 클래스의 신규 인스턴스를 만듬. self는 instance를 의미.\n",
    "- In sum, \\_\\_new\\_\\_() to create it, and \\_\\_init\\_\\_() to customize it\n",
    "- \\_\\_del\\_\\_(self): 객체가 소멸될 때 호출, 객체 소멸시 해야할 일을 지정"
   ]
  },
  {
   "cell_type": "code",
   "execution_count": 10,
   "metadata": {},
   "outputs": [],
   "source": [
    "class NumBox:\n",
    "    \n",
    "    def __new__(cls, *args, **kwargs):\n",
    "        if len(args) < 1: # 인자가 들어오지 않은 경우\n",
    "            return None\n",
    "        else:\n",
    "            return super(NumBox, cls).__new__(cls)  # object를 반환\n",
    "        \n",
    "    def __init__(self, num=None):\n",
    "        self.num = num  # 받은 인자 num을 인스턴스 변수로 지정\n",
    "        \n",
    "    def __repr__(self):\n",
    "        return str(self.num)"
   ]
  },
  {
   "cell_type": "code",
   "execution_count": 11,
   "metadata": {},
   "outputs": [
    {
     "data": {
      "text/plain": [
       "NoneType"
      ]
     },
     "execution_count": 11,
     "metadata": {},
     "output_type": "execute_result"
    }
   ],
   "source": [
    "a = NumBox()  # 인자 없이 객체 생성\n",
    "type(a)"
   ]
  },
  {
   "cell_type": "code",
   "execution_count": 12,
   "metadata": {},
   "outputs": [
    {
     "data": {
      "text/plain": [
       "10"
      ]
     },
     "execution_count": 12,
     "metadata": {},
     "output_type": "execute_result"
    }
   ],
   "source": [
    "b = NumBox(10)  # 인자 넣고 객체 생성\n",
    "b # __repr__()에 의해 self.num 프린트"
   ]
  },
  {
   "cell_type": "code",
   "execution_count": 13,
   "metadata": {},
   "outputs": [
    {
     "data": {
      "text/plain": [
       "__main__.NumBox"
      ]
     },
     "execution_count": 13,
     "metadata": {},
     "output_type": "execute_result"
    }
   ],
   "source": [
    "type(b)"
   ]
  },
  {
   "cell_type": "markdown",
   "metadata": {},
   "source": [
    "## 2.2 객체의 표현\n",
    "- \\_\\_repr\\_\\_(self): 객체를 나타내는 __공식적인__ 문자열. built-in 함수인 repr()로 호출, 반환값 string, \\_\\_str\\_\\_()과 달리 좀 더 명확함을 지향.\n",
    "- \\_\\_str\\_\\_(self): 객체를 나타내는 비공식적인 문자열, 객체를 이해하기 쉽게 표현. \\__repr__보다 보기 쉬운 문자열을 출력하는 것에 지향점, string 문자열 반환. exception 없이 a more convenient or concise representation can be used.라는 문구 뜸\n",
    "- \\_\\_bytes\\_\\_(self): 객체의 byte 문자열을 리턴, bytes()로 호출\n",
    "- \\_\\_format\\_\\_(self): 객체의 \"formatted\" string representation 생성, format()으로 호출"
   ]
  },
  {
   "cell_type": "code",
   "execution_count": 14,
   "metadata": {},
   "outputs": [],
   "source": [
    "class StrBox(object):\n",
    "    \n",
    "    def __init__(self, string):\n",
    "        self.string = string\n",
    "        \n",
    "    def __repr__(self):\n",
    "        return \"A('{}')\".format(self.string)\n",
    "    \n",
    "    def __bytes__(self):\n",
    "        return str.encode(self.string)\n",
    "    \n",
    "    def __format__(self, format):\n",
    "        if format == 'this-string':\n",
    "            return \"This string: {}\".format(self.string)\n",
    "        return self.string"
   ]
  },
  {
   "cell_type": "code",
   "execution_count": 15,
   "metadata": {},
   "outputs": [
    {
     "data": {
      "text/plain": [
       "A('Life is short, you need python')"
      ]
     },
     "execution_count": 15,
     "metadata": {},
     "output_type": "execute_result"
    }
   ],
   "source": [
    "a = StrBox('Life is short, you need python')\n",
    "a  #  __repr__()"
   ]
  },
  {
   "cell_type": "code",
   "execution_count": 16,
   "metadata": {},
   "outputs": [
    {
     "data": {
      "text/plain": [
       "\"A('Life is short, you need python')\""
      ]
     },
     "execution_count": 16,
     "metadata": {},
     "output_type": "execute_result"
    }
   ],
   "source": [
    "repr(a)"
   ]
  },
  {
   "cell_type": "code",
   "execution_count": 17,
   "metadata": {},
   "outputs": [
    {
     "data": {
      "text/plain": [
       "\"A('Life is short, you need python')\""
      ]
     },
     "execution_count": 17,
     "metadata": {},
     "output_type": "execute_result"
    }
   ],
   "source": [
    "str(a)  # str 정의되어 있지 않으면 repr과 동일"
   ]
  },
  {
   "cell_type": "code",
   "execution_count": 18,
   "metadata": {},
   "outputs": [
    {
     "data": {
      "text/plain": [
       "b'Life is short, you need python'"
      ]
     },
     "execution_count": 18,
     "metadata": {},
     "output_type": "execute_result"
    }
   ],
   "source": [
    "bytes(a)"
   ]
  },
  {
   "cell_type": "code",
   "execution_count": 21,
   "metadata": {},
   "outputs": [
    {
     "data": {
      "text/plain": [
       "'This string: Life is short, you need python'"
      ]
     },
     "execution_count": 21,
     "metadata": {},
     "output_type": "execute_result"
    }
   ],
   "source": [
    "\"{:this-string}\".format(a)"
   ]
  },
  {
   "cell_type": "markdown",
   "metadata": {},
   "source": [
    "## 2.3 속성 관리\n",
    "- \\_\\_getattr\\_\\_(self, name): 객체의 __없는__ 속성을 참조하려 할때 호출. 찾는 속성이 있다면 호출X\n",
    "- \\_\\_getattribute\\_\\_(self, name): 객체 속성 호출시 무조건 호출. 이 메소드가 재정의 되어 있다면 \\_\\_getattr\\_\\_는 호출되지 않으므로 명시적으로 호출해야하거나 AttributeError 에러를 발생시켜야 함\n",
    "- \\_\\_setattr\\_\\_(self, name, value): 객체의 속성을 변경할때 호출. \n",
    "- \\_\\_delattr\\_\\_(self, name): 객체의 속성을 del 키워드로 지울 때 호출\n",
    "- \\_\\_dir\\_\\_(self): 객체가 가지고 있는 모든 속성들을 보여주는 dir()을 사용할때 호출\n",
    "- \\_\\_slots\\_\\_: 사용할 변수의 이름을 미리 지정할 수 있음."
   ]
  },
  {
   "cell_type": "code",
   "execution_count": 23,
   "metadata": {},
   "outputs": [
    {
     "name": "stdout",
     "output_type": "stream",
     "text": [
      "Before:  {'exists': 5}\n",
      "foo  Value for foo\n",
      "After:  {'exists': 5, 'foo': 'Value for foo'}\n"
     ]
    }
   ],
   "source": [
    "# __getattr__(self, name) 예제\n",
    "\n",
    "class LazyDB:\n",
    "    \n",
    "    def __init__(self):\n",
    "        self.exists = 5\n",
    "    \n",
    "    def __getattr__(self, name):\n",
    "        value = 'Value for %s' % name\n",
    "        setattr(self, name, value)\n",
    "        return value\n",
    "    \n",
    "data = LazyDB()\n",
    "\n",
    "print('Before: ', data.__dict__)\n",
    "print('foo ', data.foo)\n",
    "print('After: ', data.__dict__)"
   ]
  },
  {
   "cell_type": "code",
   "execution_count": 26,
   "metadata": {},
   "outputs": [],
   "source": [
    "class NameBox:\n",
    "\n",
    "    person_name = \"Seyoung\"\n",
    "    def __getattr__(self, name): # 없는 속성일 때 자동 호출\n",
    "        print(\"Not Found: {}\".format(name))\n",
    "\n",
    "    def __setattr__(self, name, value):        \n",
    "        print(\"Set attribute: {} is {}\".format(name, value))\n",
    "        super().__setattr__(name, value)\n",
    "#         self.person_name = value  # 재귀적으로 호출되어 문제가 있는 부분"
   ]
  },
  {
   "cell_type": "code",
   "execution_count": 27,
   "metadata": {},
   "outputs": [
    {
     "data": {
      "text/plain": [
       "'Seyoung'"
      ]
     },
     "execution_count": 27,
     "metadata": {},
     "output_type": "execute_result"
    }
   ],
   "source": [
    "box = NameBox()\n",
    "box.person_name"
   ]
  },
  {
   "cell_type": "code",
   "execution_count": 28,
   "metadata": {},
   "outputs": [
    {
     "name": "stdout",
     "output_type": "stream",
     "text": [
      "Not Found: name\n"
     ]
    }
   ],
   "source": [
    "box.name"
   ]
  },
  {
   "cell_type": "code",
   "execution_count": 29,
   "metadata": {},
   "outputs": [
    {
     "name": "stdout",
     "output_type": "stream",
     "text": [
      "Set attribute: name is Say yes\n"
     ]
    }
   ],
   "source": [
    "box.name = \"Say yes\""
   ]
  },
  {
   "cell_type": "code",
   "execution_count": 30,
   "metadata": {},
   "outputs": [
    {
     "data": {
      "text/plain": [
       "['__class__',\n",
       " '__delattr__',\n",
       " '__dict__',\n",
       " '__dir__',\n",
       " '__doc__',\n",
       " '__eq__',\n",
       " '__format__',\n",
       " '__ge__',\n",
       " '__getattr__',\n",
       " '__getattribute__',\n",
       " '__gt__',\n",
       " '__hash__',\n",
       " '__init__',\n",
       " '__init_subclass__',\n",
       " '__le__',\n",
       " '__lt__',\n",
       " '__module__',\n",
       " '__ne__',\n",
       " '__new__',\n",
       " '__reduce__',\n",
       " '__reduce_ex__',\n",
       " '__repr__',\n",
       " '__setattr__',\n",
       " '__sizeof__',\n",
       " '__str__',\n",
       " '__subclasshook__',\n",
       " '__weakref__',\n",
       " 'name',\n",
       " 'person_name']"
      ]
     },
     "execution_count": 30,
     "metadata": {},
     "output_type": "execute_result"
    }
   ],
   "source": [
    "dir(box)  # box.name이 있는지 확인"
   ]
  },
  {
   "cell_type": "markdown",
   "metadata": {},
   "source": [
    "## 2.4 Descriptors 관리\n",
    "### Descriptor는 \\_\\_get\\_\\_(), \\_\\_set\\_\\_(), \\_\\_delete\\_\\_() 메소드로 구성된 프로토콜을 구현한 클래스\n",
    "- \\_\\_get\\_\\_(self, instance, owner): 특정 오브젝트의 값을 참조할때 호출\n",
    "- \\_\\_set\\_\\_(self, instance, value): 특정 오브젝트의 값을 변경할때 호출\n",
    "- \\_\\_delete\\_\\_(self, instance): 특정 오브젝트의 값을 삭제할때 호출"
   ]
  },
  {
   "cell_type": "code",
   "execution_count": 31,
   "metadata": {},
   "outputs": [],
   "source": [
    "class Rating():\n",
    "    def __init__(self, rating=3):\n",
    "        self.rating = rating\n",
    "        \n",
    "    def __set__(self, instance, value):\n",
    "        if value < 0 or value > 5:\n",
    "            raise ValueError('rating must be 0~5')\n",
    "        else:\n",
    "            setattr(instance, 'rating', value)\n",
    "            \n",
    "    def __get__(self, instance, owner):\n",
    "        return getattr(instance, 'rating')\n",
    "    \n",
    "class MovieReview():\n",
    "    story = Rating()\n",
    "    acting = Rating()\n",
    "    fun = Rating()"
   ]
  },
  {
   "cell_type": "code",
   "execution_count": 32,
   "metadata": {},
   "outputs": [
    {
     "ename": "ValueError",
     "evalue": "rating must be 0~5",
     "output_type": "error",
     "traceback": [
      "\u001b[1;31m---------------------------------------------------------------------------\u001b[0m",
      "\u001b[1;31mValueError\u001b[0m                                Traceback (most recent call last)",
      "\u001b[1;32m<ipython-input-32-6a8a044f535a>\u001b[0m in \u001b[0;36m<module>\u001b[1;34m()\u001b[0m\n\u001b[0;32m      1\u001b[0m \u001b[0ma\u001b[0m \u001b[1;33m=\u001b[0m \u001b[0mMovieReview\u001b[0m\u001b[1;33m(\u001b[0m\u001b[1;33m)\u001b[0m\u001b[1;33m\u001b[0m\u001b[1;33m\u001b[0m\u001b[0m\n\u001b[1;32m----> 2\u001b[1;33m \u001b[0ma\u001b[0m\u001b[1;33m.\u001b[0m\u001b[0mstory\u001b[0m \u001b[1;33m=\u001b[0m \u001b[1;36m10\u001b[0m\u001b[1;33m\u001b[0m\u001b[1;33m\u001b[0m\u001b[0m\n\u001b[0m",
      "\u001b[1;32m<ipython-input-31-dbdd0d0c27a0>\u001b[0m in \u001b[0;36m__set__\u001b[1;34m(self, instance, value)\u001b[0m\n\u001b[0;32m      5\u001b[0m     \u001b[1;32mdef\u001b[0m \u001b[0m__set__\u001b[0m\u001b[1;33m(\u001b[0m\u001b[0mself\u001b[0m\u001b[1;33m,\u001b[0m \u001b[0minstance\u001b[0m\u001b[1;33m,\u001b[0m \u001b[0mvalue\u001b[0m\u001b[1;33m)\u001b[0m\u001b[1;33m:\u001b[0m\u001b[1;33m\u001b[0m\u001b[1;33m\u001b[0m\u001b[0m\n\u001b[0;32m      6\u001b[0m         \u001b[1;32mif\u001b[0m \u001b[0mvalue\u001b[0m \u001b[1;33m<\u001b[0m \u001b[1;36m0\u001b[0m \u001b[1;32mor\u001b[0m \u001b[0mvalue\u001b[0m \u001b[1;33m>\u001b[0m \u001b[1;36m5\u001b[0m\u001b[1;33m:\u001b[0m\u001b[1;33m\u001b[0m\u001b[1;33m\u001b[0m\u001b[0m\n\u001b[1;32m----> 7\u001b[1;33m             \u001b[1;32mraise\u001b[0m \u001b[0mValueError\u001b[0m\u001b[1;33m(\u001b[0m\u001b[1;34m'rating must be 0~5'\u001b[0m\u001b[1;33m)\u001b[0m\u001b[1;33m\u001b[0m\u001b[1;33m\u001b[0m\u001b[0m\n\u001b[0m\u001b[0;32m      8\u001b[0m         \u001b[1;32melse\u001b[0m\u001b[1;33m:\u001b[0m\u001b[1;33m\u001b[0m\u001b[1;33m\u001b[0m\u001b[0m\n\u001b[0;32m      9\u001b[0m             \u001b[0msetattr\u001b[0m\u001b[1;33m(\u001b[0m\u001b[0minstance\u001b[0m\u001b[1;33m,\u001b[0m \u001b[1;34m'rating'\u001b[0m\u001b[1;33m,\u001b[0m \u001b[0mvalue\u001b[0m\u001b[1;33m)\u001b[0m\u001b[1;33m\u001b[0m\u001b[1;33m\u001b[0m\u001b[0m\n",
      "\u001b[1;31mValueError\u001b[0m: rating must be 0~5"
     ]
    }
   ],
   "source": [
    "a = MovieReview()\n",
    "a.story = 10"
   ]
  },
  {
   "cell_type": "code",
   "execution_count": 33,
   "metadata": {},
   "outputs": [],
   "source": [
    "a.acting = 2"
   ]
  },
  {
   "cell_type": "code",
   "execution_count": 34,
   "metadata": {},
   "outputs": [
    {
     "data": {
      "text/plain": [
       "2"
      ]
     },
     "execution_count": 34,
     "metadata": {},
     "output_type": "execute_result"
    }
   ],
   "source": [
    "a.acting"
   ]
  },
  {
   "cell_type": "markdown",
   "metadata": {},
   "source": [
    "## 2.5 컨테이너 관리: 콜렉션과 반복\n",
    "### 컨테이너는 list와 tuple 같은 sequence와 dict같은 mapping을 뜻함\n",
    "- \\_\\_len\\_\\_(self): 객체의 길이 반환, len()으로 호출\n",
    "- \\_\\_length_hint\\_\\_(self): 객체의 대략적인 측정 길이 반환, operator.length_hint()로 호출\n",
    "- \\_\\_getitem\\_\\_(self, key): 객체에서 [] 연산자를 사용하여 조회시 동작을 정의. 즉, \\_list[10]은 \\_list.\\_\\_getitem\\_\\_(10)으로 동작. 키 타입이 적절치 않으면 TypeError, 키가 인덱스 벗어나면 IndexError를 던짐\n",
    "- \\_\\_missing\\_\\_(self, key): 키가 dict에 없을 경우 호출\n",
    "- \\_\\_setitem\\_\\_(self, key, value): 객체에서 [] 연산자를 사용해서 변수 지정할 때 동작을 정의. 즉, \\_list[10] = 1은 \\_list.\\_\\_setitem\\_\\_(10, 1)으로 동작\n",
    "- \\_\\_delitem\\_\\_(self, key): del object[]를 사용하는 경우 동작을 정의\n",
    "- \\_\\_iter\\_\\_(self): 컨테이너의 iterator를 반환\n",
    "- \\_\\_reversed\\_\\_(self): 순서가 반대로 바뀌는 함수인 reversed()로 호출\n",
    "- \\_\\_contains\\_\\_(self, item): item이 존재한다면 True, 그렇지 않으면 False를 반환하는 메소드 정의"
   ]
  },
  {
   "cell_type": "markdown",
   "metadata": {},
   "source": [
    "## 2.6 나머지 클래스 서비스들\n",
    "- \\_\\_prepare\\_\\_(metacls, name, bases, \\*\\*kwds): 메타 클래스 네임스페이스에 대한 dictionary를 만듬. 메타 클래스에 이 속성이 없다면 빈 dict()로 초기화\n",
    "- \\_\\_instancecheck\\_\\_(self, instance): 클래스의 인스턴스이면 참을 반환, isinstance(instance, class)로 호출\n",
    "- \\_\\_subclasscheck\\_\\_(self, subclass): 클래스의 서브클래스라면 참을 반환, issubclass(subclass, class)로 호출"
   ]
  },
  {
   "cell_type": "markdown",
   "metadata": {},
   "source": [
    "## 2.7 연산\n",
    "### 2.7.1 단항 연산자\n",
    "- \\_\\_neg\\_\\_(self): -object를 정의\n",
    "- \\_\\_pos\\_\\_(self): +object를 정의\n",
    "- \\_\\_abs\\_\\_(self): abs()를 정의\n",
    "- \\_\\_invert\\_\\_(self): 비트 연산 ~object를 정의"
   ]
  },
  {
   "cell_type": "markdown",
   "metadata": {},
   "source": [
    "### 2.7.2 비교 연산자\n",
    "- object.\\_\\_lt\\_\\_(self, other) : x<y를 정의\n",
    "- object.\\_\\_le\\_\\_(self, other) : x<=y를 정의\n",
    "- object.\\_\\_eq\\_\\_(self, other) : x==y를 정의\n",
    "- object.\\_\\_ne\\_\\_(self, other) : x!=y를 정의\n",
    "- object.\\_\\_gt\\_\\_(self, other) : x>y를 정의\n",
    "- object.\\_\\_ge\\_\\_(self, other) : x>=y를 정의"
   ]
  },
  {
   "cell_type": "code",
   "execution_count": 2,
   "metadata": {},
   "outputs": [],
   "source": [
    "# 예제 문자열 길이 비교도 가능\n",
    "class StrBox(str):\n",
    "    def __new__(cls, string):\n",
    "        return str.__new__(cls, string)\n",
    "    def __lt__(self, other):\n",
    "        return len(self) < len(other)\n",
    "    def __le__(self, other):\n",
    "        return len(self) <= len(other)\n",
    "    def __gt__(self, other):\n",
    "        return len(self) > len(other)\n",
    "    def __ge__(self, other):\n",
    "        return len(self) >= len(other)\n",
    "    def __eq__(self, other):\n",
    "        return len(self) == len(other)\n",
    "    def __ne__(self, other):\n",
    "        return len(self) != len(other)"
   ]
  },
  {
   "cell_type": "code",
   "execution_count": 4,
   "metadata": {},
   "outputs": [
    {
     "data": {
      "text/plain": [
       "False"
      ]
     },
     "execution_count": 4,
     "metadata": {},
     "output_type": "execute_result"
    }
   ],
   "source": [
    "a = StrBox('seyoung')\n",
    "b = StrBox('saekwang')\n",
    "a>b"
   ]
  },
  {
   "cell_type": "markdown",
   "metadata": {},
   "source": [
    "### 2.7.3 산술 연산자\n",
    "- 예시: \\_\\_add\\_\\_는 + 연산에 대해 정의"
   ]
  },
  {
   "cell_type": "code",
   "execution_count": 5,
   "metadata": {},
   "outputs": [],
   "source": [
    "class NumBox:\n",
    "    \n",
    "    def __init__(self, num):\n",
    "        self.number = num\n",
    "        \n",
    "    def __add__(self, num):\n",
    "        return NumBox(self.number + num)"
   ]
  },
  {
   "cell_type": "code",
   "execution_count": 13,
   "metadata": {},
   "outputs": [
    {
     "data": {
      "text/plain": [
       "<__main__.NumBox at 0x1f2ec35fd88>"
      ]
     },
     "execution_count": 13,
     "metadata": {},
     "output_type": "execute_result"
    }
   ],
   "source": [
    "a = NumBox(10)\n",
    "a+10"
   ]
  },
  {
   "cell_type": "code",
   "execution_count": 14,
   "metadata": {},
   "outputs": [
    {
     "ename": "TypeError",
     "evalue": "unsupported operand type(s) for +: 'int' and 'NumBox'",
     "output_type": "error",
     "traceback": [
      "\u001b[1;31m---------------------------------------------------------------------------\u001b[0m",
      "\u001b[1;31mTypeError\u001b[0m                                 Traceback (most recent call last)",
      "\u001b[1;32m<ipython-input-14-096a067d0c11>\u001b[0m in \u001b[0;36m<module>\u001b[1;34m()\u001b[0m\n\u001b[1;32m----> 1\u001b[1;33m \u001b[1;36m10\u001b[0m\u001b[1;33m+\u001b[0m\u001b[0ma\u001b[0m\u001b[1;33m\u001b[0m\u001b[1;33m\u001b[0m\u001b[0m\n\u001b[0m",
      "\u001b[1;31mTypeError\u001b[0m: unsupported operand type(s) for +: 'int' and 'NumBox'"
     ]
    }
   ],
   "source": [
    "10+a # 역순 연산자는 __radd__를 통해 정의, 복합연산자(+=)는 __iadd__를 통해 정의"
   ]
  },
  {
   "cell_type": "markdown",
   "metadata": {},
   "source": [
    "- \\_\\_add\\_\\_(self, other): x+y 연산을 정의, \\_\\_radd\\_\\_는 역순 연산자, \\_\\_iadd\\_\\_는 복합 할당 연산자\n",
    "- \\_\\_sub\\_\\_(self, other): x-y 연산을 정의, \\_\\_rsub\\_\\_는 역순 연산자, \\_\\_isub\\_\\_는 복합 할당 연산자\n",
    "- \\_\\_mul\\_\\_(self, other): x\\*y 연산을 정의, \\_\\_rmul\\_\\_는 역순 연산자, \\_\\_imul\\_\\_는 복합 할당 연산자\n",
    "- \\_\\_matmul\\_\\_(self, other): x@y 연산을 정의, \\_\\_rmatmul\\_\\_는 역순 연산자, \\_\\_imatmul\\_\\_는 복합 할당 연산자\n",
    "- \\_\\_truediv\\_\\_(self, other): x/y 연산을 정의, \\_\\_rtruediv\\_\\_는 역순 연산자, \\_\\_itruediv\\_\\_는 복합 할당 연산자\n",
    "- \\_\\_floordiv\\_\\_(self, other): x//y 연산을 정의, \\_\\_rfloordiv\\_\\_는 역순 연산자, \\_\\_ifloordiv\\_\\_는 복합 할당 연산자\n",
    "- \\_\\_mod\\_\\_(self, other): x%y 연산을 정의, \\_\\_rmod\\_\\_는 역순 연산자, \\_\\_imod\\_\\_는 복합 할당 연산자\n",
    "- \\_\\_divmod\\_\\_(self, other): divmod()를 통해 호출되는 연산을 정의\n",
    "- \\_\\_pow\\_\\_(self, other[, modulo]): x\\*\\*y 연산을 정의, pow()을 통해서도 호출\n",
    "- \\_\\_round\\_\\_(self[, n]): 반올림 함수 round()를 통해 호출되는 연산을 정의"
   ]
  },
  {
   "cell_type": "markdown",
   "metadata": {},
   "source": [
    "### 2.7.4 비트 연산자와 논리 연산자\n",
    "- \\_\\_lshift\\_\\_(self, other): x << y 시프트 연산을 정의. \\_\\_rlshift\\_\\_는 역순 연산자, \\_\\_ilshift\\_\\_는 복합 할당 연산자\n",
    "- \\_\\_rshift\\_\\_(self, other): x >> y 시프트 연산을 정의. \\_\\_rrshift\\_\\_는 역순 연산자, \\_\\_rlshift\\_\\_는 복합 할당 연산자\n",
    "- \\_\\_and\\_\\_(self, other): x & y 연산을 정의. \\_\\_rand\\_\\_는 역순 연산자, \\_\\_iand\\_\\_는 복합 할당 연산자\n",
    "- \\_\\_or\\_\\_(self, other): x | y 연산을 정의. \\_\\_ror\\_\\_는 역순 연산자, \\_\\_ior\\_\\_는 복합 할당 연산자\n",
    "- \\_\\_xor\\_\\_(self, other): x^y 연산을 정의. \\_\\_rxor\\_\\_는 역순 연산자, \\_\\_ixor\\_\\_는 복합 할당 연산자"
   ]
  },
  {
   "cell_type": "markdown",
   "metadata": {},
   "source": [
    "## 2.8 타입 변환\n",
    "- \\_\\_int\\_\\_(self): 정수 변환 함수 int()를 통해 호출되는 연산을 정의\n",
    "- \\_\\_float\\_\\_(self): 실수 변환 함수 float()를 통해 호출되는 연산을 정의\n",
    "- \\_\\_complex\\_\\_(self): 복소수 변환 함수 complex()를 통해 호출되는 연산을 정의\n",
    "- \\_\\_bool\\_\\_(self): bool()을 통해 호출되는 연산을 정의. True나 False를 반환.\n",
    "- \\_\\_hash\\_\\_(self): hash()를 통해 호출되는 연산을 정의. 정수를 반환.\n",
    "- \\_\\_index\\_\\_(self): slice expression에 객체가 사용될때 사용할 정수 형태를 정의."
   ]
  },
  {
   "cell_type": "code",
   "execution_count": 15,
   "metadata": {},
   "outputs": [],
   "source": [
    "# __index__ 관련 예제\n",
    "class Slice:\n",
    "    def __index__(self):\n",
    "        return 1"
   ]
  },
  {
   "cell_type": "code",
   "execution_count": 16,
   "metadata": {},
   "outputs": [
    {
     "data": {
      "text/plain": [
       "'456'"
      ]
     },
     "execution_count": 16,
     "metadata": {},
     "output_type": "execute_result"
    }
   ],
   "source": [
    "slice = Slice()\n",
    "_list = [\"123\", \"456\", \"789\"]\n",
    "_list[slice]"
   ]
  },
  {
   "cell_type": "markdown",
   "metadata": {},
   "source": [
    "## 2.9 매직 메소드 다루기 - 컨텍스트 매니저\n",
    "with 키워드를 통해 블럭에 진입할 때, 컨텍스트 매니저를 통해서 시작과 끝에 할 일을 처리\n",
    "- \\_\\_enter\\_\\_(self): with로 블럭에 진입할 때 해야할 일을 정함\n",
    "- \\_\\_exit\\_\\_(self, exc_type, exc_value, traceback): 블랙이 끝날때 해야할 일을 정함. exception이 발생한 경우에도 호출. 정상적으로 종료되었다면 exc_type, exc_value, traceback은 None로 들어옴."
   ]
  },
  {
   "cell_type": "code",
   "execution_count": 17,
   "metadata": {},
   "outputs": [],
   "source": [
    "# socket을 자동으로 닫아주는 SocketWrapper. \n",
    "# with SocketWrapper() as so와 같은 코드로 사용가능하며,\n",
    "# with 블럭이 끝나면 자동으로 __exit__를 호출해서 소켓 연결을 닫음\n",
    "import socket\n",
    "\n",
    "class SocketWrapper:\n",
    "    \n",
    "    def __init__(self):\n",
    "        self.so = socket.socket(socket.AF_INET, socket.SOCK_STREAM)  # 새로운 소켓을 생성\n",
    "        \n",
    "    def __enter__(self):\n",
    "        self.so.connect(('localhost', 8888))  # 소켓을 connect 하고\n",
    "        return self.so  # 반환한다\n",
    "    \n",
    "    def __exit__(self, exception_type, exception_val, trace):\n",
    "        try:\n",
    "            self.so.close()  # with 구문이 끝나면 소켓을 닫는다\n",
    "        except socket.error as msg:\n",
    "            print(msg)"
   ]
  },
  {
   "cell_type": "markdown",
   "metadata": {},
   "source": [
    "## 2.10 매직 메소드 다루기 - 비동기\n",
    "- \\_\\_await\\_\\_(self): await 표현을 사용할 수 있는(awaitable) 객체를 만드는데 사용. iterator를 반환.\n",
    "- \\_\\_aiter\\_\\_(self): 비동기를 위한 \\_\\_iter\\_\\_ 임. 비동기 iterator 반환.\n",
    "- \\_\\_anext\\_\\_(self): 비동기를 위한 \\_\\_next\\_\\_임. awaitable한 결과를 반환. iteration이 끝나면 StopAsyncIteration 에러를 던짐\n",
    "- \\_\\_aenter\\_\\_(self): 비동기 컨텍스트 매니저를 위한 메소드. \\_\\_enter\\_\\_랑 같음. awaitable 객체 반환.\n",
    "- \\_\\_aexit\\_\\_(self, exc_type, exc_value, traceback): 비동기 컨텍스트 매니저를 위한 메소드. \\_\\_exit\\_\\_와 같음. awaitable 객체를 반환."
   ]
  },
  {
   "cell_type": "code",
   "execution_count": 18,
   "metadata": {},
   "outputs": [
    {
     "ename": "RuntimeError",
     "evalue": "This event loop is already running",
     "output_type": "error",
     "traceback": [
      "\u001b[1;31m---------------------------------------------------------------------------\u001b[0m",
      "\u001b[1;31mRuntimeError\u001b[0m                              Traceback (most recent call last)",
      "\u001b[1;32m<ipython-input-18-76739bb45b37>\u001b[0m in \u001b[0;36m<module>\u001b[1;34m()\u001b[0m\n\u001b[0;32m     21\u001b[0m \u001b[1;33m\u001b[0m\u001b[0m\n\u001b[0;32m     22\u001b[0m \u001b[0mloop\u001b[0m \u001b[1;33m=\u001b[0m \u001b[0masyncio\u001b[0m\u001b[1;33m.\u001b[0m\u001b[0mget_event_loop\u001b[0m\u001b[1;33m(\u001b[0m\u001b[1;33m)\u001b[0m\u001b[1;33m\u001b[0m\u001b[1;33m\u001b[0m\u001b[0m\n\u001b[1;32m---> 23\u001b[1;33m \u001b[0mloop\u001b[0m\u001b[1;33m.\u001b[0m\u001b[0mrun_until_complete\u001b[0m\u001b[1;33m(\u001b[0m\u001b[0mexample\u001b[0m\u001b[1;33m(\u001b[0m\u001b[1;33m)\u001b[0m\u001b[1;33m)\u001b[0m\u001b[1;33m\u001b[0m\u001b[1;33m\u001b[0m\u001b[0m\n\u001b[0m",
      "\u001b[1;32m~\\Anaconda3\\lib\\asyncio\\base_events.py\u001b[0m in \u001b[0;36mrun_until_complete\u001b[1;34m(self, future)\u001b[0m\n\u001b[0;32m    561\u001b[0m         \"\"\"\n\u001b[0;32m    562\u001b[0m         \u001b[0mself\u001b[0m\u001b[1;33m.\u001b[0m\u001b[0m_check_closed\u001b[0m\u001b[1;33m(\u001b[0m\u001b[1;33m)\u001b[0m\u001b[1;33m\u001b[0m\u001b[1;33m\u001b[0m\u001b[0m\n\u001b[1;32m--> 563\u001b[1;33m         \u001b[0mself\u001b[0m\u001b[1;33m.\u001b[0m\u001b[0m_check_runnung\u001b[0m\u001b[1;33m(\u001b[0m\u001b[1;33m)\u001b[0m\u001b[1;33m\u001b[0m\u001b[1;33m\u001b[0m\u001b[0m\n\u001b[0m\u001b[0;32m    564\u001b[0m \u001b[1;33m\u001b[0m\u001b[0m\n\u001b[0;32m    565\u001b[0m         \u001b[0mnew_task\u001b[0m \u001b[1;33m=\u001b[0m \u001b[1;32mnot\u001b[0m \u001b[0mfutures\u001b[0m\u001b[1;33m.\u001b[0m\u001b[0misfuture\u001b[0m\u001b[1;33m(\u001b[0m\u001b[0mfuture\u001b[0m\u001b[1;33m)\u001b[0m\u001b[1;33m\u001b[0m\u001b[1;33m\u001b[0m\u001b[0m\n",
      "\u001b[1;32m~\\Anaconda3\\lib\\asyncio\\base_events.py\u001b[0m in \u001b[0;36m_check_runnung\u001b[1;34m(self)\u001b[0m\n\u001b[0;32m    521\u001b[0m     \u001b[1;32mdef\u001b[0m \u001b[0m_check_runnung\u001b[0m\u001b[1;33m(\u001b[0m\u001b[0mself\u001b[0m\u001b[1;33m)\u001b[0m\u001b[1;33m:\u001b[0m\u001b[1;33m\u001b[0m\u001b[1;33m\u001b[0m\u001b[0m\n\u001b[0;32m    522\u001b[0m         \u001b[1;32mif\u001b[0m \u001b[0mself\u001b[0m\u001b[1;33m.\u001b[0m\u001b[0mis_running\u001b[0m\u001b[1;33m(\u001b[0m\u001b[1;33m)\u001b[0m\u001b[1;33m:\u001b[0m\u001b[1;33m\u001b[0m\u001b[1;33m\u001b[0m\u001b[0m\n\u001b[1;32m--> 523\u001b[1;33m             \u001b[1;32mraise\u001b[0m \u001b[0mRuntimeError\u001b[0m\u001b[1;33m(\u001b[0m\u001b[1;34m'This event loop is already running'\u001b[0m\u001b[1;33m)\u001b[0m\u001b[1;33m\u001b[0m\u001b[1;33m\u001b[0m\u001b[0m\n\u001b[0m\u001b[0;32m    524\u001b[0m         \u001b[1;32mif\u001b[0m \u001b[0mevents\u001b[0m\u001b[1;33m.\u001b[0m\u001b[0m_get_running_loop\u001b[0m\u001b[1;33m(\u001b[0m\u001b[1;33m)\u001b[0m \u001b[1;32mis\u001b[0m \u001b[1;32mnot\u001b[0m \u001b[1;32mNone\u001b[0m\u001b[1;33m:\u001b[0m\u001b[1;33m\u001b[0m\u001b[1;33m\u001b[0m\u001b[0m\n\u001b[0;32m    525\u001b[0m             raise RuntimeError(\n",
      "\u001b[1;31mRuntimeError\u001b[0m: This event loop is already running"
     ]
    }
   ],
   "source": [
    "import asyncio\n",
    "\n",
    "class AsyncIterator:\n",
    "    def __init__(self, obj):\n",
    "        self.obj = obj\n",
    "        \n",
    "    async def __aiter__(self):\n",
    "        return self\n",
    "    \n",
    "    async def __anext__(self):\n",
    "        try:\n",
    "            return next(self.obj)\n",
    "        except StopIteration:  # iteration이 끝일 경우\n",
    "            raise StopAsyncIteration\n",
    "            \n",
    "async def example():\n",
    "    _map = map(lambda x: x*2, [1,2,3])\n",
    "    _iter = AsyncIterator(_map)\n",
    "    async for x in _iter:\n",
    "        print(x, end= ' ')\n",
    "        \n",
    "loop = asyncio.get_event_loop()\n",
    "loop.run_until_complete(example())"
   ]
  },
  {
   "cell_type": "markdown",
   "metadata": {},
   "source": [
    "# 3. mutable과 hashable에 대한 이해\n",
    "\n",
    "http://net-informations.com/python/iq/unhashable.htm\n",
    "\n",
    "## 3.1 Hashing 이란?\n",
    "- 해싱은 컴퓨터공학 컨셉 중 하나로 high performance, pseudo random access structures를 만드는 데 사용되며, 대량의 데이터가 빠르게 저장 및 전송을 가능케 함\n",
    "- 해시(hash)는 어떤 종류의 값을 받아서 정수를 반환하는 함수를 말한다. 예를 들어 \"Java\"라는 string을 쓰면 key에 해당하는 어떤 integer를 만들고 이 key에 \"Java\"라는 value를 저장한다.\n",
    "- key와 value는 항상 1대1 매칭되어야 하기 때문에 key는 value에 종속적이며, 따라서 value가 바뀌지 않는 이상 key도 바뀌면 안된다.\n",
    "- 따라서 key의 객체 타입은 절대불변의 한가지 값만 가지는 불변객체(Immutable objects)\n",
    "\n",
    "## 3.2 Hashable vs Unhashable\n",
    "- 불변객체(Immutable objects)만이 hashable type으로 인정\n",
    "- hashable objects: 숫자형(int, float, decimal, complex), string, tuple, range, frozenset, bytes\n",
    "- unhasable objects: list, dict, set, bytearray, user-defined classes\n",
    "\n",
    "결론: immutable과 hashable 객체가 짝!"
   ]
  },
  {
   "cell_type": "code",
   "execution_count": 1,
   "metadata": {},
   "outputs": [
    {
     "ename": "TypeError",
     "evalue": "unhashable type: 'list'",
     "output_type": "error",
     "traceback": [
      "\u001b[1;31m---------------------------------------------------------------------------\u001b[0m",
      "\u001b[1;31mTypeError\u001b[0m                                 Traceback (most recent call last)",
      "\u001b[1;32m<ipython-input-1-941e8ce7a23c>\u001b[0m in \u001b[0;36m<module>\u001b[1;34m()\u001b[0m\n\u001b[0;32m      1\u001b[0m \u001b[1;31m# mutable한 객체를 unhashable 객체에 사용할 때 에러 발생\u001b[0m\u001b[1;33m\u001b[0m\u001b[1;33m\u001b[0m\u001b[1;33m\u001b[0m\u001b[0m\n\u001b[1;32m----> 2\u001b[1;33m \u001b[0mmy_dict\u001b[0m \u001b[1;33m=\u001b[0m \u001b[1;33m{\u001b[0m\u001b[1;34m'name'\u001b[0m\u001b[1;33m:\u001b[0m \u001b[1;34m'john'\u001b[0m\u001b[1;33m,\u001b[0m \u001b[1;33m[\u001b[0m\u001b[1;36m1\u001b[0m\u001b[1;33m,\u001b[0m\u001b[1;36m2\u001b[0m\u001b[1;33m,\u001b[0m\u001b[1;36m3\u001b[0m\u001b[1;33m]\u001b[0m\u001b[1;33m:\u001b[0m\u001b[1;34m'values'\u001b[0m\u001b[1;33m}\u001b[0m \u001b[1;31m# dict 내 key는 immutable 객체를 써야 하는데 mutable인 list를 넣음\u001b[0m\u001b[1;33m\u001b[0m\u001b[1;33m\u001b[0m\u001b[0m\n\u001b[0m\u001b[0;32m      3\u001b[0m \u001b[0mmy_dict\u001b[0m\u001b[1;33m\u001b[0m\u001b[1;33m\u001b[0m\u001b[0m\n",
      "\u001b[1;31mTypeError\u001b[0m: unhashable type: 'list'"
     ]
    }
   ],
   "source": [
    "# mutable한 객체를 unhashable 객체에 사용할 때 에러 발생\n",
    "my_dict = {'name': 'john', [1,2,3]:'values'} # dict 내 key는 immutable 객체를 써야 하는데 mutable인 list를 넣음\n",
    "my_dict # 에러 발생"
   ]
  },
  {
   "cell_type": "code",
   "execution_count": 2,
   "metadata": {},
   "outputs": [
    {
     "data": {
      "text/plain": [
       "{'name': 'John', (1, 2, 3): 'values'}"
      ]
     },
     "execution_count": 2,
     "metadata": {},
     "output_type": "execute_result"
    }
   ],
   "source": [
    "my_dict = {'name': 'John', tuple([1,2,3]):'values'}\n",
    "my_dict"
   ]
  },
  {
   "cell_type": "markdown",
   "metadata": {},
   "source": [
    "# 4. classmethod와 staticmethod의 차이\n",
    "\n",
    "https://medium.com/@hckcksrl/python-%EC%A0%95%EC%A0%81%EB%A9%94%EC%86%8C%EB%93%9C-staticmethod-%EC%99%80-classmethod-6721b0977372\n",
    "\n",
    "https://hamait.tistory.com/635\n",
    "\n",
    "\n",
    "## 핵심내용\n",
    "- 정적메소드는 클래스에서 직접 접근할 수 있는 메소드이다.\n",
    "- 파이썬에서 클래스에서 직접 접근할 수 있는 메소드가 @staticmethod 와 @classmethod 두가지가 있다.\n",
    "- 파이썬에서는 정적메소드임에도 불구하고 인스턴스에서도 접근이 가능하다.\n",
    "- classmethod는 상속받은 클래스의 데이터 요소를 반환하는 반면, staticmethod는 상속 전 원 클래스의 데이터 요소를 반환하는 차이가 존재."
   ]
  },
  {
   "cell_type": "markdown",
   "metadata": {},
   "source": [
    "## 4.1 classmethod\n",
    "- classmethod는 @classmethod라는 데코레이터 정의를 사용하여 정의\n",
    "- instance method와 달리 self라는 인자 대신 cls라는 인자를 가짐"
   ]
  },
  {
   "cell_type": "code",
   "execution_count": 2,
   "metadata": {},
   "outputs": [
    {
     "data": {
      "text/plain": [
       "3"
      ]
     },
     "execution_count": 2,
     "metadata": {},
     "output_type": "execute_result"
    }
   ],
   "source": [
    "class Calc:\n",
    "    \n",
    "    @classmethod\n",
    "    def add(cls, a, b):\n",
    "        return a + b\n",
    "    \n",
    "cal = Calc()\n",
    "cal.add(1,2)  # return 3"
   ]
  },
  {
   "cell_type": "markdown",
   "metadata": {},
   "source": [
    "## 4.2 staticmethod\n",
    "- @staticmethod라는 데코레이터를 사용하여 정의\n",
    "- 인스턴스 메소드와 달리 self라는 인자가 없음"
   ]
  },
  {
   "cell_type": "code",
   "execution_count": 3,
   "metadata": {},
   "outputs": [
    {
     "data": {
      "text/plain": [
       "3"
      ]
     },
     "execution_count": 3,
     "metadata": {},
     "output_type": "execute_result"
    }
   ],
   "source": [
    "class Calc:\n",
    "    \n",
    "    @staticmethod\n",
    "    def add(a ,b):\n",
    "        return a + b\n",
    "\n",
    "cal = Calc()\n",
    "cal.add(1,2)  # return 3"
   ]
  },
  {
   "cell_type": "markdown",
   "metadata": {},
   "source": [
    "## 4.3 @classmethod와 @staticmethod의 차이\n",
    "두 정적 메소드는 상속에서 차이가 난다"
   ]
  },
  {
   "cell_type": "code",
   "execution_count": 8,
   "metadata": {},
   "outputs": [
    {
     "name": "stdout",
     "output_type": "stream",
     "text": [
      "엄마 아빠\n"
     ]
    }
   ],
   "source": [
    "class Person:\n",
    "    default = '아빠'\n",
    "    \n",
    "    def __init__(self):\n",
    "        self.data = self.default\n",
    "        \n",
    "    @classmethod\n",
    "    def class_person(cls):\n",
    "        return cls()\n",
    "    \n",
    "    @staticmethod\n",
    "    def static_person():\n",
    "        return Person()\n",
    "    \n",
    "class WhatPerson(Person):\n",
    "    default = \"엄마\"\n",
    "    \n",
    "person1 = WhatPerson.class_person()   # return 엄마\n",
    "person2 = WhatPerson.static_person()  # return 아빠\n",
    "print(person1.data, person2.data)"
   ]
  },
  {
   "cell_type": "markdown",
   "metadata": {},
   "source": [
    "staticmethod의 경우 부모 클래스의 클래스 속성 값을 가져오지만 classmethod의 경우 cls인자를 활용하여 현재 클래스의 클래스 속성을 가져옴"
   ]
  },
  {
   "cell_type": "code",
   "execution_count": 9,
   "metadata": {},
   "outputs": [
    {
     "name": "stdout",
     "output_type": "stream",
     "text": [
      "엄마 아빠\n"
     ]
    }
   ],
   "source": [
    "class Person:\n",
    "    default = '아빠'\n",
    "    \n",
    "    def __init__(self):\n",
    "        self.data = self.default\n",
    "\n",
    "    \n",
    "class WhatPerson(Person):\n",
    "    default = \"엄마\"\n",
    "    \n",
    "    @classmethod\n",
    "    def class_person(cls):\n",
    "        return cls()\n",
    "    \n",
    "    @staticmethod\n",
    "    def static_person():\n",
    "        return Person()\n",
    "    \n",
    "person1 = WhatPerson.class_person()   # return 엄마\n",
    "person2 = WhatPerson.static_person()  # return 아빠\n",
    "print(person1.data, person2.data)"
   ]
  },
  {
   "cell_type": "markdown",
   "metadata": {},
   "source": [
    "# 5. Observer 패턴에 대한 이해\n",
    "\n",
    "https://www.youtube.com/watch?v=87MNuBgeg34\n",
    "\n",
    "- 여러 사람에게 공지를 한번에 띄우거나 변화를 한번에 알릴 때 주로 쓰임(pattern: one speaking to many)\n",
    "- 여기서 여러 사람(many to be notified)을 Observer, 공지를 띄우는 객체(one)를 Observable이라고 일컬음\n",
    "- Observer를 Subscriber로, Observable를 Publisher로 보면 더 이해가 쉬움\n"
   ]
  },
  {
   "cell_type": "code",
   "execution_count": 1,
   "metadata": {},
   "outputs": [
    {
     "name": "stdout",
     "output_type": "stream",
     "text": [
      "Bob got message \"It's lunchtime!\"\n",
      "Alice got message \"It's lunchtime!\"\n",
      "John got message \"It's lunchtime!\"\n",
      "Bob got message \"Time for dinner\"\n",
      "Alice got message \"Time for dinner\"\n"
     ]
    }
   ],
   "source": [
    "# Simple Observer \n",
    "\n",
    "class Subscriber:   # 모든 subscriber는 메세지를 받는 update 함수를 가지고 있음.\n",
    "    def __init__(self, name):\n",
    "        self.name = name\n",
    "    \n",
    "    def update(self, message):\n",
    "        print('{} got message \"{}\"'.format(self.name, message))\n",
    "\n",
    "        \n",
    "class Publisher:\n",
    "    def __init__(self):\n",
    "        self.observers = set()  # Publisher 객체 생성시 Subscribers를 담는 set 생성\n",
    "    \n",
    "    def register(self, who):\n",
    "        self.observers.add(who)\n",
    "        \n",
    "    def unregister(self, who):\n",
    "        self.observers.discard(who)\n",
    "        \n",
    "    def dispatch(self, message):   # subscriber의 update 함수 매개변수가 쓰임\n",
    "        for observer in self.observers:\n",
    "            observer.update(message)   # subscriber의 update 함수는 Publisher가 씀\n",
    "            \n",
    "if __name__ == \"__main__\":\n",
    "    pub = Publisher()\n",
    "    \n",
    "    bob = Subscriber('Bob')\n",
    "    alice = Subscriber('Alice')\n",
    "    john = Subscriber('John')\n",
    "    \n",
    "    pub.register(bob)\n",
    "    pub.register(alice)\n",
    "    pub.register(john)\n",
    "    \n",
    "    # 공지하기(dispatch)\n",
    "    pub.dispatch(\"It's lunchtime!\")\n",
    "    pub.unregister(john)\n",
    "    pub.dispatch(\"Time for dinner\")"
   ]
  },
  {
   "cell_type": "code",
   "execution_count": 7,
   "metadata": {},
   "outputs": [
    {
     "name": "stdout",
     "output_type": "stream",
     "text": [
      "Bob got message \"It's lunchtime!\"\n",
      "Alice got message \"It's lunchtime!\"\n",
      "John got message \"It's lunchtime!\"\n",
      "Bob got message \"Time for dinner\"\n",
      "Alice got message \"Time for dinner\"\n"
     ]
    }
   ],
   "source": [
    "# A Pythonic Refinement\n",
    "\n",
    "# 기존의 Subscriber를 SubscriberOne과 SubscriberTwo로 나누어보자.\n",
    "class SubscriberOne:\n",
    "    def __init__(self, name):\n",
    "        self.name = name\n",
    "    \n",
    "    def update(self, message):\n",
    "        print('{} got message \"{}\"'.format(self.name, message))\n",
    "        \n",
    "        \n",
    "class SubscriberTwo:\n",
    "    def __init__(self, name):\n",
    "        self.name = name\n",
    "    \n",
    "    def receive(self, message):  # SubscriberOne의 update와 기능 같음\n",
    "        print('{} got message \"{}\"'.format(self.name, message))\n",
    "        \n",
    "\n",
    "class Publisher:\n",
    "    def __init__(self):\n",
    "        self.observers = dict()\n",
    "    # register시 key:value=observer:callback 형식으로 저장\n",
    "    # callback = observer.update(message) 정의 후 dispatch 함수에서는 callback(message)를 활용\n",
    "    def register(self, who, callback=None): \n",
    "        if callback is None:\n",
    "            callback = getattr(who, 'update')\n",
    "        self.observers[who] = callback\n",
    "        \n",
    "    def unregister(self, who):\n",
    "        del self.observers[who]\n",
    "        \n",
    "    def dispatch(self, message): # messasge\n",
    "        for observer, callback in self.observers.items():\n",
    "            callback(message)\n",
    "            \n",
    "if __name__ == \"__main__\":\n",
    "    pub = Publisher()\n",
    "    \n",
    "    bob = SubscriberOne('Bob')\n",
    "    alice = SubscriberTwo('Alice')\n",
    "    john = SubscriberOne('John')\n",
    "    \n",
    "    pub.register(bob, bob.update)\n",
    "    pub.register(alice, alice.receive) # alice는 update 메소드가 없어도 공지를 받을 수 있음(이 패턴 장점)\n",
    "    pub.register(john)\n",
    "    \n",
    "    pub.dispatch(\"It's lunchtime!\")\n",
    "    pub.unregister(john)\n",
    "    pub.dispatch(\"Time for dinner\")"
   ]
  },
  {
   "cell_type": "code",
   "execution_count": 8,
   "metadata": {},
   "outputs": [
    {
     "name": "stdout",
     "output_type": "stream",
     "text": [
      "Bob got message \"It's lunchtime!\"\n",
      "John got message \"It's lunchtime!\"\n",
      "Alice got message \"Dinner is served.\"\n",
      "John got message \"Dinner is served.\"\n"
     ]
    }
   ],
   "source": [
    "# Observing Events(notifying different group of subscribers for different situation)\n",
    "\n",
    "class Subscriber:   # 모든 subscriber는 메세지를 받는 update 함수를 가지고 있음.\n",
    "    def __init__(self, name):\n",
    "        self.name = name\n",
    "    \n",
    "    def update(self, message):\n",
    "        print('{} got message \"{}\"'.format(self.name, message))\n",
    "\n",
    "        \n",
    "class Publisher:\n",
    "    def __init__(self, events):\n",
    "        self.subscribers = { event : dict() for event in events}  # 이벤트별로 \"이벤트: dict\"를 만듬\n",
    "        \n",
    "    def get_subscribers(self, event):  # 이벤트별로 해당되는 subscribers 조회\n",
    "        return self.subscribers[event]\n",
    "    \n",
    "    def register(self, event, who, callback=None):\n",
    "        if callback is None:\n",
    "            callback = getattr(who, 'update')\n",
    "        self.get_subscribers(event)[who] = callback\n",
    "        \n",
    "    def unregister(self, event, who):\n",
    "        del self.get_subscribers(event)[who]\n",
    "        \n",
    "    def dispatch(self, event, message): # messasge\n",
    "        for subscriber, callback in self.get_subscribers(event).items():\n",
    "            callback(message)\n",
    "            \n",
    "if __name__ == \"__main__\":\n",
    "    pub = Publisher(['lunch', 'dinner'])\n",
    "    \n",
    "    bob = Subscriber('Bob')\n",
    "    alice = Subscriber('Alice')\n",
    "    john = Subscriber('John')\n",
    "    \n",
    "    pub.register('lunch', bob)\n",
    "    pub.register('dinner', alice)\n",
    "    pub.register('lunch', john)\n",
    "    pub.register('dinner', john)\n",
    "    \n",
    "    pub.dispatch('lunch', \"It's lunchtime!\")\n",
    "    pub.dispatch('dinner', \"Dinner is served.\")"
   ]
  },
  {
   "cell_type": "markdown",
   "metadata": {},
   "source": [
    "# 6. Super() 기본 개념\n",
    "\n",
    "## 6.1 super()\n",
    "\n",
    "https://rednooby.tistory.com/56\n",
    "\n",
    "- 자식 클래스에서 부모클래스의 내용을 사용하고 싶을경우 사용"
   ]
  },
  {
   "cell_type": "code",
   "execution_count": 9,
   "metadata": {},
   "outputs": [
    {
     "name": "stdout",
     "output_type": "stream",
     "text": [
      "잘생겼다\n"
     ]
    }
   ],
   "source": [
    "class Father(): # 부모클래스\n",
    "    def handsome(self):\n",
    "        print(\"잘생겼다\")\n",
    "        \n",
    "class Brother(Father): # 자식클래스 brother에서 부모클래스 father를 상속\n",
    "    '''아들'''\n",
    "    \n",
    "class Sister(Father): # 자식클래스 sister에서 부모클래스 father를 상속\n",
    "    def pretty(self):\n",
    "        print(\"예쁘다\")\n",
    "        \n",
    "    def handsome(self):\n",
    "        '''물려 받았어요.'''\n",
    "        \n",
    "\n",
    "brother = Brother()\n",
    "brother.handsome()"
   ]
  },
  {
   "cell_type": "code",
   "execution_count": 11,
   "metadata": {},
   "outputs": [
    {
     "name": "stdout",
     "output_type": "stream",
     "text": [
      "예쁘다\n"
     ]
    }
   ],
   "source": [
    "girl = Sister()\n",
    "girl.pretty()"
   ]
  },
  {
   "cell_type": "code",
   "execution_count": 12,
   "metadata": {},
   "outputs": [],
   "source": [
    "girl.handsome() # 출력 안됨"
   ]
  },
  {
   "cell_type": "code",
   "execution_count": 13,
   "metadata": {},
   "outputs": [],
   "source": [
    "class Father(): # 부모클래스\n",
    "    def handsome(self):\n",
    "        print(\"잘생겼다\")\n",
    "        \n",
    "class Brother(Father): # 자식클래스 brother에서 부모클래스 father를 상속\n",
    "    '''아들'''\n",
    "    \n",
    "class Sister(Father): # 자식클래스 sister에서 부모클래스 father를 상속\n",
    "    def pretty(self):\n",
    "        print(\"예쁘다\")\n",
    "        \n",
    "    def handsome(self):\n",
    "        super().handsome()"
   ]
  },
  {
   "cell_type": "code",
   "execution_count": 15,
   "metadata": {},
   "outputs": [
    {
     "name": "stdout",
     "output_type": "stream",
     "text": [
      "잘생겼다\n"
     ]
    }
   ],
   "source": [
    "littleGirl = Sister()\n",
    "littleGirl.handsome()"
   ]
  },
  {
   "cell_type": "code",
   "execution_count": 16,
   "metadata": {},
   "outputs": [
    {
     "name": "stdout",
     "output_type": "stream",
     "text": [
      "아빠를 닮아 잘생겼다\n",
      "얼굴 말이야\n"
     ]
    }
   ],
   "source": [
    "# 응용\n",
    "\n",
    "class Father():  # 부모 클래스\n",
    "    def __init__(self, who):\n",
    "        self.who = who\n",
    " \n",
    "    def handsome(self):\n",
    "        print(\"{}를 닮아 잘생겼다\".format(self.who))\n",
    " \n",
    "class Sister(Father):  # 자식클래스(부모클래스) 아빠매소드를 상속받겠다\n",
    "    def __init__(self, who, where):\n",
    "        super().__init__(who)\n",
    "        self.where = where\n",
    " \n",
    "    def choice(self):\n",
    "        print(\"{} 말이야\".format(self.where))\n",
    " \n",
    "    def handsome(self):\n",
    "       super().handsome()\n",
    "       self.choice()\n",
    "\n",
    "        \n",
    "girl = Sister(\"아빠\", \"얼굴\")\n",
    "girl.handsome()"
   ]
  },
  {
   "cell_type": "markdown",
   "metadata": {},
   "source": [
    "## 6.2 super(Class, self)\n",
    "\n",
    "https://hashcode.co.kr/questions/6419/python3-super%EC%99%80-supera-self%EC%9D%98-%EC%B0%A8%EC%9D%B4%EB%8A%94-%EB%AC%B4%EC%97%87%EC%9D%B8%EA%B0%80%EC%9A%94\n",
    "\n",
    "- 위의 super()와 달리 괄호 안에 class명과 self가 매개변수로 들어가는 경우 존재\n",
    "- 아래 예제처럼 super(B, self)라고 쓰면 B의 부모클래스를 상속받는다는 뜻임\n",
    "- super(Class, self)는 상속받는 부모클래스가 여러개일 때 주로 사용"
   ]
  },
  {
   "cell_type": "code",
   "execution_count": 1,
   "metadata": {},
   "outputs": [
    {
     "name": "stdout",
     "output_type": "stream",
     "text": [
      "A\n"
     ]
    },
    {
     "data": {
      "text/plain": [
       "<__main__.B at 0x229e1dc8f48>"
      ]
     },
     "execution_count": 1,
     "metadata": {},
     "output_type": "execute_result"
    }
   ],
   "source": [
    "class A:\n",
    "    def __init__(self):\n",
    "        print(\"A\")\n",
    "\n",
    "class B(A):\n",
    "    def __init__(self):\n",
    "        super().__init__()\n",
    "\n",
    "b = B()\n",
    "b"
   ]
  },
  {
   "cell_type": "code",
   "execution_count": 2,
   "metadata": {},
   "outputs": [
    {
     "name": "stdout",
     "output_type": "stream",
     "text": [
      "A\n"
     ]
    },
    {
     "data": {
      "text/plain": [
       "<__main__.B at 0x229e1dd5988>"
      ]
     },
     "execution_count": 2,
     "metadata": {},
     "output_type": "execute_result"
    }
   ],
   "source": [
    "class A:\n",
    "    def __init__(self):\n",
    "       print(\"A\")\n",
    "\n",
    "class B(A):\n",
    "    def __init__(self):\n",
    "        super(B, self).__init__()\n",
    "\n",
    "b = B()\n",
    "b"
   ]
  },
  {
   "cell_type": "code",
   "execution_count": null,
   "metadata": {},
   "outputs": [],
   "source": []
  }
 ],
 "metadata": {
  "kernelspec": {
   "display_name": "Python 3",
   "language": "python",
   "name": "python3"
  },
  "language_info": {
   "codemirror_mode": {
    "name": "ipython",
    "version": 3
   },
   "file_extension": ".py",
   "mimetype": "text/x-python",
   "name": "python",
   "nbconvert_exporter": "python",
   "pygments_lexer": "ipython3",
   "version": "3.7.7"
  }
 },
 "nbformat": 4,
 "nbformat_minor": 2
}

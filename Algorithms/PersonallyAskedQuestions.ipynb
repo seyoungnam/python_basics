{
 "cells": [
  {
   "cell_type": "markdown",
   "metadata": {},
   "source": [
    "# PAQ(Personally Asked Questions)"
   ]
  },
  {
   "cell_type": "markdown",
   "metadata": {},
   "source": [
    "# 1. 매개변수 self, cls 차이, 그리고 static method\n",
    "- 출처: https://paphopu.tistory.com/entry/Python-%EB%A7%A4%EA%B0%9C%EB%B3%80%EC%88%98-self-%EC%99%80-cls%EC%9D%98-%EC%B0%A8%EC%9D%B4-%EA%B7%B8%EB%A6%AC%EA%B3%A0-static-method%EC%97%90-%EB%8C%80%ED%95%B4%EC%84%9C"
   ]
  },
  {
   "cell_type": "markdown",
   "metadata": {},
   "source": [
    "## 1.1 Instance Method\n",
    "- Instance Method는 클래스 내부에 정의되어 있는 함수 호출시, Instance(객체)를 필요로 한다는 조건 존재\n",
    "- 이때 첫번째 매개변수는 항상 self"
   ]
  },
  {
   "cell_type": "code",
   "execution_count": 5,
   "metadata": {},
   "outputs": [
    {
     "name": "stdout",
     "output_type": "stream",
     "text": [
      "My name is Seyoung Nam\n"
     ]
    }
   ],
   "source": [
    "# 인스턴스 메소드 예제\n",
    "class InstMethod:\n",
    "    \n",
    "    def __init__(self):\n",
    "        self.name = 'Seyoung Nam'\n",
    "        \n",
    "    def print_name(self):\n",
    "        print('My name is %s' %(self.name))\n",
    "        \n",
    "# 인스턴스 선언\n",
    "name_instance = InstMethod()\n",
    "\n",
    "# print_name이라는 함수를 호출하기 위해 name_instance 같은 객체 정의 필요\n",
    "name_instance.print_name()"
   ]
  },
  {
   "cell_type": "markdown",
   "metadata": {},
   "source": [
    "## 1.2 Class Method\n",
    "- Class Method는 인스턴스 선언이 필요없이 \"클래스.함수명\"으로 바로 불러올 수 있음\n",
    "- 자기 자신을 첫번째 매개변수로 받기에 self를 사용하지 않고 cls를 사용"
   ]
  },
  {
   "cell_type": "code",
   "execution_count": 6,
   "metadata": {},
   "outputs": [
    {
     "name": "stdout",
     "output_type": "stream",
     "text": [
      "my name is type\n"
     ]
    }
   ],
   "source": [
    "# 클래스 메소드 예제\n",
    "class ClassMethod:\n",
    "    \n",
    "    @classmethod\n",
    "    def print_name(cls):\n",
    "        print('my name is %s' %(cls.__class__.__name__))\n",
    "        \n",
    "# 객체를 따로 선언해 줄 필요없이 함수 호출 가능\n",
    "ClassMethod.print_name()"
   ]
  },
  {
   "cell_type": "code",
   "execution_count": 8,
   "metadata": {},
   "outputs": [
    {
     "name": "stdout",
     "output_type": "stream",
     "text": [
      "my nam is Seyoung.\n"
     ]
    }
   ],
   "source": [
    "# 클래스 메소드라도 인스턴스 선언해서 호출 또한 가능 \n",
    "class ClassMethod2:\n",
    "    name = 'Seyoung'\n",
    "    \n",
    "    @classmethod\n",
    "    def print_name(cls):\n",
    "        print('my nam is %s.' %(cls.name))\n",
    "        \n",
    "ins = ClassMethod2()\n",
    "ins.print_name()"
   ]
  },
  {
   "cell_type": "markdown",
   "metadata": {},
   "source": [
    "## 1.3 Static Method\n",
    "- Static Method는 앞의 두 method들과 다르게 인스턴스나 클래스를 인자로 받지 않음\n",
    "- Static Method는 클래스 내부에 선언되어 클래스 네임스페이스 안에 저장되는 점\n",
    "- 그외에는 일반 method들과 크게 다른 점 없음\n",
    "- Static method의 특징은 클래스를 통해서도, 인스턴스를 통해서도 호출이 가능하다는 점"
   ]
  },
  {
   "cell_type": "code",
   "execution_count": 9,
   "metadata": {},
   "outputs": [
    {
     "name": "stdout",
     "output_type": "stream",
     "text": [
      "내 이름은 Seyoung 입니다.\n",
      "내 이름은 NSY 입니다.\n"
     ]
    }
   ],
   "source": [
    "class StaticMethod:\n",
    "    \n",
    "    @staticmethod\n",
    "    def print_name(name):\n",
    "        return '내 이름은 {} 입니다.'.format(name)\n",
    "    \n",
    "# 클래스를 통해서 호출가능\n",
    "print(StaticMethod.print_name('Seyoung'))\n",
    "\n",
    "# 인스턴스를 통해서도 호출 가능\n",
    "me = StaticMethod()\n",
    "print(me.print_name('NSY'))"
   ]
  },
  {
   "cell_type": "markdown",
   "metadata": {},
   "source": [
    "# 2. 더블 언더스코어: Magic Method\n",
    "- 출처 : https://corikachu.github.io/articles/python/python-magic-method\n",
    "- 파이썬에서는 미리 정의되어 있는 특별한 이름을 가진 메소드들을 재정의 가능\n",
    "- 미리 정해져 있는 메소드, 즉 Built-in 함수들을 Special Method 혹은 Double Underscore Method라 함\n",
    "- 공식문서: https://docs.python.org/3/reference/datamodel.html#special-method-names"
   ]
  },
  {
   "cell_type": "markdown",
   "metadata": {},
   "source": [
    "## 2.1 객체의 생성과 초기화\n",
    "- \\_\\_new\\_\\_(cls[, ...]): 새 인스턴스 만들 때 클래스를 불러오기 위해 제일 처음으로 실행되는 메소드. super().\\_\\_new\\_\\_(cls[, ...]) 사용 \n",
    "- \\_\\_init\\_\\_(self[, ...]): \\_\\_new\\_\\_ 이후, caller에게 return 전에 호출. 불러온 클래스를 바탕으로 해당 클래스의 신규 인스턴스를 만듬. self는 instance를 의미.\n",
    "- In sum, \\_\\_new\\_\\_() to create it, and \\_\\_init\\_\\_() to customize it\n",
    "- \\_\\_del\\_\\_(self): 객체가 소멸될 때 호출, 객체 소멸시 해야할 일을 지정"
   ]
  },
  {
   "cell_type": "code",
   "execution_count": 10,
   "metadata": {},
   "outputs": [],
   "source": [
    "class NumBox:\n",
    "    \n",
    "    def __new__(cls, *args, **kwargs):\n",
    "        if len(args) < 1: # 인자가 들어오지 않은 경우\n",
    "            return None\n",
    "        else:\n",
    "            return super(NumBox, cls).__new__(cls)  # object를 반환\n",
    "        \n",
    "    def __init__(self, num=None):\n",
    "        self.num = num  # 받은 인자 num을 인스턴스 변수로 지정\n",
    "        \n",
    "    def __repr__(self):\n",
    "        return str(self.num)"
   ]
  },
  {
   "cell_type": "code",
   "execution_count": 11,
   "metadata": {},
   "outputs": [
    {
     "data": {
      "text/plain": [
       "NoneType"
      ]
     },
     "execution_count": 11,
     "metadata": {},
     "output_type": "execute_result"
    }
   ],
   "source": [
    "a = NumBox()  # 인자 없이 객체 생성\n",
    "type(a)"
   ]
  },
  {
   "cell_type": "code",
   "execution_count": 12,
   "metadata": {},
   "outputs": [
    {
     "data": {
      "text/plain": [
       "10"
      ]
     },
     "execution_count": 12,
     "metadata": {},
     "output_type": "execute_result"
    }
   ],
   "source": [
    "b = NumBox(10)  # 인자 넣고 객체 생성\n",
    "b # __repr__()에 의해 self.num 프린트"
   ]
  },
  {
   "cell_type": "code",
   "execution_count": 13,
   "metadata": {},
   "outputs": [
    {
     "data": {
      "text/plain": [
       "__main__.NumBox"
      ]
     },
     "execution_count": 13,
     "metadata": {},
     "output_type": "execute_result"
    }
   ],
   "source": [
    "type(b)"
   ]
  },
  {
   "cell_type": "markdown",
   "metadata": {},
   "source": [
    "## 2.2 객체의 표현\n",
    "- \\_\\_repr\\_\\_(self): 객체를 나타내는 __공식적인__ 문자열. built-in 함수인 repr()로 호출, 반환값 string, \\_\\_str\\_\\_()과 달리 좀 더 명확함을 지향.\n",
    "- \\_\\_str\\_\\_(self): 객체를 나타내는 비공식적인 문자열, 객체를 이해하기 쉽게 표현. \\__repr__보다 보기 쉬운 문자열을 출력하는 것에 지향점, string 문자열 반환. exception 없이 a more convenient or concise representation can be used.라는 문구 뜸\n",
    "- \\_\\_bytes\\_\\_(self): 객체의 byte 문자열을 리턴, bytes()로 호출\n",
    "- \\_\\_format\\_\\_(self): 객체의 \"formatted\" string representation 생성, format()으로 호출"
   ]
  },
  {
   "cell_type": "code",
   "execution_count": 14,
   "metadata": {},
   "outputs": [],
   "source": [
    "class StrBox(object):\n",
    "    \n",
    "    def __init__(self, string):\n",
    "        self.string = string\n",
    "        \n",
    "    def __repr__(self):\n",
    "        return \"A('{}')\".format(self.string)\n",
    "    \n",
    "    def __bytes__(self):\n",
    "        return str.encode(self.string)\n",
    "    \n",
    "    def __format__(self, format):\n",
    "        if format == 'this-string':\n",
    "            return \"This string: {}\".format(self.string)\n",
    "        return self.string"
   ]
  },
  {
   "cell_type": "code",
   "execution_count": 15,
   "metadata": {},
   "outputs": [
    {
     "data": {
      "text/plain": [
       "A('Life is short, you need python')"
      ]
     },
     "execution_count": 15,
     "metadata": {},
     "output_type": "execute_result"
    }
   ],
   "source": [
    "a = StrBox('Life is short, you need python')\n",
    "a  #  __repr__()"
   ]
  },
  {
   "cell_type": "code",
   "execution_count": 16,
   "metadata": {},
   "outputs": [
    {
     "data": {
      "text/plain": [
       "\"A('Life is short, you need python')\""
      ]
     },
     "execution_count": 16,
     "metadata": {},
     "output_type": "execute_result"
    }
   ],
   "source": [
    "repr(a)"
   ]
  },
  {
   "cell_type": "code",
   "execution_count": 17,
   "metadata": {},
   "outputs": [
    {
     "data": {
      "text/plain": [
       "\"A('Life is short, you need python')\""
      ]
     },
     "execution_count": 17,
     "metadata": {},
     "output_type": "execute_result"
    }
   ],
   "source": [
    "str(a)  # str 정의되어 있지 않으면 repr과 동일"
   ]
  },
  {
   "cell_type": "code",
   "execution_count": 18,
   "metadata": {},
   "outputs": [
    {
     "data": {
      "text/plain": [
       "b'Life is short, you need python'"
      ]
     },
     "execution_count": 18,
     "metadata": {},
     "output_type": "execute_result"
    }
   ],
   "source": [
    "bytes(a)"
   ]
  },
  {
   "cell_type": "code",
   "execution_count": 21,
   "metadata": {},
   "outputs": [
    {
     "data": {
      "text/plain": [
       "'This string: Life is short, you need python'"
      ]
     },
     "execution_count": 21,
     "metadata": {},
     "output_type": "execute_result"
    }
   ],
   "source": [
    "\"{:this-string}\".format(a)"
   ]
  },
  {
   "cell_type": "markdown",
   "metadata": {},
   "source": [
    "## 2.3 속성 관리\n",
    "- \\_\\_getattr\\_\\_(self, name): 객체의 __없는__ 속성을 참조하려 할때 호출. 찾는 속성이 있다면 호출X\n",
    "- \\_\\_getattribute\\_\\_(self, name): 객체 속성 호출시 무조건 호출. 이 메소드가 재정의 되어 있다면 \\_\\_getattr\\_\\_는 호출되지 않으므로 명시적으로 호출해야하거나 AttributeError 에러를 발생시켜야 함\n",
    "- \\_\\_setattr\\_\\_(self, name, value): 객체의 속성을 변경할때 호출. \n",
    "- \\_\\_delattr\\_\\_(self, name): 객체의 속성을 del 키워드로 지울 때 호출\n",
    "- \\_\\_dir\\_\\_(self): 객체가 가지고 있는 모든 속성들을 보여주는 dir()을 사용할때 호출\n",
    "- \\_\\_slots\\_\\_: 사용할 변수의 이름을 미리 지정할 수 있음."
   ]
  },
  {
   "cell_type": "markdown",
   "metadata": {},
   "source": [
    "### Rich Comparision methods\n",
    "- object.\\_\\_lt\\_\\_(self, other) is called by x<y\n",
    "- object.\\_\\_le\\_\\_(self, other) is called by x<=y\n",
    "- object.\\_\\_eq\\_\\_(self, other) is called by x==y\n",
    "- object.\\_\\_ne\\_\\_(self, other) is called by x!=y\n",
    "- object.\\_\\_gt\\_\\_(self, other) is called by x>y\n",
    "- object.\\_\\_ge\\_\\_(self, other) is called by x>=y"
   ]
  },
  {
   "cell_type": "markdown",
   "metadata": {},
   "source": [
    "- object.\\_\\_hash\\_\\_(self): hash()로 호출. set, frozenset 같은 hashed collections 멤버의 operation을 위해 사용. 정수 반환"
   ]
  },
  {
   "cell_type": "code",
   "execution_count": null,
   "metadata": {},
   "outputs": [],
   "source": []
  }
 ],
 "metadata": {
  "kernelspec": {
   "display_name": "Python 3",
   "language": "python",
   "name": "python3"
  },
  "language_info": {
   "codemirror_mode": {
    "name": "ipython",
    "version": 3
   },
   "file_extension": ".py",
   "mimetype": "text/x-python",
   "name": "python",
   "nbconvert_exporter": "python",
   "pygments_lexer": "ipython3",
   "version": "3.7.7"
  }
 },
 "nbformat": 4,
 "nbformat_minor": 2
}

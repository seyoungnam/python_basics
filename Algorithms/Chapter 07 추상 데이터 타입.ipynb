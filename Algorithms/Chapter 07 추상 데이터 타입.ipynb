{
 "cells": [
  {
   "cell_type": "markdown",
   "metadata": {},
   "source": [
    "# Chapter 07 추상 데이터 타입\n",
    "\n",
    "- 추상 데이터 타입(Abstract Data Type, ADT)은 유사한 동작을 가진 자료구조의 클래스에 대한 수학적 모델을 일컬음\n",
    "- 추상 데이터 타입은 각기 클래스는 다르지만, 기능적으로는 동일하게 구현된 자료구조를 가질 수 있음\n",
    "- 자료구조는 크게 배열 기반의 연속(continuation) 방식과 포인터 기반의 연결(link) 방식으로 분류\n",
    "- 예를 들어 파이썬에서 연속적으로 할당된 자료구조는 문자열, 리스트, 튜플, 딕셔너리 등이 존재\n",
    "- 이번 장에서는 조금 더 특화된 연속 구조의 예와 연결 구조의 예를 살펴본다\n",
    "\n",
    "# 7.1 스택\n",
    "<hr style=\"1px;\">\n",
    "\n",
    "- 스택은 배열의 끝에서만 데이터를 접근할 수 있는 선형 자료구조\n",
    "- 배열 인덱스 접근이 제한되며, LIFO 구조\n",
    "- 책상 위에 쌓여 있는 책이나 싱크대에 쌓여 있는 접시를 연상할 것\n",
    "- 시간복잡도는 모두 O(1)\n",
    "\n",
    "- **push** : 스택 맨 끝(맨 위)에 항목을 삽입\n",
    "- **pop** : 스택 맨 끝 항목을 반환하는 동시에 스택에서 제거\n",
    "- **top/peek** : 스택 맨 끝 항목을 조회\n",
    "- **empty** : 스택이 비어 있는지 확인\n",
    "- **size** : 스택 크기를 확인\n",
    "\n",
    "리스트의 append()와 pop() 메서드로 스택을 구현 가능"
   ]
  },
  {
   "cell_type": "code",
   "execution_count": 1,
   "metadata": {},
   "outputs": [
    {
     "name": "stdout",
     "output_type": "stream",
     "text": [
      "[]\n",
      "스택이 비었나요? True\n",
      "스택에 숫자 0~9를 추가합니다.\n",
      "스택 크기: 10\n",
      "peek: 9\n",
      "pop: 9\n",
      "peek: 8\n",
      "스택이 비었나요? False\n",
      "[0, 1, 2, 3, 4, 5, 6, 7, 8]\n"
     ]
    }
   ],
   "source": [
    "# 1_stack.py\n",
    "class Stack(object):\n",
    "    def __init__(self):\n",
    "        self.items = []\n",
    "        \n",
    "    def isEmpty(self):\n",
    "        return not bool(self.items)\n",
    "    \n",
    "    def push(self, value):\n",
    "        self.items.append(value)\n",
    "        \n",
    "    def pop(self):\n",
    "        value = self.items.pop()\n",
    "        if value is not None:\n",
    "            return value\n",
    "        else:\n",
    "            print(\"Stack is empty.\")\n",
    "            \n",
    "    def size(self):\n",
    "        return len(self.items)\n",
    "    \n",
    "    def peek(self):\n",
    "        if self.items:\n",
    "            return self.items[-1]\n",
    "        else:\n",
    "            print(\"Stack is empty\")\n",
    "            \n",
    "    def __repr__(self):\n",
    "        return repr(self.items)\n",
    "    \n",
    "if __name__ == \"__main__\":\n",
    "    stack = Stack()\n",
    "    print(stack)\n",
    "    print(\"스택이 비었나요? {0}\".format(stack.isEmpty()))\n",
    "    print(\"스택에 숫자 0~9를 추가합니다.\")\n",
    "    for i in range(10):\n",
    "        stack.push(i)\n",
    "    print(\"스택 크기: {0}\".format(stack.size()))\n",
    "    print(\"peek: {0}\".format(stack.peek()))\n",
    "    print(\"pop: {0}\".format(stack.pop()))\n",
    "    print(\"peek: {0}\".format(stack.peek()))\n",
    "    print(\"스택이 비었나요? {0}\".format(stack.isEmpty()))\n",
    "    print(stack)"
   ]
  },
  {
   "cell_type": "markdown",
   "metadata": {},
   "source": [
    "아래 코드에서는 노드(객체)의 컨테이너로 스택을 구현함."
   ]
  },
  {
   "cell_type": "code",
   "execution_count": 3,
   "metadata": {},
   "outputs": [
    {
     "name": "stdout",
     "output_type": "stream",
     "text": [
      "<__main__.Stack object at 0x00000210D3C9CA08>\n",
      "스택이 비었나요? True\n",
      "스택에 숫자 0~9를 추가합니다.\n",
      "9 8 7 6 5 4 3 2 1 0 \n",
      "스택 크기: 10\n",
      "peek: 9\n",
      "pop: 9\n",
      "peek: 8\n",
      "스택이 비었나요? False\n",
      "8 7 6 5 4 3 2 1 0 \n"
     ]
    }
   ],
   "source": [
    "# 2_stack_with_node.py\n",
    "class Node(object):\n",
    "    def __init__(self, value=None, pointer=None):\n",
    "        self.value = value\n",
    "        self.pointer = pointer\n",
    "        \n",
    "class Stack(object):\n",
    "    def __init__(self):\n",
    "        self.head = None\n",
    "        self.count = 0\n",
    "        \n",
    "    def isEmpty(self):\n",
    "        return not bool(self.head)\n",
    "    \n",
    "    def push(self, item):\n",
    "        self.head = Node(item, self.head)  # node.pointer에는 이전 노드의 주소값이 들어감\n",
    "        self.count += 1\n",
    "        \n",
    "    def pop(self):\n",
    "        if self.count > 0 and self.head:\n",
    "            node = self.head\n",
    "            self.head = node.pointer\n",
    "            self.count -= 1\n",
    "            return node.value\n",
    "        else:\n",
    "            print(\"Stack is empty.\")\n",
    "            \n",
    "    def peek(self):\n",
    "        if self.count > 0 and self.head:\n",
    "            return self.head.value\n",
    "        else:\n",
    "            print(\"Stack is empty.\")\n",
    "            \n",
    "    def size(self):\n",
    "        return self.count\n",
    "    \n",
    "    def _printList(self):\n",
    "        node = self.head\n",
    "        while node:\n",
    "            print(node.value, end=' ')\n",
    "            node = node.pointer\n",
    "        print()\n",
    "        \n",
    "if __name__ == \"__main__\":\n",
    "    stack = Stack()\n",
    "    print(stack)\n",
    "    print(\"스택이 비었나요? {0}\".format(stack.isEmpty()))\n",
    "    print(\"스택에 숫자 0~9를 추가합니다.\")\n",
    "    for i in range(10):\n",
    "        stack.push(i)\n",
    "    stack._printList()\n",
    "    print(\"스택 크기: {0}\".format(stack.size()))\n",
    "    print(\"peek: {0}\".format(stack.peek()))\n",
    "    print(\"pop: {0}\".format(stack.pop()))\n",
    "    print(\"peek: {0}\".format(stack.peek()))\n",
    "    print(\"스택이 비었나요? {0}\".format(stack.isEmpty()))\n",
    "    stack._printList()"
   ]
  },
  {
   "cell_type": "markdown",
   "metadata": {},
   "source": [
    "- 스택은 깊이 우선 탐색(DFS)에서 유용하게 사용\n",
    "- 깊이 우선 탐색은 14장에서 살펴볼 예정"
   ]
  },
  {
   "cell_type": "markdown",
   "metadata": {},
   "source": [
    "# 7.2 큐\n",
    "<hr>\n",
    "\n",
    "- 큐(queue)는 스택과 다르게 항목이 들어온 순서대로 접근 가능, 즉, FIFO 구조\n",
    "- 큐 역시 배열의 인덱스 접근이 제한\n",
    "- 시간복잡도는 모두 O(1)\n",
    "\n",
    "- **enqueue** : 큐 뒤쪽에 항목을 삽입\n",
    "- **dequeue** : 큐 앞쪽의 항목을 반환하고, 제거\n",
    "- **peek/front** : 큐 앞쪽의 항목을 조회\n",
    "- **empty** : 큐가 비어 있는지 확인\n",
    "- **size** : 큐의 크기를 확인"
   ]
  },
  {
   "cell_type": "code",
   "execution_count": 4,
   "metadata": {},
   "outputs": [
    {
     "name": "stdout",
     "output_type": "stream",
     "text": [
      "큐가 비었나요? True\n",
      "큐에 숫자 0~9를 추가합니다.\n",
      "큐 크기: 10\n",
      "peek: 0\n",
      "dequeue: 0\n",
      "peek: 1\n",
      "큐가 비었나요? False\n",
      "[9, 8, 7, 6, 5, 4, 3, 2, 1]\n"
     ]
    }
   ],
   "source": [
    "# 3_queue.py\n",
    "class Queue(object):\n",
    "    def __init__(self):\n",
    "        self.items = []\n",
    "        \n",
    "    def isEmpty(self):\n",
    "        return not bool(self.items)\n",
    "    \n",
    "    def enqueue(self, item):\n",
    "        self.items.insert(0, item)\n",
    "        \n",
    "    def dequeue(self):\n",
    "        value = self.items.pop()\n",
    "        if value is not None:\n",
    "            return value\n",
    "        else:\n",
    "            print(\"Queue is empty.\")\n",
    "            \n",
    "    def size(self):\n",
    "        return len(self.items)\n",
    "    \n",
    "    def peek(self):\n",
    "        if self.items:\n",
    "            return self.items[-1]\n",
    "        else:\n",
    "            print(\"Queue is empty.\")\n",
    "            \n",
    "    def __repr__(self):\n",
    "        return repr(self.items)\n",
    "    \n",
    "\n",
    "if __name__ == \"__main__\":\n",
    "    queue = Queue()\n",
    "    print(\"큐가 비었나요? {0}\".format(queue.isEmpty()))\n",
    "    print(\"큐에 숫자 0~9를 추가합니다.\")\n",
    "    for i in range(10):\n",
    "        queue.enqueue(i)\n",
    "    print(\"큐 크기: {0}\".format(queue.size()))\n",
    "    print(\"peek: {0}\".format(queue.peek()))\n",
    "    print(\"dequeue: {0}\".format(queue.dequeue()))\n",
    "    print(\"peek: {0}\".format(queue.peek()))\n",
    "    print(\"큐가 비었나요? {0}\".format(queue.isEmpty()))\n",
    "    print(queue)"
   ]
  },
  {
   "cell_type": "markdown",
   "metadata": {},
   "source": [
    "- 위 코드에서는 리스트의 insert() 메서드를 썼지만, 이는 모든 요소가 메모리에서 이동될 수 있으므로 비효율적(O(n))\n",
    "- 두개의 스택(두개의 리스트)을 사용하면 효율적인 큐를 작성할 수 있음"
   ]
  },
  {
   "cell_type": "code",
   "execution_count": 1,
   "metadata": {},
   "outputs": [
    {
     "name": "stdout",
     "output_type": "stream",
     "text": [
      "큐가 비었나요? True\n",
      "큐에 숫자 0~9를 추가합니다.\n",
      "큐 크기: 10\n",
      "peek: 0\n",
      "dequeue: 0\n",
      "peek: 1\n",
      "큐가 비었나요? False\n",
      "in_stack: ['추가요소']\n",
      "out_stack: [9, 8, 7, 6, 5, 4, 3, 2, 1]\n",
      "[9, 8, 7, 6, 5, 4, 3, 2, 1]\n"
     ]
    }
   ],
   "source": [
    "# 4_queue_from_two_stacks.py\n",
    "class Queue(object):\n",
    "    def __init__(self):\n",
    "        self.in_stack = []\n",
    "        self.out_stack = []\n",
    "        \n",
    "    def _transfer(self):\n",
    "        while self.in_stack:\n",
    "            self.out_stack.append(self.in_stack.pop())\n",
    "            \n",
    "    def enqueue(self, item):\n",
    "        return self.in_stack.append(item)\n",
    "    \n",
    "    def dequeue(self):\n",
    "        if not self.out_stack:\n",
    "            self._transfer()\n",
    "        if self.out_stack:\n",
    "            return self.out_stack.pop()\n",
    "        else:\n",
    "            print(\"Queue is empty!\")\n",
    "            \n",
    "    def size(self):\n",
    "        return len(self.in_stack) + len(self.out_stack)\n",
    "    \n",
    "    def peek(self):\n",
    "        if not self.out_stack:\n",
    "            self._transfer()\n",
    "        if self.out_stack:\n",
    "            return self.out_stack[-1]\n",
    "        else:\n",
    "            print(\"Queue is empty!\")\n",
    "            \n",
    "    def __repr__(self):\n",
    "        if not self.out_stack:\n",
    "            self._transfer()\n",
    "        if self.out_stack:\n",
    "            return repr(self.out_stack)  # self.in_stack에 요소가 있어도 무시됨.. 문제 있음.\n",
    "        else:\n",
    "            print(\"Queue is empty!\")\n",
    "            \n",
    "    def isEmpty(self):\n",
    "        return not (bool(self.in_stack) or bool(self.out_stack))\n",
    "    \n",
    "if __name__ == \"__main__\":\n",
    "    queue = Queue()\n",
    "    print(\"큐가 비었나요? {0}\".format(queue.isEmpty()))\n",
    "    print(\"큐에 숫자 0~9를 추가합니다.\")\n",
    "    for i in range(10):\n",
    "        queue.enqueue(i)\n",
    "    print(\"큐 크기: {0}\".format(queue.size()))\n",
    "    print(\"peek: {0}\".format(queue.peek()))\n",
    "    print(\"dequeue: {0}\".format(queue.dequeue()))\n",
    "    print(\"peek: {0}\".format(queue.peek()))\n",
    "    print(\"큐가 비었나요? {0}\".format(queue.isEmpty()))\n",
    "    queue.enqueue(\"추가요소\")\n",
    "    print(\"in_stack: {0}\".format(queue.in_stack))\n",
    "    print(\"out_stack: {0}\".format(queue.out_stack))\n",
    "    print(queue)"
   ]
  },
  {
   "cell_type": "code",
   "execution_count": 8,
   "metadata": {},
   "outputs": [
    {
     "name": "stdout",
     "output_type": "stream",
     "text": [
      "큐가 비었나요? True\n",
      "큐에 숫자 0~9를 추가합니다.\n",
      "큐가 비었나요? False\n",
      "0 1 2 3 4 5 6 7 8 9 \n",
      "큐 크기: 10\n",
      "peek: 0\n",
      "dequeue: 0\n",
      "peek: 1\n",
      "1 2 3 4 5 6 7 8 9 \n"
     ]
    }
   ],
   "source": [
    "# 5_linked_queue.py\n",
    "class Node(object):\n",
    "    def __init__(self, value=None, pointer=None):\n",
    "        self.value = value\n",
    "        self.pointer = None\n",
    "        \n",
    "class LinkedQueue(object):\n",
    "    def __init__(self):\n",
    "        self.head = None\n",
    "        self.tail = None\n",
    "        self.count = 0\n",
    "        \n",
    "    def isEmpty(self):\n",
    "        return not bool(self.head)\n",
    "    \n",
    "    def dequeue(self):\n",
    "        if self.head:\n",
    "            value = self.head.value\n",
    "            self.head = self.head.pointer  # 2번째 앞에 있는 주소값을 self.head에 넣어줌\n",
    "            self.count -= 1\n",
    "            return value\n",
    "        else:\n",
    "            print(\"Queue is empty.\")\n",
    "            \n",
    "    def enqueue(self, value):\n",
    "        node = Node(value)\n",
    "        if not self.head:  # queue에 아무 값이 없을 때\n",
    "            self.head = node\n",
    "            self.tail = node\n",
    "        else:  # queue에 이미 요소들이 있을 때\n",
    "            if self.tail: # \n",
    "                self.tail.pointer = node # 바로앞 노드의 \"이전 주소\"란에 새로운 끝노드의 주소값을 넣어줌\n",
    "            self.tail = node # 큐의 tail에 신규 노드의 주소값을 넣음\n",
    "        self.count += 1\n",
    "        \n",
    "    def size(self):\n",
    "        return self.count\n",
    "    \n",
    "    def peek(self):\n",
    "        return self.head.value\n",
    "    \n",
    "    def print(self):\n",
    "        node = self.head\n",
    "        while node:\n",
    "            print(node.value, end=' ')\n",
    "            node = node.pointer\n",
    "        print()\n",
    "        \n",
    "if __name__ == \"__main__\":\n",
    "    queue = LinkedQueue()\n",
    "    print(\"큐가 비었나요? {0}\".format(queue.isEmpty()))\n",
    "    print(\"큐에 숫자 0~9를 추가합니다.\")\n",
    "    for i in range(10):\n",
    "        queue.enqueue(i)\n",
    "    print(\"큐가 비었나요? {0\n",
    "          }\".format(queue.isEmpty()))\n",
    "    queue.print()\n",
    "    \n",
    "    print(\"큐 크기: {0}\".format(queue.size()))\n",
    "    print(\"peek: {0}\".format(queue.peek()))\n",
    "    print(\"dequeue: {0}\".format(queue.dequeue()))\n",
    "    print(\"peek: {0}\".format(queue.peek()))\n",
    "    queue.print()"
   ]
  },
  {
   "cell_type": "markdown",
   "metadata": {},
   "source": [
    "# 7.3 데크\n",
    "<hr>\n",
    "\n",
    "- 데크(deque)는 스택과 큐의 결합체로 볼 수 있음\n",
    "- 양쪽 끝에서 항목의 조회, 삽입, 삭제가 가능\n",
    "- 앞에서 구현한 큐를 바탕으로 다음과 같이 구현 가능"
   ]
  },
  {
   "cell_type": "code",
   "execution_count": 7,
   "metadata": {},
   "outputs": [
    {
     "name": "stdout",
     "output_type": "stream",
     "text": [
      "데크(Deque)가 비었나요? True\n",
      "데크에 숫자 0~9를 추가합니다.\n",
      "데크 크기: 10\n",
      "peek: 0\n",
      "dequeue: 0\n",
      "peek: 1\n",
      "데크가 비었나요? False\n",
      "\n",
      "데크: [9, 8, 7, 6, 5, 4, 3, 2, 1]\n",
      "dequeue: 9\n",
      "peek: 1\n",
      "데크: [8, 7, 6, 5, 4, 3, 2, 1]\n",
      "enqueue_back(50)을 수행합니다.\n",
      "peek: 50\n",
      "데크: [8, 7, 6, 5, 4, 3, 2, 1, 50]\n"
     ]
    }
   ],
   "source": [
    "# 6_deque.py\n",
    "class Queue(object):\n",
    "    def __init__(self):\n",
    "        self.items = []\n",
    "        \n",
    "    def isEmpty(self):\n",
    "        return not bool(self.items)\n",
    "    \n",
    "    def enqueue(self, item):\n",
    "        self.items.insert(0, item)\n",
    "        \n",
    "    def dequeue(self):\n",
    "        value = self.items.pop()\n",
    "        if value is not None:\n",
    "            return value\n",
    "        else:\n",
    "            print(\"Queue is empty.\")\n",
    "            \n",
    "    def size(self):\n",
    "        return len(self.items)\n",
    "    \n",
    "    def peek(self):\n",
    "        if self.items:\n",
    "            return self.items[-1]\n",
    "        else:\n",
    "            print(\"Queue is empty.\")\n",
    "            \n",
    "    def __repr__(self):\n",
    "        return repr(self.items)\n",
    "\n",
    "    \n",
    "class Deque(Queue):\n",
    "    def enqueue_back(self, item):\n",
    "        self.items.append(item)\n",
    "        \n",
    "    def dequeue_front(self):\n",
    "        value = self.items.pop(0)\n",
    "        if value is not None:\n",
    "            return value\n",
    "        else:\n",
    "            print(\"Deque is empty.\")\n",
    "            \n",
    "if __name__ == \"__main__\":\n",
    "    deque = Deque()\n",
    "    print(\"데크(Deque)가 비었나요? {0}\".format(deque.isEmpty()))\n",
    "    print(\"데크에 숫자 0~9를 추가합니다.\")\n",
    "    for i in range(10):\n",
    "        deque.enqueue(i)\n",
    "    print(\"데크 크기: {0}\".format(deque.size()))\n",
    "    print(\"peek: {0}\".format(deque.peek()))\n",
    "    print(\"dequeue: {0}\".format(deque.dequeue()))\n",
    "    print(\"peek: {0}\".format(deque.peek()))\n",
    "    print(\"데크가 비었나요? {0}\".format(deque.isEmpty()))\n",
    "    print()\n",
    "    print(\"데크: {0}\".format(deque))\n",
    "    print(\"dequeue: {0}\".format(deque.dequeue_front()))\n",
    "    print(\"peek: {0}\".format(deque.peek()))\n",
    "    print(\"데크: {0}\".format(deque))\n",
    "    print(\"enqueue_back(50)을 수행합니다.\")\n",
    "    deque.enqueue_back(50)\n",
    "    print(\"peek: {0}\".format(deque.peek()))\n",
    "    print(\"데크: {0}\".format(deque))"
   ]
  },
  {
   "cell_type": "markdown",
   "metadata": {},
   "source": [
    "- 이 코드 역시 끝이 아닌 다른 위치에 있는 항목을 삽입하거나 제거할 때는 비효율적\n",
    "- 그 이유는 Queue 클래스에서 리스트의 insert() 메서드를 사용하기 때문\n",
    "- collections 패키지의 deque 모듈을 사용하면 이 문제가 해결"
   ]
  },
  {
   "cell_type": "code",
   "execution_count": 8,
   "metadata": {},
   "outputs": [
    {
     "data": {
      "text/plain": [
       "deque(['버피', '젠더', '윌로'])"
      ]
     },
     "execution_count": 8,
     "metadata": {},
     "output_type": "execute_result"
    }
   ],
   "source": [
    "from collections import deque\n",
    "q = deque([\"버피\", \"젠더\", \"윌로\"])\n",
    "q"
   ]
  },
  {
   "cell_type": "code",
   "execution_count": 9,
   "metadata": {},
   "outputs": [
    {
     "data": {
      "text/plain": [
       "deque(['버피', '젠더', '윌로', '자일스'])"
      ]
     },
     "execution_count": 9,
     "metadata": {},
     "output_type": "execute_result"
    }
   ],
   "source": [
    "q.append(\"자일스\")\n",
    "q"
   ]
  },
  {
   "cell_type": "code",
   "execution_count": 10,
   "metadata": {},
   "outputs": [
    {
     "data": {
      "text/plain": [
       "'버피'"
      ]
     },
     "execution_count": 10,
     "metadata": {},
     "output_type": "execute_result"
    }
   ],
   "source": [
    "q.popleft()"
   ]
  },
  {
   "cell_type": "code",
   "execution_count": 11,
   "metadata": {},
   "outputs": [
    {
     "data": {
      "text/plain": [
       "'자일스'"
      ]
     },
     "execution_count": 11,
     "metadata": {},
     "output_type": "execute_result"
    }
   ],
   "source": [
    "q.pop()"
   ]
  },
  {
   "cell_type": "code",
   "execution_count": 12,
   "metadata": {},
   "outputs": [
    {
     "data": {
      "text/plain": [
       "deque(['젠더', '윌로'])"
      ]
     },
     "execution_count": 12,
     "metadata": {},
     "output_type": "execute_result"
    }
   ],
   "source": [
    "q"
   ]
  },
  {
   "cell_type": "code",
   "execution_count": 13,
   "metadata": {},
   "outputs": [
    {
     "data": {
      "text/plain": [
       "deque(['엔젤', '젠더', '윌로'])"
      ]
     },
     "execution_count": 13,
     "metadata": {},
     "output_type": "execute_result"
    }
   ],
   "source": [
    "q.appendleft('엔젤')\n",
    "q"
   ]
  },
  {
   "cell_type": "markdown",
   "metadata": {},
   "source": [
    "- deque 모듈을 사용하면 q = deque(maxlen=4) 같은 식으로 데크의 크기를 지정할 수 있음\n",
    "- 또한 rotate(n) 메서드는 n이 양수이면 오른쪽으로, n이 음수이면 왼쪽으로 n만큼 시프트 시킴"
   ]
  },
  {
   "cell_type": "code",
   "execution_count": 14,
   "metadata": {},
   "outputs": [
    {
     "data": {
      "text/plain": [
       "deque(['엔젤', '젠더', '윌로'])"
      ]
     },
     "execution_count": 14,
     "metadata": {},
     "output_type": "execute_result"
    }
   ],
   "source": [
    "q"
   ]
  },
  {
   "cell_type": "code",
   "execution_count": 15,
   "metadata": {},
   "outputs": [],
   "source": [
    "q.rotate(1)"
   ]
  },
  {
   "cell_type": "code",
   "execution_count": 16,
   "metadata": {},
   "outputs": [
    {
     "data": {
      "text/plain": [
       "deque(['윌로', '엔젤', '젠더'])"
      ]
     },
     "execution_count": 16,
     "metadata": {},
     "output_type": "execute_result"
    }
   ],
   "source": [
    "q"
   ]
  },
  {
   "cell_type": "code",
   "execution_count": 17,
   "metadata": {},
   "outputs": [
    {
     "data": {
      "text/plain": [
       "deque(['엔젤', '젠더', '윌로'])"
      ]
     },
     "execution_count": 17,
     "metadata": {},
     "output_type": "execute_result"
    }
   ],
   "source": [
    "q.rotate(2)\n",
    "q"
   ]
  },
  {
   "cell_type": "code",
   "execution_count": 18,
   "metadata": {},
   "outputs": [
    {
     "data": {
      "text/plain": [
       "deque(['엔젤', '젠더', '윌로'])"
      ]
     },
     "execution_count": 18,
     "metadata": {},
     "output_type": "execute_result"
    }
   ],
   "source": [
    "q.rotate(3)\n",
    "q"
   ]
  },
  {
   "cell_type": "code",
   "execution_count": 19,
   "metadata": {},
   "outputs": [
    {
     "data": {
      "text/plain": [
       "deque(['젠더', '윌로', '엔젤'])"
      ]
     },
     "execution_count": 19,
     "metadata": {},
     "output_type": "execute_result"
    }
   ],
   "source": [
    "q.rotate(-1)\n",
    "q"
   ]
  },
  {
   "cell_type": "code",
   "execution_count": 20,
   "metadata": {},
   "outputs": [
    {
     "data": {
      "text/plain": [
       "deque(['엔젤', '젠더', '윌로'])"
      ]
     },
     "execution_count": 20,
     "metadata": {},
     "output_type": "execute_result"
    }
   ],
   "source": [
    "q.rotate(-2)\n",
    "q"
   ]
  },
  {
   "cell_type": "markdown",
   "metadata": {},
   "source": [
    "- collections 패키지의 deque 모듈은 동적 배열이 아닌 이중 연결 리스트(7.5 연결 리스트)를 기반으로 한다는 점도 기억해두자."
   ]
  },
  {
   "cell_type": "markdown",
   "metadata": {},
   "source": [
    "# 7.4 우선순위 큐와 힙\n",
    "<hr>\n",
    "\n",
    "- 우선순위 큐(primary queue)는 일반 스택과 큐와 비슷한 추상 데이터 타입이나, 각 항목마다 연관된 우선순위 존재\n",
    "- 두 항목의 우선순위가 같으면 큐의 순서를 따른다\n",
    "- 우선순위 큐는 힙을 사용하여 구현\n",
    "\n",
    "## 7.4.1 힙\n",
    "- 힙(heap)은 각 노드가 하위 노드보다 작은(또는 큰) 이진 트리\n",
    "- 균형 트리의 모양이 수정될 때, 다시 이를 균형 트리로 만드는 시간복잡도는 O(log n)\n",
    "- 힙은 리스트에서 가장 작은(또는 가장 큰) 요소에 반복적으로 접근하는 프로그램에 유용\n",
    "- 최소(또는 최대) 힙을 사용하면 가장 작은(또는 가장 큰) 요소를 처리하는 시간복잡도는 O(1)\n",
    "- 그 외의 조회, 추가, 수정을 처리하는 시간복잡도는 O(log n)\n",
    "\n",
    "## 7.4.2 heapq 모듈\n",
    "- heapq 모듈은 효율적으로 시퀀스를 힙으로 유지하면서 항목을 삽입하고 제거하는 함수 제공\n",
    "- heapq.heapify() 함수를 사용하면 O(n) 시간에 리스트를 힙으로 변환 가능"
   ]
  },
  {
   "cell_type": "code",
   "execution_count": 3,
   "metadata": {},
   "outputs": [
    {
     "data": {
      "text/plain": [
       "[1, 4, 8, 6]"
      ]
     },
     "execution_count": 3,
     "metadata": {},
     "output_type": "execute_result"
    }
   ],
   "source": [
    "import heapq\n",
    "list1 = [4, 6, 8, 1]\n",
    "heapq.heapify(list1)\n",
    "list1"
   ]
  },
  {
   "cell_type": "markdown",
   "metadata": {},
   "source": [
    "항목을 힙에 삽입할 때는 heapq.heappush(heap, item)을 사용"
   ]
  },
  {
   "cell_type": "code",
   "execution_count": 4,
   "metadata": {},
   "outputs": [
    {
     "data": {
      "text/plain": [
       "[(1, 'food'), (2, 'have fun'), (3, 'work'), (4, 'study')]"
      ]
     },
     "execution_count": 4,
     "metadata": {},
     "output_type": "execute_result"
    }
   ],
   "source": [
    "h = []\n",
    "heapq.heappush(h, (1, 'food'))\n",
    "heapq.heappush(h, (2, 'have fun'))\n",
    "heapq.heappush(h, (3, 'work'))\n",
    "heapq.heappush(h, (4, 'study'))\n",
    "h"
   ]
  },
  {
   "cell_type": "markdown",
   "metadata": {},
   "source": [
    "heapq.heappop(heap) 함수는 힙에서 가장 작은 항목을 제거하고 반환한다"
   ]
  },
  {
   "cell_type": "code",
   "execution_count": 5,
   "metadata": {},
   "outputs": [
    {
     "data": {
      "text/plain": [
       "[1, 4, 8, 6]"
      ]
     },
     "execution_count": 5,
     "metadata": {},
     "output_type": "execute_result"
    }
   ],
   "source": [
    "list1"
   ]
  },
  {
   "cell_type": "code",
   "execution_count": 6,
   "metadata": {},
   "outputs": [
    {
     "data": {
      "text/plain": [
       "1"
      ]
     },
     "execution_count": 6,
     "metadata": {},
     "output_type": "execute_result"
    }
   ],
   "source": [
    "heapq.heappop(list1)"
   ]
  },
  {
   "cell_type": "code",
   "execution_count": 7,
   "metadata": {},
   "outputs": [
    {
     "data": {
      "text/plain": [
       "[4, 6, 8]"
      ]
     },
     "execution_count": 7,
     "metadata": {},
     "output_type": "execute_result"
    }
   ],
   "source": [
    "list1"
   ]
  },
  {
   "cell_type": "markdown",
   "metadata": {},
   "source": [
    "- heapq.heappushpop(heap, item)은 새 항목을 힙에 추가한 후(push), 가장 작은 항목을 제거하고 반환(pop)\n",
    "- heapq.heapreplace(heap, item)은 힙의 가장 작은 항목을 제거하고 반환 후(pop), 새 항목을 추가(push)\n",
    "- heappush()와 heappop() 메서드를 따로 사용하는 것보다 한번에 heappushpop() 혹은 heapreplace() 메서드를 사용하는 것이 더 효율적\n",
    "\n",
    "- 힙의 속성을 사용하면 많은 연산을 할 수 있음\n",
    "- 예를 들어 heapq.merge(\\*iterables)는 여러 개의 정렬된 반복 가능한 객체를 병합하여 하나의 정렬된 결과의 이터레이터를 반환"
   ]
  },
  {
   "cell_type": "code",
   "execution_count": 8,
   "metadata": {},
   "outputs": [
    {
     "data": {
      "text/plain": [
       "[(2, 'have fun'), (4, 'study'), (3, 'work'), (5, 'game')]"
      ]
     },
     "execution_count": 8,
     "metadata": {},
     "output_type": "execute_result"
    }
   ],
   "source": [
    "heapq.heappushpop(h, (5, 'game'))\n",
    "h"
   ]
  },
  {
   "cell_type": "code",
   "execution_count": 9,
   "metadata": {},
   "outputs": [
    {
     "data": {
      "text/plain": [
       "[(1, 'swimming'), (4, 'study'), (3, 'work'), (5, 'game')]"
      ]
     },
     "execution_count": 9,
     "metadata": {},
     "output_type": "execute_result"
    }
   ],
   "source": [
    "heapq.heapreplace(h, (1, 'swimming'))\n",
    "h"
   ]
  },
  {
   "cell_type": "code",
   "execution_count": 10,
   "metadata": {},
   "outputs": [
    {
     "name": "stdout",
     "output_type": "stream",
     "text": [
      "1\n",
      "2\n",
      "3\n",
      "4\n",
      "5\n",
      "6\n"
     ]
    }
   ],
   "source": [
    "for x in heapq.merge([1,3,5], [2,4,6]):\n",
    "    print(x)"
   ]
  },
  {
   "cell_type": "markdown",
   "metadata": {},
   "source": [
    "- heapq.nlargest(n, iterable[, key])와 heapq.nsmallest(n, iterable[, key])는 데이터(반복 가능한 객체에 의해 정의된)에서 n개의 가장 큰 요소와 가장 작은 요소가 있는 리스트를 반환"
   ]
  },
  {
   "cell_type": "markdown",
   "metadata": {},
   "source": [
    "## 7.4.3 최대 힙 구하기\n",
    "\n",
    "- 힙 클래스를 직접 만들기 위해 먼저 heapq 모듈의 heapify() 함수를 구현해 보자.\n",
    "- 최대 힙(max-heap)을 예시로 리스트 [3, 2, 5, 1, 7, 8, 2]를 힙으로 만들어보겠다"
   ]
  },
  {
   "cell_type": "code",
   "execution_count": 25,
   "metadata": {},
   "outputs": [
    {
     "name": "stdout",
     "output_type": "stream",
     "text": [
      "largest:left:right:n =  3 : 7 : 8 : 7\n",
      "왼쪽 자식 largest:  3\n",
      "오른쪽 자식 largest:  3\n",
      "largest:left:right:n =  2 : 5 : 6 : 7\n",
      "왼쪽 자식 largest:  5\n",
      "오른쪽 자식 largest:  5\n",
      "largest:left:right:n =  5 : 11 : 12 : 7\n",
      "왼쪽 자식 largest:  5\n",
      "오른쪽 자식 largest:  5\n",
      "largest:left:right:n =  1 : 3 : 4 : 7\n",
      "왼쪽 자식 largest:  1\n",
      "오른쪽 자식 largest:  4\n",
      "largest:left:right:n =  4 : 9 : 10 : 7\n",
      "왼쪽 자식 largest:  4\n",
      "오른쪽 자식 largest:  4\n",
      "largest:left:right:n =  0 : 1 : 2 : 7\n",
      "왼쪽 자식 largest:  1\n",
      "오른쪽 자식 largest:  2\n",
      "largest:left:right:n =  2 : 5 : 6 : 7\n",
      "왼쪽 자식 largest:  5\n",
      "오른쪽 자식 largest:  5\n",
      "largest:left:right:n =  5 : 11 : 12 : 7\n",
      "왼쪽 자식 largest:  5\n",
      "오른쪽 자식 largest:  5\n",
      "h = [8, 7, 5, 1, 2, 3, 2]\n",
      "largest:left:right:n =  0 : 1 : 2 : 6\n",
      "왼쪽 자식 largest:  1\n",
      "오른쪽 자식 largest:  1\n",
      "largest:left:right:n =  1 : 3 : 4 : 6\n",
      "왼쪽 자식 largest:  1\n",
      "오른쪽 자식 largest:  1\n",
      "테스트 통과!\n"
     ]
    }
   ],
   "source": [
    "# 7_max_heapify.py\n",
    "class Heapify(object):\n",
    "    \n",
    "    def __init__(self, data=None):\n",
    "        self.data = data or []\n",
    "        for i in range(len(data)//2, -1, -1):\n",
    "            self.__max_heapify__(i)\n",
    "            \n",
    "    def __repr__(self):\n",
    "        return repr(self.data)\n",
    "    \n",
    "    def parent(self, i):\n",
    "        if i & 1: # 홀수\n",
    "            return i >> 1\n",
    "        else: # 짝수\n",
    "            return (i >> 1) - 1\n",
    "        \n",
    "    def left_child(self, i):\n",
    "        return (i << 1) + 1\n",
    "    \n",
    "    def right_child(self, i):\n",
    "        return (i << 1) + 2\n",
    "    \n",
    "    def __max_heapify__(self, i):\n",
    "        largest = i                  # 3, 2\n",
    "        left = self.left_child(i)    # 7, 5\n",
    "        right = self.right_child(i)  # 8, 6\n",
    "        n = len(self.data)           # 7, 7\n",
    "        print(\"largest:left:right:n = \", largest, \":\", left, \":\", right, \":\", n)\n",
    "        \n",
    "        # 왼쪽 자식\n",
    "        largest = (left < n and self.data[left] > self.data[i]) and left or i\n",
    "        print(\"왼쪽 자식 largest: \", largest)\n",
    "        # 오른쪽 자식\n",
    "        largest = (right < n and self.data[right] > self.data[largest]) and\\\n",
    "            right or largest\n",
    "        print(\"오른쪽 자식 largest: \", largest)\n",
    "        \n",
    "        # 현재 노드가 자식들보다 크다면 Skip, 자식이 크다면 Swap\n",
    "        if i is not largest:\n",
    "            self.data[i], self.data[largest] = self.data[largest], self.data[i]\n",
    "            # print(self.data)\n",
    "            self.__max_heapify__(largest)\n",
    "            \n",
    "    def extract_max(self):\n",
    "        n = len(self.data)\n",
    "        max_element = self.data[0]\n",
    "        # 첫번째 노드에 마지막 노드를 삽입\n",
    "        self.data[0] = self.data[n-1]\n",
    "        self.data = self.data[:n-1]\n",
    "        self.__max_heapify__(0)\n",
    "        return max_element\n",
    "    \n",
    "    def insert(self, item):\n",
    "        i = len(self.data)\n",
    "        self.data.append(item)\n",
    "        while (i != 0) and item > self.data[self.parent(i)]:\n",
    "            print(self.data)\n",
    "            self.data[i] = self.data[self.parent(i)]\n",
    "            i = self.parent(i)\n",
    "        self.data[i] = item\n",
    "        \n",
    "\n",
    "def test_heapify():\n",
    "    l1 = [3, 2, 5, 1, 7, 8, 2]\n",
    "    h = Heapify(l1)\n",
    "    print(\"h =\", h)\n",
    "    assert(h.extract_max() == 8)\n",
    "    print(\"테스트 통과!\")\n",
    "    \n",
    "if __name__ == \"__main__\":\n",
    "    test_heapify()\n",
    "        "
   ]
  },
  {
   "cell_type": "markdown",
   "metadata": {},
   "source": [
    "## 7.4.4 우선순위 큐 구현하기\n",
    "- heapq 모듈을 사용하여 우선순위 큐 클래스를 구현해보자.\n",
    "- 숫자가 클수록 우선순위가 높다."
   ]
  },
  {
   "cell_type": "code",
   "execution_count": 11,
   "metadata": {},
   "outputs": [
    {
     "name": "stdout",
     "output_type": "stream",
     "text": [
      "q: [(-4, 1, Item('test2')), (-1, 0, Item('test1')), (-3, 2, Item('test3'))]\n",
      "테스트 통과!\n"
     ]
    }
   ],
   "source": [
    "# 8_priority_queue.py\n",
    "import heapq\n",
    "\n",
    "class PriorityQueue(object):\n",
    "    def __init__(self):\n",
    "        self._queue = []\n",
    "        self._index = 0\n",
    "        \n",
    "    def push(self, item, priority):\n",
    "        heapq.heappush(self._queue, (-priority, self._index, item))\n",
    "        self._index += 1\n",
    "        \n",
    "    def pop(self):\n",
    "        return heapq.heappop(self._queue)[-1]\n",
    "    \n",
    "    def __repr__(self):\n",
    "        return repr(self._queue)\n",
    "    \n",
    "class Item:\n",
    "    def __init__(self, name):\n",
    "        self.name = name\n",
    "        \n",
    "    def __repr__(self):\n",
    "        return \"Item({0!r})\".format(self.name)\n",
    "    \n",
    "\n",
    "def test_priority_queue():\n",
    "    '''push와 pop은 모두 O(logN)이다.'''\n",
    "    q = PriorityQueue()\n",
    "    q.push(Item('test1'), 1)\n",
    "    q.push(Item('test2'), 4)\n",
    "    q.push(Item('test3'), 3)\n",
    "    print(\"q:\", q)\n",
    "    assert(str(q.pop()) == \"Item('test2')\")\n",
    "    print(\"테스트 통과!\")\n",
    "    \n",
    "if __name__ == \"__main__\":\n",
    "    test_priority_queue()"
   ]
  },
  {
   "cell_type": "markdown",
   "metadata": {},
   "source": [
    "# 7.5 연결 리스트\n",
    "<hr>\n",
    "\n",
    "- 연결 리스트(linked list)는 값과 다음 노드에 대한 포인터(참조)가 포함된 노드로 이루어진 선형 리스트\n",
    "- 마지막 노드는 null값(파이썬에서는 None)을 갖는다.\n",
    "- 연결 리스트로 stack(새 항목을 head에 추가)과 queue(새 항목을 tail에 추가)를 구현할 수 있다"
   ]
  },
  {
   "cell_type": "code",
   "execution_count": 7,
   "metadata": {},
   "outputs": [
    {
     "name": "stdout",
     "output_type": "stream",
     "text": [
      "a\n",
      "b\n",
      "aa\n",
      "e\n"
     ]
    }
   ],
   "source": [
    "# 9_node.py\n",
    "class Node(object):\n",
    "    def __init__(self, value=None, pointer=None):\n",
    "        self.value = value\n",
    "        self.pointer = pointer\n",
    "        \n",
    "    def getData(self):\n",
    "        return self.value\n",
    "    \n",
    "    def getNext(self):\n",
    "        return self.pointer\n",
    "    \n",
    "    def setData(self, newdata):\n",
    "        self.value = newdata\n",
    "        \n",
    "    def setNext(self, newpointer):\n",
    "        self.pointer = newpointer\n",
    "        \n",
    "if __name__ == \"__main__\":\n",
    "    L = Node(\"a\", Node(\"b\", Node(\"c\", Node(\"d\"))))\n",
    "    assert(L.pointer.pointer.value == \"c\")\n",
    "    \n",
    "    print(L.getData())\n",
    "    print(L.getNext().getData())\n",
    "    L.setData(\"aa\")\n",
    "    L.setNext(Node(\"e\"))\n",
    "    print(L.getData())\n",
    "    print(L.getNext().getData())"
   ]
  },
  {
   "cell_type": "markdown",
   "metadata": {},
   "source": [
    "- 이 노드들로 이루어진 LIFO 연결 리스트를 구현해보자."
   ]
  },
  {
   "cell_type": "code",
   "execution_count": 8,
   "metadata": {},
   "outputs": [
    {
     "name": "stdout",
     "output_type": "stream",
     "text": [
      "연결 리스트 출력:\n",
      "4 3 2 1 \n",
      "인덱스가 2인 노드 삭제 후, 연결 리스트 출력:\n",
      "4 3 1 \n",
      "값이 3인 노드 삭제 후, 연결 리스트 출력:\n",
      "4 1 \n",
      "값이 15인 노드 추가 후, 연결 리스트 출력:\n",
      "15 4 1 \n",
      "모든 노드 삭제 후, 연결 리스트 출력:\n",
      "\n"
     ]
    }
   ],
   "source": [
    "# 10_linkedlist_LIFO.py\n",
    "class Node(object):\n",
    "    def __init__(self, value=None, pointer=None):\n",
    "        self.value = value\n",
    "        self.pointer = pointer\n",
    "        \n",
    "    def getData(self):\n",
    "        return self.value\n",
    "    \n",
    "    def getNext(self):\n",
    "        return self.pointer\n",
    "    \n",
    "    def setData(self, newdata):\n",
    "        self.value = newdata\n",
    "        \n",
    "    def setNext(self, newpointer):\n",
    "        self.pointer = newpointer\n",
    "        \n",
    "class LinkedListLIFO(object):\n",
    "    def __init__(self):\n",
    "        self.head = None\n",
    "        self.length = 0\n",
    "        \n",
    "    # 헤드부터 각 노드의 값을 출력한다.\n",
    "    def _printList(self):\n",
    "        node = self.head\n",
    "        while node:\n",
    "            print(node.value, end=' ')\n",
    "            node = node.pointer\n",
    "        print()\n",
    "        \n",
    "    # 새 노드를 추가한다. 다음 노드로 헤드를 가리키고,\n",
    "    # 헤드는 새 노드를 가리킨다.\n",
    "    def _add(self, value):\n",
    "        self.head = Node(value, self.head)\n",
    "        self.length += 1\n",
    "        \n",
    "    # prev는 stack 내 node 위에 쌓인 노드를 가리킴\n",
    "    # prev가 필요한 이유: node 지우면 기존 prev.pointer = node를 prev.pointer = node.pointer로 변환 필요\n",
    "    def _delete(self, prev, node):\n",
    "        self.length -= 1\n",
    "        if not prev:\n",
    "            self.head = node.pointer\n",
    "        else:\n",
    "            prev.pointer = node.pointer\n",
    "        \n",
    "    # 인덱스로 노드를 찾는다.\n",
    "    def _find(self, index):\n",
    "        prev = None\n",
    "        node = self.head\n",
    "        i = 0\n",
    "        while node and i < index:\n",
    "            prev = node\n",
    "            node = node.pointer\n",
    "            i += 1\n",
    "        return node, prev, i\n",
    "    \n",
    "    # 값으로 노드를 찾는다.\n",
    "    def _find_by_value(self, value):\n",
    "        prev = None\n",
    "        node = self.head\n",
    "        found = False\n",
    "        while node and not found:\n",
    "            if node.value == value:\n",
    "                found = True\n",
    "            else:\n",
    "                prev = node\n",
    "                node = node.pointer\n",
    "        return node, prev, found\n",
    "    \n",
    "    # 인덱스에 해당하는 노드를 찾아서 삭제\n",
    "    def deleteNode(self, index):\n",
    "        node, prev, i = self._find(index)\n",
    "        if index == i:\n",
    "            self._delete(prev, node)\n",
    "        else:\n",
    "            print(f\"인덱스 {index}에 해당하는 노드가 없습니다.\")\n",
    "            \n",
    "    # 값에 해당하는 노드를 찾아서 삭제\n",
    "    def deleteNodeByValue(self, value):\n",
    "        node, prev, found = self._find_by_value(value)\n",
    "        if found:\n",
    "            self._delete(prev, node)\n",
    "        else:\n",
    "            print(f\"값 {value}에 해당하는 노드가 없습니다.\")\n",
    "            \n",
    "if __name__ == \"__main__\":\n",
    "    ll = LinkedListLIFO()\n",
    "    for i in range(1, 5):\n",
    "        ll._add(i)\n",
    "    print(\"연결 리스트 출력:\")\n",
    "    ll._printList()\n",
    "    print(\"인덱스가 2인 노드 삭제 후, 연결 리스트 출력:\")\n",
    "    ll.deleteNode(2)\n",
    "    ll._printList()\n",
    "    print(\"값이 3인 노드 삭제 후, 연결 리스트 출력:\")\n",
    "    ll.deleteNodeByValue(3)\n",
    "    ll._printList()\n",
    "    print(\"값이 15인 노드 추가 후, 연결 리스트 출력:\")\n",
    "    ll._add(15)\n",
    "    ll._printList()\n",
    "    print(\"모든 노드 삭제 후, 연결 리스트 출력:\")\n",
    "    for i in range(ll.length-1, -1, -1):\n",
    "        ll.deleteNode(i)\n",
    "    ll._printList()"
   ]
  },
  {
   "cell_type": "code",
   "execution_count": 1,
   "metadata": {},
   "outputs": [
    {
     "name": "stdout",
     "output_type": "stream",
     "text": [
      "연결 리스트 출력: \n",
      "1 2 3 4 \n",
      "인덱스가 2인 노드 삭제 후, 연결 리스트 출력: \n",
      "1 2 4 \n",
      "값이 15인 노드 추가 후, 연결 리스트 출력: \n",
      "1 2 4 15 \n",
      "모든 노드 삭제 후, 연결 리스트 출력: \n",
      "연결 리스트가 비었습니다.\n",
      "\n"
     ]
    }
   ],
   "source": [
    "# 11_linkedlist_FIFO.py\n",
    "class Node(object):\n",
    "    def __init__(self, value=None, pointer=None):\n",
    "        self.value = value\n",
    "        self.pointer = pointer\n",
    "        \n",
    "    def getData(self):\n",
    "        return self.value\n",
    "    \n",
    "    def getNext(self):\n",
    "        return self.pointer\n",
    "    \n",
    "    def setData(self, newdata):\n",
    "        self.value = newdata\n",
    "        \n",
    "    def setNext(self, newpointer):\n",
    "        self.pointer = newpointer\n",
    "        \n",
    "class LinkedListFIFO(object):\n",
    "    def __init__(self):\n",
    "        self.head = None\n",
    "        self.tail = None\n",
    "        self.length = 0\n",
    "        \n",
    "    # 헤드부터 각 노드의 값을 출력\n",
    "    def _printList(self):\n",
    "        node = self.head\n",
    "        while node:\n",
    "            print(node.value, end= ' ')\n",
    "            node = node.pointer\n",
    "        print()\n",
    "        \n",
    "    # 첫번째 위치에 노드를 추가\n",
    "    def _addFirst(self, value):\n",
    "        self.length = 1\n",
    "        node = Node(value)\n",
    "        self.head = node\n",
    "        self.tail = node\n",
    "        \n",
    "    # 첫번째 위치의 노드를 삭제\n",
    "    def _deleteFirst(self):\n",
    "        self.length = 0\n",
    "        self.head = None\n",
    "        self.tail = None\n",
    "        print(\"연결 리스트가 비었습니다.\")\n",
    "        \n",
    "    # 새 노드를 추가. tail이 있다면 tail의 다음노드는 새노드를 가리키고, tail은 새노드를 가리킴\n",
    "    def _add(self, value):\n",
    "        self.length += 1\n",
    "        node = Node(value)\n",
    "        if self.tail:\n",
    "            self.tail.pointer = node\n",
    "        self.tail = node\n",
    "        \n",
    "    # 새 노드를 추가\n",
    "    def addNode(self, value):\n",
    "        if not self.head:\n",
    "            self._addFirst(value)\n",
    "        else:\n",
    "            self._add(value)\n",
    "            \n",
    "    # 인덱스로 노드 찾기(prev는 검증 끝난 노드)\n",
    "    def _find(self, index):\n",
    "        prev = None\n",
    "        node = self.head\n",
    "        i = 0\n",
    "        while node and i < index:\n",
    "            prev = node\n",
    "            node = node.pointer\n",
    "            i += 1\n",
    "        return node, prev, i\n",
    "    \n",
    "    # 값으로 노드를 찾는다\n",
    "    def _find_by_value(self, value):\n",
    "        prev = None\n",
    "        node = self.head\n",
    "        found = False\n",
    "        while node and not found:\n",
    "            if node.value == value:\n",
    "                found = True\n",
    "            else:\n",
    "                prev = node\n",
    "                node = node.pointer\n",
    "        return node, prev, found\n",
    "    \n",
    "    # 인덱스에 해당하는 노드 삭제\n",
    "    def deleteNode(self, index):\n",
    "        if not self.head or not self.head.pointer:\n",
    "            self._deleteFirst()\n",
    "        else:\n",
    "            node, prev, i = self._find(index)\n",
    "            if i == index and node:\n",
    "                self.length -= 1\n",
    "                if i == 0 or not prev:\n",
    "                    self.head = node.pointer\n",
    "                    self.tail = node.pointer\n",
    "                else:\n",
    "                    prev.pointer = node.pointer\n",
    "            else:\n",
    "                print(\"인덱스 {0}에 해당하는 노드가 없습니다.\".format(index))\n",
    "                \n",
    "                \n",
    "    # 값에 해당하는 노드를 삭제\n",
    "    def deleteNodeByValue(self, value):\n",
    "        if not self.head or not self.head.pointer:\n",
    "            self._deleteFirst()\n",
    "        else:\n",
    "            node, prev, i = self._find_by_value(value)\n",
    "            if node and node.value == value:\n",
    "                self.length -= 1\n",
    "                if i == 0 or not prev:\n",
    "                    self.head = node.pointer\n",
    "                    self.tail = node.pointer\n",
    "                else:\n",
    "                    prev.pointer = node.pointer\n",
    "            else:\n",
    "                print(\"값 {0}에 해당하는 노드가 없습니다.\".format(value))\n",
    "                \n",
    "\n",
    "if __name__ == \"__main__\":\n",
    "    ll = LinkedListFIFO()\n",
    "    for i in range(1, 5):\n",
    "        ll.addNode(i)\n",
    "    print(\"연결 리스트 출력: \")\n",
    "    ll._printList()\n",
    "    print(\"인덱스가 2인 노드 삭제 후, 연결 리스트 출력: \")\n",
    "    ll.deleteNode(2)\n",
    "    ll._printList()\n",
    "    print(\"값이 15인 노드 추가 후, 연결 리스트 출력: \")\n",
    "    ll.addNode(15)\n",
    "    ll._printList()\n",
    "    print(\"모든 노드 삭제 후, 연결 리스트 출력: \")\n",
    "    for i in range(ll.length-1, -1, -1):\n",
    "        ll.deleteNode(i)\n",
    "    ll._printList()\n",
    "            \n",
    "    "
   ]
  },
  {
   "cell_type": "markdown",
   "metadata": {},
   "source": [
    "- 연결 리스트의 삽입 시간복잡도는 O(1)\n",
    "- 연결 리스트는 순차적으로 항목 검색, 따라서 검색 및 삭제의 시간복잡도는 O(n)\n",
    "- 연결 리스트를 뒤부터 순회하거나 정렬하는 최악의 경우 시간복잡도는 O(n^2)\n",
    "- 만약 어떤 노드의 포인터를 알고 있을 때 그 노드를 삭제한다면, 삭제 시간복잡도는 O(1)\n",
    "- 아래와 같이 삭제 코드 작성"
   ]
  },
  {
   "cell_type": "markdown",
   "metadata": {},
   "source": [
    "```\n",
    "if node.pointer is not None:\n",
    "    node.value = node.pointer.value\n",
    "    node.pointer = node.pointer.pointer\n",
    "else:\n",
    "    node = None\n",
    "    \n",
    "```"
   ]
  },
  {
   "cell_type": "markdown",
   "metadata": {},
   "source": [
    "# 7.6 해시 테이블\n",
    "<hr>\n",
    "\n",
    "- 해시테이블은 키(key)를 값(value)에 연결하여, 하나의 키가 0 또는 1개의 값과 연관\n",
    "- 각 키는 해시함수를 계산할 수 있어야 한다\n",
    "- 해시테이블은 해시버킷의 배열로 구성된다\n",
    "- 예를 들어 해시값이 42이고 5개의 버킷이 있는 경우 나머지 연산(mod)을 사용하여, 버킷 2(= 42 mod 5)에 매핑\n",
    "\n",
    "- 해시 충돌(hash collection): 두개의 키가 동일한 버킷에 해시될 때\n",
    "- 해결방법은 각 버킷에 대해 키-값 쌍의 연결 리스트를 저장하는 것\n",
    "\n",
    "- 해시테이블의 조회, 삽입, 삭제의 시간복잡도는 O(1)\n",
    "- 최악의 경우 각 키가 동일한 버킷으로 해시된다면 각 작업의 시간복잡도는 O(n)"
   ]
  },
  {
   "cell_type": "code",
   "execution_count": 6,
   "metadata": {},
   "outputs": [
    {
     "name": "stdout",
     "output_type": "stream",
     "text": [
      "슬롯(slot) 0\n",
      "0 3 6 9 12 15 18 \n",
      "슬롯(slot) 1\n",
      "1 4 7 10 13 16 19 \n",
      "슬롯(slot) 2\n",
      "2 5 8 11 14 17 \n",
      "\n",
      "항목 0,1,2를 삭제합니다.\n",
      "슬롯(slot) 0\n",
      "0 3 6 9 12 15 18 \n",
      "슬롯(slot) 1\n",
      "1 4 7 10 13 16 19 \n",
      "슬롯(slot) 2\n",
      "2 5 8 11 14 17 \n"
     ]
    }
   ],
   "source": [
    "# 12_hash_table.py\n",
    "class HashTable(object):\n",
    "    def __init__(self, size):\n",
    "        self.size = size\n",
    "        self.slots = []\n",
    "        self._createHashTable()\n",
    "        \n",
    "    def _createHashTable(self):\n",
    "        for i in range(self.size):\n",
    "            self.slots.append(LinkedListFIFO())\n",
    "            \n",
    "    def _find(self, item):\n",
    "        return item % self.size\n",
    "    \n",
    "    def _add(self, item):\n",
    "        index = self._find(item)\n",
    "        self.slots[index].addNode(item)\n",
    "        \n",
    "    def _delete(self, item):\n",
    "        index = self._find(item)\n",
    "        self.slots[index].deleteNodeByValue(item)\n",
    "        \n",
    "    def _print(self):\n",
    "        for i in range(self.size):\n",
    "            print(\"슬롯(slot) {0}\".format(i))\n",
    "            self.slots[i]._printList()\n",
    "            \n",
    "def test_hash_tables():\n",
    "    H1 = HashTable(3)\n",
    "    for i in range(0, 20):\n",
    "        H1._add(i)\n",
    "    H1._print()\n",
    "    print(\"\\n항목 0,1,2를 삭제합니다.\")\n",
    "    H1._delete(0)\n",
    "    H1._delete(1)\n",
    "    H1._delete(2)\n",
    "    H1._print()\n",
    "        \n",
    "if __name__ == \"__main__\":\n",
    "    test_hash_tables()"
   ]
  },
  {
   "cell_type": "markdown",
   "metadata": {},
   "source": [
    "# 7.7 연습문제\n",
    "<hr>\n",
    "\n",
    "## 7.7.1 스택\n",
    "\n",
    "### **문자열 반전하기**\n",
    "- 스택은 데이터를 역순으로 정렬하거나 검색할 때 사용 가능\n",
    "- 앞에서 구현한 Stack 클래스를 사용하여 문자열을 뒤집어 보자."
   ]
  },
  {
   "cell_type": "code",
   "execution_count": 1,
   "metadata": {},
   "outputs": [
    {
     "name": "stdout",
     "output_type": "stream",
     "text": [
      "버피는 천사다.\n",
      ".다사천 는피버\n"
     ]
    }
   ],
   "source": [
    "# Stack 코드(앞에서 copy 해옴)\n",
    "class Node(object):\n",
    "    def __init__(self, value=None, pointer=None):\n",
    "        self.value = value\n",
    "        self.pointer = pointer\n",
    "        \n",
    "class Stack(object):\n",
    "    def __init__(self):\n",
    "        self.head = None\n",
    "        self.count = 0\n",
    "        \n",
    "    def isEmpty(self):\n",
    "        return not bool(self.head)\n",
    "    \n",
    "    def push(self, item):\n",
    "        self.head = Node(item, self.head)  # node.pointer에는 이전 노드의 주소값이 들어감\n",
    "        self.count += 1\n",
    "        \n",
    "    def pop(self):\n",
    "        if self.count > 0 and self.head:\n",
    "            node = self.head\n",
    "            self.head = node.pointer\n",
    "            self.count -= 1\n",
    "            return node.value\n",
    "        else:\n",
    "            print(\"Stack is empty.\")\n",
    "            \n",
    "    def peek(self):\n",
    "        if self.count > 0 and self.head:\n",
    "            return self.head.value\n",
    "        else:\n",
    "            print(\"Stack is empty.\")\n",
    "            \n",
    "    def size(self):\n",
    "        return self.count\n",
    "    \n",
    "    def _printList(self):\n",
    "        node = self.head\n",
    "        while node:\n",
    "            print(node.value, end=' ')\n",
    "            node = node.pointer\n",
    "        print()\n",
    "        \n",
    "# 신규코드\n",
    "def reverse_string_with_stack(str1):\n",
    "    s = Stack()\n",
    "    revStr = ''\n",
    "    \n",
    "    for c in str1:\n",
    "        s.push(c)\n",
    "        \n",
    "    while not s.isEmpty():\n",
    "        revStr += s.pop()\n",
    "        \n",
    "    return revStr\n",
    "\n",
    "if __name__ == \"__main__\":\n",
    "    str1 = \"버피는 천사다.\"\n",
    "    print(str1)\n",
    "    print(reverse_string_with_stack(str1))"
   ]
  },
  {
   "cell_type": "markdown",
   "metadata": {},
   "source": [
    "### **괄호의 짝 확인하기**\n",
    "- 스택을 사용하면 괄호의 균형이 맞는지(여는 괄호와 닫는 괄호의 수가 일치하는지) 확인 가능"
   ]
  },
  {
   "cell_type": "code",
   "execution_count": 2,
   "metadata": {},
   "outputs": [
    {
     "name": "stdout",
     "output_type": "stream",
     "text": [
      "True\n",
      "False\n"
     ]
    }
   ],
   "source": [
    "def balance_par_str_with_stack(str1):\n",
    "    s = Stack()\n",
    "    balanced = True\n",
    "    index = 0\n",
    "    \n",
    "    while index < len(str1) and balanced:\n",
    "        symbol = str1[index]\n",
    "        \n",
    "        if symbol == \"(\":\n",
    "            s.push(symbol)\n",
    "        else:\n",
    "            if s.isEmpty():\n",
    "                balanced = False\n",
    "            else:\n",
    "                s.pop()\n",
    "        index += 1\n",
    "        \n",
    "    if balanced and s.isEmpty():\n",
    "        return True\n",
    "    else:\n",
    "        return False\n",
    "    \n",
    "if __name__ == \"__main__\":\n",
    "    print(balance_par_str_with_stack('(((())))'))\n",
    "    print(balance_par_str_with_stack('(()'))"
   ]
  },
  {
   "cell_type": "markdown",
   "metadata": {},
   "source": [
    "### **10진수를 2진수로 변환하기**\n",
    "- 스택을 사용하여 10진수를 2진수로 변환해보자."
   ]
  },
  {
   "cell_type": "code",
   "execution_count": 3,
   "metadata": {},
   "outputs": [
    {
     "name": "stdout",
     "output_type": "stream",
     "text": [
      "1001\n"
     ]
    }
   ],
   "source": [
    "def dec2bin_with_stack(decnum):\n",
    "    s = Stack()\n",
    "    str_aux = \"\"\n",
    "    \n",
    "    while decnum > 0:\n",
    "        dig = decnum % 2\n",
    "        decnum = decnum // 2\n",
    "        s.push(dig)\n",
    "        \n",
    "    while not s.isEmpty():\n",
    "        str_aux += str(s.pop())\n",
    "        str_aux += str(s.pop())\n",
    "        \n",
    "    return str_aux\n",
    "\n",
    "if __name__ == \"__main__\":\n",
    "    decnum = 9\n",
    "    print(dec2bin_with_stack(decnum))"
   ]
  },
  {
   "cell_type": "markdown",
   "metadata": {},
   "source": [
    "### **스택에서 최소값 O(1)로 조회하기**\n",
    "- 스택에서 최소값을 조회하려면?\n",
    "- 모든 요소를 조회할 필요없이 O(1)로 조회하는 방법은 없을까?"
   ]
  },
  {
   "cell_type": "code",
   "execution_count": 6,
   "metadata": {},
   "outputs": [
    {
     "name": "stdout",
     "output_type": "stream",
     "text": [
      "스택이 비었나요? True\n",
      "스택이 숫자 10~1과 1~4를 추가합니다.\n",
      "[10, 9, 8, 7, 6, 5, 4, 3, 2, 1, 1, 2, 3, 4]\n",
      "스택 크기: 14\n",
      "peek: 4\n",
      "peekMinimum: 1\n",
      "pop: 4\n",
      "peek: 3\n",
      "peekMinimum: 1\n",
      "스택이 비었나요? False\n",
      "[10, 9, 8, 7, 6, 5, 4, 3, 2, 1, 1, 2, 3]\n"
     ]
    }
   ],
   "source": [
    "class Stack(object):\n",
    "    def __init__(self):\n",
    "        self.items = []\n",
    "        \n",
    "    def isEmpty(self):\n",
    "        return not bool(self.items)\n",
    "    \n",
    "    def push(self, value):\n",
    "        self.items.append(value)\n",
    "        \n",
    "    def pop(self):\n",
    "        value = self.items.pop()\n",
    "        if value is not None:\n",
    "            return value\n",
    "        else:\n",
    "            print(\"Stack is empty.\")\n",
    "            \n",
    "    def size(self):\n",
    "        return len(self.items)\n",
    "    \n",
    "    def peek(self):\n",
    "        if self.items:\n",
    "            return self.items[-1]\n",
    "        else:\n",
    "            print(\"Stack is empty\")\n",
    "            \n",
    "    def __repr__(self):\n",
    "        return repr(self.items)\n",
    "\n",
    "class NodeWithMin(object):\n",
    "    def __init__(self, value=None, minimum=None):\n",
    "        self.value = value\n",
    "        self.minimum = minimum\n",
    "        \n",
    "class StackMin(Stack):\n",
    "    def __init__(self):\n",
    "        self.items = []\n",
    "        self.minimum = None\n",
    "        \n",
    "    def push(self, value):\n",
    "        if self.isEmpty() or self.minimum > value:\n",
    "            self.minimum = value\n",
    "        self.items.append(NodeWithMin(value, self.minimum))\n",
    "    def peek(self):\n",
    "        return self.items[-1].value\n",
    "    \n",
    "    def peekMinimum(self):\n",
    "        return self.items[-1].minimum\n",
    "    \n",
    "    def pop(self):\n",
    "        item = self.items.pop()\n",
    "        if item:\n",
    "            if item.value == self.minimum:\n",
    "                self.minimum = self.peekMinimum()\n",
    "            return item.value\n",
    "        else:\n",
    "            print(\"Stack is empty.\")\n",
    "            \n",
    "    def __repr__(self):\n",
    "        aux = []\n",
    "        for i in self.items:\n",
    "            aux.append(i.value)\n",
    "        return repr(aux)\n",
    "    \n",
    "if __name__ == \"__main__\":\n",
    "    stack = StackMin()\n",
    "    print(\"스택이 비었나요? {0}\".format(stack.isEmpty()))\n",
    "    print(\"스택이 숫자 10~1과 1~4를 추가합니다.\")\n",
    "    for i in range(10, 0, -1):\n",
    "        stack.push(i)\n",
    "    for i in range(1, 5):\n",
    "        stack.push(i)\n",
    "    print(stack)\n",
    "    \n",
    "    print(\"스택 크기: {0}\".format(stack.size()))\n",
    "    print(\"peek: {0}\".format(stack.peek()))\n",
    "    print(\"peekMinimum: {0}\".format(stack.peekMinimum()))\n",
    "    print(\"pop: {0}\".format(stack.pop()))\n",
    "    print(\"peek: {0}\".format(stack.peek()))\n",
    "    print(\"peekMinimum: {0}\".format(stack.peekMinimum()))\n",
    "    print(\"스택이 비었나요? {0}\".format(stack.isEmpty()))\n",
    "    print(stack)"
   ]
  },
  {
   "cell_type": "markdown",
   "metadata": {},
   "source": [
    "### **스택 집합**\n",
    "- 스택에 '용량'이 정해져 있다면? 한 스택의 용량이 초과하면, 새 스택을 만들어야 함.\n",
    "- 스택 집합에서도 단일 스택과 같이 push()와 pop() 메서드를 사용하려면?"
   ]
  },
  {
   "cell_type": "code",
   "execution_count": 7,
   "metadata": {},
   "outputs": [
    {
     "name": "stdout",
     "output_type": "stream",
     "text": [
      "스택이 비었나요? True\n",
      "스택에 숫자 0~9를 추가합니다.\n",
      "[0, 1, 2, 3, 4, 5, 6, 7, 8, 9]\n",
      "스택 크기: 11\n",
      "[0, 1, 2, 3, 4, 5, 6, 7, 8, 9, 0, 1, 2, 3, 4, 5, 6, 7, 8, 9]\n",
      "스택 크기: 13\n",
      "peek: 9\n",
      "pop: 9\n",
      "peek: 8\n",
      "스택이 비었나요? False\n",
      "[0, 1, 2, 3, 4, 5, 6, 7, 8, 9, 0, 1, 2, 3, 4, 5, 6, 7, 8]\n"
     ]
    }
   ],
   "source": [
    "class SetOfStack(Stack):\n",
    "    def __init__(self, capacity=4):\n",
    "        self.setofstacks = []\n",
    "        self.items = []\n",
    "        self.capacity = capacity\n",
    "    \n",
    "    def push(self, value):\n",
    "        if self.size() >= self.capacity:\n",
    "            self.setofstacks.append(self.items)\n",
    "            self.items = []\n",
    "        self.items.append(value)\n",
    "        \n",
    "    def pop(self):\n",
    "        value = self.items.pop()\n",
    "        if self.isEmpty() and self.setofstacks:\n",
    "            self.items = self.setofstacks.pop()\n",
    "        return value\n",
    "    \n",
    "    def sizeStack(self):\n",
    "        return len(self.setofstacks) + self.capacity + self.size()\n",
    "    \n",
    "    def __repr__(self):\n",
    "        aux = []\n",
    "        for s in self.setofstacks:\n",
    "            aux.extend(s)\n",
    "        aux.extend(self.items)\n",
    "        return repr(aux)\n",
    "    \n",
    "if __name__ == \"__main__\":\n",
    "    capacity = 5\n",
    "    stack = SetOfStack(capacity)\n",
    "    print(\"스택이 비었나요? {0}\".format(stack.isEmpty()))\n",
    "    print(\"스택에 숫자 0~9를 추가합니다.\")\n",
    "    for i in range(10):\n",
    "        stack.push(i)\n",
    "    print(stack)\n",
    "    print(\"스택 크기: {0}\".format(stack.sizeStack()))\n",
    "    for i in range(10):\n",
    "        stack.push(i)\n",
    "    print(stack)\n",
    "    print(\"스택 크기: {0}\".format(stack.sizeStack()))\n",
    "    print(\"peek: {0}\".format(stack.peek()))\n",
    "    print(\"pop: {0}\".format(stack.pop()))\n",
    "    print(\"peek: {0}\".format(stack.peek()))\n",
    "    print(\"스택이 비었나요? {0}\".format(stack.isEmpty()))\n",
    "    print(stack)\n",
    "        "
   ]
  },
  {
   "cell_type": "markdown",
   "metadata": {},
   "source": [
    "## 7.7.2 큐\n",
    "\n",
    "### 데크와 회문\n",
    "데크를 사용하면 문장이 회문('2.6.5 회문'참조)인지 쉽게 확인 가능"
   ]
  },
  {
   "cell_type": "code",
   "execution_count": 6,
   "metadata": {},
   "outputs": [
    {
     "name": "stdout",
     "output_type": "stream",
     "text": [
      " \t\n",
      "\r",
      "\u000b",
      "\f",
      "!\"#$%&'()*+,-./:;<=>?@[\\]^_`{|}~\"'\n",
      "(True, True)\n",
      "(False, False)\n"
     ]
    }
   ],
   "source": [
    "import string\n",
    "import collections\n",
    "\n",
    "class Queue(object):\n",
    "    def __init__(self):\n",
    "        self.items = []\n",
    "        \n",
    "    def isEmpty(self):\n",
    "        return not bool(self.items)\n",
    "    \n",
    "    def enqueue(self, item):\n",
    "        self.items.insert(0, item)\n",
    "        \n",
    "    def dequeue(self):\n",
    "        value = self.items.pop()\n",
    "        if value is not None:\n",
    "            return value\n",
    "        else:\n",
    "            print(\"Queue is empty.\")\n",
    "            \n",
    "    def size(self):\n",
    "        return len(self.items)\n",
    "    \n",
    "    def peek(self):\n",
    "        if self.items:\n",
    "            return self.items[-1]\n",
    "        else:\n",
    "            print(\"Queue is empty.\")\n",
    "            \n",
    "    def __repr__(self):\n",
    "        return repr(self.items)\n",
    "\n",
    "    \n",
    "class Deque(Queue):\n",
    "    def enqueue_back(self, item):\n",
    "        self.items.append(item)\n",
    "        \n",
    "    def dequeue_front(self):\n",
    "        value = self.items.pop(0)\n",
    "        if value is not None:\n",
    "            return value\n",
    "        else:\n",
    "            print(\"Deque is empty.\")\n",
    "            \n",
    "# 신규코드\n",
    "STRIP = string.whitespace + string.punctuation + \"\\\"'\"\n",
    "print(STRIP)\n",
    "\n",
    "def palindrome_checker_with_deque(str1):\n",
    "    d1 = Deque()\n",
    "    d2 = collections.deque()\n",
    "    \n",
    "    for s in str1.lower():\n",
    "        if s not in STRIP:\n",
    "            d2.append(s)\n",
    "            d1.enqueue(s)\n",
    "            \n",
    "    eq1 = True\n",
    "    while d1.size() > 1 and eq1:\n",
    "        if d1.dequeue_front() != d1.dequeue():\n",
    "            eq1 = False\n",
    "            \n",
    "    eq2 = True\n",
    "    while len(d2) > 1 and eq2:\n",
    "        if d2.pop() != d2.popleft():\n",
    "            eq2 = False\n",
    "        \n",
    "    return eq1, eq2\n",
    "\n",
    "if __name__ == \"__main__\":\n",
    "    str1 = \"Madam Im Adam\"\n",
    "    str2 = \"Buffy is a Slayer\"\n",
    "    print(palindrome_checker_with_deque(str1))\n",
    "    print(palindrome_checker_with_deque(str2))"
   ]
  },
  {
   "cell_type": "markdown",
   "metadata": {},
   "source": [
    "### 큐와 동물 보호소\n",
    "개와 고양이를 입양(enqueue)했다가 다시 출양(dequeue)하는 동물 보호소를 큐로 구현해보자"
   ]
  },
  {
   "cell_type": "code",
   "execution_count": 9,
   "metadata": {},
   "outputs": [
    {
     "name": "stdout",
     "output_type": "stream",
     "text": [
      "고양이: \n",
      "\t밥\n",
      "\t미아\n",
      "강아지: \n",
      "\t요다\n",
      "\t울프\n",
      "하나의 개와 고양이에 대해서 dequeue를 실행합니다.\n",
      "고양이: \n",
      "\t미아\n",
      "강아지: \n",
      "\t울프\n"
     ]
    }
   ],
   "source": [
    "class Node(object):\n",
    "    def __init__(self, animalName=None, animalKind=None, pointer=None):\n",
    "        self.animalName = animalName\n",
    "        self.animalKind = animalKind\n",
    "        self.pointer = pointer\n",
    "        self.timestamp = 0\n",
    "        \n",
    "class AnimalShelter(object):\n",
    "    def __init__(self):\n",
    "        self.headCat = None\n",
    "        self.headDog = None\n",
    "        self.tailCat = None\n",
    "        self.tailDog = None\n",
    "        self.animalNumber = 0\n",
    "        \n",
    "    def enqueue(self, animalName, animalKind):\n",
    "        self.animalNumber += 1\n",
    "        newAnimal = Node(animalName, animalKind)\n",
    "        newAnimal.timestamp = self.animalNumber\n",
    "        \n",
    "        if animalKind == \"cat\":\n",
    "            if not self.headCat:\n",
    "                self.headCat = newAnimal\n",
    "            if self.tailCat:\n",
    "                self.tailCat.pointer = newAnimal\n",
    "            self.tailCat = newAnimal\n",
    "            \n",
    "        elif animalKind == \"dog\":\n",
    "            if not self.headDog:\n",
    "                self.headDog = newAnimal\n",
    "            if self.tailDog:\n",
    "                self.tailDog.pointer = newAnimal\n",
    "            self.tailDog = newAnimal\n",
    "            \n",
    "    def dequeueDog(self):\n",
    "        if self.headDog:\n",
    "            newAnimal = self.headDog\n",
    "            self.headDog = newAnimal.pointer\n",
    "            return str(newAnimal.animalName)\n",
    "        else:\n",
    "            print(\"개가 없습니다.\")\n",
    "            \n",
    "    def dequeueCat(self):\n",
    "        if self.headCat:\n",
    "            newAnimal = self.headCat\n",
    "            self.headCat = newAnimal.pointer\n",
    "            return str(newAnimal.animalName)\n",
    "        else:\n",
    "            print(\"고양이가 없습니다.\")\n",
    "            \n",
    "    def dequeueAny(self):\n",
    "        if self.headCat and not self.headDog:\n",
    "            return self.dequeueCat()\n",
    "        elif self.headDog and not self.headCat:\n",
    "            return self.dequeueDog()\n",
    "        elif self.headDog and self.headCat:\n",
    "            if self.headDog.timestamp < self.headCat.timestamp:\n",
    "                return self.dequeueDog()\n",
    "            else:\n",
    "                return self.dequeueCat()\n",
    "        else:\n",
    "            print(\"동물이 없습니다.\")\n",
    "            \n",
    "    def _print(self):\n",
    "        print(\"고양이: \")\n",
    "        cats = self.headCat\n",
    "        while cats:\n",
    "            print(\"\\t{0}\".format(cats.animalName))\n",
    "            cats = cats.pointer\n",
    "        print(\"강아지: \")\n",
    "        dogs = self.headDog\n",
    "        while dogs:\n",
    "            print(\"\\t{0}\".format(dogs.animalName))\n",
    "            dogs = dogs.pointer\n",
    "            \n",
    "\n",
    "if __name__ == \"__main__\":\n",
    "    qs = AnimalShelter()\n",
    "    qs.enqueue(\"밥\", \"cat\")\n",
    "    qs.enqueue(\"미아\", \"cat\")\n",
    "    qs.enqueue(\"요다\", \"dog\")\n",
    "    qs.enqueue(\"울프\", \"dog\")\n",
    "    qs._print()\n",
    "    \n",
    "    print(\"하나의 개와 고양이에 대해서 dequeue를 실행합니다.\")\n",
    "    qs.dequeueDog()\n",
    "    qs.dequeueCat()\n",
    "    qs._print()"
   ]
  },
  {
   "cell_type": "markdown",
   "metadata": {},
   "source": [
    "## 7.7.3 우선순위 큐와 힙\n",
    "파이썬에서 제공하는 heapq 모듈을 사용하여 시퀀스에서 N개의 가장 큰 항목과 가장 작은 항목 찾기"
   ]
  },
  {
   "cell_type": "code",
   "execution_count": 10,
   "metadata": {},
   "outputs": [
    {
     "name": "stdout",
     "output_type": "stream",
     "text": [
      "테스트 통과!\n"
     ]
    }
   ],
   "source": [
    "import heapq\n",
    "\n",
    "def find_N_largest_items_seq(seq, N):\n",
    "    return heapq.nlargest(N, seq)\n",
    "\n",
    "def find_N_smallest_items_seq(seq, N):\n",
    "    return heapq.nsmallest(N, seq)\n",
    "\n",
    "def find_smallest_items_seq_heap(seq):\n",
    "    heapq.heapify(seq)\n",
    "    return heapq.heappop(seq)\n",
    "\n",
    "def find_smallest_items_seq(seq):\n",
    "    return min(seq)\n",
    "\n",
    "def find_N_smallest_items_seq_sorted(seq, N):\n",
    "    return sorted(seq)[:N]\n",
    "\n",
    "def find_N_largest_items_seq_sorted(seq, N):\n",
    "    return sorted(seq)[len(seq)-N:]\n",
    "\n",
    "def test_find_N_largest_smallest_items_seq():\n",
    "    seq = [1, 3, 2, 8, 6, 10, 9]\n",
    "    N = 3\n",
    "    assert(find_N_largest_items_seq(seq, N) == [10, 9, 8])\n",
    "    assert(find_N_largest_items_seq_sorted(seq, N) == [8, 9 ,10])\n",
    "    assert(find_N_smallest_items_seq(seq, N) == [1, 2, 3])\n",
    "    assert(find_N_smallest_items_seq_sorted(seq, N) == [1, 2, 3])\n",
    "    assert(find_smallest_items_seq(seq) == 1)\n",
    "    assert(find_smallest_items_seq_heap(seq) == 1)\n",
    "    \n",
    "    print(\"테스트 통과!\")\n",
    "    \n",
    "if __name__ == \"__main__\":\n",
    "    test_find_N_largest_smallest_items_seq()"
   ]
  },
  {
   "cell_type": "markdown",
   "metadata": {},
   "source": [
    "heapq 모듈을 사용하여 정렬된 두 시퀀스를 적은 비용으로 병합하기"
   ]
  },
  {
   "cell_type": "code",
   "execution_count": 11,
   "metadata": {},
   "outputs": [
    {
     "name": "stdout",
     "output_type": "stream",
     "text": [
      "테스트 통과!\n"
     ]
    }
   ],
   "source": [
    "import heapq\n",
    "\n",
    "def merge_sorted_seqs(seq1, seq2):\n",
    "    result = []\n",
    "    for c in heapq.merge(seq1, seq2):\n",
    "        result.append(c)\n",
    "    return result\n",
    "\n",
    "def test_merge_sorted_seq():\n",
    "    seq1 = [1, 2, 3, 8, 9, 10]\n",
    "    seq2 = [2, 3, 4, 5, 6, 7, 9]\n",
    "    seq3 = seq1 + seq2\n",
    "    assert(merge_sorted_seqs(seq1, seq2) == sorted(seq3))\n",
    "    \n",
    "    print(\"테스트 통과!\")\n",
    "    \n",
    "if __name__ == \"__main__\":\n",
    "    test_merge_sorted_seq()"
   ]
  },
  {
   "cell_type": "markdown",
   "metadata": {},
   "source": [
    "## 7.7.4 연결 리스트\n",
    "\n",
    "### 끝에서 k번째 항목 찾기\n",
    "연결 리스트의 끝에서 k번째 항목을 찾아보자."
   ]
  },
  {
   "cell_type": "code",
   "execution_count": 1,
   "metadata": {},
   "outputs": [
    {
     "name": "stdout",
     "output_type": "stream",
     "text": [
      "연결 리스트:\n",
      "1 2 3 4 5 6 7 8 9 10 \n",
      "연결 리스트의 끝에서 3번째 항목은 8입니다.\n"
     ]
    }
   ],
   "source": [
    "# Node와 LinkedListFIFO 카피\n",
    "class Node(object):\n",
    "    def __init__(self, value=None, pointer=None):\n",
    "        self.value = value\n",
    "        self.pointer = pointer\n",
    "        \n",
    "    def getData(self):\n",
    "        return self.value\n",
    "    \n",
    "    def getNext(self):\n",
    "        return self.pointer\n",
    "    \n",
    "    def setData(self, newdata):\n",
    "        self.value = newdata\n",
    "        \n",
    "    def setNext(self, newpointer):\n",
    "        self.pointer = newpointer\n",
    "        \n",
    "class LinkedListFIFO(object):\n",
    "    def __init__(self):\n",
    "        self.head = None\n",
    "        self.tail = None\n",
    "        self.length = 0\n",
    "        \n",
    "    # 헤드부터 각 노드의 값을 출력\n",
    "    def _printList(self):\n",
    "        node = self.head\n",
    "        while node:\n",
    "            print(node.value, end= ' ')\n",
    "            node = node.pointer\n",
    "        print()\n",
    "        \n",
    "    # 첫번째 위치에 노드를 추가\n",
    "    def _addFirst(self, value):\n",
    "        self.length = 1\n",
    "        node = Node(value)\n",
    "        self.head = node\n",
    "        self.tail = node\n",
    "        \n",
    "    # 첫번째 위치의 노드를 삭제\n",
    "    def _deleteFirst(self):\n",
    "        self.length = 0\n",
    "        self.head = None\n",
    "        self.tail = None\n",
    "        print(\"연결 리스트가 비었습니다.\")\n",
    "        \n",
    "    # 새 노드를 추가. tail이 있다면 tail의 다음노드는 새노드를 가리키고, tail은 새노드를 가리킴\n",
    "    def _add(self, value):\n",
    "        self.length += 1\n",
    "        node = Node(value)\n",
    "        if self.tail:\n",
    "            self.tail.pointer = node\n",
    "        self.tail = node\n",
    "        \n",
    "    # 새 노드를 추가\n",
    "    def addNode(self, value):\n",
    "        if not self.head:\n",
    "            self._addFirst(value)\n",
    "        else:\n",
    "            self._add(value)\n",
    "            \n",
    "    # 인덱스로 노드 찾기(prev는 검증 끝난 노드)\n",
    "    def _find(self, index):\n",
    "        prev = None\n",
    "        node = self.head\n",
    "        i = 0\n",
    "        while node and i < index:\n",
    "            prev = node\n",
    "            node = node.pointer\n",
    "            i += 1\n",
    "        return node, prev, i\n",
    "    \n",
    "    # 값으로 노드를 찾는다\n",
    "    def _find_by_value(self, value):\n",
    "        prev = None\n",
    "        node = self.head\n",
    "        found = False\n",
    "        while node and not found:\n",
    "            if node.value == value:\n",
    "                found = True\n",
    "            else:\n",
    "                prev = node\n",
    "                node = node.pointer\n",
    "        return node, prev, found\n",
    "    \n",
    "    # 인덱스에 해당하는 노드 삭제\n",
    "    def deleteNode(self, index):\n",
    "        if not self.head or not self.head.pointer:\n",
    "            self._deleteFirst()\n",
    "        else:\n",
    "            node, prev, i = self._find(index)\n",
    "            if i == index and node:\n",
    "                self.length -= 1\n",
    "                if i == 0 or not prev:\n",
    "                    self.head = node.pointer\n",
    "                    self.tail = node.pointer\n",
    "                else:\n",
    "                    prev.pointer = node.pointer\n",
    "            else:\n",
    "                print(\"인덱스 {0}에 해당하는 노드가 없습니다.\".format(index))\n",
    "                \n",
    "                \n",
    "    # 값에 해당하는 노드를 삭제\n",
    "    def deleteNodeByValue(self, value):\n",
    "        if not self.head or not self.head.pointer:\n",
    "            self._deleteFirst()\n",
    "        else:\n",
    "            node, prev, i = self._find_by_value(value)\n",
    "            if node and node.value == value:\n",
    "                self.length -= 1\n",
    "                if i == 0 or not prev:\n",
    "                    self.head = node.pointer\n",
    "                    self.tail = node.pointer\n",
    "                else:\n",
    "                    prev.pointer = node.pointer\n",
    "            else:\n",
    "                print(\"값 {0}에 해당하는 노드가 없습니다.\".format(value))\n",
    "                \n",
    "            \n",
    "# 신규 코드 시작\n",
    "class KthFromLast(LinkedListFIFO):\n",
    "    def find_kth_to_last(self, k):\n",
    "        p1, p2 = self.head, self.head\n",
    "        i = 0\n",
    "        while p1:\n",
    "            if i > k-1:\n",
    "                try:\n",
    "                    p2 = p2.pointer\n",
    "                except AttributeError:\n",
    "                    break\n",
    "            p1 = p1.pointer\n",
    "            i += 1\n",
    "        return p2.value\n",
    "    \n",
    "if __name__ == \"__main__\":\n",
    "    ll = KthFromLast()\n",
    "    for i in range(1, 11):\n",
    "        ll.addNode(i)\n",
    "    print(\"연결 리스트:\")\n",
    "    ll._printList()\n",
    "    k = 3\n",
    "    k_from_last = ll.find_kth_to_last(k)\n",
    "    print(\"연결 리스트의 끝에서 {0}번째 항목은 {1}입니다.\".format(k, k_from_last))"
   ]
  },
  {
   "cell_type": "markdown",
   "metadata": {},
   "source": [
    "### 연결 리스트 분할하기\n",
    "숫자가 담긴 연결 리스트에서 한 항목을 선택 시, 그 항목 값의 왼쪽에는 작은 숫자 항목만 나오고 오른쪽에는 큰 숫자 항목만 나오도록 연결 리스트를 분할 해보자."
   ]
  },
  {
   "cell_type": "code",
   "execution_count": 2,
   "metadata": {},
   "outputs": [
    {
     "name": "stdout",
     "output_type": "stream",
     "text": [
      "분할 전:\n",
      "6 7 3 4 9 5 1 2 8 \n",
      "분할 후:\n",
      "3 4 5 1 2 6 7 9 8 \n"
     ]
    }
   ],
   "source": [
    "# LinkedListFIFO와 Node import 필요\n",
    "\n",
    "def partList(ll, n):\n",
    "    more = LinkedListFIFO()\n",
    "    less = LinkedListFIFO()\n",
    "    \n",
    "    node = ll.head\n",
    "    \n",
    "    while node:\n",
    "        item = node.value\n",
    "        \n",
    "        if item < n:\n",
    "            less.addNode(item)\n",
    "            \n",
    "        elif item > n:\n",
    "            more.addNode(item)\n",
    "            \n",
    "        node = node.pointer\n",
    "        \n",
    "    less.addNode(n)\n",
    "    nodemore = more.head\n",
    "    \n",
    "    while nodemore:\n",
    "        less.addNode(nodemore.value)\n",
    "        nodemore = nodemore.pointer\n",
    "        \n",
    "    return less\n",
    "\n",
    "if __name__ == \"__main__\":\n",
    "    ll = LinkedListFIFO()\n",
    "    l = [6, 7, 3, 4, 9, 5, 1, 2, 8]\n",
    "    for i in l:\n",
    "        ll.addNode(i)\n",
    "        \n",
    "    print(\"분할 전:\")\n",
    "    ll._printList()\n",
    "    \n",
    "    print(\"분할 후:\")\n",
    "    newll = partList(ll, 6)\n",
    "    newll._printList()"
   ]
  },
  {
   "cell_type": "markdown",
   "metadata": {},
   "source": [
    "### 이중 연결 리스트와 FIFO\n",
    "\n",
    "- 11_linkedlist_FIFO.py 코드를 사용하여 이중 연결 리스트 구현해보자.\n",
    "- 이중 연결 리스트(doubly linked list)에서는 포인터가 두개 있어 하나는 앞 노드를, 하나는 뒤 노드를 가리킴"
   ]
  },
  {
   "cell_type": "code",
   "execution_count": 4,
   "metadata": {},
   "outputs": [
    {
     "name": "stdout",
     "output_type": "stream",
     "text": [
      "연결 리스트 출력:\n",
      "1 2 3 4 \n",
      "연결 리스트 반대로 출력:\n",
      "4 3 2 1 \n",
      "값이 15인 노드 추가 후, 연결 리스트 출력:\n",
      "1 2 3 4 15 \n",
      "모든 노드 삭제 후, 연결 리스트 출력:\n",
      "연결 리스트가 비었습니다.\n",
      "\n"
     ]
    }
   ],
   "source": [
    "# LinkedListFIFO import 필요\n",
    "class DNode(object):\n",
    "    def __init__(self, value=None, pointer=None, previous=None):\n",
    "        self.value = value\n",
    "        self.pointer = pointer\n",
    "        self.previous = previous\n",
    "        \n",
    "class DLinkedList(LinkedListFIFO):\n",
    "    def printListInverse(self):\n",
    "        node = self.tail\n",
    "        while node:\n",
    "            print(node.value, end=' ')\n",
    "            try:\n",
    "                node = node.previous\n",
    "            except AttributeError:\n",
    "                break\n",
    "        print()\n",
    "        \n",
    "    def _add(self, value):\n",
    "        self.length += 1\n",
    "        node = DNode(value)\n",
    "        if self.tail:\n",
    "            self.tail.pointer = node\n",
    "            node.previous = self.tail\n",
    "        self.tail = node\n",
    "        \n",
    "    def _delete(self, node):\n",
    "        self.length -= 1\n",
    "        node.previous.pointer = node.pointer\n",
    "        if not node.pointer:\n",
    "            self.tail = node.previous\n",
    "            \n",
    "    def _find(self, index):\n",
    "        node = self.head\n",
    "        i = 0\n",
    "        while node and i < index:\n",
    "            node = node.pointer\n",
    "            i += 1\n",
    "        return node, i\n",
    "    \n",
    "    def deleteNode(self, index):\n",
    "        if not self.head or not self.head.pointer:\n",
    "            self._deleteFirst()\n",
    "        else:\n",
    "            node, i = self._find(index)\n",
    "            if i == index:\n",
    "                self._delete(node)\n",
    "            else:\n",
    "                print(\"인덱스 {0}에 해당하는 노드가 없습니다.\".format(index))\n",
    "                \n",
    "if __name__ == \"__main__\":\n",
    "    from collections import Counter\n",
    "    \n",
    "    ll = DLinkedList()\n",
    "    for i in range(1, 5):\n",
    "        ll.addNode(i)\n",
    "    print(\"연결 리스트 출력:\")\n",
    "    ll._printList()\n",
    "    print(\"연결 리스트 반대로 출력:\")\n",
    "    ll.printListInverse()\n",
    "    print(\"값이 15인 노드 추가 후, 연결 리스트 출력:\")\n",
    "    ll._add(15)\n",
    "    ll._printList()\n",
    "    print(\"모든 노드 삭제 후, 연결 리스트 출력:\")\n",
    "    for i in range(ll.length-1, -1, -1):\n",
    "        ll.deleteNode(i)\n",
    "    ll._printList()"
   ]
  },
  {
   "cell_type": "markdown",
   "metadata": {},
   "source": [
    "### 회문 확인하기\n",
    "- 앞에서는 데크를 사용하여 회문 여부를 확인함\n",
    "- 이번에는 연결 리스트가 회문인지 확인해보는 코드를 작성"
   ]
  },
  {
   "cell_type": "code",
   "execution_count": 5,
   "metadata": {},
   "outputs": [
    {
     "name": "stdout",
     "output_type": "stream",
     "text": [
      "테스트 통과!\n"
     ]
    }
   ],
   "source": [
    "# LinkedListFIFO와 Node import 필요\n",
    "def isPal(l1):\n",
    "    if len(l1) < 2:\n",
    "        return True\n",
    "    if l1[0] != l1[-1]:\n",
    "        return False\n",
    "    return isPal(l1[1:-1])\n",
    "\n",
    "def checkllPal(ll):\n",
    "    node = ll.head\n",
    "    l = []    \n",
    "    while node is not None:\n",
    "        l.append(node.value)\n",
    "        node = node.pointer        \n",
    "    return isPal(l)\n",
    "\n",
    "def test_checkllPal():\n",
    "    ll = LinkedListFIFO()\n",
    "    l1 = [1, 2, 3, 2, 1]\n",
    "    for i in l1:\n",
    "        ll.addNode(i)\n",
    "    assert(checkllPal(ll) is True)\n",
    "    \n",
    "    ll.addNode(2)\n",
    "    ll.addNode(3)\n",
    "    assert(checkllPal(ll) is False)\n",
    "    print(\"테스트 통과!\")\n",
    "    \n",
    "if __name__ == \"__main__\":\n",
    "    test_checkllPal()"
   ]
  },
  {
   "cell_type": "markdown",
   "metadata": {},
   "source": [
    "### 두 연결 리스트의 숫자 더하기\n",
    "- 연결 리스트의 각 항목은 양의 정수라고 가정\n",
    "- 한 연결 리스트의 항목으로 예를 들어 1, 7, 6, 2가 차례대로 추가되었다면, 이 연결 리스트의 숫자는 2671\n",
    "- 두 연결 리스트의 숫자를 더하여 숫자 결과를 출력하는 코드를 작성해보자"
   ]
  },
  {
   "cell_type": "code",
   "execution_count": 6,
   "metadata": {},
   "outputs": [
    {
     "name": "stdout",
     "output_type": "stream",
     "text": [
      "3126\n"
     ]
    }
   ],
   "source": [
    "# LinkedListFIFO와 Node import 필요\n",
    "class LinkedListFIFOYield(LinkedListFIFO):\n",
    "    def _printList(self):\n",
    "        node = self.head\n",
    "        while node:\n",
    "            yield node.value\n",
    "            node = node.pointer\n",
    "            \n",
    "def sumlls(l1, l2):\n",
    "    lsum = LinkedListFIFOYield()\n",
    "    dig1 = l1.head\n",
    "    dig2 = l2.head\n",
    "    pointer = 0\n",
    "    \n",
    "    while dig1 and dig2:\n",
    "        d1 = dig1.value\n",
    "        d2 = dig2.value\n",
    "        sum_d = d1 + d2 + pointer\n",
    "        if sum_d > 9:\n",
    "            pointer = sum_d // 10\n",
    "            lsum.addNode(sum_d%10)\n",
    "        else:\n",
    "            lsum.addNode(sum_d)\n",
    "            pointer = 0\n",
    "            \n",
    "        dig1 = dig1.pointer\n",
    "        dig2 = dig2.pointer\n",
    "            \n",
    "    if dig1:\n",
    "        sum_d = pointer + dig1.value\n",
    "        if sum_d > 9:\n",
    "            lsum.addNode(sum_d%10)\n",
    "        else:\n",
    "            lsum.addNode(sum_d)\n",
    "        dig1 = dig1.pointer\n",
    "            \n",
    "    if dig2:\n",
    "        sum_d = pointer + dig2.value\n",
    "        if sum_d > 9:\n",
    "            lsum.addNode(sum_d%10)\n",
    "        else:\n",
    "            lsum.addNode(sum_d)\n",
    "        dig2 = dig2.pointer\n",
    "    return lsum\n",
    "\n",
    "if __name__ == \"__main__\":\n",
    "    l1 = LinkedListFIFOYield() # 2671\n",
    "    l1.addNode(1)\n",
    "    l1.addNode(7)\n",
    "    l1.addNode(6)\n",
    "    l1.addNode(2)\n",
    "    \n",
    "    l2 = LinkedListFIFOYield() # 455\n",
    "    l2.addNode(5)\n",
    "    l2.addNode(5)\n",
    "    l2.addNode(4)\n",
    "    \n",
    "    lsum = sumlls(l1, l2)\n",
    "    l = list(lsum._printList())\n",
    "    for i in reversed(l):\n",
    "        print(i, end=\"\")\n",
    "    print()"
   ]
  },
  {
   "cell_type": "markdown",
   "metadata": {},
   "source": [
    "### 원형 연결 리스트 찾기\n",
    "- 헤드와 테일이 연결된 연결 리스트를 원형 연결 리스트(circular linked list)라고 함\n",
    "- 어떤 연결 리스트가 원형 연결 리스트인지 여부를 확인하는 함수를 구현해보자"
   ]
  },
  {
   "cell_type": "code",
   "execution_count": 7,
   "metadata": {},
   "outputs": [
    {
     "name": "stdout",
     "output_type": "stream",
     "text": [
      "테스트 통과!\n"
     ]
    }
   ],
   "source": [
    "# LinkedListFIFO와 Node import 필요\n",
    "class CircularLinkedListFIFO(LinkedListFIFO):\n",
    "    def _add(self, value):\n",
    "        self.length += 1\n",
    "        node = Node(value, self.head)\n",
    "        if self.tail:\n",
    "            self.tail.pointer = node\n",
    "        self.tail = node\n",
    "        \n",
    "def isCircularll(ll):\n",
    "    p1 = ll.head\n",
    "    p2 = ll.head\n",
    "    \n",
    "    while p2:\n",
    "        try:\n",
    "            p1 = p1.pointer\n",
    "            p2 = p2.pointer.pointer\n",
    "        except:\n",
    "            break\n",
    "            \n",
    "        if p1 == p2:\n",
    "            return True\n",
    "    return False\n",
    "\n",
    "def test_isCircularll():\n",
    "    ll = LinkedListFIFO()\n",
    "    for i in range(10):\n",
    "        ll.addNode(i)\n",
    "    assert(isCircularll(ll) is False)\n",
    "    \n",
    "    lcirc = CircularLinkedListFIFO()\n",
    "    for i in range(10):\n",
    "        lcirc.addNode(i)\n",
    "    assert(isCircularll(lcirc) is True)\n",
    "    \n",
    "    print(\"테스트 통과!\")\n",
    "    \n",
    "if __name__ == \"__main__\":\n",
    "    test_isCircularll()"
   ]
  },
  {
   "cell_type": "code",
   "execution_count": null,
   "metadata": {},
   "outputs": [],
   "source": []
  }
 ],
 "metadata": {
  "kernelspec": {
   "display_name": "Python 3",
   "language": "python",
   "name": "python3"
  },
  "language_info": {
   "codemirror_mode": {
    "name": "ipython",
    "version": 3
   },
   "file_extension": ".py",
   "mimetype": "text/x-python",
   "name": "python",
   "nbconvert_exporter": "python",
   "pygments_lexer": "ipython3",
   "version": "3.7.7"
  }
 },
 "nbformat": 4,
 "nbformat_minor": 2
}

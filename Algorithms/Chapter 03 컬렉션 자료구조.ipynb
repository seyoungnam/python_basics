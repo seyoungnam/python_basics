{
 "cells": [
  {
   "cell_type": "markdown",
   "metadata": {},
   "source": [
    "# Chapter 3  컬렉션 자료구조\n",
    "- 컬렉션 자료구조는 시퀀스 자료구조와 달리 데이터를 서로 연관시키지 않고 모아두는 컨테이너\n",
    "- 세가지 속성\n",
    "    * 멤버십 연산자: in\n",
    "    * 크기 함수: len(seq)\n",
    "    * 반복성\n",
    "- 파이썬 내장 컬렉션 데이터 타입으로는 set과 dict이 존재"
   ]
  },
  {
   "cell_type": "markdown",
   "metadata": {},
   "source": [
    "# 3.1 Set\n",
    "- 반복 가능, 가변적, 중복 요소 없고, 정렬되지 않은 컬렉션 데이터 타입\n",
    "- 인덱스 연산 불가\n",
    "- 멤버십 테스트 및 중복 항목 제거에 사용\n",
    "- 삽입 시간복잡도는 O(1)이고, 합집합의 시간복잡도는 O(m+n)\n",
    "- 교집합 시간복잡도는 더 작은 셋에 대해서만 계산하면 되므로 시간복잡도는 O(n)"
   ]
  },
  {
   "cell_type": "code",
   "execution_count": 1,
   "metadata": {},
   "outputs": [
    {
     "data": {
      "text/plain": [
       "['__and__',\n",
       " '__class__',\n",
       " '__contains__',\n",
       " '__delattr__',\n",
       " '__dir__',\n",
       " '__doc__',\n",
       " '__eq__',\n",
       " '__format__',\n",
       " '__ge__',\n",
       " '__getattribute__',\n",
       " '__gt__',\n",
       " '__hash__',\n",
       " '__iand__',\n",
       " '__init__',\n",
       " '__init_subclass__',\n",
       " '__ior__',\n",
       " '__isub__',\n",
       " '__iter__',\n",
       " '__ixor__',\n",
       " '__le__',\n",
       " '__len__',\n",
       " '__lt__',\n",
       " '__ne__',\n",
       " '__new__',\n",
       " '__or__',\n",
       " '__rand__',\n",
       " '__reduce__',\n",
       " '__reduce_ex__',\n",
       " '__repr__',\n",
       " '__ror__',\n",
       " '__rsub__',\n",
       " '__rxor__',\n",
       " '__setattr__',\n",
       " '__sizeof__',\n",
       " '__str__',\n",
       " '__sub__',\n",
       " '__subclasshook__',\n",
       " '__xor__',\n",
       " 'add',\n",
       " 'clear',\n",
       " 'copy',\n",
       " 'difference',\n",
       " 'difference_update',\n",
       " 'discard',\n",
       " 'intersection',\n",
       " 'intersection_update',\n",
       " 'isdisjoint',\n",
       " 'issubset',\n",
       " 'issuperset',\n",
       " 'pop',\n",
       " 'remove',\n",
       " 'symmetric_difference',\n",
       " 'symmetric_difference_update',\n",
       " 'union',\n",
       " 'update']"
      ]
     },
     "execution_count": 1,
     "metadata": {},
     "output_type": "execute_result"
    }
   ],
   "source": [
    "dir(set())"
   ]
  },
  {
   "cell_type": "code",
   "execution_count": 2,
   "metadata": {},
   "outputs": [
    {
     "data": {
      "text/plain": [
       "['__and__',\n",
       " '__class__',\n",
       " '__contains__',\n",
       " '__delattr__',\n",
       " '__dir__',\n",
       " '__doc__',\n",
       " '__eq__',\n",
       " '__format__',\n",
       " '__ge__',\n",
       " '__getattribute__',\n",
       " '__gt__',\n",
       " '__hash__',\n",
       " '__init__',\n",
       " '__init_subclass__',\n",
       " '__iter__',\n",
       " '__le__',\n",
       " '__len__',\n",
       " '__lt__',\n",
       " '__ne__',\n",
       " '__new__',\n",
       " '__or__',\n",
       " '__rand__',\n",
       " '__reduce__',\n",
       " '__reduce_ex__',\n",
       " '__repr__',\n",
       " '__ror__',\n",
       " '__rsub__',\n",
       " '__rxor__',\n",
       " '__setattr__',\n",
       " '__sizeof__',\n",
       " '__str__',\n",
       " '__sub__',\n",
       " '__subclasshook__',\n",
       " '__xor__',\n",
       " 'copy',\n",
       " 'difference',\n",
       " 'intersection',\n",
       " 'isdisjoint',\n",
       " 'issubset',\n",
       " 'issuperset',\n",
       " 'symmetric_difference',\n",
       " 'union']"
      ]
     },
     "execution_count": 2,
     "metadata": {},
     "output_type": "execute_result"
    }
   ],
   "source": [
    "dir(frozenset())  # frozenset은 불변 객체"
   ]
  },
  {
   "cell_type": "code",
   "execution_count": 3,
   "metadata": {},
   "outputs": [
    {
     "data": {
      "text/plain": [
       "True"
      ]
     },
     "execution_count": 3,
     "metadata": {},
     "output_type": "execute_result"
    }
   ],
   "source": [
    "fs = frozenset((0, 1, 2, 3, 4))\n",
    "2 in fs"
   ]
  },
  {
   "cell_type": "code",
   "execution_count": 4,
   "metadata": {},
   "outputs": [
    {
     "data": {
      "text/plain": [
       "5"
      ]
     },
     "execution_count": 4,
     "metadata": {},
     "output_type": "execute_result"
    }
   ],
   "source": [
    "len(fs)"
   ]
  },
  {
   "cell_type": "markdown",
   "metadata": {},
   "source": [
    "## 3.1.1 셋 메서드"
   ]
  },
  {
   "cell_type": "code",
   "execution_count": 5,
   "metadata": {},
   "outputs": [
    {
     "data": {
      "text/plain": [
       "{'버피', '에인절', '윌로', '자일스'}"
      ]
     },
     "execution_count": 5,
     "metadata": {},
     "output_type": "execute_result"
    }
   ],
   "source": [
    "# A.add(x): 셋 A에 x가 없는 경우 x를 추가\n",
    "people = {\"버피\", \"에인절\", \"자일스\"}\n",
    "people.add(\"윌로\")\n",
    "people"
   ]
  },
  {
   "cell_type": "code",
   "execution_count": 6,
   "metadata": {},
   "outputs": [
    {
     "data": {
      "text/plain": [
       "{'로미오', '버피', '에인절', '자일스', '줄리엣'}"
      ]
     },
     "execution_count": 6,
     "metadata": {},
     "output_type": "execute_result"
    }
   ],
   "source": [
    "# A.update(B) 혹은 A |= B는 A를 B에 추가한다(합집합)\n",
    "people = {\"버피\", \"에인절\", \"자일스\"}\n",
    "people.update({\"로미오\", \"줄리엣\", \"에인절\"})\n",
    "people"
   ]
  },
  {
   "cell_type": "code",
   "execution_count": 7,
   "metadata": {},
   "outputs": [
    {
     "data": {
      "text/plain": [
       "{'로미오', '리키', '버피', '에인절', '유진', '자일스', '줄리엣'}"
      ]
     },
     "execution_count": 7,
     "metadata": {},
     "output_type": "execute_result"
    }
   ],
   "source": [
    "people |= {\"리키\", \"유진\"}\n",
    "people"
   ]
  },
  {
   "cell_type": "code",
   "execution_count": 8,
   "metadata": {},
   "outputs": [
    {
     "data": {
      "text/plain": [
       "{'로미오', '버피', '에인절', '자일스', '줄리엣'}"
      ]
     },
     "execution_count": 8,
     "metadata": {},
     "output_type": "execute_result"
    }
   ],
   "source": [
    "# A.union(B)와 A | B는 앞에서 본 update() 메서드와 같지만, 연산 결과를 복사본으로 반환한다.\n",
    "people = {\"버피\", \"에인절\", \"자일스\"}\n",
    "people.union({\"로미오\", \"줄리엣\"})"
   ]
  },
  {
   "cell_type": "code",
   "execution_count": 9,
   "metadata": {},
   "outputs": [
    {
     "data": {
      "text/plain": [
       "{'버피', '에인절', '자일스'}"
      ]
     },
     "execution_count": 9,
     "metadata": {},
     "output_type": "execute_result"
    }
   ],
   "source": [
    "people   # people은 원형 그대로 유지"
   ]
  },
  {
   "cell_type": "code",
   "execution_count": 10,
   "metadata": {},
   "outputs": [
    {
     "data": {
      "text/plain": [
       "{'버피', '브라이언', '에인절', '자일스'}"
      ]
     },
     "execution_count": 10,
     "metadata": {},
     "output_type": "execute_result"
    }
   ],
   "source": [
    "people | {\"브라이언\"}"
   ]
  },
  {
   "cell_type": "code",
   "execution_count": 11,
   "metadata": {},
   "outputs": [
    {
     "data": {
      "text/plain": [
       "{'버피', '에인절', '자일스'}"
      ]
     },
     "execution_count": 11,
     "metadata": {},
     "output_type": "execute_result"
    }
   ],
   "source": [
    "people   # people은 원형 그대로 유지"
   ]
  },
  {
   "cell_type": "code",
   "execution_count": 12,
   "metadata": {},
   "outputs": [
    {
     "data": {
      "text/plain": [
       "{'에인절', '자일스'}"
      ]
     },
     "execution_count": 12,
     "metadata": {},
     "output_type": "execute_result"
    }
   ],
   "source": [
    "# A.intersection(B)와 A & B는 A와 B의 교집합의 복사본을 반환\n",
    "people = {\"버피\", \"에인절\", \"자일스\", \"이안\"}\n",
    "vampires = {\"에인절\", \"자일스\", \"윌로\"}\n",
    "people.intersection(vampires)"
   ]
  },
  {
   "cell_type": "code",
   "execution_count": 13,
   "metadata": {},
   "outputs": [
    {
     "data": {
      "text/plain": [
       "{'에인절', '자일스'}"
      ]
     },
     "execution_count": 13,
     "metadata": {},
     "output_type": "execute_result"
    }
   ],
   "source": [
    "people & vampires"
   ]
  },
  {
   "cell_type": "code",
   "execution_count": 14,
   "metadata": {},
   "outputs": [
    {
     "data": {
      "text/plain": [
       "{'버피', '아영', '자일스'}"
      ]
     },
     "execution_count": 14,
     "metadata": {},
     "output_type": "execute_result"
    }
   ],
   "source": [
    "# A.difference(B)와 A - B는 A와 B의 차집합의 복사본을 반환\n",
    "people = {\"버피\", \"에인절\", \"자일스\", \"아영\"}\n",
    "vampires = {\"스파이크\", \"에인절\", \"상민\"}\n",
    "people.difference(vampires)"
   ]
  },
  {
   "cell_type": "code",
   "execution_count": 15,
   "metadata": {},
   "outputs": [
    {
     "data": {
      "text/plain": [
       "{'버피', '아영', '자일스'}"
      ]
     },
     "execution_count": 15,
     "metadata": {},
     "output_type": "execute_result"
    }
   ],
   "source": [
    "people - vampires"
   ]
  },
  {
   "cell_type": "code",
   "execution_count": 16,
   "metadata": {},
   "outputs": [
    {
     "data": {
      "text/plain": [
       "set()"
      ]
     },
     "execution_count": 16,
     "metadata": {},
     "output_type": "execute_result"
    }
   ],
   "source": [
    "# A.clear()는 A의 모든 항목을 제거\n",
    "people = {\"버피\", \"에인절\", \"자일스\", \"아영\"}\n",
    "people.clear()\n",
    "people"
   ]
  },
  {
   "cell_type": "code",
   "execution_count": 17,
   "metadata": {},
   "outputs": [],
   "source": [
    "# A.discard(x)는 A의 항목 x를 제거하며 반환값은 없음\n",
    "# A.remove()는 A.discard()와 같지만 항목 x가 없을 경우 KeyError 예외 발생\n",
    "# A.pop()은 A에서 한 항목을 무작위로 제거하고 그 항목을 반환, 셋이 비어 있으면 KeyError 예외 발생\n",
    "countries = {\"프랑스\", \"스페인\", \"영국\"}\n",
    "countries.discard(\"한국\")"
   ]
  },
  {
   "cell_type": "code",
   "execution_count": 18,
   "metadata": {},
   "outputs": [
    {
     "ename": "KeyError",
     "evalue": "'일본'",
     "output_type": "error",
     "traceback": [
      "\u001b[1;31m---------------------------------------------------------------------------\u001b[0m",
      "\u001b[1;31mKeyError\u001b[0m                                  Traceback (most recent call last)",
      "\u001b[1;32m<ipython-input-18-8a3602d3d316>\u001b[0m in \u001b[0;36m<module>\u001b[1;34m()\u001b[0m\n\u001b[1;32m----> 1\u001b[1;33m \u001b[0mcountries\u001b[0m\u001b[1;33m.\u001b[0m\u001b[0mremove\u001b[0m\u001b[1;33m(\u001b[0m\u001b[1;34m\"일본\"\u001b[0m\u001b[1;33m)\u001b[0m\u001b[1;33m\u001b[0m\u001b[1;33m\u001b[0m\u001b[0m\n\u001b[0m",
      "\u001b[1;31mKeyError\u001b[0m: '일본'"
     ]
    }
   ],
   "source": [
    "countries.remove(\"일본\")"
   ]
  },
  {
   "cell_type": "code",
   "execution_count": 19,
   "metadata": {},
   "outputs": [
    {
     "data": {
      "text/plain": [
       "'스페인'"
      ]
     },
     "execution_count": 19,
     "metadata": {},
     "output_type": "execute_result"
    }
   ],
   "source": [
    "countries.pop()  # 무작위"
   ]
  },
  {
   "cell_type": "code",
   "execution_count": 20,
   "metadata": {},
   "outputs": [
    {
     "data": {
      "text/plain": [
       "{'영국', '프랑스'}"
      ]
     },
     "execution_count": 20,
     "metadata": {},
     "output_type": "execute_result"
    }
   ],
   "source": [
    "countries"
   ]
  },
  {
   "cell_type": "code",
   "execution_count": 21,
   "metadata": {},
   "outputs": [],
   "source": [
    "countries.discard(\"프랑스\")"
   ]
  },
  {
   "cell_type": "code",
   "execution_count": 22,
   "metadata": {},
   "outputs": [],
   "source": [
    "countries.remove(\"영국\")"
   ]
  },
  {
   "cell_type": "code",
   "execution_count": 1,
   "metadata": {},
   "outputs": [
    {
     "ename": "NameError",
     "evalue": "name 'countries' is not defined",
     "output_type": "error",
     "traceback": [
      "\u001b[1;31m---------------------------------------------------------------------------\u001b[0m",
      "\u001b[1;31mNameError\u001b[0m                                 Traceback (most recent call last)",
      "\u001b[1;32m<ipython-input-1-23bea1de7243>\u001b[0m in \u001b[0;36m<module>\u001b[1;34m()\u001b[0m\n\u001b[1;32m----> 1\u001b[1;33m \u001b[0mcountries\u001b[0m\u001b[1;33m.\u001b[0m\u001b[0mpop\u001b[0m\u001b[1;33m(\u001b[0m\u001b[1;33m)\u001b[0m\u001b[1;33m\u001b[0m\u001b[1;33m\u001b[0m\u001b[0m\n\u001b[0m",
      "\u001b[1;31mNameError\u001b[0m: name 'countries' is not defined"
     ]
    }
   ],
   "source": [
    "countries.pop()"
   ]
  },
  {
   "cell_type": "markdown",
   "metadata": {},
   "source": [
    "## 3.1.2 셋과 리스트\n",
    "- 리스트 타입은 셋 타입으로 변환 가능"
   ]
  },
  {
   "cell_type": "code",
   "execution_count": 4,
   "metadata": {},
   "outputs": [
    {
     "name": "stdout",
     "output_type": "stream",
     "text": [
      "테스트 통과!\n"
     ]
    }
   ],
   "source": [
    "def remove_dup(l1):\n",
    "    '''리스트의 중복된 항목 제거 후 반환'''\n",
    "    return list(set(l1))\n",
    "\n",
    "def intersection(l1, l2):\n",
    "    '''교집합 결과를 반환'''\n",
    "    return list(set(l1) & set(l2))\n",
    "\n",
    "def union(l1, l2):\n",
    "    '''합집합 결과를 반환'''\n",
    "    return list(set(l1) | set(l2))\n",
    "\n",
    "l1 = [1, 2, 3, 4, 5, 5, 9, 11, 11, 15]\n",
    "l2 = [4, 5, 6, 7, 8]\n",
    "l3 = []\n",
    "assert(remove_dup(l1) == [1, 2, 3, 4, 5, 9, 11, 15])\n",
    "assert(intersection(l1, l2) == [4, 5])\n",
    "assert(union(l1, l2) == [1, 2, 3, 4, 5, 6, 7, 8, 9, 11, 15])\n",
    "assert(remove_dup(l3) == [])\n",
    "assert(intersection(l3, l2) == l3)\n",
    "assert(sorted(union(l3, l2)) == sorted(l2))\n",
    "print('테스트 통과!')"
   ]
  },
  {
   "cell_type": "code",
   "execution_count": 5,
   "metadata": {},
   "outputs": [
    {
     "name": "stdout",
     "output_type": "stream",
     "text": [
      "딕셔너리1\t: {'a': 1, 'b': 2, 'c': 3}\n",
      "딕셔너리2\t: {'a': 1, 'c': 2, 'd': 3, 'e': 4}\n",
      "d1 합집합 d2 (키)\t: {'a', 'c'}\n",
      "d1 합집합 d2 (키,값)\t: {('a', 1)}\n",
      "d1 - d2 (키)\t: {'b'}\n",
      "d2 - d1 (키)\t: {'d', 'e'}\n",
      "d1 - d2 (키, 값)\t {('b', 2), ('c', 3)}\n",
      "d2 - {c, d}\t {'a': 1, 'e': 4}\n"
     ]
    }
   ],
   "source": [
    "# 딕셔너리에서도 셋 속성 사용 가능\n",
    "def set_operations_with_dict():\n",
    "    pairs = [(\"a\", 1), (\"b\", 2), (\"c\", 3)]\n",
    "    d1 = dict(pairs)\n",
    "    print(\"딕셔너리1\\t: {0}\".format(d1))\n",
    "    \n",
    "    d2 = {\"a\": 1, \"c\": 2, \"d\": 3, \"e\": 4}\n",
    "    print(\"딕셔너리2\\t: {0}\".format(d2))\n",
    "    \n",
    "    intersection = d1.keys() & d2.keys()\n",
    "    print(\"d1 합집합 d2 (키)\\t: {0}\".format(intersection))\n",
    "    \n",
    "    intersection_items = d1.items() & d2.items()\n",
    "    print(\"d1 합집합 d2 (키,값)\\t: {0}\".format(intersection_items))\n",
    "    \n",
    "    subtraction1 = d1.keys() - d2.keys()\n",
    "    print(\"d1 - d2 (키)\\t: {0}\".format(subtraction1))\n",
    "    \n",
    "    subtraction2 = d2.keys() - d1.keys()\n",
    "    print(\"d2 - d1 (키)\\t: {0}\".format(subtraction2))\n",
    "    \n",
    "    subtraction_items = d1.items() - d2.items()\n",
    "    print(\"d1 - d2 (키, 값)\\t {0}\".format(subtraction_items))\n",
    "    \n",
    "    '''딕셔너리의 특정 키를 제외한다.'''\n",
    "    d3 = {key: d2[key] for key in d2.keys() - {\"c\", \"d\"}}\n",
    "    print(\"d2 - {{c, d}}\\t {0}\".format(d3))\n",
    "    \n",
    "set_operations_with_dict()"
   ]
  },
  {
   "cell_type": "markdown",
   "metadata": {},
   "source": [
    "# 3.2 딕셔너리\n",
    "- 파이썬 딕셔너리는 해시 테이블로 구현\n",
    "- 해시 함수는 특정 객체에 해당하는 임의의 정수 값을 상수 시간 내에 계산(?)"
   ]
  },
  {
   "cell_type": "code",
   "execution_count": 24,
   "metadata": {},
   "outputs": [
    {
     "data": {
      "text/plain": [
       "42"
      ]
     },
     "execution_count": 24,
     "metadata": {},
     "output_type": "execute_result"
    }
   ],
   "source": [
    "hash(42)"
   ]
  },
  {
   "cell_type": "code",
   "execution_count": 25,
   "metadata": {},
   "outputs": [
    {
     "data": {
      "text/plain": [
       "3068040838128048813"
      ]
     },
     "execution_count": 25,
     "metadata": {},
     "output_type": "execute_result"
    }
   ],
   "source": [
    "hash(\"hello\")"
   ]
  },
  {
   "cell_type": "markdown",
   "metadata": {},
   "source": [
    "- 컬렉션 매핑 타입인 딕셔너리는 반복 가능\n",
    "- 멤버십 연산자 in과 len() 함수 지원\n",
    "- 매핑은 key-value 항목의 컬렉션\n",
    "\n",
    "- 딕셔너리의 항목은 고유하므로, 항목에 접근하는 시간복잡도는 O(1)\n",
    "- 딕셔너리는 변경 가능하므로 항목의 추가 및 제거 가능\n",
    "- 딕셔너리는 항목의 삽입 순서를 기억하지 않으며, 인덱스 위치 사용 불가"
   ]
  },
  {
   "cell_type": "code",
   "execution_count": 26,
   "metadata": {},
   "outputs": [
    {
     "data": {
      "text/plain": [
       "{'name': '쿠엔틴 타란티노', 'job': '감독'}"
      ]
     },
     "execution_count": 26,
     "metadata": {},
     "output_type": "execute_result"
    }
   ],
   "source": [
    "tarantino = {}\n",
    "tarantino['name'] = '쿠엔틴 타란티노'\n",
    "tarantino['job'] = '감독'\n",
    "tarantino"
   ]
  },
  {
   "cell_type": "code",
   "execution_count": 11,
   "metadata": {},
   "outputs": [
    {
     "data": {
      "text/plain": [
       "{'name': '버피', 'age': 16, 'hobby': '게임'}"
      ]
     },
     "execution_count": 11,
     "metadata": {},
     "output_type": "execute_result"
    }
   ],
   "source": [
    "sunnydale = dict({\"name\":\"버피\", \"age\":16, \"hobby\":\"게임\"})\n",
    "sunnydale"
   ]
  },
  {
   "cell_type": "code",
   "execution_count": 12,
   "metadata": {},
   "outputs": [
    {
     "data": {
      "text/plain": [
       "{'name': '버피', 'age': 16, 'hobby': '게임'}"
      ]
     },
     "execution_count": 12,
     "metadata": {},
     "output_type": "execute_result"
    }
   ],
   "source": [
    "sunnydale = {\"name\":\"버피\", \"age\":16, \"hobby\":\"게임\"}\n",
    "sunnydale"
   ]
  },
  {
   "cell_type": "code",
   "execution_count": 7,
   "metadata": {},
   "outputs": [
    {
     "data": {
      "text/plain": [
       "{'name': '자일스', 'age': 45, 'hobby': '영화감상'}"
      ]
     },
     "execution_count": 7,
     "metadata": {},
     "output_type": "execute_result"
    }
   ],
   "source": [
    "sunnydale = dict(name=\"자일스\", age=45, hobby=\"영화감상\")\n",
    "sunnydale"
   ]
  },
  {
   "cell_type": "code",
   "execution_count": 9,
   "metadata": {},
   "outputs": [
    {
     "data": {
      "text/plain": [
       "{'name': '윌로', 'age': 15, 'hobby': '개발'}"
      ]
     },
     "execution_count": 9,
     "metadata": {},
     "output_type": "execute_result"
    }
   ],
   "source": [
    "sunnydale = dict([(\"name\", \"윌로\"), (\"age\", 15), (\"hobby\", \"개발\")])\n",
    "sunnydale"
   ]
  },
  {
   "cell_type": "markdown",
   "metadata": {},
   "source": [
    "## 3.2.1 딕셔너리 메서드"
   ]
  },
  {
   "cell_type": "code",
   "execution_count": 13,
   "metadata": {},
   "outputs": [
    {
     "name": "stdout",
     "output_type": "stream",
     "text": [
      "{'key1': ['value1', 'value2'], 'key2': ['value3', 'value4', 'value5']}\n",
      "{'key1': ['value1', 'value2'], 'key2': ['value3', 'value4', 'value5']}\n"
     ]
    }
   ],
   "source": [
    "# setdefault(): 딕셔너리에서 키의 존재 여부를 모른 채 접근할 때 사용\n",
    "# A.setdefault(key, default)를 사용하면 딕셔너리 A에 key가 존재할 경우 키에 해당하는 값 얻을 수 있고,\n",
    "# key가 존재하지 않는다면 새 키와 기본값 default가 딕셔너리에 저장\n",
    "\n",
    "def usual_dict(dict_data):\n",
    "    '''dict[key] 사용'''\n",
    "    newdata = {}\n",
    "    for k, v in dict_data:\n",
    "        if k in newdata:\n",
    "            newdata[k].append(v)\n",
    "        else:\n",
    "            newdata[k] = [v]\n",
    "    return newdata\n",
    "\n",
    "def setdefault_dict(dict_data):\n",
    "    '''setdefault() 메서드 사용'''\n",
    "    newdata = {}\n",
    "    for k, v in dict_data:\n",
    "        newdata.setdefault(k, []).append(v)\n",
    "    return newdata\n",
    "\n",
    "dict_data = ((\"key1\", \"value1\"),\n",
    "             (\"key1\", \"value2\"),\n",
    "             (\"key2\", \"value3\"),\n",
    "             (\"key2\", \"value4\"),\n",
    "             (\"key2\", \"value5\"),)\n",
    "\n",
    "print(usual_dict(dict_data))\n",
    "print(setdefault_dict(dict_data))"
   ]
  },
  {
   "cell_type": "code",
   "execution_count": 14,
   "metadata": {},
   "outputs": [
    {
     "data": {
      "text/plain": [
       "{'a': 1, 'b': 10}"
      ]
     },
     "execution_count": 14,
     "metadata": {},
     "output_type": "execute_result"
    }
   ],
   "source": [
    "# A.update(B): 딕셔너리 A에 딕셔너리 B의 키가 존재한다면, 기존 A의 (키,값)을 B의 (키,값)으로 갱신\n",
    "# B의 키가 A에 존재하지 않는다면, B의 (키,값)을 A에 추가\n",
    "\n",
    "d = {'a': 1, 'b': 2}\n",
    "d.update({'b': 10})\n",
    "d"
   ]
  },
  {
   "cell_type": "code",
   "execution_count": 15,
   "metadata": {},
   "outputs": [
    {
     "data": {
      "text/plain": [
       "{'a': 1, 'b': 10, 'c': 100}"
      ]
     },
     "execution_count": 15,
     "metadata": {},
     "output_type": "execute_result"
    }
   ],
   "source": [
    "d.update({'c': 100})\n",
    "d"
   ]
  },
  {
   "cell_type": "markdown",
   "metadata": {},
   "source": [
    "### get()"
   ]
  },
  {
   "cell_type": "code",
   "execution_count": 16,
   "metadata": {},
   "outputs": [
    {
     "data": {
      "text/plain": [
       "'게임'"
      ]
     },
     "execution_count": 16,
     "metadata": {},
     "output_type": "execute_result"
    }
   ],
   "source": [
    "# A.get(key)는 딕셔너리 A의 key값을 반환, key가 존재하지 않으면 아무것도 반환하지 않음\n",
    "sunnydale = dict(name='잰더', age=17, hobby='게임')\n",
    "sunnydale.get(\"hobby\")"
   ]
  },
  {
   "cell_type": "code",
   "execution_count": 17,
   "metadata": {},
   "outputs": [
    {
     "data": {
      "text/plain": [
       "'게임'"
      ]
     },
     "execution_count": 17,
     "metadata": {},
     "output_type": "execute_result"
    }
   ],
   "source": [
    "sunnydale['hobby']"
   ]
  },
  {
   "cell_type": "code",
   "execution_count": 18,
   "metadata": {},
   "outputs": [],
   "source": [
    "sunnydale.get('hello')"
   ]
  },
  {
   "cell_type": "code",
   "execution_count": 19,
   "metadata": {},
   "outputs": [
    {
     "ename": "KeyError",
     "evalue": "'hello'",
     "output_type": "error",
     "traceback": [
      "\u001b[1;31m---------------------------------------------------------------------------\u001b[0m",
      "\u001b[1;31mKeyError\u001b[0m                                  Traceback (most recent call last)",
      "\u001b[1;32m<ipython-input-19-071d426af1b5>\u001b[0m in \u001b[0;36m<module>\u001b[1;34m()\u001b[0m\n\u001b[1;32m----> 1\u001b[1;33m \u001b[0msunnydale\u001b[0m\u001b[1;33m[\u001b[0m\u001b[1;34m'hello'\u001b[0m\u001b[1;33m]\u001b[0m\u001b[1;33m\u001b[0m\u001b[1;33m\u001b[0m\u001b[0m\n\u001b[0m",
      "\u001b[1;31mKeyError\u001b[0m: 'hello'"
     ]
    }
   ],
   "source": [
    "sunnydale['hello']"
   ]
  },
  {
   "cell_type": "markdown",
   "metadata": {},
   "source": [
    "### items(), values(), keys()\n",
    "- items(), keys(), values() 메서드는 딕셔너리 뷰\n",
    "- 딕셔너리 뷰란 딕셔너리의 항목(키 또는 값)을 조회하는 읽기 전용의 반복 가능한 객체"
   ]
  },
  {
   "cell_type": "code",
   "execution_count": 20,
   "metadata": {},
   "outputs": [
    {
     "data": {
      "text/plain": [
       "dict_items([('name', '잰더'), ('age', 17), ('hobby', '게임')])"
      ]
     },
     "execution_count": 20,
     "metadata": {},
     "output_type": "execute_result"
    }
   ],
   "source": [
    "sunnydale = dict(name='잰더', age=17, hobby='게임')\n",
    "sunnydale.items()"
   ]
  },
  {
   "cell_type": "code",
   "execution_count": 21,
   "metadata": {},
   "outputs": [
    {
     "data": {
      "text/plain": [
       "dict_values(['잰더', 17, '게임'])"
      ]
     },
     "execution_count": 21,
     "metadata": {},
     "output_type": "execute_result"
    }
   ],
   "source": [
    "sunnydale.values()"
   ]
  },
  {
   "cell_type": "code",
   "execution_count": 22,
   "metadata": {},
   "outputs": [
    {
     "data": {
      "text/plain": [
       "dict_keys(['name', 'age', 'hobby'])"
      ]
     },
     "execution_count": 22,
     "metadata": {},
     "output_type": "execute_result"
    }
   ],
   "source": [
    "sunnydale.keys()"
   ]
  },
  {
   "cell_type": "code",
   "execution_count": 23,
   "metadata": {},
   "outputs": [
    {
     "ename": "TypeError",
     "evalue": "'dict_items' object does not support item assignment",
     "output_type": "error",
     "traceback": [
      "\u001b[1;31m---------------------------------------------------------------------------\u001b[0m",
      "\u001b[1;31mTypeError\u001b[0m                                 Traceback (most recent call last)",
      "\u001b[1;32m<ipython-input-23-c47455755190>\u001b[0m in \u001b[0;36m<module>\u001b[1;34m()\u001b[0m\n\u001b[0;32m      1\u001b[0m \u001b[0msunnydale_copy\u001b[0m \u001b[1;33m=\u001b[0m \u001b[0msunnydale\u001b[0m\u001b[1;33m.\u001b[0m\u001b[0mitems\u001b[0m\u001b[1;33m(\u001b[0m\u001b[1;33m)\u001b[0m\u001b[1;33m\u001b[0m\u001b[1;33m\u001b[0m\u001b[0m\n\u001b[1;32m----> 2\u001b[1;33m \u001b[0msunnydale_copy\u001b[0m\u001b[1;33m[\u001b[0m\u001b[1;34m'address'\u001b[0m\u001b[1;33m]\u001b[0m \u001b[1;33m=\u001b[0m \u001b[1;34m'서울'\u001b[0m\u001b[1;33m\u001b[0m\u001b[1;33m\u001b[0m\u001b[0m\n\u001b[0m",
      "\u001b[1;31mTypeError\u001b[0m: 'dict_items' object does not support item assignment"
     ]
    }
   ],
   "source": [
    "sunnydale_copy = sunnydale.items()\n",
    "sunnydale_copy['address'] = '서울'"
   ]
  },
  {
   "cell_type": "code",
   "execution_count": 24,
   "metadata": {},
   "outputs": [
    {
     "data": {
      "text/plain": [
       "{'name': '잰더', 'age': 17, 'hobby': '게임', 'address': '서울'}"
      ]
     },
     "execution_count": 24,
     "metadata": {},
     "output_type": "execute_result"
    }
   ],
   "source": [
    "sunnydale['address'] = '서울'\n",
    "sunnydale"
   ]
  },
  {
   "cell_type": "markdown",
   "metadata": {},
   "source": [
    "### pop(), popitem()\n",
    "- A.pop(key): 딕셔너리 A의 key 항목을 제거한 후, 그 값을 반환\n",
    "- A.popitem(): 딕셔너리 A에서 항목(키와 값)을 제거한 후, 그 키와 항목을 반환"
   ]
  },
  {
   "cell_type": "code",
   "execution_count": 25,
   "metadata": {},
   "outputs": [
    {
     "data": {
      "text/plain": [
       "17"
      ]
     },
     "execution_count": 25,
     "metadata": {},
     "output_type": "execute_result"
    }
   ],
   "source": [
    "sunnydale = dict(name=\"잰더\", age=17, hobby=\"게임\", address=\"서울\")\n",
    "sunnydale.pop(\"age\")"
   ]
  },
  {
   "cell_type": "code",
   "execution_count": 26,
   "metadata": {},
   "outputs": [
    {
     "data": {
      "text/plain": [
       "{'name': '잰더', 'hobby': '게임', 'address': '서울'}"
      ]
     },
     "execution_count": 26,
     "metadata": {},
     "output_type": "execute_result"
    }
   ],
   "source": [
    "sunnydale"
   ]
  },
  {
   "cell_type": "code",
   "execution_count": 27,
   "metadata": {},
   "outputs": [
    {
     "data": {
      "text/plain": [
       "('address', '서울')"
      ]
     },
     "execution_count": 27,
     "metadata": {},
     "output_type": "execute_result"
    }
   ],
   "source": [
    "sunnydale.popitem()"
   ]
  },
  {
   "cell_type": "code",
   "execution_count": 28,
   "metadata": {},
   "outputs": [
    {
     "data": {
      "text/plain": [
       "{'name': '잰더', 'hobby': '게임'}"
      ]
     },
     "execution_count": 28,
     "metadata": {},
     "output_type": "execute_result"
    }
   ],
   "source": [
    "sunnydale"
   ]
  },
  {
   "cell_type": "markdown",
   "metadata": {},
   "source": [
    "### clear()\n",
    "- 딕셔너리의 모든 항목을 제거"
   ]
  },
  {
   "cell_type": "code",
   "execution_count": 29,
   "metadata": {},
   "outputs": [
    {
     "data": {
      "text/plain": [
       "{}"
      ]
     },
     "execution_count": 29,
     "metadata": {},
     "output_type": "execute_result"
    }
   ],
   "source": [
    "sunnydale.clear()\n",
    "sunnydale"
   ]
  },
  {
   "cell_type": "markdown",
   "metadata": {},
   "source": [
    "## 3.2.2 딕셔너리 성능 측정\n",
    "- 멤버십 연산에 대한 시간복잡도\n",
    "    * 리스트: O(n)\n",
    "    * 딕셔너리: O(1)"
   ]
  },
  {
   "cell_type": "code",
   "execution_count": 36,
   "metadata": {},
   "outputs": [
    {
     "name": "stdout",
     "output_type": "stream",
     "text": [
      "10000,      0.120,      0.002\n",
      "30000,      0.310,      0.002\n",
      "50000,      0.467,      0.002\n",
      "70000,      0.715,      0.002\n",
      "90000,      0.817,      0.002\n",
      "110000,      1.001,      0.002\n",
      "130000,      1.310,      0.002\n",
      "150000,      1.525,      0.002\n",
      "170000,      1.661,      0.002\n",
      "190000,      1.913,      0.002\n",
      "210000,      2.133,      0.002\n",
      "230000,      2.230,      0.002\n",
      "250000,      2.434,      0.002\n",
      "270000,      2.568,      0.002\n",
      "290000,      2.926,      0.002\n",
      "310000,      4.242,      0.002\n",
      "330000,      3.446,      0.007\n",
      "350000,      3.823,      0.004\n",
      "370000,      6.028,      0.002\n",
      "390000,      3.790,      0.002\n",
      "410000,      4.289,      0.002\n",
      "430000,      7.760,      0.003\n",
      "450000,      5.060,      0.002\n",
      "470000,      6.399,      0.002\n",
      "490000,      7.387,      0.002\n",
      "510000,      5.553,      0.002\n",
      "530000,      7.718,      0.002\n",
      "550000,      5.326,      0.004\n",
      "570000,      5.900,      0.002\n",
      "590000,      5.770,      0.003\n",
      "610000,      5.792,      0.003\n",
      "630000,      5.990,      0.002\n",
      "650000,      6.714,      0.002\n",
      "670000,      6.332,      0.003\n",
      "690000,      6.474,      0.004\n",
      "710000,      7.318,      0.002\n",
      "730000,      6.891,      0.002\n",
      "750000,      7.601,      0.003\n",
      "770000,      7.407,      0.003\n",
      "790000,      8.204,      0.002\n",
      "810000,      8.385,      0.002\n",
      "830000,      8.204,      0.003\n",
      "850000,      8.296,      0.003\n",
      "870000,      8.149,      0.003\n",
      "890000,      8.953,      0.002\n",
      "910000,      8.939,      0.002\n",
      "930000,      8.753,      0.002\n",
      "950000,      9.083,      0.002\n",
      "970000,     10.022,      0.002\n",
      "990000,     10.579,      0.002\n"
     ]
    }
   ],
   "source": [
    "import timeit\n",
    "import random\n",
    "\n",
    "for i in range(10000, 1000001, 20000):\n",
    "    t = timeit.Timer(\"random.randrange(%d) in x\" % i,\n",
    "                     \"from __main__ import random, x\")\n",
    "    x = list(range(i))\n",
    "    lst_time = t.timeit(number=1000)\n",
    "    x = {j: None for j in range(i)}  # 딕셔너리\n",
    "    d_time = t.timeit(number=1000)\n",
    "    print(\"%d, %10.3f, %10.3f\" % (i, lst_time, d_time))\n",
    "    \n",
    "# timer 함수 관련 : https://brownbears.tistory.com/456\n",
    "# random.randrange(a, b): a <= x < b 사이의 랜덤한 정수(https://blockdmask.tistory.com/383)"
   ]
  },
  {
   "cell_type": "code",
   "execution_count": 34,
   "metadata": {},
   "outputs": [
    {
     "name": "stdout",
     "output_type": "stream",
     "text": [
      "1\n",
      "4\n",
      "7\n"
     ]
    }
   ],
   "source": [
    "for i in range(1, 10, 3):\n",
    "    print(i)"
   ]
  },
  {
   "cell_type": "markdown",
   "metadata": {},
   "source": [
    "### 딕셔너리 메서드의 시간복잡도\n",
    "- 복사 : O(n)\n",
    "- 항목 조회 : O(1)\n",
    "- 항목 할당 : O(1)\n",
    "- 항목 삭제 : O(1)\n",
    "- 멤버십 테스트 in : O(1)\n",
    "- 반복 : O(n)"
   ]
  },
  {
   "cell_type": "markdown",
   "metadata": {},
   "source": [
    "## 3.2.3 딕셔너리 순회\n",
    "- 딕셔너리 순회시 기본적으로 키를 사용\n",
    "- sorted() 사용하면 정렬된 상태로 순회 가능\n",
    "- sorted() 함수는 keys(), values(), items()에 대해 사용 가능"
   ]
  },
  {
   "cell_type": "code",
   "execution_count": 37,
   "metadata": {},
   "outputs": [
    {
     "name": "stdout",
     "output_type": "stream",
     "text": [
      "a hello\n",
      "b world\n",
      "c !\n"
     ]
    }
   ],
   "source": [
    "d = dict(c=\"!\", b=\"world\", a=\"hello\")\n",
    "for key in sorted(d.keys()):\n",
    "    print(key, d[key])"
   ]
  },
  {
   "cell_type": "markdown",
   "metadata": {},
   "source": [
    "## 3.2.4 딕셔너리 분기"
   ]
  },
  {
   "cell_type": "code",
   "execution_count": 38,
   "metadata": {},
   "outputs": [],
   "source": [
    "def hello():\n",
    "    print(\"hello\")\n",
    "    \n",
    "def world():\n",
    "    print(\"world\")"
   ]
  },
  {
   "cell_type": "code",
   "execution_count": 39,
   "metadata": {},
   "outputs": [
    {
     "name": "stdout",
     "output_type": "stream",
     "text": [
      "hello\n"
     ]
    }
   ],
   "source": [
    "# 일반적으로 if문을 사용하여 분기문 작성\n",
    "action = \"h\"\n",
    "\n",
    "if action == \"h\":\n",
    "    hello()\n",
    "elif action == \"w\":\n",
    "    world()"
   ]
  },
  {
   "cell_type": "code",
   "execution_count": 40,
   "metadata": {},
   "outputs": [
    {
     "name": "stdout",
     "output_type": "stream",
     "text": [
      "hello\n"
     ]
    }
   ],
   "source": [
    "# 딕셔너리 사용하면 더 효율적으로 분기 가능\n",
    "functions = dict(h=hello, w=world)\n",
    "functions[action]()"
   ]
  },
  {
   "cell_type": "code",
   "execution_count": null,
   "metadata": {},
   "outputs": [],
   "source": []
  }
 ],
 "metadata": {
  "kernelspec": {
   "display_name": "Python 3",
   "language": "python",
   "name": "python3"
  },
  "language_info": {
   "codemirror_mode": {
    "name": "ipython",
    "version": 3
   },
   "file_extension": ".py",
   "mimetype": "text/x-python",
   "name": "python",
   "nbconvert_exporter": "python",
   "pygments_lexer": "ipython3",
   "version": "3.7.7"
  }
 },
 "nbformat": 4,
 "nbformat_minor": 2
}

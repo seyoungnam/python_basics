{
 "cells": [
  {
   "cell_type": "markdown",
   "metadata": {},
   "source": [
    "# Chap 06 파이썬 고급 주제\n",
    "\n",
    "# 6.1 멀티 프로세스와 멀티 스레드\n",
    "<hr>\n",
    "\n",
    "프로그램의 작업을 동시에 수행하는 방법은 멀티 프로세스와 멀티 스레드이다.\n",
    "\n",
    "- **멀티 프로세스**\n",
    "    * 별도의 메모리 영역을 가지며, 특별한 메커니즘으로만 통신 가능\n",
    "    * 프로세스 간 데이터 공유와 통신용으로는 비효율적\n",
    "    * 파이썬에서는 subprocess 모듈을 사용\n",
    "    \n",
    "- **멀티 스레드**\n",
    "    * 단일 프로세스 내의 멀티 스레드는 동일한 메모리에 접근\n",
    "    * threading 모듈의 처리를 ㅗㅇ해 한번에 한 스레드만 메모리 영역에 접근 가능\n",
    "    * 각 프로세스가 독립적인 stack, heap, code, data 영역을 가지는 반면, 한 프로세스에 속한 스레드는 stack 영역을 제외한 메모리 영역을 공유\n",
    "    \n",
    "파이썬에 스레드 매커니즘이 있긴 하나, 진정한 병렬 실행이 지원되는 것은 아님. 하지만 오늘날 운영체제에서 충분히 효율적임."
   ]
  },
  {
   "cell_type": "markdown",
   "metadata": {},
   "source": [
    "## 6.1.1 subprocess 모듈\n",
    "\n",
    "- subprocess 모듈은 '부모-자식' 프로세스 쌍을 생성하는 데 사용\n",
    "- 부모 프로세스는 차례로 다른 일을 처리하는 자식 프로세스의 인스턴스를 실행\n",
    "- 자식 프로세스를 사용함으로써 멀티 코어의 이점을 최대한 취하고, 동시성(concurrency) 문제를 운영체제가 알아서 처리하도록 한다"
   ]
  },
  {
   "cell_type": "markdown",
   "metadata": {},
   "source": [
    "## 6.1.2 threading 모듈\n",
    "\n",
    "- 스레드가 여러개로 분리되면, 스레드 간 데이터 고융의 복잡성이 증가\n",
    "- 또한 lock과 deadlock을 회피하는 데 주의를 기울여야 함\n",
    "- 파이썬에서는 단 하나의 메인 스레드만 존재\n",
    "- 멀티 스레드를 사용하려면 threading 모듈 사용\n",
    "\n",
    "- lock 관리를 위해 queue 모듈 사용\n",
    "- 큐에 의존하면 자원의 접근을 직렬화할 수 있고, 이는 곧 한번에 하나의 스레드만 데이터에 접근할 수 있게 한다는 뜻(FIFO)\n",
    "\n",
    "- worker thread가 작업을 완료했는데도 프로그램이 종료되지 않고 계속 실행되는 경우 문제가 될 수 있다\n",
    "- 스레드를 데몬으로 변환하면 데몬 스레드가 실행되지 않는 즉시 프로그램이 종료\n",
    "- queue.join() 메서드는 큐가 빌 때까지(큐의 모든 항목이 처리될 때까지) 기다린다"
   ]
  },
  {
   "cell_type": "code",
   "execution_count": null,
   "metadata": {},
   "outputs": [],
   "source": [
    "import queue\n",
    "import threading\n",
    "\n",
    "q = queue.Queue()\n",
    "\n",
    "def worker(num):\n",
    "    while True:\n",
    "        item = q.get()\n",
    "        if item is None:\n",
    "            break\n",
    "        # 작업을 처리한다.\n",
    "        print(\"스레드 {0} : 처리 완료 {1}\".format(num+1, item))\n",
    "        q.task_done()\n",
    "        \n",
    "if __name__ == \"__main__\":\n",
    "    num_worker_threads = 5\n",
    "    threads = []\n",
    "    for i in range(num_worker_threads):\n",
    "        t = threading.Thread(target=worker, args=(i,))\n",
    "        t.start()\n",
    "        threads.append(t)\n",
    "        \n",
    "    for item in range(20):\n",
    "        q.put(item)\n",
    "        \n",
    "    # 모든 작업이 끝날 때까지 대기한다(block).\n",
    "    q.join()\n",
    "    \n",
    "    #워커 스레드를 종료한다(stop).\n",
    "    for i in range(num_worker_threads):\n",
    "        q.put(None)\n",
    "    for t in threads:\n",
    "        t.join()"
   ]
  },
  {
   "cell_type": "code",
   "execution_count": null,
   "metadata": {},
   "outputs": [],
   "source": []
  }
 ],
 "metadata": {
  "kernelspec": {
   "display_name": "Python 3",
   "language": "python",
   "name": "python3"
  },
  "language_info": {
   "codemirror_mode": {
    "name": "ipython",
    "version": 3
   },
   "file_extension": ".py",
   "mimetype": "text/x-python",
   "name": "python",
   "nbconvert_exporter": "python",
   "pygments_lexer": "ipython3",
   "version": "3.7.7"
  }
 },
 "nbformat": 4,
 "nbformat_minor": 2
}

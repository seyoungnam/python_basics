{
 "cells": [
  {
   "cell_type": "markdown",
   "metadata": {},
   "source": [
    "# Chapter 04 구조와 모듈"
   ]
  },
  {
   "cell_type": "markdown",
   "metadata": {},
   "source": [
    "# 4.1 모듈\n",
    "- def를 사용하여 정의, def 실행되면 함수의 객체와 참조가 같이 생성\n",
    "- 반환값을 미정의 시, 자동으로 None을 반환\n",
    "- 아무런 값을 반환하지 않는 함수는 procedure라고 부름"
   ]
  },
  {
   "cell_type": "markdown",
   "metadata": {},
   "source": [
    "## 4.1.1 스택과 활성화 레코드\n",
    "- 함수가 호출될 때마다 활성화 레코드(Activation record)가 생성\n",
    "- 활성화 레코드에는 함수의 정보(반환값, 매개변수, 지역변수, 반환주소 등)가 기록되며, 스택에 저장\n",
    "- 활성화 레코드 처리 순서\n",
    "    1. 함수의 실제 매개변수를 스택에 저장(push)\n",
    "    2. 반환 주소를 스택에 저장\n",
    "    3. 스택의 최상위 인덱스를 함수의 지역 변수에 필요한 총량만큼 늘림\n",
    "    4. 함수로 건너뛴다(jump)\n",
    "    \n",
    "- 활성화 레코드를 풀어내는 절차\n",
    "    1. 스택의 최상위 인덱스는 함수에 소비된 총 메모리양(지역변수)만큼 감소\n",
    "    2. 반환 주소를 스택에서 빼낸다(pop)\n",
    "    3. 스택의 최상위 인덱스는 함수의 실제 매개변수만큼 감소"
   ]
  },
  {
   "cell_type": "markdown",
   "metadata": {},
   "source": [
    "## 4.1.2 모듈의 기본값\n",
    "- 모듈 생성시, 함수 또는 메서드에서 가변 객체를 기본값으로 사용해선 안됨"
   ]
  },
  {
   "cell_type": "code",
   "execution_count": 1,
   "metadata": {},
   "outputs": [
    {
     "data": {
      "text/plain": [
       "[5]"
      ]
     },
     "execution_count": 1,
     "metadata": {},
     "output_type": "execute_result"
    }
   ],
   "source": [
    "# 나쁜 예\n",
    "def append(number, number_list=[]):\n",
    "    number_list.append(number)\n",
    "    return number_list\n",
    "\n",
    "append(5)\n",
    "# 예상 결과 [5]"
   ]
  },
  {
   "cell_type": "code",
   "execution_count": 2,
   "metadata": {},
   "outputs": [
    {
     "data": {
      "text/plain": [
       "[5, 7]"
      ]
     },
     "execution_count": 2,
     "metadata": {},
     "output_type": "execute_result"
    }
   ],
   "source": [
    "append(7)\n",
    "# 예상 결과 [7]"
   ]
  },
  {
   "cell_type": "code",
   "execution_count": 3,
   "metadata": {},
   "outputs": [
    {
     "data": {
      "text/plain": [
       "[5, 7, 2]"
      ]
     },
     "execution_count": 3,
     "metadata": {},
     "output_type": "execute_result"
    }
   ],
   "source": [
    "append(2)\n",
    "# 예상 결과 [2]"
   ]
  },
  {
   "cell_type": "code",
   "execution_count": 4,
   "metadata": {},
   "outputs": [
    {
     "name": "stdout",
     "output_type": "stream",
     "text": [
      "[5]\n",
      "[7]\n",
      "[2]\n"
     ]
    }
   ],
   "source": [
    "# 좋은 예\n",
    "def append(number, number_list=None):\n",
    "    if number_list is None:\n",
    "        number_list = []\n",
    "    number_list.append(number)\n",
    "    return number_list\n",
    "\n",
    "print(append(5))\n",
    "print(append(7))\n",
    "print(append(2))"
   ]
  },
  {
   "cell_type": "markdown",
   "metadata": {},
   "source": [
    "## 4.1.3 __init__.py 파일\n",
    "- 패키지는 모듈과 \"__init__.py\" 파일이 있는 디렉터리\n",
    "- 파이썬은 \"__init__.py\" 파일이 있는 디렉터리를 패키지로 취급\n",
    "- import 폴더이름.파일모듈명\n",
    "- \"__init__.py\" 파일은 빈 파일일 수도 있지만, 패키지의 초기화 코드를 실행하거나, \"__all__\" 변수를 정의\n",
    "- \"__all__\" = [\"파일1\", ...]"
   ]
  },
  {
   "cell_type": "markdown",
   "metadata": {},
   "source": [
    "### from 폴더이름 import *\n",
    "- 위 코드는 이름이 __로 시작하는 모듈을 제외한 모듈의 모든 객체를 불러옴\n",
    "- __all__ 변수가 있는 경우, 해당 리스트의 객체를 불러옴\n",
    "- 터미널에서 특정 모듈이 있는지 확인하려면 \"python -c import 모듈\" 명령 사용"
   ]
  },
  {
   "cell_type": "markdown",
   "metadata": {},
   "source": [
    "## 4.1.4 __name__ 변수\n",
    "- 파이썬은 모듈을 import할 때마다 __name__이라는 변수를 만들고, 모듈 이름을 저장\n",
    "- 반면 아래 코드를 포함하고 있는 .py 파일을 직접 실행하면 파이썬은 __name__을 __main__으로 설정"
   ]
  },
  {
   "cell_type": "code",
   "execution_count": 5,
   "metadata": {},
   "outputs": [
    {
     "name": "stdout",
     "output_type": "stream",
     "text": [
      "__main__ 직접 실행됨\n"
     ]
    }
   ],
   "source": [
    "hello = \"hello\"\n",
    "\n",
    "def world():\n",
    "    return \"world\"\n",
    "\n",
    "if __name__ == \"__main__\":\n",
    "    print(\"{0} 직접 실행됨\".format(__name__))\n",
    "else:\n",
    "    print(\"{0} 임포트됨\".format(__name__))"
   ]
  },
  {
   "cell_type": "markdown",
   "metadata": {},
   "source": [
    "## 4.1.5 컴파일된 바이트코드 모듈\n",
    "- 컴파일러가 사용하는 바이트 컴파일 코드(byte-compiled code)는 표준 모듈을 많이 사용하는 프로그램의 로딩 시간을 줄이기 위한 것\n",
    "- -0 플래그(flag)를 사용하여 파이썬 인터프리터를 호출하면, 최적화된 코드가 생성, .pyo 파일에 저장\n",
    "- 파이썬 3.5 부터는 .pyo 대신 .pyc를 사용"
   ]
  },
  {
   "cell_type": "markdown",
   "metadata": {},
   "source": [
    "## 4.1.6 sys 모듈\n",
    "- sys.path는 인터프리터가 모듈을 검색할 경로를 담은 문자열 리스트\n",
    "- sys.path 변수는 PYTHONPATH 환경변수 또는 내장된 기본값 경로로 초기화됨\n",
    "- 환경변수를 수정하면 모듈 경로를 추가하거나 임시로 모듈 경로를 추가할 수 있음"
   ]
  },
  {
   "cell_type": "code",
   "execution_count": 6,
   "metadata": {},
   "outputs": [
    {
     "data": {
      "text/plain": [
       "['',\n",
       " 'C:\\\\05.Python\\\\Algorithms',\n",
       " 'C:\\\\Users\\\\USER\\\\Anaconda3\\\\python37.zip',\n",
       " 'C:\\\\Users\\\\USER\\\\Anaconda3\\\\DLLs',\n",
       " 'C:\\\\Users\\\\USER\\\\Anaconda3\\\\lib',\n",
       " 'C:\\\\Users\\\\USER\\\\Anaconda3',\n",
       " 'C:\\\\Users\\\\USER\\\\AppData\\\\Roaming\\\\Python\\\\Python37\\\\site-packages',\n",
       " 'C:\\\\Users\\\\USER\\\\Anaconda3\\\\lib\\\\site-packages',\n",
       " 'C:\\\\Users\\\\USER\\\\Anaconda3\\\\lib\\\\site-packages\\\\win32',\n",
       " 'C:\\\\Users\\\\USER\\\\Anaconda3\\\\lib\\\\site-packages\\\\win32\\\\lib',\n",
       " 'C:\\\\Users\\\\USER\\\\Anaconda3\\\\lib\\\\site-packages\\\\Pythonwin',\n",
       " 'C:\\\\Users\\\\USER\\\\Anaconda3\\\\lib\\\\site-packages\\\\IPython\\\\extensions',\n",
       " 'C:\\\\Users\\\\USER\\\\.ipython']"
      ]
     },
     "execution_count": 6,
     "metadata": {},
     "output_type": "execute_result"
    }
   ],
   "source": [
    "import sys\n",
    "sys.path"
   ]
  },
  {
   "cell_type": "code",
   "execution_count": 7,
   "metadata": {},
   "outputs": [
    {
     "data": {
      "text/plain": [
       "['',\n",
       " 'C:\\\\05.Python\\\\Algorithms',\n",
       " 'C:\\\\Users\\\\USER\\\\Anaconda3\\\\python37.zip',\n",
       " 'C:\\\\Users\\\\USER\\\\Anaconda3\\\\DLLs',\n",
       " 'C:\\\\Users\\\\USER\\\\Anaconda3\\\\lib',\n",
       " 'C:\\\\Users\\\\USER\\\\Anaconda3',\n",
       " 'C:\\\\Users\\\\USER\\\\AppData\\\\Roaming\\\\Python\\\\Python37\\\\site-packages',\n",
       " 'C:\\\\Users\\\\USER\\\\Anaconda3\\\\lib\\\\site-packages',\n",
       " 'C:\\\\Users\\\\USER\\\\Anaconda3\\\\lib\\\\site-packages\\\\win32',\n",
       " 'C:\\\\Users\\\\USER\\\\Anaconda3\\\\lib\\\\site-packages\\\\win32\\\\lib',\n",
       " 'C:\\\\Users\\\\USER\\\\Anaconda3\\\\lib\\\\site-packages\\\\Pythonwin',\n",
       " 'C:\\\\Users\\\\USER\\\\Anaconda3\\\\lib\\\\site-packages\\\\IPython\\\\extensions',\n",
       " 'C:\\\\Users\\\\USER\\\\.ipython',\n",
       " '모듈_디렉터리_경로']"
      ]
     },
     "execution_count": 7,
     "metadata": {},
     "output_type": "execute_result"
    }
   ],
   "source": [
    "sys.path.append(\"모듈_디렉터리_경로\")\n",
    "sys.path"
   ]
  },
  {
   "cell_type": "markdown",
   "metadata": {},
   "source": [
    "- sys.argv 변수를 사용하면 명령 줄에 전달된 인수를 프로그램 내에서 사용 가능"
   ]
  },
  {
   "cell_type": "code",
   "execution_count": 8,
   "metadata": {},
   "outputs": [],
   "source": [
    "import sys\n",
    "\n",
    "def main():\n",
    "    for arg in sys.argv[1:]:\n",
    "        print(arg)"
   ]
  },
  {
   "cell_type": "markdown",
   "metadata": {},
   "source": [
    "- 위 파일명이 example.py라고 한다면, 명령줄에 \"python example.py 로미오 줄리엣\" 입력시 결과값은\n",
    "- 로미오\n",
    "- 줄리엣\n",
    "\n",
    "- sys.argv[0]으로 두면 example.py가 프린트됨\n"
   ]
  },
  {
   "cell_type": "markdown",
   "metadata": {},
   "source": [
    "- dir() 내장 함수는 모듈이 정의하는 모든 유형의 이름(모듈, 변수, 함수)을 찾는데 사용\n",
    "- dir() 함수는 객체의 모든 메서드나 속성을 찾는데 유용"
   ]
  },
  {
   "cell_type": "code",
   "execution_count": 9,
   "metadata": {},
   "outputs": [
    {
     "data": {
      "text/plain": [
       "['__breakpointhook__',\n",
       " '__displayhook__',\n",
       " '__doc__',\n",
       " '__excepthook__',\n",
       " '__interactivehook__',\n",
       " '__loader__',\n",
       " '__name__',\n",
       " '__package__',\n",
       " '__spec__',\n",
       " '__stderr__',\n",
       " '__stdin__',\n",
       " '__stdout__',\n",
       " '_base_executable',\n",
       " '_clear_type_cache',\n",
       " '_current_frames',\n",
       " '_debugmallocstats',\n",
       " '_enablelegacywindowsfsencoding',\n",
       " '_framework',\n",
       " '_getframe',\n",
       " '_git',\n",
       " '_home',\n",
       " '_xoptions',\n",
       " 'api_version',\n",
       " 'argv',\n",
       " 'base_exec_prefix',\n",
       " 'base_prefix',\n",
       " 'breakpointhook',\n",
       " 'builtin_module_names',\n",
       " 'byteorder',\n",
       " 'call_tracing',\n",
       " 'callstats',\n",
       " 'copyright',\n",
       " 'displayhook',\n",
       " 'dllhandle',\n",
       " 'dont_write_bytecode',\n",
       " 'exc_info',\n",
       " 'excepthook',\n",
       " 'exec_prefix',\n",
       " 'executable',\n",
       " 'exit',\n",
       " 'flags',\n",
       " 'float_info',\n",
       " 'float_repr_style',\n",
       " 'get_asyncgen_hooks',\n",
       " 'get_coroutine_origin_tracking_depth',\n",
       " 'get_coroutine_wrapper',\n",
       " 'getallocatedblocks',\n",
       " 'getcheckinterval',\n",
       " 'getdefaultencoding',\n",
       " 'getfilesystemencodeerrors',\n",
       " 'getfilesystemencoding',\n",
       " 'getprofile',\n",
       " 'getrecursionlimit',\n",
       " 'getrefcount',\n",
       " 'getsizeof',\n",
       " 'getswitchinterval',\n",
       " 'gettrace',\n",
       " 'getwindowsversion',\n",
       " 'hash_info',\n",
       " 'hexversion',\n",
       " 'implementation',\n",
       " 'int_info',\n",
       " 'intern',\n",
       " 'is_finalizing',\n",
       " 'maxsize',\n",
       " 'maxunicode',\n",
       " 'meta_path',\n",
       " 'modules',\n",
       " 'path',\n",
       " 'path_hooks',\n",
       " 'path_importer_cache',\n",
       " 'platform',\n",
       " 'prefix',\n",
       " 'ps1',\n",
       " 'ps2',\n",
       " 'ps3',\n",
       " 'set_asyncgen_hooks',\n",
       " 'set_coroutine_origin_tracking_depth',\n",
       " 'set_coroutine_wrapper',\n",
       " 'setcheckinterval',\n",
       " 'setprofile',\n",
       " 'setrecursionlimit',\n",
       " 'setswitchinterval',\n",
       " 'settrace',\n",
       " 'stderr',\n",
       " 'stdin',\n",
       " 'stdout',\n",
       " 'thread_info',\n",
       " 'version',\n",
       " 'version_info',\n",
       " 'warnoptions',\n",
       " 'winver']"
      ]
     },
     "execution_count": 9,
     "metadata": {},
     "output_type": "execute_result"
    }
   ],
   "source": [
    "import sys\n",
    "dir(sys)"
   ]
  },
  {
   "cell_type": "markdown",
   "metadata": {},
   "source": [
    "# 4.2 제어문"
   ]
  },
  {
   "cell_type": "markdown",
   "metadata": {},
   "source": [
    "## 4.2.1 if문\n",
    "- 파이썬 if문은 다른 언어의 switch문 또는 case문을 대체"
   ]
  },
  {
   "cell_type": "code",
   "execution_count": 10,
   "metadata": {},
   "outputs": [
    {
     "name": "stdout",
     "output_type": "stream",
     "text": [
      "숫자를 입력하세요: 2\n",
      "2 이상의 숫자가 입력되었습니다.\n"
     ]
    }
   ],
   "source": [
    "x = int(input(\"숫자를 입력하세요: \"))\n",
    "if x < 0:\n",
    "    x = 0\n",
    "    print(\"음수를 입력하여 x를 0으로 변경했습니다.\")\n",
    "elif x == 0:\n",
    "    print(\"0이 입력되었습니다.\")\n",
    "elif x == 1:\n",
    "    print(\"1이 입력되었습니다.\")\n",
    "else:\n",
    "    print(\"2 이상의 숫자가 입력되었습니다.\")"
   ]
  },
  {
   "cell_type": "markdown",
   "metadata": {},
   "source": [
    "## 4.2.2 for문\n",
    "- 파이선의 for문은 모든 시퀀스 항목(리스트, 문자열 등)을 순서대로 순회"
   ]
  },
  {
   "cell_type": "code",
   "execution_count": 11,
   "metadata": {},
   "outputs": [
    {
     "name": "stdout",
     "output_type": "stream",
     "text": [
      "버피\n",
      "윌로\n",
      "잰더\n",
      "자일스\n"
     ]
    }
   ],
   "source": [
    "names = [\"버피\", \"윌로\", \"잰더\", \"자일스\"]\n",
    "for name in names:\n",
    "    print(name)"
   ]
  },
  {
   "cell_type": "markdown",
   "metadata": {},
   "source": [
    "## 4.2.3 참과 거짓\n",
    "- 거짓(False)은 사전 정의된 상수 False 또는 숫자 0, 특수 객체 None, 빈 컬렉션 시퀀스(빈 문자열 '', 빈 리스트 [], 빈 튜플 (), 빈 딕셔너리 {})에 의해 정의됨\n",
    "- 여기에 속하지 않은 값은 모두 참(True)"
   ]
  },
  {
   "cell_type": "code",
   "execution_count": 12,
   "metadata": {},
   "outputs": [
    {
     "data": {
      "text/plain": [
       "'괴물'"
      ]
     },
     "execution_count": 12,
     "metadata": {},
     "output_type": "execute_result"
    }
   ],
   "source": [
    "string1, string2, string3 = '', '괴물', '외계인'\n",
    "non_null = string1 or string2 or string3\n",
    "non_null"
   ]
  },
  {
   "cell_type": "markdown",
   "metadata": {},
   "source": [
    "#### 구글 파이썬 스타일 가이드에서는 암묵적인 False 사용에 대해 다음과 같은 기준을 세움\n",
    "- == 또는 != 연산자를 사용하여 내장 변수 None 같은 singleton을 비교하지 않는다.\n",
    "  대신 is 또는 is not을 사용\n",
    "- if x is not None과 if x를 잘 구분해서 사용\n",
    "- ==를 사용하여 불리언 변수를 False와 비교하지 않는다. 대신 if not x를 사용.\n",
    "  None과 False를 구별할 필요가 있는 경우, if not x and x is not None과 같은 연결 표현식 사용\n",
    "- 시퀀스(문자열, 리스트, 튜플)의 경우, 빈 시퀀스는 False이다.\n",
    "  if len(시퀀스) 또는 if not len(시퀀스) 보다는 if not 시퀀스 또는 if 시퀀스를 사용할 것\n",
    "- 정수를 처리할 때 뜻하지 않게 None을 0으로 잘못 처리하는 것처럼, 암묵적 False를 사용하는 것은 위험"
   ]
  },
  {
   "cell_type": "code",
   "execution_count": 16,
   "metadata": {},
   "outputs": [
    {
     "ename": "NameError",
     "evalue": "name 'users' is not defined",
     "output_type": "error",
     "traceback": [
      "\u001b[1;31m---------------------------------------------------------------------------\u001b[0m",
      "\u001b[1;31mNameError\u001b[0m                                 Traceback (most recent call last)",
      "\u001b[1;32m<ipython-input-16-8496230e1953>\u001b[0m in \u001b[0;36m<module>\u001b[1;34m()\u001b[0m\n\u001b[0;32m      1\u001b[0m \u001b[1;31m# 좋은 예\u001b[0m\u001b[1;33m\u001b[0m\u001b[1;33m\u001b[0m\u001b[1;33m\u001b[0m\u001b[0m\n\u001b[1;32m----> 2\u001b[1;33m \u001b[1;32mif\u001b[0m \u001b[1;32mnot\u001b[0m \u001b[0musers\u001b[0m\u001b[1;33m:\u001b[0m\u001b[1;33m\u001b[0m\u001b[1;33m\u001b[0m\u001b[0m\n\u001b[0m\u001b[0;32m      3\u001b[0m     \u001b[0mprint\u001b[0m\u001b[1;33m(\u001b[0m\u001b[1;34m\"사용자가 없습니다.\"\u001b[0m\u001b[1;33m)\u001b[0m\u001b[1;33m\u001b[0m\u001b[1;33m\u001b[0m\u001b[0m\n\u001b[0;32m      4\u001b[0m \u001b[1;33m\u001b[0m\u001b[0m\n\u001b[0;32m      5\u001b[0m \u001b[1;32mif\u001b[0m \u001b[0mfoo\u001b[0m \u001b[1;33m==\u001b[0m \u001b[1;36m0\u001b[0m\u001b[1;33m:\u001b[0m\u001b[1;33m\u001b[0m\u001b[1;33m\u001b[0m\u001b[0m\n",
      "\u001b[1;31mNameError\u001b[0m: name 'users' is not defined"
     ]
    }
   ],
   "source": [
    "# 좋은 예\n",
    "if not users:\n",
    "    print(\"사용자가 없습니다.\")\n",
    "    \n",
    "if foo == 0:\n",
    "    handle_zero()\n",
    "    \n",
    "if i % 10 == 0:\n",
    "    handle_multiple_of_ten()"
   ]
  },
  {
   "cell_type": "code",
   "execution_count": 17,
   "metadata": {},
   "outputs": [
    {
     "ename": "NameError",
     "evalue": "name 'users' is not defined",
     "output_type": "error",
     "traceback": [
      "\u001b[1;31m---------------------------------------------------------------------------\u001b[0m",
      "\u001b[1;31mNameError\u001b[0m                                 Traceback (most recent call last)",
      "\u001b[1;32m<ipython-input-17-211d74f645c7>\u001b[0m in \u001b[0;36m<module>\u001b[1;34m()\u001b[0m\n\u001b[0;32m      1\u001b[0m \u001b[1;31m# 나쁜 예\u001b[0m\u001b[1;33m\u001b[0m\u001b[1;33m\u001b[0m\u001b[1;33m\u001b[0m\u001b[0m\n\u001b[1;32m----> 2\u001b[1;33m \u001b[1;32mif\u001b[0m \u001b[0mlen\u001b[0m\u001b[1;33m(\u001b[0m\u001b[0musers\u001b[0m\u001b[1;33m)\u001b[0m \u001b[1;33m==\u001b[0m \u001b[1;36m0\u001b[0m\u001b[1;33m:\u001b[0m\u001b[1;33m\u001b[0m\u001b[1;33m\u001b[0m\u001b[0m\n\u001b[0m\u001b[0;32m      3\u001b[0m     \u001b[0mprint\u001b[0m\u001b[1;33m(\u001b[0m\u001b[1;34m\"사용자가 없습니다.\"\u001b[0m\u001b[1;33m)\u001b[0m\u001b[1;33m\u001b[0m\u001b[1;33m\u001b[0m\u001b[0m\n\u001b[0;32m      4\u001b[0m \u001b[1;33m\u001b[0m\u001b[0m\n\u001b[0;32m      5\u001b[0m \u001b[1;32mif\u001b[0m \u001b[0mfoo\u001b[0m \u001b[1;32mis\u001b[0m \u001b[1;32mnot\u001b[0m \u001b[1;32mNone\u001b[0m \u001b[1;32mand\u001b[0m \u001b[1;32mnot\u001b[0m \u001b[0mfoo\u001b[0m\u001b[1;33m:\u001b[0m\u001b[1;33m\u001b[0m\u001b[1;33m\u001b[0m\u001b[0m\n",
      "\u001b[1;31mNameError\u001b[0m: name 'users' is not defined"
     ]
    }
   ],
   "source": [
    "# 나쁜 예\n",
    "if len(users) == 0:\n",
    "    print(\"사용자가 없습니다.\")\n",
    "    \n",
    "if foo is not None and not foo:\n",
    "    handle_zero()\n",
    "    \n",
    "if not i % 10:\n",
    "    handle_multiple_of_ten()"
   ]
  },
  {
   "cell_type": "markdown",
   "metadata": {},
   "source": [
    "## 4.2.4 return 대 yield\n",
    "- 객체에 __iter__()와 __next__() 메서드를 둘 다 정의하면 iterator protocol을 구현한 셈\n",
    "- 이때 yield 키워드 사용하면 편리\n",
    "\n",
    "- 호출자가 메서드 호출시, return은 반환값을 반환하고 메서드를 종료한 후 호출자에게 제어를 반환\n",
    "- 반면 yield는 각 반환값을 호출자에게 반환하고, 반환값이 모두 소진되었을 때에만 메서드가 종료\n",
    "\n",
    "- 제너레이터는 최종값을 반한화지만, 이터레이터는 yield 키워드를 사용하여 코드 실행 중에 값을 반환\n",
    "- 즉, __next__() 메서드를 호출할 때마다 어떤 값 하나를 추출한 후 해당 yield 표현식의 값을 반환"
   ]
  },
  {
   "cell_type": "code",
   "execution_count": 13,
   "metadata": {},
   "outputs": [
    {
     "data": {
      "text/plain": [
       "<generator object f at 0x0000027B69A8E8C8>"
      ]
     },
     "execution_count": 13,
     "metadata": {},
     "output_type": "execute_result"
    }
   ],
   "source": [
    "a = [1, 2, 3]\n",
    "def f(a):\n",
    "    while a:\n",
    "        yield a.pop()\n",
    "        \n",
    "f(a)"
   ]
  },
  {
   "cell_type": "code",
   "execution_count": 14,
   "metadata": {},
   "outputs": [
    {
     "name": "stdout",
     "output_type": "stream",
     "text": [
      "3\n",
      "2\n",
      "1\n"
     ]
    }
   ],
   "source": [
    "result = f(a)\n",
    "\n",
    "print(next(result))\n",
    "print(next(result))\n",
    "print(next(result))"
   ]
  },
  {
   "cell_type": "code",
   "execution_count": 15,
   "metadata": {},
   "outputs": [
    {
     "name": "stdout",
     "output_type": "stream",
     "text": [
      "1\n",
      "1\n",
      "2\n",
      "3\n"
     ]
    }
   ],
   "source": [
    "def fib_generator():\n",
    "    a, b = 0, 1\n",
    "    while True:\n",
    "        yield b\n",
    "        a, b = b, a+b\n",
    "\n",
    "if __name__ == \"__main__\":\n",
    "    fib = fib_generator()\n",
    "    print(next(fib))\n",
    "    print(next(fib))\n",
    "    print(next(fib))\n",
    "    print(next(fib))"
   ]
  },
  {
   "cell_type": "markdown",
   "metadata": {},
   "source": [
    "## 4.2.5 break 대 continue\n",
    "- 반복문(for 또는 while)에서 break를 만나면 바로 반복문을 빠져나감\n",
    "- 반면 반복문에서 continue를 만나면 반복문의 다음 단계로 전환(반복문의 다음 반복을 계속)\n",
    "\n",
    "- 반복문에서는 else 절 사용할 수 잇는데, 이는 반복문이 종료되었을 때 실행\n",
    "- 다만 break문으로 반복문 종료시 실행되지 않음"
   ]
  },
  {
   "cell_type": "code",
   "execution_count": 16,
   "metadata": {},
   "outputs": [
    {
     "name": "stdout",
     "output_type": "stream",
     "text": [
      "0\n",
      "1\n",
      "2\n",
      "3\n"
     ]
    }
   ],
   "source": [
    "for i in range(10):\n",
    "    if i == 4:\n",
    "        break\n",
    "    print(i)\n",
    "else:\n",
    "    print(\"for문 종료!\")"
   ]
  },
  {
   "cell_type": "code",
   "execution_count": 17,
   "metadata": {},
   "outputs": [
    {
     "name": "stdout",
     "output_type": "stream",
     "text": [
      "0\n",
      "1\n",
      "2\n",
      "3\n",
      "5\n",
      "6\n",
      "7\n",
      "8\n",
      "9\n",
      "for문 종료!\n"
     ]
    }
   ],
   "source": [
    "for i in range(10):\n",
    "    if i == 4:\n",
    "        continue\n",
    "    print(i)\n",
    "else:\n",
    "    print(\"for문 종료!\")"
   ]
  },
  {
   "cell_type": "markdown",
   "metadata": {},
   "source": [
    "## 4.2.6 range()\n",
    "- 숫자 리스트를 생성, 숫자 시퀀스를 순회할 때 유용"
   ]
  },
  {
   "cell_type": "code",
   "execution_count": 21,
   "metadata": {},
   "outputs": [
    {
     "name": "stdout",
     "output_type": "stream",
     "text": [
      "0\n",
      "1\n",
      "2\n",
      "3\n",
      "4\n",
      "5\n",
      "6\n",
      "7\n",
      "8\n",
      "9\n"
     ]
    }
   ],
   "source": [
    "for i in range(10):\n",
    "    print(i)"
   ]
  },
  {
   "cell_type": "code",
   "execution_count": 24,
   "metadata": {},
   "outputs": [
    {
     "data": {
      "text/plain": [
       "[4, 5, 6, 7, 8, 9]"
      ]
     },
     "execution_count": 24,
     "metadata": {},
     "output_type": "execute_result"
    }
   ],
   "source": [
    "[i for i in range(4, 10)]"
   ]
  },
  {
   "cell_type": "code",
   "execution_count": 25,
   "metadata": {},
   "outputs": [
    {
     "data": {
      "text/plain": [
       "[0, 3, 6, 9]"
      ]
     },
     "execution_count": 25,
     "metadata": {},
     "output_type": "execute_result"
    }
   ],
   "source": [
    "[i for i in range(0, 10, 3)]"
   ]
  },
  {
   "cell_type": "markdown",
   "metadata": {},
   "source": [
    "## 4.2.7 enumerate()\n",
    "- enumerate() 메서드는 반복 가능한 객체의 인덱스 값과 항목 값의 튜플을 반환"
   ]
  },
  {
   "cell_type": "code",
   "execution_count": 26,
   "metadata": {},
   "outputs": [
    {
     "name": "stdout",
     "output_type": "stream",
     "text": [
      "0:1\n",
      "1:3\n",
      "2:6\n",
      "3:5\n",
      "4:7\n",
      "5:9\n"
     ]
    }
   ],
   "source": [
    "exp_list = [1, 3, 6, 5, 7, 9]\n",
    "for num, word in enumerate(exp_list):\n",
    "    print(\"{0}:{1}\".format(num, word))"
   ]
  },
  {
   "cell_type": "markdown",
   "metadata": {},
   "source": [
    "## 4.2.8 zip()\n",
    "- zip() 메서드는 2개 이상의 시퀀스를 인수로 취하여, 짧은 길이의 시퀀스를 기준으로\n",
    "- 각 항목이 순서대로 1:1 대응하는 새로운 튜플 시퀀스를 만듬"
   ]
  },
  {
   "cell_type": "code",
   "execution_count": 27,
   "metadata": {},
   "outputs": [
    {
     "data": {
      "text/plain": [
       "[(1, 'a'), (2, 'b'), (3, 'c'), (4, 'd')]"
      ]
     },
     "execution_count": 27,
     "metadata": {},
     "output_type": "execute_result"
    }
   ],
   "source": [
    "a = [1, 2, 3, 4, 5]\n",
    "b = ['a', 'b', 'c', 'd']\n",
    "c= zip(a, b)\n",
    "list(c)"
   ]
  },
  {
   "cell_type": "markdown",
   "metadata": {},
   "source": [
    "## 4.2.9 filter()\n",
    "- filter() 메서드는 시퀀스의 항목들 중 True인 항목만 추출해서 구성된 시퀀스를 반환"
   ]
  },
  {
   "cell_type": "code",
   "execution_count": 28,
   "metadata": {},
   "outputs": [
    {
     "data": {
      "text/plain": [
       "False"
      ]
     },
     "execution_count": 28,
     "metadata": {},
     "output_type": "execute_result"
    }
   ],
   "source": [
    "def f(x):\n",
    "    return x % 2 != 0 and x % 3 != 0\n",
    "\n",
    "f(33)"
   ]
  },
  {
   "cell_type": "code",
   "execution_count": 29,
   "metadata": {},
   "outputs": [
    {
     "data": {
      "text/plain": [
       "True"
      ]
     },
     "execution_count": 29,
     "metadata": {},
     "output_type": "execute_result"
    }
   ],
   "source": [
    "f(17)"
   ]
  },
  {
   "cell_type": "code",
   "execution_count": 30,
   "metadata": {},
   "outputs": [
    {
     "data": {
      "text/plain": [
       "[5, 7, 11, 13, 17, 19, 23]"
      ]
     },
     "execution_count": 30,
     "metadata": {},
     "output_type": "execute_result"
    }
   ],
   "source": [
    "list(filter(f, range(2, 25)))"
   ]
  },
  {
   "cell_type": "markdown",
   "metadata": {},
   "source": [
    "## 4.2.10 map()\n",
    "- map(function, list) 메서드는 시퀀스의 모든 항목에 함수를 적용한 결과 리스트 반환"
   ]
  },
  {
   "cell_type": "code",
   "execution_count": 31,
   "metadata": {},
   "outputs": [
    {
     "data": {
      "text/plain": [
       "[1, 8, 27, 64, 125, 216, 343, 512, 729, 1000]"
      ]
     },
     "execution_count": 31,
     "metadata": {},
     "output_type": "execute_result"
    }
   ],
   "source": [
    "def cube(x): return x*x*x\n",
    "list(map(cube, range(1,11)))"
   ]
  },
  {
   "cell_type": "code",
   "execution_count": 32,
   "metadata": {},
   "outputs": [
    {
     "data": {
      "text/plain": [
       "[(0, 0), (1, 1), (2, 4), (3, 9), (4, 16), (5, 25), (6, 36), (7, 49)]"
      ]
     },
     "execution_count": 32,
     "metadata": {},
     "output_type": "execute_result"
    }
   ],
   "source": [
    "seq = range(8)\n",
    "def square(x): return x*x\n",
    "list(zip(seq, map(square, seq)))"
   ]
  },
  {
   "cell_type": "markdown",
   "metadata": {},
   "source": [
    "## 4.2.11 람다 함수\n",
    "- lambda 함수를 쓰면 코드 내에서 함수를 간결하게 동적으로 사용 가능"
   ]
  },
  {
   "cell_type": "code",
   "execution_count": 33,
   "metadata": {},
   "outputs": [
    {
     "data": {
      "text/plain": [
       "10.0"
      ]
     },
     "execution_count": 33,
     "metadata": {},
     "output_type": "execute_result"
    }
   ],
   "source": [
    "def area(b, h):\n",
    "    return 0.5*b*h\n",
    "\n",
    "area(5,4)"
   ]
  },
  {
   "cell_type": "code",
   "execution_count": 34,
   "metadata": {},
   "outputs": [
    {
     "data": {
      "text/plain": [
       "10.0"
      ]
     },
     "execution_count": 34,
     "metadata": {},
     "output_type": "execute_result"
    }
   ],
   "source": [
    "area = lambda b, h: 0.5*b*h\n",
    "area(5,4)"
   ]
  },
  {
   "cell_type": "markdown",
   "metadata": {},
   "source": [
    "- 람다 함수는 defaultdict에서 키 생성 시 매우 유용(누락된 키에 대한 기본값 설정시)\n",
    "- 참고: https://dongdongfather.tistory.com/69"
   ]
  },
  {
   "cell_type": "code",
   "execution_count": 36,
   "metadata": {},
   "outputs": [
    {
     "data": {
      "text/plain": [
       "defaultdict(<function __main__.<lambda>()>,\n",
       "            {'이': 0,\n",
       "             '게': 0,\n",
       "             '뭘': 0,\n",
       "             '까': 0,\n",
       "             ' ': 1,\n",
       "             '정': 0,\n",
       "             '말': 0,\n",
       "             '궁': 0,\n",
       "             '금': 0,\n",
       "             '하': 0,\n",
       "             '네': 0})"
      ]
     },
     "execution_count": 36,
     "metadata": {},
     "output_type": "execute_result"
    }
   ],
   "source": [
    "import collections\n",
    "\n",
    "minus_one_dict = collections.defaultdict(lambda: -1)\n",
    "letters = \"이게뭘까 정말 궁금하네\"\n",
    "for k in letters:\n",
    "    minus_one_dict[k] += 1\n",
    "    \n",
    "minus_one_dict"
   ]
  },
  {
   "cell_type": "code",
   "execution_count": 38,
   "metadata": {},
   "outputs": [
    {
     "data": {
      "text/plain": [
       "defaultdict(<function __main__.<lambda>()>,\n",
       "            {'T': [1, 0],\n",
       "             'h': [0, 2],\n",
       "             'i': [0, 2],\n",
       "             's': [0, 2],\n",
       "             ' ': [0, 2],\n",
       "             'P': [1, 0],\n",
       "             'y': [0, 1],\n",
       "             't': [0, 1],\n",
       "             'o': [0, 1],\n",
       "             'n': [0, 1]})"
      ]
     },
     "execution_count": 38,
     "metadata": {},
     "output_type": "execute_result"
    }
   ],
   "source": [
    "point_zero_dict = collections.defaultdict(lambda: [0, 0])\n",
    "letters = \"This is Python\"\n",
    "for k in letters:\n",
    "    if k.isupper(): point_zero_dict[k][0] += 1\n",
    "    else: point_zero_dict[k][1] += 1\n",
    "        \n",
    "point_zero_dict\n",
    "        "
   ]
  },
  {
   "cell_type": "code",
   "execution_count": 1,
   "metadata": {},
   "outputs": [
    {
     "ename": "NameError",
     "evalue": "name 'collections' is not defined",
     "output_type": "error",
     "traceback": [
      "\u001b[1;31m---------------------------------------------------------------------------\u001b[0m",
      "\u001b[1;31mNameError\u001b[0m                                 Traceback (most recent call last)",
      "\u001b[1;32m<ipython-input-1-7c981eee9f0f>\u001b[0m in \u001b[0;36m<module>\u001b[1;34m()\u001b[0m\n\u001b[1;32m----> 1\u001b[1;33m \u001b[0mmessage_dict\u001b[0m \u001b[1;33m=\u001b[0m \u001b[0mcollections\u001b[0m\u001b[1;33m.\u001b[0m\u001b[0mdefaultdict\u001b[0m\u001b[1;33m(\u001b[0m\u001b[1;32mlambda\u001b[0m\u001b[1;33m:\u001b[0m \u001b[1;34m\"No message\"\u001b[0m\u001b[1;33m)\u001b[0m\u001b[1;33m\u001b[0m\u001b[1;33m\u001b[0m\u001b[0m\n\u001b[0m\u001b[0;32m      2\u001b[0m \u001b[1;32mfor\u001b[0m \u001b[0mk\u001b[0m \u001b[1;32min\u001b[0m \u001b[0mrange\u001b[0m\u001b[1;33m(\u001b[0m\u001b[1;36m10\u001b[0m\u001b[1;33m)\u001b[0m\u001b[1;33m:\u001b[0m\u001b[1;33m\u001b[0m\u001b[1;33m\u001b[0m\u001b[0m\n\u001b[0;32m      3\u001b[0m     \u001b[0mprint\u001b[0m\u001b[1;33m(\u001b[0m\u001b[0mmessage_dict\u001b[0m\u001b[1;33m[\u001b[0m\u001b[0mk\u001b[0m\u001b[1;33m]\u001b[0m\u001b[1;33m)\u001b[0m\u001b[1;33m\u001b[0m\u001b[1;33m\u001b[0m\u001b[0m\n",
      "\u001b[1;31mNameError\u001b[0m: name 'collections' is not defined"
     ]
    }
   ],
   "source": [
    "message_dict = collections.defaultdict(lambda: \"No message\")\n",
    "for k in range(10):\n",
    "    print(message_dict[k])"
   ]
  },
  {
   "cell_type": "markdown",
   "metadata": {},
   "source": [
    "# 4.3 파일 처리\n",
    "- 파일을 읽어서 모든 빈 줄을 제거하는 코드를 살펴보자.: 4_remove_blank_lines.py\n",
    "- fh = open(filename, encoding='UTF8') 대신 with open(filename, encoding=\"utf-8\") as fh: 사용(5_remove_blank_lines_with.py)"
   ]
  },
  {
   "cell_type": "markdown",
   "metadata": {},
   "source": [
    "## 4.3.1 파일 처리 메서드"
   ]
  },
  {
   "cell_type": "markdown",
   "metadata": {},
   "source": [
    "### open()\n",
    "- open(filename, mode, encoding) 메서드는 파일 객체를 반환\n",
    "- mode와 encoding은 옵션\n",
    "- 모드 종류는 다음과 같음\n",
    "    * r : read\n",
    "    * w : write(동명 파일 기존재 시, 그 파일을 지운 후 내용을 새로 씀)\n",
    "    * a : append(동명 파일 기존재 시, 그 파일 끝에 내용 추가)\n",
    "    * r+ : 읽기와 쓰기 모드\n",
    "    * t : text\n",
    "    * b : binary"
   ]
  },
  {
   "cell_type": "code",
   "execution_count": 1,
   "metadata": {},
   "outputs": [
    {
     "ename": "NameError",
     "evalue": "name 'filename' is not defined",
     "output_type": "error",
     "traceback": [
      "\u001b[1;31m---------------------------------------------------------------------------\u001b[0m",
      "\u001b[1;31mNameError\u001b[0m                                 Traceback (most recent call last)",
      "\u001b[1;32m<ipython-input-1-1facae87cd41>\u001b[0m in \u001b[0;36m<module>\u001b[1;34m()\u001b[0m\n\u001b[1;32m----> 1\u001b[1;33m \u001b[0mfin\u001b[0m \u001b[1;33m=\u001b[0m \u001b[0mopen\u001b[0m\u001b[1;33m(\u001b[0m\u001b[0mfilename\u001b[0m\u001b[1;33m,\u001b[0m \u001b[0mencoding\u001b[0m\u001b[1;33m=\u001b[0m\u001b[1;34m\"utf-8\"\u001b[0m\u001b[1;33m)\u001b[0m\u001b[1;33m\u001b[0m\u001b[1;33m\u001b[0m\u001b[0m\n\u001b[0m\u001b[0;32m      2\u001b[0m \u001b[0mfout\u001b[0m \u001b[1;33m=\u001b[0m \u001b[0mopen\u001b[0m\u001b[1;33m(\u001b[0m\u001b[0mfilename\u001b[0m\u001b[1;33m,\u001b[0m \u001b[1;34m\"w\"\u001b[0m\u001b[1;33m,\u001b[0m \u001b[0mencoding\u001b[0m\u001b[1;33m=\u001b[0m\u001b[1;34m\"utf-8\"\u001b[0m\u001b[1;33m)\u001b[0m\u001b[1;33m\u001b[0m\u001b[1;33m\u001b[0m\u001b[0m\n",
      "\u001b[1;31mNameError\u001b[0m: name 'filename' is not defined"
     ]
    }
   ],
   "source": [
    "fin = open(filename, encoding=\"utf-8\")\n",
    "fout = open(filename, \"w\", encoding=\"utf-8\")"
   ]
  },
  {
   "cell_type": "markdown",
   "metadata": {},
   "source": [
    "### read()\n",
    "- read(size) 메서드는 파일에서 size만큼 내용을 읽고, 문자열로 반환\n",
    "- 파이썬3에서는 텍스트 모드의 경우 문자열을 반환, 바이너리 모드의 경우 바이트 객체 반환\n",
    "- size가 생략되거나 혹은 음수이면, 전체 파일의 내용을 읽고 반환\n",
    "- 파일의 끝에 도달하면 read() 메서드는 빈 문자열 반환"
   ]
  },
  {
   "cell_type": "code",
   "execution_count": 1,
   "metadata": {},
   "outputs": [
    {
     "data": {
      "text/plain": [
       "'import sys\\n\\ndef read_data(filename):\\n    lines = []\\n    with open(filename, encoding=\"utf-8\") as fh:\\n        for line in fh:\\n            if line.strip():\\n                lines.append(line)\\n    return lines\\n\\ndef write_data(lines, filename):\\n    fh = None\\n    with open(filename, \"w\") as fh:\\n        for line in lines:\\n            fh.write(line)\\n\\ndef remove_blank_lines():\\n    if len(sys.argv) < 2:\\n        print(\"Usage: python {0} [file ...]\".format(sys.argv[0]))\\n\\n    for filename in sys.argv[1:]:\\n        lines = read_data(filename)\\n        if lines:\\n            write_data(lines, filename)\\n\\nif __name__ == \"__main__\":\\n    remove_blank_lines()\\n'"
      ]
     },
     "execution_count": 1,
     "metadata": {},
     "output_type": "execute_result"
    }
   ],
   "source": [
    "f = open(\"Chap04/5_remove_blank_lines_with.py\", encoding=\"utf-8\")\n",
    "f.read()"
   ]
  },
  {
   "cell_type": "code",
   "execution_count": 2,
   "metadata": {},
   "outputs": [],
   "source": [
    "f.close()"
   ]
  },
  {
   "cell_type": "markdown",
   "metadata": {},
   "source": [
    "### readlines()\n",
    "- 파일의 모든 데이터 행을 포함한 리스트를 반환\n",
    "- readlines(size)에 size를 지정하면 파일에서 해당 바이트 수만큼 읽고, 마지막 행을 완성하는데 필요한 만큼 더 읽어서 반환\n",
    "- 즉 완전한 행을 반환"
   ]
  },
  {
   "cell_type": "code",
   "execution_count": 4,
   "metadata": {},
   "outputs": [
    {
     "data": {
      "text/plain": [
       "['import sys\\n',\n",
       " '\\n',\n",
       " 'def read_data(filename):\\n',\n",
       " '    lines = []\\n',\n",
       " '    with open(filename, encoding=\"utf-8\") as fh:\\n',\n",
       " '        for line in fh:\\n',\n",
       " '            if line.strip():\\n',\n",
       " '                lines.append(line)\\n',\n",
       " '    return lines\\n',\n",
       " '\\n',\n",
       " 'def write_data(lines, filename):\\n',\n",
       " '    fh = None\\n',\n",
       " '    with open(filename, \"w\") as fh:\\n',\n",
       " '        for line in lines:\\n',\n",
       " '            fh.write(line)\\n',\n",
       " '\\n',\n",
       " 'def remove_blank_lines():\\n',\n",
       " '    if len(sys.argv) < 2:\\n',\n",
       " '        print(\"Usage: python {0} [file ...]\".format(sys.argv[0]))\\n',\n",
       " '\\n',\n",
       " '    for filename in sys.argv[1:]:\\n',\n",
       " '        lines = read_data(filename)\\n',\n",
       " '        if lines:\\n',\n",
       " '            write_data(lines, filename)\\n',\n",
       " '\\n',\n",
       " 'if __name__ == \"__main__\":\\n',\n",
       " '    remove_blank_lines()\\n']"
      ]
     },
     "execution_count": 4,
     "metadata": {},
     "output_type": "execute_result"
    }
   ],
   "source": [
    "f = open(\"Chap04/5_remove_blank_lines_with.py\", encoding=\"utf-8\")\n",
    "f.readlines()"
   ]
  },
  {
   "cell_type": "code",
   "execution_count": 5,
   "metadata": {},
   "outputs": [],
   "source": [
    "f.close()"
   ]
  },
  {
   "cell_type": "markdown",
   "metadata": {},
   "source": [
    "### write()\n",
    "- 데이터를 파일에 쓰고 None을 반환"
   ]
  },
  {
   "cell_type": "code",
   "execution_count": 8,
   "metadata": {},
   "outputs": [
    {
     "data": {
      "text/plain": [
       "4"
      ]
     },
     "execution_count": 8,
     "metadata": {},
     "output_type": "execute_result"
    }
   ],
   "source": [
    "f = open(\"Chap04/write_test.py\", \"w\", encoding=\"utf-8\")\n",
    "f.write(\"테스트\\n\")"
   ]
  },
  {
   "cell_type": "code",
   "execution_count": 9,
   "metadata": {},
   "outputs": [],
   "source": [
    "f.close()"
   ]
  },
  {
   "cell_type": "markdown",
   "metadata": {},
   "source": [
    "### tell(), seek()\n",
    "- tell() 메서드는 파일의 현재 위치를 나타내는 정수 반환\n",
    "- 파일의 위치는 시작 부분에서 바이트 단위로 측정\n",
    "- seek(offset, from-what) 메서드는 파일 내 탐색 위치를 변경할 때 사용"
   ]
  },
  {
   "cell_type": "code",
   "execution_count": 12,
   "metadata": {},
   "outputs": [],
   "source": [
    "f = open(\"Chap04/test.txt\", \"w\", encoding=\"utf-8\")   # test.txt 파일을 쓰기 모드로 열었음\n",
    "f.write('Python')     # \"Python\"이란 문자열 기록\n",
    "f.close()"
   ]
  },
  {
   "cell_type": "code",
   "execution_count": 13,
   "metadata": {},
   "outputs": [
    {
     "data": {
      "text/plain": [
       "'Python'"
      ]
     },
     "execution_count": 13,
     "metadata": {},
     "output_type": "execute_result"
    }
   ],
   "source": [
    "f = open('Chap04/test.txt')  # 파일을 읽기모드로 열었음\n",
    "f.read()    # 파일내용 읽기"
   ]
  },
  {
   "cell_type": "code",
   "execution_count": 14,
   "metadata": {},
   "outputs": [
    {
     "data": {
      "text/plain": [
       "True"
      ]
     },
     "execution_count": 14,
     "metadata": {},
     "output_type": "execute_result"
    }
   ],
   "source": [
    "f.close() # 파일 닫기\n",
    "f.closed  # 파일 닫혀있는지 확인"
   ]
  },
  {
   "cell_type": "code",
   "execution_count": 16,
   "metadata": {},
   "outputs": [
    {
     "data": {
      "text/plain": [
       "0"
      ]
     },
     "execution_count": 16,
     "metadata": {},
     "output_type": "execute_result"
    }
   ],
   "source": [
    "# tell()\n",
    "file = open('Chap04/test.txt', encoding=\"utf-8\")\n",
    "file.tell()  # 현재 파일의 어디까지 읽고 썼는지 바이트 위치를 반환"
   ]
  },
  {
   "cell_type": "code",
   "execution_count": 17,
   "metadata": {},
   "outputs": [
    {
     "data": {
      "text/plain": [
       "'Python\\n'"
      ]
     },
     "execution_count": 17,
     "metadata": {},
     "output_type": "execute_result"
    }
   ],
   "source": [
    "file.readline()"
   ]
  },
  {
   "cell_type": "code",
   "execution_count": 18,
   "metadata": {},
   "outputs": [
    {
     "data": {
      "text/plain": [
       "8"
      ]
     },
     "execution_count": 18,
     "metadata": {},
     "output_type": "execute_result"
    }
   ],
   "source": [
    "file.tell()"
   ]
  },
  {
   "cell_type": "code",
   "execution_count": 19,
   "metadata": {},
   "outputs": [
    {
     "data": {
      "text/plain": [
       "'What is Python?\\n'"
      ]
     },
     "execution_count": 19,
     "metadata": {},
     "output_type": "execute_result"
    }
   ],
   "source": [
    "file.readline()"
   ]
  },
  {
   "cell_type": "code",
   "execution_count": 20,
   "metadata": {},
   "outputs": [
    {
     "data": {
      "text/plain": [
       "25"
      ]
     },
     "execution_count": 20,
     "metadata": {},
     "output_type": "execute_result"
    }
   ],
   "source": [
    "file.tell()"
   ]
  },
  {
   "cell_type": "code",
   "execution_count": 21,
   "metadata": {},
   "outputs": [
    {
     "data": {
      "text/plain": [
       "'Why do I learn Python?'"
      ]
     },
     "execution_count": 21,
     "metadata": {},
     "output_type": "execute_result"
    }
   ],
   "source": [
    "file.readline()"
   ]
  },
  {
   "cell_type": "code",
   "execution_count": 22,
   "metadata": {},
   "outputs": [],
   "source": [
    "file.close()"
   ]
  },
  {
   "cell_type": "code",
   "execution_count": 23,
   "metadata": {},
   "outputs": [
    {
     "data": {
      "text/plain": [
       "'Python\\nWhat is Python?\\nWhy do I learn Python?'"
      ]
     },
     "execution_count": 23,
     "metadata": {},
     "output_type": "execute_result"
    }
   ],
   "source": [
    "# seek() : 파일에 대한 포인터를 원하는 위치로 이동시켜 줌\n",
    "file = open('Chap04/test.txt', encoding=\"utf-8\")\n",
    "file.read()"
   ]
  },
  {
   "cell_type": "code",
   "execution_count": 24,
   "metadata": {},
   "outputs": [
    {
     "data": {
      "text/plain": [
       "47"
      ]
     },
     "execution_count": 24,
     "metadata": {},
     "output_type": "execute_result"
    }
   ],
   "source": [
    "file.tell()"
   ]
  },
  {
   "cell_type": "code",
   "execution_count": 25,
   "metadata": {},
   "outputs": [
    {
     "data": {
      "text/plain": [
       "5"
      ]
     },
     "execution_count": 25,
     "metadata": {},
     "output_type": "execute_result"
    }
   ],
   "source": [
    "file.seek(5)"
   ]
  },
  {
   "cell_type": "code",
   "execution_count": 26,
   "metadata": {},
   "outputs": [
    {
     "data": {
      "text/plain": [
       "5"
      ]
     },
     "execution_count": 26,
     "metadata": {},
     "output_type": "execute_result"
    }
   ],
   "source": [
    "file.tell()"
   ]
  },
  {
   "cell_type": "code",
   "execution_count": 27,
   "metadata": {},
   "outputs": [
    {
     "data": {
      "text/plain": [
       "['n\\n', 'What is Python?\\n', 'Why do I learn Python?']"
      ]
     },
     "execution_count": 27,
     "metadata": {},
     "output_type": "execute_result"
    }
   ],
   "source": [
    "file.readlines()"
   ]
  },
  {
   "cell_type": "code",
   "execution_count": 28,
   "metadata": {},
   "outputs": [],
   "source": [
    "file.close()"
   ]
  },
  {
   "cell_type": "markdown",
   "metadata": {},
   "source": [
    "### input()\n",
    "- 사용자의 입력을 받는다.\n",
    "- 사용자가 텍스트를 입력하고 엔터키를 누를 때까지 기다린다."
   ]
  },
  {
   "cell_type": "code",
   "execution_count": 29,
   "metadata": {},
   "outputs": [
    {
     "name": "stdout",
     "output_type": "stream",
     "text": [
      "Enter your age: 33\n"
     ]
    }
   ],
   "source": [
    "def get_int(msg):\n",
    "    while True:\n",
    "        try:\n",
    "            i = int(input(msg))\n",
    "            return i\n",
    "        except ValueError as err:\n",
    "            print(err)\n",
    "            \n",
    "age = get_int(\"Enter your age: \")"
   ]
  },
  {
   "cell_type": "code",
   "execution_count": 30,
   "metadata": {},
   "outputs": [
    {
     "data": {
      "text/plain": [
       "33"
      ]
     },
     "execution_count": 30,
     "metadata": {},
     "output_type": "execute_result"
    }
   ],
   "source": [
    "age"
   ]
  },
  {
   "cell_type": "markdown",
   "metadata": {},
   "source": [
    "### peek()\n",
    "- peek(n) 메서드는 파일 포인터 위치를 이동하지 않고, n바이트를 반환"
   ]
  },
  {
   "cell_type": "markdown",
   "metadata": {},
   "source": [
    "### fileno()\n",
    "- 파일 서술자(descriptor)를 반환(파일 서술자를 가진 파일 객체에서만 사용 가능)"
   ]
  },
  {
   "cell_type": "markdown",
   "metadata": {},
   "source": [
    "## 4.3.2 shutil 모듈\n",
    "- shutil 모듈은 시스템에서 파일을 조작할 때 유용\n",
    "- 다음 코드는 터미널에서 파일명.확장자 와 신규 확장자를 지정하면 신규 확장자의 이름으로 복사본을 만듬\n",
    "- shutil.copyfile(원본파일명, 신규파일명): 원본파일 내용을 신규파일에다 그대로 복사\n",
    "- 6_change_ext_file.py 참조"
   ]
  },
  {
   "cell_type": "markdown",
   "metadata": {},
   "source": [
    "## 4.3.3 pickle 모듈\n",
    "- pickle 모듈은 파이썬 객체를 가져와 문자열 표현으로 변환\n",
    "- 이런 과정을 pickling이라 함(직렬화 serialization 라고도 함)\n",
    "- 반대로 문자열 표현을 객체로 재구성하는 것을 unpickling이라 함(역직렬화deserialization)"
   ]
  },
  {
   "cell_type": "code",
   "execution_count": 34,
   "metadata": {},
   "outputs": [],
   "source": [
    "import pickle\n",
    "\n",
    "x = {}\n",
    "x[\"name\"] = \"아스틴\"\n",
    "x[\"age\"] = 23\n",
    "with open(\"Chap04/name.pkl\", \"wb\") as f: # 피클링\n",
    "    pickle.dump(x, f)"
   ]
  },
  {
   "cell_type": "code",
   "execution_count": 35,
   "metadata": {},
   "outputs": [],
   "source": [
    "with open(\"Chap04/name.pkl\", \"rb\") as f: # 언피클링\n",
    "    name = pickle.load(f)"
   ]
  },
  {
   "cell_type": "code",
   "execution_count": 36,
   "metadata": {},
   "outputs": [
    {
     "data": {
      "text/plain": [
       "{'name': '아스틴', 'age': 23}"
      ]
     },
     "execution_count": 36,
     "metadata": {},
     "output_type": "execute_result"
    }
   ],
   "source": [
    "name"
   ]
  },
  {
   "cell_type": "markdown",
   "metadata": {},
   "source": [
    "## 4.3.4 struct 모듈\n",
    "- struct 모듈 사용하면 파이썬 객체를 이진법으로 표현하거나, 이진법을 파이썬 객체로 변환 가능\n",
    "- 객체는 특정 길이의 문자열만 처리 가능\n",
    "- https://docs.pythonorg/3/library/struct.html\n",
    "\n",
    "#### struct.pack()\n",
    "- struct 형식의 문자열과 값을 취하여 바이트 객체 반환\n",
    "\n",
    "#### struct.unpack()\n",
    "- struct 형식의 문자열과 바이트 또는 바이트 배열 객체를 취하여 값을 반환\n",
    "\n",
    "#### struct.calcsize()\n",
    "- struct 형식의 문자열을 취하여 struct 형식이 차지할 바이트 수를 반환"
   ]
  },
  {
   "cell_type": "code",
   "execution_count": 38,
   "metadata": {},
   "outputs": [
    {
     "data": {
      "text/plain": [
       "b'\\x00\\x01\\x00\\x02\\x00\\x00\\x00\\x03'"
      ]
     },
     "execution_count": 38,
     "metadata": {},
     "output_type": "execute_result"
    }
   ],
   "source": [
    "import struct\n",
    "\n",
    "abc = struct.pack('>hhl', 1, 2, 3)\n",
    "abc"
   ]
  },
  {
   "cell_type": "code",
   "execution_count": 39,
   "metadata": {},
   "outputs": [
    {
     "data": {
      "text/plain": [
       "(1, 2, 3)"
      ]
     },
     "execution_count": 39,
     "metadata": {},
     "output_type": "execute_result"
    }
   ],
   "source": [
    "struct.unpack('>hhl', abc)"
   ]
  },
  {
   "cell_type": "code",
   "execution_count": 40,
   "metadata": {},
   "outputs": [
    {
     "data": {
      "text/plain": [
       "8"
      ]
     },
     "execution_count": 40,
     "metadata": {},
     "output_type": "execute_result"
    }
   ],
   "source": [
    "struct.calcsize('>hhl')"
   ]
  },
  {
   "cell_type": "markdown",
   "metadata": {},
   "source": [
    "# 4.4 오류 처리\n",
    "- 파이썬 코드 컴파일시, 크게 두가지 오류 존재: 구문 오류(syntax error)와 예외(exception)\n",
    "- 구문 오류가 있으면 컴파일이 아예 안되지만, 예외는 실행 중에야 발견할 수 있으므로 신중하게 처리 필요"
   ]
  },
  {
   "cell_type": "markdown",
   "metadata": {},
   "source": [
    "## 4.4.1 예외 처리\n",
    "- 예외 발생했는데 코드로 처리하지 않았다면, 파이썬은 예외 오류 메세지와 함께 traceback을 출력\n",
    "- traceback은 처리되지 않은 예외가 발생한 지점에서 호출 스택 맨 위까지 수행된 모든 호출 목록 포함\n",
    "- 파이썬에서는 try-except-finally문을 사용하여 예측 가능한 예외를 처리"
   ]
  },
  {
   "cell_type": "code",
   "execution_count": 42,
   "metadata": {},
   "outputs": [
    {
     "ename": "SyntaxError",
     "evalue": "invalid syntax (<ipython-input-42-b2dfe83bae4a>, line 2)",
     "output_type": "error",
     "traceback": [
      "\u001b[1;36m  File \u001b[1;32m\"<ipython-input-42-b2dfe83bae4a>\"\u001b[1;36m, line \u001b[1;32m2\u001b[0m\n\u001b[1;33m    예외 발생이 예측되는 코드\u001b[0m\n\u001b[1;37m         ^\u001b[0m\n\u001b[1;31mSyntaxError\u001b[0m\u001b[1;31m:\u001b[0m invalid syntax\n"
     ]
    }
   ],
   "source": [
    "try:\n",
    "    예외 발생이 예측되는 코드\n",
    "except 예외1 as 예외_변수1:\n",
    "    예외 처리1\n",
    "...\n",
    "except 예외N as 예외_변수N:\n",
    "    예외 처리N"
   ]
  },
  {
   "cell_type": "code",
   "execution_count": 43,
   "metadata": {},
   "outputs": [
    {
     "name": "stdout",
     "output_type": "stream",
     "text": [
      "숫자를 입력하세요: ㅁ\n",
      "숫자가 아닙니다. 다시 입력해주세요.\n",
      "숫자를 입력하세요: -\n",
      "숫자가 아닙니다. 다시 입력해주세요.\n",
      "숫자를 입력하세요: 2\n"
     ]
    }
   ],
   "source": [
    "while True:\n",
    "    try:\n",
    "        x = int(input(\"숫자를 입력하세요: \"))\n",
    "        break\n",
    "    except ValueError:\n",
    "        print(\"숫자가 아닙니다. 다시 입력해주세요.\")"
   ]
  },
  {
   "cell_type": "markdown",
   "metadata": {},
   "source": [
    "- raise문을 사용하여 특정 예외를 의도적으로 발생 시킬 수 있음"
   ]
  },
  {
   "cell_type": "code",
   "execution_count": 2,
   "metadata": {},
   "outputs": [
    {
     "name": "stdout",
     "output_type": "stream",
     "text": [
      "예외 발생: <class 'ZeroDivisionError'>\n"
     ]
    },
    {
     "ename": "ZeroDivisionError",
     "evalue": "division by zero",
     "output_type": "error",
     "traceback": [
      "\u001b[1;31m---------------------------------------------------------------------------\u001b[0m",
      "\u001b[1;31mZeroDivisionError\u001b[0m                         Traceback (most recent call last)",
      "\u001b[1;32m<ipython-input-2-3cc13c171a92>\u001b[0m in \u001b[0;36m<module>\u001b[1;34m()\u001b[0m\n\u001b[0;32m      3\u001b[0m \u001b[1;33m\u001b[0m\u001b[0m\n\u001b[0;32m      4\u001b[0m \u001b[1;32mtry\u001b[0m\u001b[1;33m:\u001b[0m\u001b[1;33m\u001b[0m\u001b[1;33m\u001b[0m\u001b[0m\n\u001b[1;32m----> 5\u001b[1;33m     \u001b[1;36m1\u001b[0m\u001b[1;33m/\u001b[0m\u001b[1;36m0\u001b[0m \u001b[1;31m# ZeroDivisionError 발생\u001b[0m\u001b[1;33m\u001b[0m\u001b[1;33m\u001b[0m\u001b[0m\n\u001b[0m\u001b[0;32m      6\u001b[0m     \u001b[0mf\u001b[0m \u001b[1;33m=\u001b[0m \u001b[0mopen\u001b[0m\u001b[1;33m(\u001b[0m\u001b[1;34m'Chap04/myfile.txt'\u001b[0m\u001b[1;33m)\u001b[0m\u001b[1;33m\u001b[0m\u001b[1;33m\u001b[0m\u001b[0m\n\u001b[0;32m      7\u001b[0m     \u001b[0ms\u001b[0m \u001b[1;33m=\u001b[0m \u001b[0mf\u001b[0m\u001b[1;33m.\u001b[0m\u001b[0mreadline\u001b[0m\u001b[1;33m(\u001b[0m\u001b[1;33m)\u001b[0m\u001b[1;33m\u001b[0m\u001b[1;33m\u001b[0m\u001b[0m\n",
      "\u001b[1;31mZeroDivisionError\u001b[0m: division by zero"
     ]
    }
   ],
   "source": [
    "import string\n",
    "import sys\n",
    "\n",
    "try:\n",
    "    1/0 # ZeroDivisionError 발생\n",
    "    f = open('Chap04/myfile.txt')\n",
    "    s = f.readline()\n",
    "    i = int(string.strip(s))\n",
    "except IOError as err:\n",
    "    # errno, strerror = err.args\n",
    "    print(err)\n",
    "except ValueError:\n",
    "    print(\"데이터를 숫자로 변환할 수 없습니다.\")\n",
    "except:\n",
    "    print(\"예외 발생: {0}\".format(sys.exc_info()[0]))\n",
    "    raise"
   ]
  },
  {
   "cell_type": "markdown",
   "metadata": {},
   "source": [
    "- else문 사용"
   ]
  },
  {
   "cell_type": "code",
   "execution_count": 4,
   "metadata": {},
   "outputs": [
    {
     "name": "stdout",
     "output_type": "stream",
     "text": [
      "Chap04/hello.py는 총 9줄 입니다.\n"
     ]
    }
   ],
   "source": [
    "filename = \"Chap04/hello.py\"\n",
    "try:\n",
    "    f = open(filename, 'r', encoding=\"utf-8\")\n",
    "except IOError:\n",
    "    print(\"{0}를 열 수 없습니다.\".format(filename))\n",
    "else:\n",
    "    print(\"{0}는 총 {1}줄 입니다.\".format(filename, len(f.readlines())))\n",
    "    f.close()"
   ]
  },
  {
   "cell_type": "markdown",
   "metadata": {},
   "source": [
    "## 4.4.2 예외 처리에 대한 구글 파이썬 스타일 가이드\n",
    "- raise MyError('오류 메시지') 또는 raise MyError와 같이 예외를 발생\n",
    "- raise MyError, '오류 메시지' 같이 두개의 인수 형식을 사용하지 않는다.\n",
    "- 내장 예외 클래스를 적절하게 사용. 공개 API의 인수 값을 확인하는 데 assert문 사용X\n",
    "- assert문은 내부적으로 정확성을 보장하기 위해 사용하는 것임, 아래 예시 참조"
   ]
  },
  {
   "cell_type": "code",
   "execution_count": 5,
   "metadata": {},
   "outputs": [],
   "source": [
    "# assert 좋은 예\n",
    "def ConnectToNextPort(self, minimum):\n",
    "    \"\"\"사용 가능한 다음 포트에 연결한다. 새 minimum 포트를 반환한다.\"\"\"\n",
    "    if minimum <= 1024:\n",
    "        raise ValueError('1025 이상의 포트를 입력해야 합니다.')\n",
    "    port = self._FindNextOpenPort(minimum)\n",
    "    if not port:\n",
    "        raise ConnectionError('%d 포트에 연결할 수 없습니다.' % (minimum,))\n",
    "    assert port >= minimum, '예상치 못한 %d 포트를 사용했습니다. 입력한 minimum 포트는 %d 입니다.' % (port, minimum)\n",
    "    return port"
   ]
  },
  {
   "cell_type": "code",
   "execution_count": 6,
   "metadata": {},
   "outputs": [],
   "source": [
    "# 나쁜 예\n",
    "def ConnectToNextPort(self, minimum):\n",
    "    \"\"\"사용 가능한 다음 포트에 연결한다. 새 minimum 포트를 반환한다.\"\"\"\n",
    "    assert minimum > 1024, \"1025 이상의 포트를 입력해야 합니다.\"\n",
    "    port = self._FindNextOpenPort(minimum)\n",
    "    assert port is not None\n",
    "    return port"
   ]
  },
  {
   "cell_type": "markdown",
   "metadata": {},
   "source": [
    "- 라이브러리 또는 패키지에 따라 자체 예외를 정의하는 것이 좋음. 이 경우 Exception 클래스를 상속하며, 예외이름은 Error로 끝나야 함. foo.FooError와 같이 foo.가 붙으면 안됨\n",
    "- 모든 예외를 처리하는 except:, except Exception, except StandardError 문을 사용하지 않음\n",
    "- try/except 블록 내 코드 양을 최소화\n",
    "- try문에서 예외 발생 여부와 관계없이 finally문을 꼭 사용. 파일 닫기와 자원 정리에 유용\n",
    "- 예외 처리시 쉼표(,) 대신 as를 사용"
   ]
  },
  {
   "cell_type": "code",
   "execution_count": 7,
   "metadata": {},
   "outputs": [
    {
     "ename": "NameError",
     "evalue": "name 'Error' is not defined",
     "output_type": "error",
     "traceback": [
      "\u001b[1;31m---------------------------------------------------------------------------\u001b[0m",
      "\u001b[1;31mNameError\u001b[0m                                 Traceback (most recent call last)",
      "\u001b[1;32m<ipython-input-7-e88dca31798e>\u001b[0m in \u001b[0;36m<module>\u001b[1;34m()\u001b[0m\n\u001b[0;32m      1\u001b[0m \u001b[1;32mtry\u001b[0m\u001b[1;33m:\u001b[0m\u001b[1;33m\u001b[0m\u001b[1;33m\u001b[0m\u001b[0m\n\u001b[1;32m----> 2\u001b[1;33m     \u001b[1;32mraise\u001b[0m \u001b[0mError\u001b[0m\u001b[1;33m\u001b[0m\u001b[1;33m\u001b[0m\u001b[0m\n\u001b[0m\u001b[0;32m      3\u001b[0m \u001b[1;32mexcept\u001b[0m \u001b[0mError\u001b[0m \u001b[1;32mas\u001b[0m \u001b[0merror\u001b[0m\u001b[1;33m:\u001b[0m\u001b[1;33m\u001b[0m\u001b[1;33m\u001b[0m\u001b[0m\n",
      "\u001b[1;31mNameError\u001b[0m: name 'Error' is not defined",
      "\nDuring handling of the above exception, another exception occurred:\n",
      "\u001b[1;31mNameError\u001b[0m                                 Traceback (most recent call last)",
      "\u001b[1;32m<ipython-input-7-e88dca31798e>\u001b[0m in \u001b[0;36m<module>\u001b[1;34m()\u001b[0m\n\u001b[0;32m      1\u001b[0m \u001b[1;32mtry\u001b[0m\u001b[1;33m:\u001b[0m\u001b[1;33m\u001b[0m\u001b[1;33m\u001b[0m\u001b[0m\n\u001b[0;32m      2\u001b[0m     \u001b[1;32mraise\u001b[0m \u001b[0mError\u001b[0m\u001b[1;33m\u001b[0m\u001b[1;33m\u001b[0m\u001b[0m\n\u001b[1;32m----> 3\u001b[1;33m \u001b[1;32mexcept\u001b[0m \u001b[0mError\u001b[0m \u001b[1;32mas\u001b[0m \u001b[0merror\u001b[0m\u001b[1;33m:\u001b[0m\u001b[1;33m\u001b[0m\u001b[1;33m\u001b[0m\u001b[0m\n\u001b[0m\u001b[0;32m      4\u001b[0m     \u001b[1;32mpass\u001b[0m\u001b[1;33m\u001b[0m\u001b[1;33m\u001b[0m\u001b[0m\n",
      "\u001b[1;31mNameError\u001b[0m: name 'Error' is not defined"
     ]
    }
   ],
   "source": [
    "try:\n",
    "    raise Error\n",
    "except Error as error:\n",
    "    pass"
   ]
  }
 ],
 "metadata": {
  "kernelspec": {
   "display_name": "Python 3",
   "language": "python",
   "name": "python3"
  },
  "language_info": {
   "codemirror_mode": {
    "name": "ipython",
    "version": 3
   },
   "file_extension": ".py",
   "mimetype": "text/x-python",
   "name": "python",
   "nbconvert_exporter": "python",
   "pygments_lexer": "ipython3",
   "version": "3.7.7"
  }
 },
 "nbformat": 4,
 "nbformat_minor": 2
}

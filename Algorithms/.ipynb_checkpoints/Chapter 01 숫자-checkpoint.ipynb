{
 "cells": [
  {
   "cell_type": "markdown",
   "metadata": {},
   "source": [
    "## Chapter 01 숫자"
   ]
  },
  {
   "cell_type": "markdown",
   "metadata": {},
   "source": [
    "## 1.1 정수"
   ]
  },
  {
   "cell_type": "code",
   "execution_count": 1,
   "metadata": {},
   "outputs": [
    {
     "data": {
      "text/plain": [
       "10"
      ]
     },
     "execution_count": 1,
     "metadata": {},
     "output_type": "execute_result"
    }
   ],
   "source": [
    "# 필요한 바이트수 확인 : (정수).bit_length()\n",
    "(999).bit_length()"
   ]
  },
  {
   "cell_type": "code",
   "execution_count": 3,
   "metadata": {},
   "outputs": [
    {
     "data": {
      "text/plain": [
       "13"
      ]
     },
     "execution_count": 3,
     "metadata": {},
     "output_type": "execute_result"
    }
   ],
   "source": [
    "# 문자열의 정수 반환 or 다른 진법의 문자열을 정수(10진법)로 변환\n",
    "s = '13'\n",
    "d = int(s)\n",
    "d"
   ]
  },
  {
   "cell_type": "code",
   "execution_count": 5,
   "metadata": {},
   "outputs": [
    {
     "data": {
      "text/plain": [
       "7"
      ]
     },
     "execution_count": 5,
     "metadata": {},
     "output_type": "execute_result"
    }
   ],
   "source": [
    "# class int(x, base=10)\n",
    "# base가 4라면, 4진수 x를 10진수로 변환\n",
    "d = int(s, 4)\n",
    "d"
   ]
  },
  {
   "cell_type": "code",
   "execution_count": 12,
   "metadata": {},
   "outputs": [
    {
     "ename": "ValueError",
     "evalue": "invalid literal for int() with base 3: '14'",
     "output_type": "error",
     "traceback": [
      "\u001b[1;31m---------------------------------------------------------------------------\u001b[0m",
      "\u001b[1;31mValueError\u001b[0m                                Traceback (most recent call last)",
      "\u001b[1;32m<ipython-input-12-4eef6b089008>\u001b[0m in \u001b[0;36m<module>\u001b[1;34m()\u001b[0m\n\u001b[0;32m      1\u001b[0m \u001b[1;31m# base는 2~36이며, base 범위에 벗어나는 x값을 입력하면 ValueError 예외 발생\u001b[0m\u001b[1;33m\u001b[0m\u001b[1;33m\u001b[0m\u001b[0m\n\u001b[0;32m      2\u001b[0m \u001b[0ms\u001b[0m \u001b[1;33m=\u001b[0m \u001b[1;34m'14'\u001b[0m\u001b[1;33m\u001b[0m\u001b[0m\n\u001b[1;32m----> 3\u001b[1;33m \u001b[0mint\u001b[0m\u001b[1;33m(\u001b[0m\u001b[0ms\u001b[0m\u001b[1;33m,\u001b[0m \u001b[1;36m3\u001b[0m\u001b[1;33m)\u001b[0m\u001b[1;33m\u001b[0m\u001b[0m\n\u001b[0m",
      "\u001b[1;31mValueError\u001b[0m: invalid literal for int() with base 3: '14'"
     ]
    }
   ],
   "source": [
    "# base는 2~36이며, base 범위에 벗어나는 x값을 입력하면 ValueError 예외 발생\n",
    "s = '14'\n",
    "int(s, 3)"
   ]
  },
  {
   "cell_type": "markdown",
   "metadata": {},
   "source": [
    "## 1.2 부동소수점"
   ]
  },
  {
   "cell_type": "code",
   "execution_count": 13,
   "metadata": {},
   "outputs": [
    {
     "data": {
      "text/plain": [
       "False"
      ]
     },
     "execution_count": 13,
     "metadata": {},
     "output_type": "execute_result"
    }
   ],
   "source": [
    "# 부동소수점은 이진수 분수(binary fraction)로 표현되기 때문에 함부로 비교하거나 빼면 안됨\n",
    "0.2 * 3 == 0.6"
   ]
  },
  {
   "cell_type": "code",
   "execution_count": 14,
   "metadata": {},
   "outputs": [
    {
     "data": {
      "text/plain": [
       "True"
      ]
     },
     "execution_count": 14,
     "metadata": {},
     "output_type": "execute_result"
    }
   ],
   "source": [
    "1.2 - 0.2 == 1.0"
   ]
  },
  {
   "cell_type": "code",
   "execution_count": 15,
   "metadata": {},
   "outputs": [
    {
     "data": {
      "text/plain": [
       "False"
      ]
     },
     "execution_count": 15,
     "metadata": {},
     "output_type": "execute_result"
    }
   ],
   "source": [
    "1.2 - 0.1 == 1.1"
   ]
  },
  {
   "cell_type": "code",
   "execution_count": 16,
   "metadata": {},
   "outputs": [
    {
     "data": {
      "text/plain": [
       "False"
      ]
     },
     "execution_count": 16,
     "metadata": {},
     "output_type": "execute_result"
    }
   ],
   "source": [
    "0.1 * 0.1 == 0.01"
   ]
  },
  {
   "cell_type": "code",
   "execution_count": 17,
   "metadata": {},
   "outputs": [
    {
     "data": {
      "text/plain": [
       "(7, 3)"
      ]
     },
     "execution_count": 17,
     "metadata": {},
     "output_type": "execute_result"
    }
   ],
   "source": [
    "# 나누기 연산자(/)는 항상 부동소수점 반환\n",
    "# // 연산자는 정수 몫, % 연산자는 나머지를 구함\n",
    "# divmod(x, y)는 x를 y로 나눌 때, 몫과 나머지를 반환\n",
    "divmod(45, 6)"
   ]
  },
  {
   "cell_type": "code",
   "execution_count": 18,
   "metadata": {},
   "outputs": [
    {
     "data": {
      "text/plain": [
       "120.87"
      ]
     },
     "execution_count": 18,
     "metadata": {},
     "output_type": "execute_result"
    }
   ],
   "source": [
    "# round(x, n): x를 소수점 n번째 자리로 반올림한 값 반환\n",
    "round(120.867, 2)"
   ]
  },
  {
   "cell_type": "code",
   "execution_count": 20,
   "metadata": {},
   "outputs": [
    {
     "data": {
      "text/plain": [
       "121.0"
      ]
     },
     "execution_count": 20,
     "metadata": {},
     "output_type": "execute_result"
    }
   ],
   "source": [
    "round(120.867, 0)"
   ]
  },
  {
   "cell_type": "code",
   "execution_count": 21,
   "metadata": {},
   "outputs": [
    {
     "data": {
      "text/plain": [
       "120.0"
      ]
     },
     "execution_count": 21,
     "metadata": {},
     "output_type": "execute_result"
    }
   ],
   "source": [
    "round(120.867, -1)"
   ]
  },
  {
   "cell_type": "code",
   "execution_count": 22,
   "metadata": {},
   "outputs": [
    {
     "data": {
      "text/plain": [
       "(11, 4)"
      ]
     },
     "execution_count": 22,
     "metadata": {},
     "output_type": "execute_result"
    }
   ],
   "source": [
    "# as_integer_ratio() : 부동소수점을 분수로 표현\n",
    "2.75.as_integer_ratio()"
   ]
  },
  {
   "cell_type": "markdown",
   "metadata": {},
   "source": [
    "## 1.3 복소수"
   ]
  },
  {
   "cell_type": "code",
   "execution_count": 23,
   "metadata": {},
   "outputs": [
    {
     "data": {
      "text/plain": [
       "3.0"
      ]
     },
     "execution_count": 23,
     "metadata": {},
     "output_type": "execute_result"
    }
   ],
   "source": [
    "# 복소수란? z = 3 + 4j\n",
    "# z.real : 실수부\n",
    "z = 3 + 4j\n",
    "z.real"
   ]
  },
  {
   "cell_type": "code",
   "execution_count": 24,
   "metadata": {},
   "outputs": [
    {
     "data": {
      "text/plain": [
       "4.0"
      ]
     },
     "execution_count": 24,
     "metadata": {},
     "output_type": "execute_result"
    }
   ],
   "source": [
    "# z.imag : 허수부\n",
    "z.imag"
   ]
  },
  {
   "cell_type": "code",
   "execution_count": 25,
   "metadata": {},
   "outputs": [
    {
     "data": {
      "text/plain": [
       "(3-4j)"
      ]
     },
     "execution_count": 25,
     "metadata": {},
     "output_type": "execute_result"
    }
   ],
   "source": [
    "# z.conjugate() : 켤레 복소수\n",
    "z.conjugate()"
   ]
  },
  {
   "cell_type": "markdown",
   "metadata": {},
   "source": [
    "## 1.4 fraction 모듈"
   ]
  },
  {
   "cell_type": "code",
   "execution_count": 28,
   "metadata": {},
   "outputs": [
    {
     "name": "stdout",
     "output_type": "stream",
     "text": [
      "테스트 통과!\n"
     ]
    }
   ],
   "source": [
    "# fraction 모듈은 분수 다룰 때 사용\n",
    "\n",
    "from fractions import Fraction\n",
    "\n",
    "def rounding_floats(number1, places):\n",
    "    return round(number1, places)\n",
    "\n",
    "def float_to_fractions(number):\n",
    "    return Fraction(*number.as_integer_ratio())\n",
    "\n",
    "def get_denominator(number1, number2):\n",
    "    '''분모를 반환한다.'''\n",
    "    a = Fraction(number1, number2)\n",
    "    return a.denominator\n",
    "\n",
    "def get_numerator(number1, number2):\n",
    "    '''분자를 반환한다.'''\n",
    "    a = Fraction(number1, number2)\n",
    "    return a.numerator\n",
    "\n",
    "def test_testing_floats():\n",
    "    number1 = 1.25\n",
    "    number2 = 1\n",
    "    number3= -1\n",
    "    number4 = 5/4\n",
    "    number6 = 6\n",
    "    assert(rounding_floats(number1, number2) == 1.2)\n",
    "    assert(rounding_floats(number1*10, number3) == 10)\n",
    "    assert(float_to_fractions(number1) == number4)\n",
    "    assert(get_denominator(number2, number6) == number6)\n",
    "    assert(get_numerator(number2, number6) == number2)\n",
    "    print(\"테스트 통과!\")\n",
    "    \n",
    "\n",
    "if __name__ == \"__main__\":\n",
    "    test_testing_floats()"
   ]
  },
  {
   "cell_type": "code",
   "execution_count": 32,
   "metadata": {},
   "outputs": [
    {
     "data": {
      "text/plain": [
       "Fraction(2, 7)"
      ]
     },
     "execution_count": 32,
     "metadata": {},
     "output_type": "execute_result"
    }
   ],
   "source": [
    "t = Fraction(2, 7)\n",
    "t"
   ]
  },
  {
   "cell_type": "markdown",
   "metadata": {},
   "source": [
    "## 1.5 decimal 모듈"
   ]
  },
  {
   "cell_type": "code",
   "execution_count": 33,
   "metadata": {},
   "outputs": [
    {
     "data": {
      "text/plain": [
       "False"
      ]
     },
     "execution_count": 33,
     "metadata": {},
     "output_type": "execute_result"
    }
   ],
   "source": [
    "# decimal.Decimal 모듈을 사용하면 부동소수점의 반올림, 비교, 뺄셈 문제 해결 가능\n",
    "sum(0.1 for i in range(10)) == 1.0"
   ]
  },
  {
   "cell_type": "code",
   "execution_count": 34,
   "metadata": {},
   "outputs": [
    {
     "data": {
      "text/plain": [
       "True"
      ]
     },
     "execution_count": 34,
     "metadata": {},
     "output_type": "execute_result"
    }
   ],
   "source": [
    "from decimal import Decimal\n",
    "sum(Decimal(\"0.1\") for i in range(10)) == Decimal(\"1.0\")"
   ]
  },
  {
   "cell_type": "markdown",
   "metadata": {},
   "source": [
    "## 1.6 2진수, 8진수, 16진수"
   ]
  },
  {
   "cell_type": "code",
   "execution_count": 35,
   "metadata": {},
   "outputs": [
    {
     "data": {
      "text/plain": [
       "'0b1111100111'"
      ]
     },
     "execution_count": 35,
     "metadata": {},
     "output_type": "execute_result"
    }
   ],
   "source": [
    "# bin(i): 정수 i의 2진수 문자열 반환\n",
    "bin(999)"
   ]
  },
  {
   "cell_type": "code",
   "execution_count": 36,
   "metadata": {},
   "outputs": [
    {
     "data": {
      "text/plain": [
       "'0o1747'"
      ]
     },
     "execution_count": 36,
     "metadata": {},
     "output_type": "execute_result"
    }
   ],
   "source": [
    "# oct(i): 정수 i의 8진수 문자열 반환\n",
    "oct(999)"
   ]
  },
  {
   "cell_type": "code",
   "execution_count": 37,
   "metadata": {},
   "outputs": [
    {
     "data": {
      "text/plain": [
       "'0x3e7'"
      ]
     },
     "execution_count": 37,
     "metadata": {},
     "output_type": "execute_result"
    }
   ],
   "source": [
    "# hex(i): 정수 i의 16진수 문자열 반환\n",
    "hex(999)"
   ]
  },
  {
   "cell_type": "markdown",
   "metadata": {},
   "source": [
    "## 1.7 연습문제"
   ]
  },
  {
   "cell_type": "markdown",
   "metadata": {},
   "source": [
    "### 1.7.1 진법 변환\n",
    "다른 진법의 숫자를 10진수로 변환한다(2 <= base <= 10)"
   ]
  },
  {
   "cell_type": "code",
   "execution_count": 42,
   "metadata": {},
   "outputs": [
    {
     "name": "stdout",
     "output_type": "stream",
     "text": [
      "23\n"
     ]
    }
   ],
   "source": [
    "# 나의 답변\n",
    "def convert_to_decimal(num, base):\n",
    "    if base >= 2 and base <= 10:\n",
    "        num_str = str(num)\n",
    "        return int(num_str, base)\n",
    "    else:\n",
    "        return \"base값이 2와 10 사이가 아닙니다.\"\n",
    "    \n",
    "if __name__ == \"__main__\":\n",
    "    a = convert_to_decimal(10111, 2)\n",
    "    print(a)"
   ]
  },
  {
   "cell_type": "code",
   "execution_count": 44,
   "metadata": {},
   "outputs": [
    {
     "name": "stdout",
     "output_type": "stream",
     "text": [
      "테스트 통과!\n"
     ]
    }
   ],
   "source": [
    "# 모범 답안\n",
    "def convert_to_decimal(number, base):\n",
    "    multiplier, result = 1, 0\n",
    "    while number > 0:\n",
    "        result += number % 10 * multiplier\n",
    "        multiplier *= base\n",
    "        number = number // 10\n",
    "    return result\n",
    "\n",
    "def test_convert_to_decimal():\n",
    "    number, base = 1001, 2\n",
    "    assert(convert_to_decimal(number, base) == 9)\n",
    "    print(\"테스트 통과!\")\n",
    "    \n",
    "if __name__ == \"__main__\":\n",
    "    test_convert_to_decimal()"
   ]
  },
  {
   "cell_type": "markdown",
   "metadata": {},
   "source": [
    "10진수를 다른 진법의 숫자로 변환하는 함수 만들기"
   ]
  },
  {
   "cell_type": "code",
   "execution_count": 47,
   "metadata": {},
   "outputs": [
    {
     "name": "stdout",
     "output_type": "stream",
     "text": [
      "['1', '2', '2', '1']\n"
     ]
    },
    {
     "data": {
      "text/plain": [
       "'1221'"
      ]
     },
     "execution_count": 47,
     "metadata": {},
     "output_type": "execute_result"
    }
   ],
   "source": [
    "# 나의 답변\n",
    "def convert_from_decimal(number, base):\n",
    "    result_list = []\n",
    "    while number > 0 :\n",
    "        result_list.insert(0, str(number % base))\n",
    "        number = number // base\n",
    "    return \"\".join(result_list)\n",
    "\n",
    "convert_from_decimal(52, 3)\n",
    "        "
   ]
  },
  {
   "cell_type": "code",
   "execution_count": 49,
   "metadata": {},
   "outputs": [
    {
     "name": "stdout",
     "output_type": "stream",
     "text": [
      "테스트 통과!\n"
     ]
    }
   ],
   "source": [
    "# 모범 답안\n",
    "def convert_from_decimal(number, base):\n",
    "    multiplier, result = 1, 0\n",
    "    while number > 0:\n",
    "        result += number % base * multiplier\n",
    "        multiplier *= 10\n",
    "        number = number // base\n",
    "    return result\n",
    "\n",
    "def test_convert_from_decimal():\n",
    "    number, base = 52, 3\n",
    "    assert(convert_from_decimal(number, base) == 1221)\n",
    "    print(\"테스트 통과!\")\n",
    "    \n",
    "if __name__ == \"__main__\":\n",
    "    test_convert_from_decimal()"
   ]
  },
  {
   "cell_type": "code",
   "execution_count": 1,
   "metadata": {},
   "outputs": [
    {
     "name": "stdout",
     "output_type": "stream",
     "text": [
      "테스트 통과!\n"
     ]
    }
   ],
   "source": [
    "# base가 10보다 큰 경우, A=10, B=11, C=12와 같은 식으로 나타냄\n",
    "def convert_from_decimal_larger_bases(number, base):\n",
    "    strings = '0123456789ABCDEFGHIJ'\n",
    "    result = ''\n",
    "    while number > 0:\n",
    "        digit = number % base\n",
    "        result = strings[digit] + result\n",
    "        number = number // base\n",
    "    return result\n",
    "\n",
    "def test_convert_from_decimal_larger_bases():\n",
    "    number, base = 31, 16\n",
    "    assert(convert_from_decimal_larger_bases(number, base) == \"1F\")\n",
    "    print(\"테스트 통과!\")\n",
    "    \n",
    "if __name__ == \"__main__\":\n",
    "    test_convert_from_decimal_larger_bases()"
   ]
  },
  {
   "cell_type": "code",
   "execution_count": 2,
   "metadata": {},
   "outputs": [
    {
     "name": "stdout",
     "output_type": "stream",
     "text": [
      "테스트 통과!\n"
     ]
    }
   ],
   "source": [
    "# 재귀 함수(recursive function)를 사용한 진법변환\n",
    "def convert_dec_to_any_base_rec(number, base):\n",
    "    convertString = \"0123456789ABCDEF\"\n",
    "    if number < base:\n",
    "        return convertString[number]\n",
    "    else:\n",
    "        return convert_dec_to_any_base_rec(number // base, base) \\\n",
    "            + convertString[number % base]\n",
    "    \n",
    "def test_convert_dec_to_any_base_rec():\n",
    "    number = 9\n",
    "    base = 2\n",
    "    assert(convert_dec_to_any_base_rec(number, base) == \"1001\")\n",
    "    print(\"테스트 통과!\")\n",
    "    \n",
    "if __name__ == \"__main__\":\n",
    "    test_convert_dec_to_any_base_rec()"
   ]
  },
  {
   "cell_type": "markdown",
   "metadata": {},
   "source": [
    "### 1.7.2 최대공약수"
   ]
  },
  {
   "cell_type": "code",
   "execution_count": 3,
   "metadata": {},
   "outputs": [
    {
     "data": {
      "text/plain": [
       "3"
      ]
     },
     "execution_count": 3,
     "metadata": {},
     "output_type": "execute_result"
    }
   ],
   "source": [
    "# 최대공약수: 유클리드 호제법 사용(자료구조와 함께 배우는 알고리즘 입문 p169 쪽 참조)\n",
    "def finding_gcd(a, b):\n",
    "    while(b != 0):\n",
    "        result = b\n",
    "        a, b = b, a%b\n",
    "    return result\n",
    "\n",
    "finding_gcd(21, 12)"
   ]
  },
  {
   "cell_type": "markdown",
   "metadata": {},
   "source": [
    "### 1.7.3 random 모듈"
   ]
  },
  {
   "cell_type": "code",
   "execution_count": 6,
   "metadata": {},
   "outputs": [
    {
     "name": "stdout",
     "output_type": "stream",
     "text": [
      "1.  2\n",
      "2.  3\n",
      "3.  3\n",
      "4.  [3, 1]\n",
      "5.  [3, 4, 2]\n",
      "6.  [3, 2, 1, 4]\n",
      "7.  1\n",
      "8.  8\n"
     ]
    }
   ],
   "source": [
    "import random\n",
    "\n",
    "def testing_random():\n",
    "    \"\"\"random 모듈 테스트\"\"\"\n",
    "    values = [1, 2, 3, 4]\n",
    "    print(\"1. \", random.choice(values))\n",
    "    print(\"2. \", random.choice(values))\n",
    "    print(\"3. \", random.choice(values))\n",
    "    print(\"4. \", random.sample(values, 2))\n",
    "    print(\"5. \", random.sample(values, 3))\n",
    "    \n",
    "    \"\"\"values 리스트를 섞는다. \"\"\"\n",
    "    random.shuffle(values)\n",
    "    print(\"6. \",values)\n",
    "    \n",
    "    \"\"\"0~10의 임의의 정수를 생성한다. \"\"\"\n",
    "    print(\"7. \", random.randint(0, 10))\n",
    "    print(\"8. \", random.randint(0, 10))\n",
    "    \n",
    "testing_random()\n",
    "    "
   ]
  },
  {
   "cell_type": "code",
   "execution_count": null,
   "metadata": {},
   "outputs": [],
   "source": []
  }
 ],
 "metadata": {
  "kernelspec": {
   "display_name": "Python 3",
   "language": "python",
   "name": "python3"
  },
  "language_info": {
   "codemirror_mode": {
    "name": "ipython",
    "version": 3
   },
   "file_extension": ".py",
   "mimetype": "text/x-python",
   "name": "python",
   "nbconvert_exporter": "python",
   "pygments_lexer": "ipython3",
   "version": "3.7.0"
  }
 },
 "nbformat": 4,
 "nbformat_minor": 2
}

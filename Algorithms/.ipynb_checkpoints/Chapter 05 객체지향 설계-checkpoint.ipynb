{
 "cells": [
  {
   "cell_type": "markdown",
   "metadata": {},
   "source": [
    "# Chap 05 객체지향 설계"
   ]
  },
  {
   "cell_type": "code",
   "execution_count": 1,
   "metadata": {},
   "outputs": [
    {
     "data": {
      "text/plain": [
       "__main__.Circle"
      ]
     },
     "execution_count": 1,
     "metadata": {},
     "output_type": "execute_result"
    }
   ],
   "source": [
    "import collections\n",
    "Circle = collections.namedtuple(\"Circle\", \"x y radius\")\n",
    "Circle"
   ]
  },
  {
   "cell_type": "code",
   "execution_count": 2,
   "metadata": {},
   "outputs": [
    {
     "data": {
      "text/plain": [
       "Circle(x=13, y=84, radius=9)"
      ]
     },
     "execution_count": 2,
     "metadata": {},
     "output_type": "execute_result"
    }
   ],
   "source": [
    "circle = Circle(13, 84, 9)\n",
    "circle"
   ]
  },
  {
   "cell_type": "markdown",
   "metadata": {},
   "source": [
    "# 5.1 클래스와 객체\n",
    "- class는 사전에 정의된 특별한 데이터와 메서드의 집합\n",
    "- class에 선언된 모양 그대로 생성된 실체를 객체(object)라고 함\n",
    "- 객체는 인스턴스를 포함"
   ]
  },
  {
   "cell_type": "markdown",
   "metadata": {},
   "source": [
    "## 5.1.1 클래스 인스턴스 생성\n",
    "- 클래스 인스턴스 생성: 함수 표기법을 사용하여 초기 상태의 객체를 생성하는 일\n",
    "- Hello라는 클래스가 있다면 Hello()를 호출하여 객체 생성. 이때 Hello()를 생성자(constructor)라고 함\n",
    "- 생성자 호출시, Hello.\\_\\_new\\_\\_()라는 특수 메서드가 호출되어 객체가 할당되고\n",
    "- Hello.\\_\\_init\\_\\_() 메서드가 객체를 초기화 함"
   ]
  },
  {
   "cell_type": "markdown",
   "metadata": {},
   "source": [
    "### 속성\n",
    "- 객체에는 데이터와 메서드로 이루어지는 클래스 속성(attribute)이 존재\n",
    "- 메서드 속성은 함수이며, 그 첫번째 인수는 호출된 인스턴스 자신\n",
    "- 속성은 점(.) 뒤에 나오는 모든 이름\n",
    "\n",
    "### 네임스페이스\n",
    "- 네임스페이스는 이름을 객체로 mapping하는 것, 대부분 파이썬 딕셔너리로 구현\n",
    "- 네임스페이스의 예로는 내장된 이름 셋, 모듈의 전역 이름, 함수의 지역 이름 등\n",
    "\n",
    "### 스코프\n",
    "- 스코프는 네임스페이스에 직접 접근할 수 있는 파이썬 프로그램의 텍스트 영역\n",
    "- 스코프는 정적으로 결정되나 동적으로 사용. 즉, 스코프는 텍스트에 따라 결정\n",
    "- 즉, 한 모듈에 정의된 함수의 전역 스코프는 해당 모듈의 네임스페이스\n",
    "- 클래스 정의가 실행되면, 새로운 네임스페이스가 만들어지고, 지역 스코프로 사용"
   ]
  },
  {
   "cell_type": "markdown",
   "metadata": {},
   "source": [
    "# 5.2 객체지향 프로그래밍의 원리"
   ]
  },
  {
   "cell_type": "markdown",
   "metadata": {},
   "source": [
    "## 5.2.1 특수화\n",
    "- 특수화(specialization)는 super class의 모든 속성을 상속(inheritance)하여 새 클래스를 만드는 절차\n",
    "- 모든 메서드는 sub class(child class)에서 override될 수 있음\n",
    "- 구글 파이썬 스타일 가이드에서는 한 클래스가 다른 클래스를 상속받지 않으면, 파이썬의 최상위 클래스인 object를 명시적으로 표기하는 것을 권장\n"
   ]
  },
  {
   "cell_type": "markdown",
   "metadata": {},
   "source": [
    "```\n",
    "# 좋은 예\n",
    "class SampleClass(object):\n",
    "    pass\n",
    "\n",
    "class OuterClass(object):\n",
    "    class InnerClass(object):\n",
    "        pass\n",
    "        \n",
    "class ChildClass(ParentClass):\n",
    "    \"\"\"부모 클래스 상속\"\"\"\n",
    "```"
   ]
  },
  {
   "cell_type": "markdown",
   "metadata": {},
   "source": [
    "```\n",
    "# 나쁜 예\n",
    "class SampleClass:\n",
    "    pass\n",
    "\n",
    "class OuterClass:\n",
    "    class InnerClass:\n",
    "        pass\n",
    "```"
   ]
  },
  {
   "cell_type": "markdown",
   "metadata": {},
   "source": [
    "## 5.2.2 다형성\n",
    "- 다형성(polymorphism) 또는 동적 메서드 바인딩은 메서드가 서브클래스 내에서 재정의 될 수 있다는 원리\n",
    "- 파이썬에서 사용자 정의 클래스의 모든 객체는 기본적으로 해시 가능(hashable)\n",
    "- 객체가 해시 가능하다는 것은 hash() 속성을 호출할 수 있다는 뜻이며 불변 객체임을 의미"
   ]
  },
  {
   "cell_type": "code",
   "execution_count": 12,
   "metadata": {},
   "outputs": [
    {
     "name": "stdout",
     "output_type": "stream",
     "text": [
      "<class 'type'>\n",
      "False\n",
      "False\n",
      "2\n",
      "{<__main__.Symbol object at 0x0000022DEEBE5D88>, <__main__.Symbol object at 0x0000022DEEBE55C8>}\n"
     ]
    }
   ],
   "source": [
    "class Symbol(object):\n",
    "    def __init__(self, value):\n",
    "        self.value = value\n",
    "        \n",
    "if __name__ == \"__main__\":\n",
    "    print(type(Symbol))\n",
    "    x = Symbol(\"Py\")\n",
    "    y = Symbol(\"Py\")\n",
    "    \n",
    "    symbols = set()\n",
    "    symbols.add(x)\n",
    "    symbols.add(y)\n",
    "    \n",
    "    print(x is y)  # 주소값 비교\n",
    "    print(x == y)  # 데이터 속성값 비교\n",
    "    print(len(symbols))\n",
    "    print(symbols)"
   ]
  },
  {
   "cell_type": "markdown",
   "metadata": {},
   "source": [
    "- 두 변수 x, y의 참조가 다르므로 첫번째 결과(x is y)는 예상대로 False가 나왔다.\n",
    "- 하지만 x와 y의 값이 같으니 (x == y)는 True가 되어야 할 것 같으나 결과는 False\n",
    "- 세번째 결과 역시 set은 중복 항목이 없으므로 길이가 1이 나와야 할 것 같지만 2가 나옴\n",
    "- 두번째와 세번째 결과를 고치기 위해 객체의 비교를 담당하는 \\_\\_eq\\_\\_() 메서드를 재정의 해보자"
   ]
  },
  {
   "cell_type": "code",
   "execution_count": 3,
   "metadata": {},
   "outputs": [
    {
     "name": "stdout",
     "output_type": "stream",
     "text": [
      "<class 'type'>\n"
     ]
    },
    {
     "ename": "TypeError",
     "evalue": "unhashable type: 'Symbol'",
     "output_type": "error",
     "traceback": [
      "\u001b[1;31m---------------------------------------------------------------------------\u001b[0m",
      "\u001b[1;31mTypeError\u001b[0m                                 Traceback (most recent call last)",
      "\u001b[1;32m<ipython-input-3-27189f85a01d>\u001b[0m in \u001b[0;36m<module>\u001b[1;34m()\u001b[0m\n\u001b[0;32m     15\u001b[0m \u001b[1;33m\u001b[0m\u001b[0m\n\u001b[0;32m     16\u001b[0m     \u001b[0msymbols\u001b[0m \u001b[1;33m=\u001b[0m \u001b[0mset\u001b[0m\u001b[1;33m(\u001b[0m\u001b[1;33m)\u001b[0m\u001b[1;33m\u001b[0m\u001b[1;33m\u001b[0m\u001b[0m\n\u001b[1;32m---> 17\u001b[1;33m     \u001b[0msymbols\u001b[0m\u001b[1;33m.\u001b[0m\u001b[0madd\u001b[0m\u001b[1;33m(\u001b[0m\u001b[0mx\u001b[0m\u001b[1;33m)\u001b[0m\u001b[1;33m\u001b[0m\u001b[1;33m\u001b[0m\u001b[0m\n\u001b[0m\u001b[0;32m     18\u001b[0m     \u001b[0msymbols\u001b[0m\u001b[1;33m.\u001b[0m\u001b[0madd\u001b[0m\u001b[1;33m(\u001b[0m\u001b[0my\u001b[0m\u001b[1;33m)\u001b[0m\u001b[1;33m\u001b[0m\u001b[1;33m\u001b[0m\u001b[0m\n\u001b[0;32m     19\u001b[0m \u001b[1;33m\u001b[0m\u001b[0m\n",
      "\u001b[1;31mTypeError\u001b[0m: unhashable type: 'Symbol'"
     ]
    }
   ],
   "source": [
    "class Symbol(object):\n",
    "    def __init__(self, value):\n",
    "        self.value = value\n",
    "        \n",
    "    def __eq__(self, other):  # '=='기호에 대한 재정의, self와 other라는 두 인스턴스를 비교할 때,\n",
    "        if isinstance(self, other.__class__): # self가 other Class의 인스턴스라면...\n",
    "            return self.value == other.value  # True를 반환\n",
    "        else:\n",
    "            return NotImplemented\n",
    "\n",
    "if __name__ == \"__main__\":\n",
    "    print(type(Symbol))\n",
    "    x = Symbol(\"Py\")\n",
    "    y = Symbol(\"Py\")\n",
    "    \n",
    "    symbols = set()\n",
    "    symbols.add(x)\n",
    "    symbols.add(y)\n",
    "    \n",
    "    print(x is y)\n",
    "    print(x == y)\n",
    "    print(len(symbols))"
   ]
  },
  {
   "cell_type": "markdown",
   "metadata": {},
   "source": [
    "- \\_\\_eq\\_\\_() 메서드를 재정의하자 Symbol 클래스가 unhashable하다고 에러가 발생\n",
    "- 객체가 unhashable하다는 뜻은 가변 객체임을 의미하는데, set은 불변 객체\n",
    "- 에러를 고치기 위해 \\_\\_hash\\_\\_() 메서드를 추가"
   ]
  },
  {
   "cell_type": "code",
   "execution_count": 4,
   "metadata": {},
   "outputs": [
    {
     "name": "stdout",
     "output_type": "stream",
     "text": [
      "False\n",
      "True\n",
      "1\n"
     ]
    }
   ],
   "source": [
    "class Symbol(object):\n",
    "    def __init__(self, value):\n",
    "        self.value = value\n",
    "        \n",
    "    def __eq__(self, other):\n",
    "        if isinstance(self, other.__class__):\n",
    "            return self.value == other.value\n",
    "        else:\n",
    "            return NotImplemented\n",
    "        \n",
    "    def __hash__(self):\n",
    "        return hash(self.value)\n",
    "\n",
    "if __name__ == \"__main__\":\n",
    "    x = Symbol(\"Py\")\n",
    "    y = Symbol(\"Py\")\n",
    "    \n",
    "    symbols = set()\n",
    "    symbols.add(x)\n",
    "    symbols.add(y)\n",
    "    \n",
    "    print(x is y)\n",
    "    print(x == y)\n",
    "    print(len(symbols))"
   ]
  },
  {
   "cell_type": "code",
   "execution_count": 5,
   "metadata": {},
   "outputs": [
    {
     "data": {
      "text/plain": [
       "True"
      ]
     },
     "execution_count": 5,
     "metadata": {},
     "output_type": "execute_result"
    }
   ],
   "source": [
    "# 참고: isinstance(object, class)\n",
    "class Person: pass\n",
    "\n",
    "a = Person()\n",
    "isinstance(a, Person)"
   ]
  },
  {
   "cell_type": "code",
   "execution_count": 6,
   "metadata": {},
   "outputs": [
    {
     "data": {
      "text/plain": [
       "False"
      ]
     },
     "execution_count": 6,
     "metadata": {},
     "output_type": "execute_result"
    }
   ],
   "source": [
    "b = 3\n",
    "isinstance(b, Person)"
   ]
  },
  {
   "cell_type": "markdown",
   "metadata": {},
   "source": [
    "## 5.2.4 클래스 예제\n",
    "- 앞에서 네임드 튜플로 구현한 원 클래스를 객체지향 설계로 다시 구현"
   ]
  },
  {
   "cell_type": "code",
   "execution_count": 29,
   "metadata": {},
   "outputs": [],
   "source": [
    "# ShapeClass.py\n",
    "import math\n",
    "\n",
    "class Point(object):\n",
    "    def __init__(self, x=0, y=0):\n",
    "        self.x = x # 데이터 속성(attribute)\n",
    "        self.y = y\n",
    "        \n",
    "    def distance_from_origin(self): # 메서드 속성\n",
    "        return math.hypot(self.x, self.y)  # sqrt(x^2 + y^2)\n",
    "    \n",
    "    def __eq__(self, other):\n",
    "        return self.x == other.x and self.y == other.y\n",
    "    \n",
    "    def __repr__(self):\n",
    "        return \"point ({0.x!r}, {0.y!r})\".format(self)\n",
    "    \n",
    "    def __str__(self):\n",
    "        return \"({0.x!r}, {0.y!r})\".format(self)\n",
    "    \n",
    "class Circle(Point):\n",
    "    def __init__(self, radius, x=0, y=0):\n",
    "        super().__init__(x, y) # 생성 및 초기화\n",
    "        self.radius = radius\n",
    "        \n",
    "    def edge_distance_from_origin(self):\n",
    "        return abs(self.distance_from_origin() - self.radius)\n",
    "    \n",
    "    def area(self):\n",
    "        return math.pi*(self.radius**2)\n",
    "    \n",
    "    def circumference(self):\n",
    "        return 2*math.pi*self.radius\n",
    "    \n",
    "    def __eq__(self, other):\n",
    "        return self.radius == other.radius and super().__eq__(other)\n",
    "    \n",
    "    def __repr__(self):\n",
    "        return \"circle ({0.radius!r}, {0.x!r})\".format(self)\n",
    "    \n",
    "    def __str__(self):\n",
    "        return repr(self)"
   ]
  },
  {
   "cell_type": "code",
   "execution_count": 26,
   "metadata": {},
   "outputs": [
    {
     "data": {
      "text/plain": [
       "'The complex number (3-5j) is formed from the real part 3.0 and the imaginary part -5.0.'"
      ]
     },
     "execution_count": 26,
     "metadata": {},
     "output_type": "execute_result"
    }
   ],
   "source": [
    "# 참고\n",
    "c = 3-5j\n",
    "('The complex number {0} is formed from the real part {0.real} \\\n",
    "and the imaginary part {0.imag}.').format(c)"
   ]
  },
  {
   "cell_type": "code",
   "execution_count": 30,
   "metadata": {},
   "outputs": [
    {
     "data": {
      "text/plain": [
       "point (3, 4)"
      ]
     },
     "execution_count": 30,
     "metadata": {},
     "output_type": "execute_result"
    }
   ],
   "source": [
    "a = Point(3, 4)\n",
    "a"
   ]
  },
  {
   "cell_type": "code",
   "execution_count": 31,
   "metadata": {},
   "outputs": [
    {
     "data": {
      "text/plain": [
       "'point (3, 4)'"
      ]
     },
     "execution_count": 31,
     "metadata": {},
     "output_type": "execute_result"
    }
   ],
   "source": [
    "repr(a)"
   ]
  },
  {
   "cell_type": "code",
   "execution_count": 11,
   "metadata": {},
   "outputs": [
    {
     "data": {
      "text/plain": [
       "'(3, 4)'"
      ]
     },
     "execution_count": 11,
     "metadata": {},
     "output_type": "execute_result"
    }
   ],
   "source": [
    "str(a)"
   ]
  },
  {
   "cell_type": "code",
   "execution_count": 32,
   "metadata": {},
   "outputs": [
    {
     "data": {
      "text/plain": [
       "5.0"
      ]
     },
     "execution_count": 32,
     "metadata": {},
     "output_type": "execute_result"
    }
   ],
   "source": [
    "a.distance_from_origin()"
   ]
  },
  {
   "cell_type": "code",
   "execution_count": 35,
   "metadata": {},
   "outputs": [
    {
     "data": {
      "text/plain": [
       "circle (3, 2)"
      ]
     },
     "execution_count": 35,
     "metadata": {},
     "output_type": "execute_result"
    }
   ],
   "source": [
    "c = Circle(3,2,1)\n",
    "c"
   ]
  },
  {
   "cell_type": "code",
   "execution_count": 36,
   "metadata": {},
   "outputs": [
    {
     "data": {
      "text/plain": [
       "'circle (3, 2)'"
      ]
     },
     "execution_count": 36,
     "metadata": {},
     "output_type": "execute_result"
    }
   ],
   "source": [
    "repr(c)"
   ]
  },
  {
   "cell_type": "code",
   "execution_count": 37,
   "metadata": {},
   "outputs": [
    {
     "data": {
      "text/plain": [
       "'circle (3, 2)'"
      ]
     },
     "execution_count": 37,
     "metadata": {},
     "output_type": "execute_result"
    }
   ],
   "source": [
    "str(c)"
   ]
  },
  {
   "cell_type": "code",
   "execution_count": 38,
   "metadata": {},
   "outputs": [
    {
     "data": {
      "text/plain": [
       "18.84955592153876"
      ]
     },
     "execution_count": 38,
     "metadata": {},
     "output_type": "execute_result"
    }
   ],
   "source": [
    "c.circumference()"
   ]
  },
  {
   "cell_type": "code",
   "execution_count": 39,
   "metadata": {},
   "outputs": [
    {
     "data": {
      "text/plain": [
       "0.7639320225002102"
      ]
     },
     "execution_count": 39,
     "metadata": {},
     "output_type": "execute_result"
    }
   ],
   "source": [
    "c.edge_distance_from_origin()"
   ]
  },
  {
   "cell_type": "markdown",
   "metadata": {},
   "source": [
    "# 5.3 디자인 패턴\n",
    "<hr>\n",
    "\n",
    "## 5.3.1 Decorator Pattern\n",
    "\n",
    "Decorator Pattern은 @ 표기를 사용해 함수 또는 메서드의 변환을 우아하게 지정해주는 도구.\n",
    "\n",
    "```\n",
    "class C(object):\n",
    "    @my_decorator\n",
    "    def method(self):\n",
    "        # 메서드 내용\n",
    "```\n",
    "\n",
    "위 코드가 뜻하는 바는 아래와 같다. 즉, my_decorator 함수가 method 함수를 inherit하여 method 라는 데이터 요소로 만드는 것(?)\n",
    "\n",
    "```\n",
    "class C(object):\n",
    "    def method(self):\n",
    "        # 메서드 내용\n",
    "    method = my_decorator(method)\n",
    "```"
   ]
  },
  {
   "cell_type": "code",
   "execution_count": 41,
   "metadata": {},
   "outputs": [
    {
     "name": "stdout",
     "output_type": "stream",
     "text": [
      "random_tree 0.056603500000164786\n"
     ]
    }
   ],
   "source": [
    "# 4_benchmark_decorator.py\n",
    "import random\n",
    "import time\n",
    "\n",
    "def benchmark(func):\n",
    "    def wrapper(*args, **kwargs):\n",
    "        t = time.perf_counter()\n",
    "        res = func(*args, **kwargs)\n",
    "        print(\"{0} {1}\".format(func.__name__, time.perf_counter()-t))\n",
    "        return res\n",
    "    return wrapper\n",
    "\n",
    "@benchmark\n",
    "def random_tree(n):\n",
    "    temp = [n for n in range(n)]\n",
    "    for i in range(n+1):\n",
    "        temp[random.choice(temp)] = random.choice(temp)\n",
    "    return temp\n",
    "\n",
    "if __name__ == '__main__':\n",
    "    random_tree(10000)"
   ]
  },
  {
   "cell_type": "markdown",
   "metadata": {},
   "source": [
    "- 파이썬에서 일반적으로 사용하는 decorator는 @classmethod와 @staticmethod가 있다. \n",
    "- 이들은 각각 메서드를 클래스와 정적 메서드로 변환한다. 다음 코드에서 두 decorator의 차이점을 살펴보자.\n",
    "\n",
    "- @classmethod는 첫번째 인수로 클래스(cls)를 사용하고, @staticmethod는 첫번째 인수에 self 혹은 cls가 없다. \n",
    "- 클래스 내 변수에 접근하려면 @classmethod의 첫번째 인수를 사용할 수 있다."
   ]
  },
  {
   "cell_type": "code",
   "execution_count": 19,
   "metadata": {},
   "outputs": [
    {
     "name": "stdout",
     "output_type": "stream",
     "text": [
      "foo(<__main__.A object at 0x0000016C74915D08>, 1) 실행\n",
      "class_foo(<class '__main__.A'> 2) 실행: True\n",
      "class_foo(<class '__main__.A'> 2) 실행: True\n",
      "static_foo(3) 실행\n",
      "static_foo(3) 실행\n"
     ]
    }
   ],
   "source": [
    "# 5_class_and_static_decorator.py\n",
    "class A(object):\n",
    "    _hello = True\n",
    "    \n",
    "    def foo(self, x):\n",
    "        print(\"foo({0}, {1}) 실행\".format(self, x))\n",
    "        \n",
    "    @classmethod\n",
    "    def class_foo(cls, x):\n",
    "        print(\"class_foo({0} {1}) 실행: {2}\".format(cls, x, cls._hello))\n",
    "        \n",
    "    @staticmethod\n",
    "    def static_foo(x):\n",
    "        print(\"static_foo({0}) 실행\".format(x))\n",
    "        \n",
    "if __name__ == '__main__':\n",
    "    a = A()\n",
    "    a.foo(1)\n",
    "    a.class_foo(2)\n",
    "    A.class_foo(2)\n",
    "    a.static_foo(3)\n",
    "    A.static_foo(3)"
   ]
  },
  {
   "cell_type": "markdown",
   "metadata": {},
   "source": [
    "## 5.3.2 옵서버 패턴\n",
    "\n",
    "- 옵서버 패턴은 특정 값을 유지하는 핵심 객체를 갖고, 직렬화된 객체의 복사본을 생성하는 일부 옵서버가 있는 경우 유용\n",
    "- 즉, 객체의 일대다 의존관계에서 한 객체의 상태가 변경되면 그 객체에 종속된 모든 객체에 그 내용을 통지하여 자동으로 상태를 갱신하는 방식.\n",
    "- @property 데커레이터를 사용하여 구현"
   ]
  },
  {
   "cell_type": "code",
   "execution_count": 42,
   "metadata": {},
   "outputs": [
    {
     "data": {
      "text/plain": [
       "'진'"
      ]
     },
     "execution_count": 42,
     "metadata": {},
     "output_type": "execute_result"
    }
   ],
   "source": [
    "class C:\n",
    "    def __init__(self, name):\n",
    "        self._name = name\n",
    "    @property\n",
    "    def name(self):\n",
    "        return self._name\n",
    "    @name.setter\n",
    "    def name(self, new_name):\n",
    "        self._name = \"{0} >> {1}\".format(self._name, new_name)\n",
    "        \n",
    "c = C('진')\n",
    "c._name"
   ]
  },
  {
   "cell_type": "code",
   "execution_count": 43,
   "metadata": {},
   "outputs": [
    {
     "data": {
      "text/plain": [
       "'진'"
      ]
     },
     "execution_count": 43,
     "metadata": {},
     "output_type": "execute_result"
    }
   ],
   "source": [
    "c.name"
   ]
  },
  {
   "cell_type": "code",
   "execution_count": 45,
   "metadata": {},
   "outputs": [
    {
     "data": {
      "text/plain": [
       "'진 >> 아스틴'"
      ]
     },
     "execution_count": 45,
     "metadata": {},
     "output_type": "execute_result"
    }
   ],
   "source": [
    "c.name = '아스틴'\n",
    "c.name"
   ]
  },
  {
   "cell_type": "markdown",
   "metadata": {},
   "source": [
    "파이썬의 옵서버 패턴은 다른 컴퓨터 언어와 조금 다른 방식으로 구현된다. 다음은 속성을 사용한 옵서버 패턴의 구현 내용과 예제."
   ]
  },
  {
   "cell_type": "code",
   "execution_count": 1,
   "metadata": {},
   "outputs": [
    {
     "name": "stdout",
     "output_type": "stream",
     "text": [
      "제프, 점심시간입니다.\n",
      "아스틴, 점심시간입니다.\n",
      "제임스, 점심시간입니다.\n",
      "아스틴, 퇴근시간입니다.\n",
      "제임스, 퇴근시간입니다.\n"
     ]
    }
   ],
   "source": [
    "class Subscriber(object):\n",
    "    def __init__(self, name):\n",
    "        self.name = name\n",
    "        \n",
    "    def update(self, message):\n",
    "        print(\"{0}, {1}\".format(self.name, message))\n",
    "        \n",
    "class Publisher(object):\n",
    "    def __init__(self):\n",
    "        self.subscribers = set()\n",
    "        \n",
    "    def register(self, who):\n",
    "        self.subscribers.add(who)\n",
    "        \n",
    "    def unregister(self, who):\n",
    "        self.subscribers.discard(who)\n",
    "        \n",
    "    def dispatch(self, message):\n",
    "        for subscriber in self.subscribers:\n",
    "            subscriber.update(message)  # update는 Subscriber 클래스의 함수!\n",
    "            \n",
    "if __name__ == \"__main__\":\n",
    "    pub = Publisher()\n",
    "    \n",
    "    astin = Subscriber(\"아스틴\")\n",
    "    james = Subscriber(\"제임스\")\n",
    "    jeff = Subscriber(\"제프\")\n",
    "    \n",
    "    pub.register(astin)\n",
    "    pub.register(james)\n",
    "    pub.register(jeff)\n",
    "    \n",
    "    pub.dispatch(\"점심시간입니다.\")\n",
    "    pub.unregister(jeff)\n",
    "    pub.dispatch(\"퇴근시간입니다.\")"
   ]
  },
  {
   "cell_type": "code",
   "execution_count": 2,
   "metadata": {},
   "outputs": [
    {
     "name": "stdout",
     "output_type": "stream",
     "text": [
      "아스틴 점심시간입니다.\n",
      "제임스 점심시간입니다.\n",
      "제프 점심시간입니다.\n",
      "아스틴 퇴근시간입니다.\n",
      "제임스 퇴근시간입니다.\n"
     ]
    }
   ],
   "source": [
    "class SubscriberOne(object):\n",
    "    def __init__(self, name):\n",
    "        self.name = name\n",
    "        \n",
    "    def update(self, message):\n",
    "        print(\"{0} {1}\".format(self.name, message))\n",
    "        \n",
    "class SubscriberTwo(object):\n",
    "    def __init__(self, name):\n",
    "        self.name = name\n",
    "        \n",
    "    def receive(self, message):\n",
    "        print(\"{0} {1}\".format(self.name, message))\n",
    "        \n",
    "class Publisher(object):\n",
    "    def __init__(self):\n",
    "        self.subscribers = dict()\n",
    "        \n",
    "    def register(self, who, callback=None):\n",
    "        if callback is None:\n",
    "            callback = getattr(who, 'update')\n",
    "        self.subscribers[who] = callback  # 함수를 list에 넣음\n",
    "        \n",
    "    def unregister(self, who):\n",
    "        del self.subscribers[who]\n",
    "        \n",
    "    def dispatch(self, message):\n",
    "        for subscriber, callback in self.subscribers.items():\n",
    "            callback(message)\n",
    "            \n",
    "if __name__ == \"__main__\":\n",
    "    pub = Publisher()\n",
    "    \n",
    "    astin = SubscriberOne(\"아스틴\")\n",
    "    james = SubscriberTwo(\"제임스\")\n",
    "    jeff = SubscriberOne(\"제프\")\n",
    "    \n",
    "    pub.register(astin, astin.update)\n",
    "    pub.register(james, james.receive)\n",
    "    pub.register(jeff)\n",
    "    \n",
    "    pub.dispatch(\"점심시간입니다.\")\n",
    "    pub.unregister(jeff)\n",
    "    pub.dispatch(\"퇴근시간입니다.\")"
   ]
  },
  {
   "cell_type": "code",
   "execution_count": 8,
   "metadata": {},
   "outputs": [
    {
     "name": "stdout",
     "output_type": "stream",
     "text": [
      "아스틴 점심시간입니다.\n",
      "제프 점심시간입니다.\n",
      "아스틴 저녁시간입니다.\n",
      "제임스 저녁시간입니다.\n"
     ]
    }
   ],
   "source": [
    "class Subscriber(object):\n",
    "    def __init__(self, name):\n",
    "        self.name = name\n",
    "        \n",
    "    def update(self, message):\n",
    "        print(\"{0} {1}\".format(self.name, message))\n",
    "        \n",
    "class Publisher(object):\n",
    "    def __init__(self, events):\n",
    "        self.subscribers = {event: dict() for event in events}\n",
    "        \n",
    "    def get_subscribers(self, event):\n",
    "        return self.subscribers[event]\n",
    "    \n",
    "    def register(self, event, who, callback=None):\n",
    "        if callback is None:\n",
    "            callback = getattr(who, 'update')\n",
    "        self.get_subscribers(event)[who] = callback\n",
    "        \n",
    "    def unregister(self, event, who):\n",
    "        del self.get_subscribers(event)[who]\n",
    "        \n",
    "    def dispatch(self, event, message):\n",
    "        for subscriber, callback in self.get_subscribers(event).items():\n",
    "            callback(message)\n",
    "            \n",
    "if __name__ == \"__main__\":\n",
    "    pub = Publisher([\"점심\", \"퇴근\"])\n",
    "    \n",
    "    astin = Subscriber(\"아스틴\")\n",
    "    james = Subscriber(\"제임스\")\n",
    "    jeff = Subscriber(\"제프\")\n",
    "    \n",
    "    pub.register(\"점심\", astin)\n",
    "    pub.register(\"퇴근\", astin)\n",
    "    pub.register(\"퇴근\", james)\n",
    "    pub.register(\"점심\", jeff)\n",
    "    \n",
    "    pub.dispatch(\"점심\", \"점심시간입니다.\")\n",
    "    pub.dispatch(\"퇴근\", \"저녁시간입니다.\")"
   ]
  },
  {
   "cell_type": "markdown",
   "metadata": {},
   "source": [
    "## 5.3.3 싱글턴 패턴\n",
    "\n",
    "- 초기화된 객체의 인스턴스를 전역에서 사용하기 위해서는 Singleton 패턴을 사용\n",
    "- 이 객체의 인스턴스는 하나만 존재\n",
    "- 파이썬에는 private 접근 제한자가 없기 때문에 \\_\\_new\\_\\_() 클래스 메서드를 가지고 하나의 인스턴스만 생성되도록 구현해야 함\n",
    "- 방법\n",
    "    1. 먼저 싱글턴 인스턴스가 생성되었는지 확인\n",
    "    2. 싱글턴 인스턴스가 없다면 슈퍼 클래스를 호출하여 싱글턴 인스턴스를 생성"
   ]
  },
  {
   "cell_type": "code",
   "execution_count": 9,
   "metadata": {},
   "outputs": [
    {
     "data": {
      "text/plain": [
       "<__main__.SinEx at 0x16491fae4c8>"
      ]
     },
     "execution_count": 9,
     "metadata": {},
     "output_type": "execute_result"
    }
   ],
   "source": [
    "class SinEx:\n",
    "    _sing = None # _sing은 private으로 외부 접근 불가\n",
    "    \n",
    "    def __new__(self, *args, **kwargs):\n",
    "        if not self._sing:\n",
    "            self._sing = super(SinEx, self).__new__(self, *args, **kwargs)\n",
    "            # super(상속받는 Class, self)에서 상속받는 Class없을 땐 본인 Class를 쓴다.\n",
    "        return self._sing\n",
    "    \n",
    "\n",
    "x = SinEx()\n",
    "x"
   ]
  },
  {
   "cell_type": "code",
   "execution_count": 10,
   "metadata": {},
   "outputs": [
    {
     "data": {
      "text/plain": [
       "True"
      ]
     },
     "execution_count": 10,
     "metadata": {},
     "output_type": "execute_result"
    }
   ],
   "source": [
    "y = SinEx()\n",
    "x == y"
   ]
  },
  {
   "cell_type": "code",
   "execution_count": null,
   "metadata": {},
   "outputs": [],
   "source": []
  }
 ],
 "metadata": {
  "kernelspec": {
   "display_name": "Python 3",
   "language": "python",
   "name": "python3"
  },
  "language_info": {
   "codemirror_mode": {
    "name": "ipython",
    "version": 3
   },
   "file_extension": ".py",
   "mimetype": "text/x-python",
   "name": "python",
   "nbconvert_exporter": "python",
   "pygments_lexer": "ipython3",
   "version": "3.7.7"
  }
 },
 "nbformat": 4,
 "nbformat_minor": 2
}

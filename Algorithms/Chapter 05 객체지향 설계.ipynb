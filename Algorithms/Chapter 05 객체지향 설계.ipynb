{
 "cells": [
  {
   "cell_type": "markdown",
   "metadata": {},
   "source": [
    "# Chap 05 객체지향 설계"
   ]
  },
  {
   "cell_type": "code",
   "execution_count": 1,
   "metadata": {},
   "outputs": [
    {
     "data": {
      "text/plain": [
       "__main__.Circle"
      ]
     },
     "execution_count": 1,
     "metadata": {},
     "output_type": "execute_result"
    }
   ],
   "source": [
    "import collections\n",
    "circle = collections.namedtuple(\"Circle\", \"x y radius\")\n",
    "circle"
   ]
  },
  {
   "cell_type": "code",
   "execution_count": 2,
   "metadata": {},
   "outputs": [
    {
     "data": {
      "text/plain": [
       "Circle(x=13, y=84, radius=9)"
      ]
     },
     "execution_count": 2,
     "metadata": {},
     "output_type": "execute_result"
    }
   ],
   "source": [
    "circle = circle(13, 84, 9)\n",
    "circle"
   ]
  },
  {
   "cell_type": "markdown",
   "metadata": {},
   "source": [
    "# 5.1 클래스와 객체\n",
    "- class는 사전에 정의된 특별한 데이터와 메서드의 집합\n",
    "- class에 선언된 모양 그대로 생성된 실체를 객체(object)라고 함\n",
    "- 객체는 인스턴스를 포함"
   ]
  },
  {
   "cell_type": "markdown",
   "metadata": {},
   "source": [
    "## 5.1.1 클래스 인스턴스 생성\n",
    "- 클래스 인스턴스 생성: 함수 표기법을 사용하여 초기 상태의 객체를 생성하는 일\n",
    "- Hello라는 클래스가 있다면 Hello()를 호출하여 객체 생성. 이때 Hello()를 생성자(constructor)라고 함\n",
    "- 생성자 호출시, Hello.\\__new__()\\라는 특수 메서드가 호출되어 객체가 할당되고\n",
    "- Hello.\\__init__()\\ 메서드가 객체를 초기화 함"
   ]
  },
  {
   "cell_type": "markdown",
   "metadata": {},
   "source": [
    "### 속성\n",
    "- 객체에는 데이터와 메서드로 이루어지는 클래스 속성(attribute)이 존재\n",
    "- 메서드 속성은 함수이며, 그 첫번째 인수는 호출된 인스턴스 자신\n",
    "- 속성은 점(.) 뒤에 나오는 모든 이름\n",
    "\n",
    "### 네임스페이스\n",
    "- 네임스페이스는 이름을 객체로 mapping하는 것, 대부분 파이썬 딕셔너리로 구현\n",
    "- 네임스페이스의 예로는 내장된 이름 셋, 모듈의 전역 이름, 함수의 지역 이름 등\n",
    "\n",
    "### 스코프\n",
    "- 스코프는 네임스페이스에 직접 접근할 수 있는 파이썬 프로그램의 텍스트 영역\n",
    "- 스코프는 정적으로 결정되나 동적으로 사용. 즉, 스코프는 텍스트에 따라 결정\n",
    "- 즉, 한 모듈에 정의된 함수의 전역 스코프는 해당 모듈의 네임스페이스\n",
    "- 클래스 정의가 실행되면, 새로운 네임스페이스가 만들어지고, 지역 스코프로 사용"
   ]
  },
  {
   "cell_type": "markdown",
   "metadata": {},
   "source": [
    "# 5.2 객체지향 프로그래밍의 원리"
   ]
  },
  {
   "cell_type": "markdown",
   "metadata": {},
   "source": [
    "## 5.2.1 특수화\n",
    "- 특수화(specialization)는 super class의 모든 속성을 상속(inheritance)하여 새 클래스를 만드는 절차\n",
    "- 모든 메서드는 sub class(child class)에서 override될 수 있음\n",
    "- 구글 파있너 스타일 가이드에서는 한 클래스가 다른 클래스를 상속받지 않으면, 파이썬의 최상위 클래스인 object를 명시적으로 표기하는 것을 권장\n"
   ]
  },
  {
   "cell_type": "code",
   "execution_count": 4,
   "metadata": {},
   "outputs": [
    {
     "ename": "NameError",
     "evalue": "name 'ParentClass' is not defined",
     "output_type": "error",
     "traceback": [
      "\u001b[1;31m---------------------------------------------------------------------------\u001b[0m",
      "\u001b[1;31mNameError\u001b[0m                                 Traceback (most recent call last)",
      "\u001b[1;32m<ipython-input-4-dd026fe4ca16>\u001b[0m in \u001b[0;36m<module>\u001b[1;34m()\u001b[0m\n\u001b[0;32m      7\u001b[0m         \u001b[1;32mpass\u001b[0m\u001b[1;33m\u001b[0m\u001b[1;33m\u001b[0m\u001b[0m\n\u001b[0;32m      8\u001b[0m \u001b[1;33m\u001b[0m\u001b[0m\n\u001b[1;32m----> 9\u001b[1;33m \u001b[1;32mclass\u001b[0m \u001b[0mChildClass\u001b[0m\u001b[1;33m(\u001b[0m\u001b[0mParentClass\u001b[0m\u001b[1;33m)\u001b[0m\u001b[1;33m:\u001b[0m\u001b[1;33m\u001b[0m\u001b[1;33m\u001b[0m\u001b[0m\n\u001b[0m\u001b[0;32m     10\u001b[0m     \u001b[1;34m\"\"\"부모 클래스 상속\"\"\"\u001b[0m\u001b[1;33m\u001b[0m\u001b[1;33m\u001b[0m\u001b[0m\n",
      "\u001b[1;31mNameError\u001b[0m: name 'ParentClass' is not defined"
     ]
    }
   ],
   "source": [
    "# 좋은 예\n",
    "class SampleClass(object):\n",
    "    pass\n",
    "\n",
    "class OuterClass(object):\n",
    "    class InnerClass(object):\n",
    "        pass\n",
    "        \n",
    "class ChildClass(ParentClass):\n",
    "    \"\"\"부모 클래스 상속\"\"\""
   ]
  },
  {
   "cell_type": "code",
   "execution_count": 5,
   "metadata": {},
   "outputs": [],
   "source": [
    "# 나쁜 예\n",
    "class SampleClass:\n",
    "    pass\n",
    "\n",
    "class OuterClass:\n",
    "    class InnerClass:\n",
    "        pass"
   ]
  },
  {
   "cell_type": "markdown",
   "metadata": {},
   "source": [
    "## 5.2.2 다형성\n",
    "- 다형성(polymorphism) 또는 동적 메서드 바인딩은 메서드가 서브클래스 내에서 재정의 될 수 있다는 원리\n",
    "- 파이썬에서 사용자 정의 클래스의 모든 객체는 기본적으로 해시 가능(hashable)\n",
    "- 객체가 해시 가능하다는 것은 hash() 속성을 호출할 수 있다는 뜻이며 불변 객체임을 의미"
   ]
  },
  {
   "cell_type": "code",
   "execution_count": 6,
   "metadata": {},
   "outputs": [
    {
     "name": "stdout",
     "output_type": "stream",
     "text": [
      "False\n",
      "False\n",
      "2\n"
     ]
    }
   ],
   "source": [
    "class Symbol(object):\n",
    "    def __init__(self, value):\n",
    "        self.value = value\n",
    "        \n",
    "if __name__ == \"__main__\":\n",
    "    x = Symbol(\"Py\")\n",
    "    y = Symbol(\"Py\")\n",
    "    \n",
    "    symbols = set()\n",
    "    symbols.add(x)\n",
    "    symbols.add(y)\n",
    "    \n",
    "    print(x is y)\n",
    "    print(x == y)\n",
    "    print(len(symbols))"
   ]
  },
  {
   "cell_type": "markdown",
   "metadata": {},
   "source": [
    "- 두 변수 x, y의 참조가 다르므로 첫번째 결과(x is y)는 예상대로 False가 나왔다.\n",
    "- 하지만 x와 y의 값이 같으니 (x == y)는 True가 되어야 할 것 같으나 결과는 False\n",
    "- 세번째 결과 역시 set은 중복 항목이 없으므로 길이가 1이 나와야 할 것 같지만 2가 나옴\n",
    "- 두번째와 세번째 결과를 고치기 위해 객체의 비교를 담당하는 \\__eq__() 메서드를 재정의 해보자"
   ]
  },
  {
   "cell_type": "code",
   "execution_count": 8,
   "metadata": {},
   "outputs": [
    {
     "ename": "TypeError",
     "evalue": "unhashable type: 'Symbol'",
     "output_type": "error",
     "traceback": [
      "\u001b[1;31m---------------------------------------------------------------------------\u001b[0m",
      "\u001b[1;31mTypeError\u001b[0m                                 Traceback (most recent call last)",
      "\u001b[1;32m<ipython-input-8-1dda553cdba8>\u001b[0m in \u001b[0;36m<module>\u001b[1;34m()\u001b[0m\n\u001b[0;32m     14\u001b[0m \u001b[1;33m\u001b[0m\u001b[0m\n\u001b[0;32m     15\u001b[0m     \u001b[0msymbols\u001b[0m \u001b[1;33m=\u001b[0m \u001b[0mset\u001b[0m\u001b[1;33m(\u001b[0m\u001b[1;33m)\u001b[0m\u001b[1;33m\u001b[0m\u001b[1;33m\u001b[0m\u001b[0m\n\u001b[1;32m---> 16\u001b[1;33m     \u001b[0msymbols\u001b[0m\u001b[1;33m.\u001b[0m\u001b[0madd\u001b[0m\u001b[1;33m(\u001b[0m\u001b[0mx\u001b[0m\u001b[1;33m)\u001b[0m\u001b[1;33m\u001b[0m\u001b[1;33m\u001b[0m\u001b[0m\n\u001b[0m\u001b[0;32m     17\u001b[0m     \u001b[0msymbols\u001b[0m\u001b[1;33m.\u001b[0m\u001b[0madd\u001b[0m\u001b[1;33m(\u001b[0m\u001b[0my\u001b[0m\u001b[1;33m)\u001b[0m\u001b[1;33m\u001b[0m\u001b[1;33m\u001b[0m\u001b[0m\n\u001b[0;32m     18\u001b[0m \u001b[1;33m\u001b[0m\u001b[0m\n",
      "\u001b[1;31mTypeError\u001b[0m: unhashable type: 'Symbol'"
     ]
    }
   ],
   "source": [
    "class Symbol(object):\n",
    "    def __init__(self, value):\n",
    "        self.value = value\n",
    "        \n",
    "    def __eq__(self, other):\n",
    "        if isinstance(self, other.__class__):\n",
    "            return self.value == other.value\n",
    "        else:\n",
    "            return NotImplemented\n",
    "\n",
    "if __name__ == \"__main__\":\n",
    "    x = Symbol(\"Py\")\n",
    "    y = Symbol(\"Py\")\n",
    "    \n",
    "    symbols = set()\n",
    "    symbols.add(x)\n",
    "    symbols.add(y)\n",
    "    \n",
    "    print(x is y)\n",
    "    print(x == y)\n",
    "    print(len(symbols))"
   ]
  },
  {
   "cell_type": "markdown",
   "metadata": {},
   "source": [
    "- \\__eq__() 메서드를 재정의하자 Symbol 클래스가 unhashable하다고 에러가 발생\n",
    "- 객체가 unhashable하다는 뜻은 가변 객체임을 의미하는데, set은 불변 객체\n",
    "- 에러를 고치기 위해 \\__hash__() 메서드를 추가"
   ]
  },
  {
   "cell_type": "code",
   "execution_count": 10,
   "metadata": {},
   "outputs": [
    {
     "name": "stdout",
     "output_type": "stream",
     "text": [
      "False\n",
      "True\n",
      "1\n"
     ]
    }
   ],
   "source": [
    "class Symbol(object):\n",
    "    def __init__(self, value):\n",
    "        self.value = value\n",
    "        \n",
    "    def __eq__(self, other):\n",
    "        if isinstance(self, other.__class__):\n",
    "            return self.value == other.value\n",
    "        else:\n",
    "            return NotImplemented\n",
    "        \n",
    "    def __hash__(self):\n",
    "        return hash(self.value)\n",
    "\n",
    "if __name__ == \"__main__\":\n",
    "    x = Symbol(\"Py\")\n",
    "    y = Symbol(\"Py\")\n",
    "    \n",
    "    symbols = set()\n",
    "    symbols.add(x)\n",
    "    symbols.add(y)\n",
    "    \n",
    "    print(x is y)\n",
    "    print(x == y)\n",
    "    print(len(symbols))"
   ]
  },
  {
   "cell_type": "code",
   "execution_count": 11,
   "metadata": {},
   "outputs": [
    {
     "data": {
      "text/plain": [
       "True"
      ]
     },
     "execution_count": 11,
     "metadata": {},
     "output_type": "execute_result"
    }
   ],
   "source": [
    "# 참고: isinstance(object, class)\n",
    "class Person: pass\n",
    "\n",
    "a = Person()\n",
    "isinstance(a, Person)"
   ]
  },
  {
   "cell_type": "code",
   "execution_count": 12,
   "metadata": {},
   "outputs": [
    {
     "data": {
      "text/plain": [
       "False"
      ]
     },
     "execution_count": 12,
     "metadata": {},
     "output_type": "execute_result"
    }
   ],
   "source": [
    "b = 3\n",
    "isinstance(b, Person)"
   ]
  },
  {
   "cell_type": "markdown",
   "metadata": {},
   "source": [
    "### 참고: 매직 메소드\n",
    "### 1.1 객체의 생성과 초기화\n",
    "- \\__new__(cls[, ...]): 새 인스턴스 만들 때 제일 처음으로 실행되는 메소드. 새로운 object 반환\n",
    "- \\__init__(self[, ...]): 인스턴스가 \\__new__로 생성되고 나서 호출되는 메소드. 인자를 받아서 내부에 지정해 줄 수 있음.\n",
    "- \\__del__(self): 객체의 소멸에 될때 해야할 일을 지정"
   ]
  },
  {
   "cell_type": "code",
   "execution_count": 13,
   "metadata": {},
   "outputs": [],
   "source": [
    "class NumBox:\n",
    "    def __new__(cls, *args, **kwargs):\n",
    "        if len(args) < 1: # 인자가 들어오지 않은 경우\n",
    "            return None\n",
    "        else:\n",
    "            return super(NumBox, cls).__new__(cls)  # object를 반환\n",
    "    def __init__(self, num=None):\n",
    "        self.num = num  # 받은 인자 num을 인스턴스 변수로 지정\n",
    "        \n",
    "    def __repr__(self):\n",
    "        return str(self.num)"
   ]
  },
  {
   "cell_type": "code",
   "execution_count": 14,
   "metadata": {},
   "outputs": [
    {
     "data": {
      "text/plain": [
       "NoneType"
      ]
     },
     "execution_count": 14,
     "metadata": {},
     "output_type": "execute_result"
    }
   ],
   "source": [
    "a = NumBox()  # 인자 없이 객체 생성\n",
    "type(a)"
   ]
  },
  {
   "cell_type": "code",
   "execution_count": 15,
   "metadata": {},
   "outputs": [
    {
     "data": {
      "text/plain": [
       "10"
      ]
     },
     "execution_count": 15,
     "metadata": {},
     "output_type": "execute_result"
    }
   ],
   "source": [
    "b = NumBox(10)\n",
    "b"
   ]
  },
  {
   "cell_type": "code",
   "execution_count": 16,
   "metadata": {},
   "outputs": [
    {
     "data": {
      "text/plain": [
       "__main__.NumBox"
      ]
     },
     "execution_count": 16,
     "metadata": {},
     "output_type": "execute_result"
    }
   ],
   "source": [
    "type(b)"
   ]
  },
  {
   "cell_type": "markdown",
   "metadata": {},
   "source": [
    "### 1.2 객체의 표현\n",
    "- \\__repr__(self): 객체를 나타내는 __공식적인__ 문자열. repr()로 호출, 반환값 string, \\__str__()과 달리 좀 더 명확함을 지향\n",
    "- \\__str__(self): 객체를 나타내는 비공식적인 문자열, 객체를 이해하기 쉽게 표현. \\__repr__보다 보기 쉬운 문자열을 출력하는 것에 지향점, string 문자열 반환\n",
    "- \\__bytes__(self): 객체를 나타내는 byte 문자열, bytes()로 호출\n",
    "- \\__format__(self): 객체를 나타내는 format을 지정하고 싶을때 사용"
   ]
  },
  {
   "cell_type": "code",
   "execution_count": 17,
   "metadata": {},
   "outputs": [],
   "source": [
    "class StrBox(object):\n",
    "    def __init__(self, string):\n",
    "        self.string = string\n",
    "        \n",
    "    def __repr__(self):\n",
    "        return \"A('{}')\".format(self.string)\n",
    "    \n",
    "    def __bytes__(self):\n",
    "        return str.encode(self.string)\n",
    "    \n",
    "    def __format__(self, format):\n",
    "        if format == 'this-string':\n",
    "            return \"This string: {}\".format(self.string)\n",
    "        return self.string"
   ]
  },
  {
   "cell_type": "code",
   "execution_count": 18,
   "metadata": {},
   "outputs": [
    {
     "data": {
      "text/plain": [
       "A('Life is short, you need python')"
      ]
     },
     "execution_count": 18,
     "metadata": {},
     "output_type": "execute_result"
    }
   ],
   "source": [
    "a = StrBox('Life is short, you need python')\n",
    "a\n",
    "# __str__()은 정의되어 있지 않지만 __repr__()을 대신 출력"
   ]
  },
  {
   "cell_type": "code",
   "execution_count": 19,
   "metadata": {},
   "outputs": [
    {
     "data": {
      "text/plain": [
       "\"A('Life is short, you need python')\""
      ]
     },
     "execution_count": 19,
     "metadata": {},
     "output_type": "execute_result"
    }
   ],
   "source": [
    "repr(a)"
   ]
  },
  {
   "cell_type": "code",
   "execution_count": 20,
   "metadata": {},
   "outputs": [
    {
     "data": {
      "text/plain": [
       "\"A('Life is short, you need python')\""
      ]
     },
     "execution_count": 20,
     "metadata": {},
     "output_type": "execute_result"
    }
   ],
   "source": [
    "str(a)"
   ]
  },
  {
   "cell_type": "code",
   "execution_count": 21,
   "metadata": {},
   "outputs": [
    {
     "data": {
      "text/plain": [
       "b'Life is short, you need python'"
      ]
     },
     "execution_count": 21,
     "metadata": {},
     "output_type": "execute_result"
    }
   ],
   "source": [
    "bytes(a)"
   ]
  },
  {
   "cell_type": "code",
   "execution_count": 22,
   "metadata": {},
   "outputs": [
    {
     "data": {
      "text/plain": [
       "'This string: Life is short, you need python'"
      ]
     },
     "execution_count": 22,
     "metadata": {},
     "output_type": "execute_result"
    }
   ],
   "source": [
    "\"{:this-string}\".format(a)"
   ]
  },
  {
   "cell_type": "markdown",
   "metadata": {},
   "source": [
    "### 1.3 속성 관리\n",
    "- \\_\\_getattr\\_\\_(self, name): 객체의 __없는__ 속성을 참조하려 할때 호출. 찾는 속성이 있다면 호출X\n",
    "- \\__getattribute__(self, name): 객체 속성 호출시 무조건 호출. 이 메소드가 재정의 되어 있다면 \\__getattr__는 호출되지 않으므로 명시적으로 호출해야하거나 AttributeError 에러를 발생시켜야 함\n",
    "- \\__setattr__(self, name, value): 객체의 속성을 변경할때 호출. \n",
    "- \\__delattr__(self, name): 객체의 속성을 del 키워드로 지울 때 호출\n",
    "- \\__dir__(self): 객체가 가지고 있는 모든 속성들을 보여주는 dir()을 사용할때 호출\n",
    "- \\__slots__: 사용할 변수의 이름을 미리 지정할 수 있음."
   ]
  },
  {
   "cell_type": "code",
   "execution_count": 1,
   "metadata": {},
   "outputs": [],
   "source": [
    "class NameBox:\n",
    "    \n",
    "    person_name = \"seyoung\"\n",
    "    def __getattr__(self, name):\n",
    "        print(\"Not Found: {}\".format(name))\n",
    "        \n",
    "    def __setattr__(self, name, value):\n",
    "        print(\"Set attribute: {} is {}\".format(name, value))\n",
    "        super().__setattr__(name, value)\n",
    "#         self.person_name = value # 재귀적으로 호출되어 문제가 있는 부분"
   ]
  },
  {
   "cell_type": "code",
   "execution_count": 3,
   "metadata": {},
   "outputs": [
    {
     "data": {
      "text/plain": [
       "'seyoung'"
      ]
     },
     "execution_count": 3,
     "metadata": {},
     "output_type": "execute_result"
    }
   ],
   "source": [
    "box = NameBox()\n",
    "box.person_name"
   ]
  },
  {
   "cell_type": "code",
   "execution_count": 30,
   "metadata": {},
   "outputs": [
    {
     "name": "stdout",
     "output_type": "stream",
     "text": [
      "Not Found: name\n"
     ]
    }
   ],
   "source": [
    "box.name"
   ]
  },
  {
   "cell_type": "code",
   "execution_count": 4,
   "metadata": {},
   "outputs": [
    {
     "name": "stdout",
     "output_type": "stream",
     "text": [
      "Set attribute: person_name is Ho!\n"
     ]
    }
   ],
   "source": [
    "box.person_name = \"Ho!\""
   ]
  },
  {
   "cell_type": "markdown",
   "metadata": {},
   "source": [
    "### 1.4 Descriptors 관리\n",
    "#### Descriptor는 \\_\\_get\\_\\_(), \\_\\_set\\_\\_(), \\_\\_delete\\_\\_() 메소드로 구성된 프로토콜을 구현한 클래스\n",
    "- \\_\\_get\\_\\_(self, instance, owner): 특정 오브젝트의 값을 참조할때 호출\n",
    "- \\_\\_set\\_\\_(self, instance, value): 특정 오브젝트의 값을 변경할때 호출\n",
    "- \\_\\_delete\\_\\_(self, instance): 특정 오브젝트의 값을 삭제할때 호출"
   ]
  },
  {
   "cell_type": "code",
   "execution_count": 7,
   "metadata": {},
   "outputs": [],
   "source": [
    "class Rating():\n",
    "    def __init__(self, rating=3):\n",
    "        self.rating= rating\n",
    "        \n",
    "    def __set__(self, instance, value):\n",
    "        if value < 0 or value > 5:\n",
    "            raise ValueError('rating must be 0~5')\n",
    "        else:\n",
    "            setattr(instance, 'rating', value)\n",
    "            \n",
    "    def __get__(self, instance, owner):\n",
    "        return getattr(instance, 'rating')\n",
    "    \n",
    "class MovieReview():\n",
    "    story = Rating()\n",
    "    acting = Rating()\n",
    "    fun = Rating()"
   ]
  },
  {
   "cell_type": "code",
   "execution_count": 8,
   "metadata": {},
   "outputs": [
    {
     "ename": "ValueError",
     "evalue": "rating must be 0~5",
     "output_type": "error",
     "traceback": [
      "\u001b[1;31m---------------------------------------------------------------------------\u001b[0m",
      "\u001b[1;31mValueError\u001b[0m                                Traceback (most recent call last)",
      "\u001b[1;32m<ipython-input-8-6a8a044f535a>\u001b[0m in \u001b[0;36m<module>\u001b[1;34m()\u001b[0m\n\u001b[0;32m      1\u001b[0m \u001b[0ma\u001b[0m \u001b[1;33m=\u001b[0m \u001b[0mMovieReview\u001b[0m\u001b[1;33m(\u001b[0m\u001b[1;33m)\u001b[0m\u001b[1;33m\u001b[0m\u001b[1;33m\u001b[0m\u001b[0m\n\u001b[1;32m----> 2\u001b[1;33m \u001b[0ma\u001b[0m\u001b[1;33m.\u001b[0m\u001b[0mstory\u001b[0m \u001b[1;33m=\u001b[0m \u001b[1;36m10\u001b[0m\u001b[1;33m\u001b[0m\u001b[1;33m\u001b[0m\u001b[0m\n\u001b[0m",
      "\u001b[1;32m<ipython-input-7-23a0224a9d82>\u001b[0m in \u001b[0;36m__set__\u001b[1;34m(self, instance, value)\u001b[0m\n\u001b[0;32m      5\u001b[0m     \u001b[1;32mdef\u001b[0m \u001b[0m__set__\u001b[0m\u001b[1;33m(\u001b[0m\u001b[0mself\u001b[0m\u001b[1;33m,\u001b[0m \u001b[0minstance\u001b[0m\u001b[1;33m,\u001b[0m \u001b[0mvalue\u001b[0m\u001b[1;33m)\u001b[0m\u001b[1;33m:\u001b[0m\u001b[1;33m\u001b[0m\u001b[1;33m\u001b[0m\u001b[0m\n\u001b[0;32m      6\u001b[0m         \u001b[1;32mif\u001b[0m \u001b[0mvalue\u001b[0m \u001b[1;33m<\u001b[0m \u001b[1;36m0\u001b[0m \u001b[1;32mor\u001b[0m \u001b[0mvalue\u001b[0m \u001b[1;33m>\u001b[0m \u001b[1;36m5\u001b[0m\u001b[1;33m:\u001b[0m\u001b[1;33m\u001b[0m\u001b[1;33m\u001b[0m\u001b[0m\n\u001b[1;32m----> 7\u001b[1;33m             \u001b[1;32mraise\u001b[0m \u001b[0mValueError\u001b[0m\u001b[1;33m(\u001b[0m\u001b[1;34m'rating must be 0~5'\u001b[0m\u001b[1;33m)\u001b[0m\u001b[1;33m\u001b[0m\u001b[1;33m\u001b[0m\u001b[0m\n\u001b[0m\u001b[0;32m      8\u001b[0m         \u001b[1;32melse\u001b[0m\u001b[1;33m:\u001b[0m\u001b[1;33m\u001b[0m\u001b[1;33m\u001b[0m\u001b[0m\n\u001b[0;32m      9\u001b[0m             \u001b[0msetattr\u001b[0m\u001b[1;33m(\u001b[0m\u001b[0minstance\u001b[0m\u001b[1;33m,\u001b[0m \u001b[1;34m'rating'\u001b[0m\u001b[1;33m,\u001b[0m \u001b[0mvalue\u001b[0m\u001b[1;33m)\u001b[0m\u001b[1;33m\u001b[0m\u001b[1;33m\u001b[0m\u001b[0m\n",
      "\u001b[1;31mValueError\u001b[0m: rating must be 0~5"
     ]
    }
   ],
   "source": [
    "a = MovieReview()\n",
    "a.story = 10"
   ]
  },
  {
   "cell_type": "code",
   "execution_count": 9,
   "metadata": {},
   "outputs": [],
   "source": [
    "a.acting = 2"
   ]
  },
  {
   "cell_type": "code",
   "execution_count": 10,
   "metadata": {},
   "outputs": [
    {
     "data": {
      "text/plain": [
       "2"
      ]
     },
     "execution_count": 10,
     "metadata": {},
     "output_type": "execute_result"
    }
   ],
   "source": [
    "a.acting"
   ]
  },
  {
   "cell_type": "markdown",
   "metadata": {},
   "source": [
    "https://corikachu.github.io/articles/python/python-magic-method"
   ]
  }
 ],
 "metadata": {
  "kernelspec": {
   "display_name": "Python 3",
   "language": "python",
   "name": "python3"
  },
  "language_info": {
   "codemirror_mode": {
    "name": "ipython",
    "version": 3
   },
   "file_extension": ".py",
   "mimetype": "text/x-python",
   "name": "python",
   "nbconvert_exporter": "python",
   "pygments_lexer": "ipython3",
   "version": "3.7.7"
  }
 },
 "nbformat": 4,
 "nbformat_minor": 2
}
